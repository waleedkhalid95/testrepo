{
 "cells": [
  {
   "cell_type": "markdown",
   "id": "c59173c8-6a99-4b51-9bf2-68a0a5dabda1",
   "metadata": {},
   "source": [
    "# Data Science Tools and Ecosystem"
   ]
  },
  {
   "cell_type": "markdown",
   "id": "beddc063-1378-4d5e-b24b-984988264ab1",
   "metadata": {},
   "source": [
    "In this notebook, Data Science Tools and Ecosystem are summarized.\n",
    "\n",
    "**Objectives:**\n",
    "- List popular languages for Data Science\n",
    "- List popular libraries for Data Science\n",
    "- List popular tools for Data Science"
   ]
  },
  {
   "cell_type": "markdown",
   "id": "671d7a1e-be73-4037-9771-42bced6ebd75",
   "metadata": {},
   "source": [
    "Some of the popular languages that Data Scientists use are:\n",
    "1. Python\n",
    "2. R\n",
    "3. Julia\n",
    "\n",
    "Some of the commonly used libraries used by Data Scientists include:\n",
    "1. ggplot2\n",
    "2. dplyr\n",
    "3. matplotlib"
   ]
  },
  {
   "cell_type": "markdown",
   "id": "c5745b96-8c54-4eb2-bda6-06202a9fbcaa",
   "metadata": {},
   "source": [
    "|Data Science Tools|\n",
    "|------------------|\n",
    "| Jupyter |\n",
    "| R Studio |\n",
    "| forgot |"
   ]
  },
  {
   "cell_type": "markdown",
   "id": "221ce229-1673-4e50-a5ef-f48d08d9efa5",
   "metadata": {},
   "source": [
    "### Below are a few examples of evaluating arithmetic expressions in Python"
   ]
  },
  {
   "cell_type": "code",
   "execution_count": 3,
   "id": "dc22aa48-b0dd-4db0-a61c-80809d1dd73f",
   "metadata": {},
   "outputs": [
    {
     "data": {
      "text/plain": [
       "17"
      ]
     },
     "execution_count": 3,
     "metadata": {},
     "output_type": "execute_result"
    }
   ],
   "source": [
    "#This a simple arithmetic expression to mutiply then add integers\n",
    "(3*4)+5"
   ]
  },
  {
   "cell_type": "code",
   "execution_count": 4,
   "id": "159c8fe4-4b7e-4800-9393-26d81b7e6f7b",
   "metadata": {},
   "outputs": [
    {
     "data": {
      "text/plain": [
       "3.3333333333333335"
      ]
     },
     "execution_count": 4,
     "metadata": {},
     "output_type": "execute_result"
    }
   ],
   "source": [
    "# This will convert 200 minutes to hours by diving by 60\n",
    "200/60"
   ]
  },
  {
   "cell_type": "markdown",
   "id": "f6a3286e-6454-4b97-814f-ca18bdbc3990",
   "metadata": {},
   "source": [
    "## Author\n",
    "Waleed Khalid Siraj"
   ]
  },
  {
   "cell_type": "code",
   "execution_count": null,
   "id": "d91ee1d8-f5fd-490b-9397-494e4d741925",
   "metadata": {},
   "outputs": [],
   "source": []
  }
 ],
 "metadata": {
  "kernelspec": {
   "display_name": "Python 3 (ipykernel)",
   "language": "python",
   "name": "python3"
  },
  "language_info": {
   "codemirror_mode": {
    "name": "ipython",
    "version": 3
   },
   "file_extension": ".py",
   "mimetype": "text/x-python",
   "name": "python",
   "nbconvert_exporter": "python",
   "pygments_lexer": "ipython3",
   "version": "3.11.7"
  }
 },
 "nbformat": 4,
 "nbformat_minor": 5
}
