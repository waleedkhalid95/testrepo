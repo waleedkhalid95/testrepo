{
  "nbformat": 4,
  "nbformat_minor": 0,
  "metadata": {
    "colab": {
      "provenance": [],
      "machine_shape": "hm",
      "gpuType": "L4"
    },
    "kernelspec": {
      "name": "python3",
      "display_name": "Python 3"
    },
    "language_info": {
      "name": "python"
    },
    "accelerator": "GPU",
    "widgets": {
      "application/vnd.jupyter.widget-state+json": {
        "f0defd0404ac4201b2dec973adb4f0d7": {
          "model_module": "@jupyter-widgets/controls",
          "model_name": "HBoxModel",
          "model_module_version": "1.5.0",
          "state": {
            "_dom_classes": [],
            "_model_module": "@jupyter-widgets/controls",
            "_model_module_version": "1.5.0",
            "_model_name": "HBoxModel",
            "_view_count": null,
            "_view_module": "@jupyter-widgets/controls",
            "_view_module_version": "1.5.0",
            "_view_name": "HBoxView",
            "box_style": "",
            "children": [
              "IPY_MODEL_ab532015740a45c49a9a37d8f64bad5e",
              "IPY_MODEL_ef39a088eea74ac782f9e3da17ebe2e6",
              "IPY_MODEL_6134c400efc846b8b11880159a2c9497"
            ],
            "layout": "IPY_MODEL_8f4a3f503b6f43c39677019ac6b8d8de"
          }
        },
        "ab532015740a45c49a9a37d8f64bad5e": {
          "model_module": "@jupyter-widgets/controls",
          "model_name": "HTMLModel",
          "model_module_version": "1.5.0",
          "state": {
            "_dom_classes": [],
            "_model_module": "@jupyter-widgets/controls",
            "_model_module_version": "1.5.0",
            "_model_name": "HTMLModel",
            "_view_count": null,
            "_view_module": "@jupyter-widgets/controls",
            "_view_module_version": "1.5.0",
            "_view_name": "HTMLView",
            "description": "",
            "description_tooltip": null,
            "layout": "IPY_MODEL_991ea989e93644f0bfbef79038ae88c0",
            "placeholder": "​",
            "style": "IPY_MODEL_66ef94698b01427ca383cbb625b1b407",
            "value": "densenet_lite_136-gru-onnx.zip: 100%"
          }
        },
        "ef39a088eea74ac782f9e3da17ebe2e6": {
          "model_module": "@jupyter-widgets/controls",
          "model_name": "FloatProgressModel",
          "model_module_version": "1.5.0",
          "state": {
            "_dom_classes": [],
            "_model_module": "@jupyter-widgets/controls",
            "_model_module_version": "1.5.0",
            "_model_name": "FloatProgressModel",
            "_view_count": null,
            "_view_module": "@jupyter-widgets/controls",
            "_view_module_version": "1.5.0",
            "_view_name": "ProgressView",
            "bar_style": "success",
            "description": "",
            "description_tooltip": null,
            "layout": "IPY_MODEL_1f7814bba7f64eef8f126ab0eb643154",
            "max": 11573070,
            "min": 0,
            "orientation": "horizontal",
            "style": "IPY_MODEL_82d2edf0a23c4afeb7251c81c96f6950",
            "value": 11573070
          }
        },
        "6134c400efc846b8b11880159a2c9497": {
          "model_module": "@jupyter-widgets/controls",
          "model_name": "HTMLModel",
          "model_module_version": "1.5.0",
          "state": {
            "_dom_classes": [],
            "_model_module": "@jupyter-widgets/controls",
            "_model_module_version": "1.5.0",
            "_model_name": "HTMLModel",
            "_view_count": null,
            "_view_module": "@jupyter-widgets/controls",
            "_view_module_version": "1.5.0",
            "_view_name": "HTMLView",
            "description": "",
            "description_tooltip": null,
            "layout": "IPY_MODEL_6effd543b0e64daba662853e5d221aaf",
            "placeholder": "​",
            "style": "IPY_MODEL_b5719d5360c74fe0850957cc2a325fd7",
            "value": " 11.6M/11.6M [00:00&lt;00:00, 35.9MB/s]"
          }
        },
        "8f4a3f503b6f43c39677019ac6b8d8de": {
          "model_module": "@jupyter-widgets/base",
          "model_name": "LayoutModel",
          "model_module_version": "1.2.0",
          "state": {
            "_model_module": "@jupyter-widgets/base",
            "_model_module_version": "1.2.0",
            "_model_name": "LayoutModel",
            "_view_count": null,
            "_view_module": "@jupyter-widgets/base",
            "_view_module_version": "1.2.0",
            "_view_name": "LayoutView",
            "align_content": null,
            "align_items": null,
            "align_self": null,
            "border": null,
            "bottom": null,
            "display": null,
            "flex": null,
            "flex_flow": null,
            "grid_area": null,
            "grid_auto_columns": null,
            "grid_auto_flow": null,
            "grid_auto_rows": null,
            "grid_column": null,
            "grid_gap": null,
            "grid_row": null,
            "grid_template_areas": null,
            "grid_template_columns": null,
            "grid_template_rows": null,
            "height": null,
            "justify_content": null,
            "justify_items": null,
            "left": null,
            "margin": null,
            "max_height": null,
            "max_width": null,
            "min_height": null,
            "min_width": null,
            "object_fit": null,
            "object_position": null,
            "order": null,
            "overflow": null,
            "overflow_x": null,
            "overflow_y": null,
            "padding": null,
            "right": null,
            "top": null,
            "visibility": null,
            "width": null
          }
        },
        "991ea989e93644f0bfbef79038ae88c0": {
          "model_module": "@jupyter-widgets/base",
          "model_name": "LayoutModel",
          "model_module_version": "1.2.0",
          "state": {
            "_model_module": "@jupyter-widgets/base",
            "_model_module_version": "1.2.0",
            "_model_name": "LayoutModel",
            "_view_count": null,
            "_view_module": "@jupyter-widgets/base",
            "_view_module_version": "1.2.0",
            "_view_name": "LayoutView",
            "align_content": null,
            "align_items": null,
            "align_self": null,
            "border": null,
            "bottom": null,
            "display": null,
            "flex": null,
            "flex_flow": null,
            "grid_area": null,
            "grid_auto_columns": null,
            "grid_auto_flow": null,
            "grid_auto_rows": null,
            "grid_column": null,
            "grid_gap": null,
            "grid_row": null,
            "grid_template_areas": null,
            "grid_template_columns": null,
            "grid_template_rows": null,
            "height": null,
            "justify_content": null,
            "justify_items": null,
            "left": null,
            "margin": null,
            "max_height": null,
            "max_width": null,
            "min_height": null,
            "min_width": null,
            "object_fit": null,
            "object_position": null,
            "order": null,
            "overflow": null,
            "overflow_x": null,
            "overflow_y": null,
            "padding": null,
            "right": null,
            "top": null,
            "visibility": null,
            "width": null
          }
        },
        "66ef94698b01427ca383cbb625b1b407": {
          "model_module": "@jupyter-widgets/controls",
          "model_name": "DescriptionStyleModel",
          "model_module_version": "1.5.0",
          "state": {
            "_model_module": "@jupyter-widgets/controls",
            "_model_module_version": "1.5.0",
            "_model_name": "DescriptionStyleModel",
            "_view_count": null,
            "_view_module": "@jupyter-widgets/base",
            "_view_module_version": "1.2.0",
            "_view_name": "StyleView",
            "description_width": ""
          }
        },
        "1f7814bba7f64eef8f126ab0eb643154": {
          "model_module": "@jupyter-widgets/base",
          "model_name": "LayoutModel",
          "model_module_version": "1.2.0",
          "state": {
            "_model_module": "@jupyter-widgets/base",
            "_model_module_version": "1.2.0",
            "_model_name": "LayoutModel",
            "_view_count": null,
            "_view_module": "@jupyter-widgets/base",
            "_view_module_version": "1.2.0",
            "_view_name": "LayoutView",
            "align_content": null,
            "align_items": null,
            "align_self": null,
            "border": null,
            "bottom": null,
            "display": null,
            "flex": null,
            "flex_flow": null,
            "grid_area": null,
            "grid_auto_columns": null,
            "grid_auto_flow": null,
            "grid_auto_rows": null,
            "grid_column": null,
            "grid_gap": null,
            "grid_row": null,
            "grid_template_areas": null,
            "grid_template_columns": null,
            "grid_template_rows": null,
            "height": null,
            "justify_content": null,
            "justify_items": null,
            "left": null,
            "margin": null,
            "max_height": null,
            "max_width": null,
            "min_height": null,
            "min_width": null,
            "object_fit": null,
            "object_position": null,
            "order": null,
            "overflow": null,
            "overflow_x": null,
            "overflow_y": null,
            "padding": null,
            "right": null,
            "top": null,
            "visibility": null,
            "width": null
          }
        },
        "82d2edf0a23c4afeb7251c81c96f6950": {
          "model_module": "@jupyter-widgets/controls",
          "model_name": "ProgressStyleModel",
          "model_module_version": "1.5.0",
          "state": {
            "_model_module": "@jupyter-widgets/controls",
            "_model_module_version": "1.5.0",
            "_model_name": "ProgressStyleModel",
            "_view_count": null,
            "_view_module": "@jupyter-widgets/base",
            "_view_module_version": "1.2.0",
            "_view_name": "StyleView",
            "bar_color": null,
            "description_width": ""
          }
        },
        "6effd543b0e64daba662853e5d221aaf": {
          "model_module": "@jupyter-widgets/base",
          "model_name": "LayoutModel",
          "model_module_version": "1.2.0",
          "state": {
            "_model_module": "@jupyter-widgets/base",
            "_model_module_version": "1.2.0",
            "_model_name": "LayoutModel",
            "_view_count": null,
            "_view_module": "@jupyter-widgets/base",
            "_view_module_version": "1.2.0",
            "_view_name": "LayoutView",
            "align_content": null,
            "align_items": null,
            "align_self": null,
            "border": null,
            "bottom": null,
            "display": null,
            "flex": null,
            "flex_flow": null,
            "grid_area": null,
            "grid_auto_columns": null,
            "grid_auto_flow": null,
            "grid_auto_rows": null,
            "grid_column": null,
            "grid_gap": null,
            "grid_row": null,
            "grid_template_areas": null,
            "grid_template_columns": null,
            "grid_template_rows": null,
            "height": null,
            "justify_content": null,
            "justify_items": null,
            "left": null,
            "margin": null,
            "max_height": null,
            "max_width": null,
            "min_height": null,
            "min_width": null,
            "object_fit": null,
            "object_position": null,
            "order": null,
            "overflow": null,
            "overflow_x": null,
            "overflow_y": null,
            "padding": null,
            "right": null,
            "top": null,
            "visibility": null,
            "width": null
          }
        },
        "b5719d5360c74fe0850957cc2a325fd7": {
          "model_module": "@jupyter-widgets/controls",
          "model_name": "DescriptionStyleModel",
          "model_module_version": "1.5.0",
          "state": {
            "_model_module": "@jupyter-widgets/controls",
            "_model_module_version": "1.5.0",
            "_model_name": "DescriptionStyleModel",
            "_view_count": null,
            "_view_module": "@jupyter-widgets/base",
            "_view_module_version": "1.2.0",
            "_view_name": "StyleView",
            "description_width": ""
          }
        },
        "d1fbb84860e5430bb1d9bcfe5f68b6a1": {
          "model_module": "@jupyter-widgets/controls",
          "model_name": "HBoxModel",
          "model_module_version": "1.5.0",
          "state": {
            "_dom_classes": [],
            "_model_module": "@jupyter-widgets/controls",
            "_model_module_version": "1.5.0",
            "_model_name": "HBoxModel",
            "_view_count": null,
            "_view_module": "@jupyter-widgets/controls",
            "_view_module_version": "1.5.0",
            "_view_name": "HBoxView",
            "box_style": "",
            "children": [
              "IPY_MODEL_4fdfa7d3479443cd80f1842df555e6f4",
              "IPY_MODEL_89461a91ac224a66a2bf9669810e8fe7",
              "IPY_MODEL_cbe8bfb1e5874e63bf3414468e15397f"
            ],
            "layout": "IPY_MODEL_23db30cf2e1846ca94e402e8b891b657"
          }
        },
        "4fdfa7d3479443cd80f1842df555e6f4": {
          "model_module": "@jupyter-widgets/controls",
          "model_name": "HTMLModel",
          "model_module_version": "1.5.0",
          "state": {
            "_dom_classes": [],
            "_model_module": "@jupyter-widgets/controls",
            "_model_module_version": "1.5.0",
            "_model_name": "HTMLModel",
            "_view_count": null,
            "_view_module": "@jupyter-widgets/controls",
            "_view_module_version": "1.5.0",
            "_view_name": "HTMLView",
            "description": "",
            "description_tooltip": null,
            "layout": "IPY_MODEL_0544c19264bf47bc86a0bbd60106d3a7",
            "placeholder": "​",
            "style": "IPY_MODEL_bfd6758e7be245c795cc6274a6c99d4e",
            "value": "ch_PP-OCRv3_det_infer-onnx.zip: 100%"
          }
        },
        "89461a91ac224a66a2bf9669810e8fe7": {
          "model_module": "@jupyter-widgets/controls",
          "model_name": "FloatProgressModel",
          "model_module_version": "1.5.0",
          "state": {
            "_dom_classes": [],
            "_model_module": "@jupyter-widgets/controls",
            "_model_module_version": "1.5.0",
            "_model_name": "FloatProgressModel",
            "_view_count": null,
            "_view_module": "@jupyter-widgets/controls",
            "_view_module_version": "1.5.0",
            "_view_name": "ProgressView",
            "bar_style": "success",
            "description": "",
            "description_tooltip": null,
            "layout": "IPY_MODEL_6322c21431ba4675b2276f9b41469436",
            "max": 2222504,
            "min": 0,
            "orientation": "horizontal",
            "style": "IPY_MODEL_3411d0041fa74a9987b13c21ac1fe237",
            "value": 2222504
          }
        },
        "cbe8bfb1e5874e63bf3414468e15397f": {
          "model_module": "@jupyter-widgets/controls",
          "model_name": "HTMLModel",
          "model_module_version": "1.5.0",
          "state": {
            "_dom_classes": [],
            "_model_module": "@jupyter-widgets/controls",
            "_model_module_version": "1.5.0",
            "_model_name": "HTMLModel",
            "_view_count": null,
            "_view_module": "@jupyter-widgets/controls",
            "_view_module_version": "1.5.0",
            "_view_name": "HTMLView",
            "description": "",
            "description_tooltip": null,
            "layout": "IPY_MODEL_8fd289b07136413189d2070a6a9ddc2a",
            "placeholder": "​",
            "style": "IPY_MODEL_388041d1999d40e2a8f7b24e4b4bdb3e",
            "value": " 2.22M/2.22M [00:00&lt;00:00, 86.4MB/s]"
          }
        },
        "23db30cf2e1846ca94e402e8b891b657": {
          "model_module": "@jupyter-widgets/base",
          "model_name": "LayoutModel",
          "model_module_version": "1.2.0",
          "state": {
            "_model_module": "@jupyter-widgets/base",
            "_model_module_version": "1.2.0",
            "_model_name": "LayoutModel",
            "_view_count": null,
            "_view_module": "@jupyter-widgets/base",
            "_view_module_version": "1.2.0",
            "_view_name": "LayoutView",
            "align_content": null,
            "align_items": null,
            "align_self": null,
            "border": null,
            "bottom": null,
            "display": null,
            "flex": null,
            "flex_flow": null,
            "grid_area": null,
            "grid_auto_columns": null,
            "grid_auto_flow": null,
            "grid_auto_rows": null,
            "grid_column": null,
            "grid_gap": null,
            "grid_row": null,
            "grid_template_areas": null,
            "grid_template_columns": null,
            "grid_template_rows": null,
            "height": null,
            "justify_content": null,
            "justify_items": null,
            "left": null,
            "margin": null,
            "max_height": null,
            "max_width": null,
            "min_height": null,
            "min_width": null,
            "object_fit": null,
            "object_position": null,
            "order": null,
            "overflow": null,
            "overflow_x": null,
            "overflow_y": null,
            "padding": null,
            "right": null,
            "top": null,
            "visibility": null,
            "width": null
          }
        },
        "0544c19264bf47bc86a0bbd60106d3a7": {
          "model_module": "@jupyter-widgets/base",
          "model_name": "LayoutModel",
          "model_module_version": "1.2.0",
          "state": {
            "_model_module": "@jupyter-widgets/base",
            "_model_module_version": "1.2.0",
            "_model_name": "LayoutModel",
            "_view_count": null,
            "_view_module": "@jupyter-widgets/base",
            "_view_module_version": "1.2.0",
            "_view_name": "LayoutView",
            "align_content": null,
            "align_items": null,
            "align_self": null,
            "border": null,
            "bottom": null,
            "display": null,
            "flex": null,
            "flex_flow": null,
            "grid_area": null,
            "grid_auto_columns": null,
            "grid_auto_flow": null,
            "grid_auto_rows": null,
            "grid_column": null,
            "grid_gap": null,
            "grid_row": null,
            "grid_template_areas": null,
            "grid_template_columns": null,
            "grid_template_rows": null,
            "height": null,
            "justify_content": null,
            "justify_items": null,
            "left": null,
            "margin": null,
            "max_height": null,
            "max_width": null,
            "min_height": null,
            "min_width": null,
            "object_fit": null,
            "object_position": null,
            "order": null,
            "overflow": null,
            "overflow_x": null,
            "overflow_y": null,
            "padding": null,
            "right": null,
            "top": null,
            "visibility": null,
            "width": null
          }
        },
        "bfd6758e7be245c795cc6274a6c99d4e": {
          "model_module": "@jupyter-widgets/controls",
          "model_name": "DescriptionStyleModel",
          "model_module_version": "1.5.0",
          "state": {
            "_model_module": "@jupyter-widgets/controls",
            "_model_module_version": "1.5.0",
            "_model_name": "DescriptionStyleModel",
            "_view_count": null,
            "_view_module": "@jupyter-widgets/base",
            "_view_module_version": "1.2.0",
            "_view_name": "StyleView",
            "description_width": ""
          }
        },
        "6322c21431ba4675b2276f9b41469436": {
          "model_module": "@jupyter-widgets/base",
          "model_name": "LayoutModel",
          "model_module_version": "1.2.0",
          "state": {
            "_model_module": "@jupyter-widgets/base",
            "_model_module_version": "1.2.0",
            "_model_name": "LayoutModel",
            "_view_count": null,
            "_view_module": "@jupyter-widgets/base",
            "_view_module_version": "1.2.0",
            "_view_name": "LayoutView",
            "align_content": null,
            "align_items": null,
            "align_self": null,
            "border": null,
            "bottom": null,
            "display": null,
            "flex": null,
            "flex_flow": null,
            "grid_area": null,
            "grid_auto_columns": null,
            "grid_auto_flow": null,
            "grid_auto_rows": null,
            "grid_column": null,
            "grid_gap": null,
            "grid_row": null,
            "grid_template_areas": null,
            "grid_template_columns": null,
            "grid_template_rows": null,
            "height": null,
            "justify_content": null,
            "justify_items": null,
            "left": null,
            "margin": null,
            "max_height": null,
            "max_width": null,
            "min_height": null,
            "min_width": null,
            "object_fit": null,
            "object_position": null,
            "order": null,
            "overflow": null,
            "overflow_x": null,
            "overflow_y": null,
            "padding": null,
            "right": null,
            "top": null,
            "visibility": null,
            "width": null
          }
        },
        "3411d0041fa74a9987b13c21ac1fe237": {
          "model_module": "@jupyter-widgets/controls",
          "model_name": "ProgressStyleModel",
          "model_module_version": "1.5.0",
          "state": {
            "_model_module": "@jupyter-widgets/controls",
            "_model_module_version": "1.5.0",
            "_model_name": "ProgressStyleModel",
            "_view_count": null,
            "_view_module": "@jupyter-widgets/base",
            "_view_module_version": "1.2.0",
            "_view_name": "StyleView",
            "bar_color": null,
            "description_width": ""
          }
        },
        "8fd289b07136413189d2070a6a9ddc2a": {
          "model_module": "@jupyter-widgets/base",
          "model_name": "LayoutModel",
          "model_module_version": "1.2.0",
          "state": {
            "_model_module": "@jupyter-widgets/base",
            "_model_module_version": "1.2.0",
            "_model_name": "LayoutModel",
            "_view_count": null,
            "_view_module": "@jupyter-widgets/base",
            "_view_module_version": "1.2.0",
            "_view_name": "LayoutView",
            "align_content": null,
            "align_items": null,
            "align_self": null,
            "border": null,
            "bottom": null,
            "display": null,
            "flex": null,
            "flex_flow": null,
            "grid_area": null,
            "grid_auto_columns": null,
            "grid_auto_flow": null,
            "grid_auto_rows": null,
            "grid_column": null,
            "grid_gap": null,
            "grid_row": null,
            "grid_template_areas": null,
            "grid_template_columns": null,
            "grid_template_rows": null,
            "height": null,
            "justify_content": null,
            "justify_items": null,
            "left": null,
            "margin": null,
            "max_height": null,
            "max_width": null,
            "min_height": null,
            "min_width": null,
            "object_fit": null,
            "object_position": null,
            "order": null,
            "overflow": null,
            "overflow_x": null,
            "overflow_y": null,
            "padding": null,
            "right": null,
            "top": null,
            "visibility": null,
            "width": null
          }
        },
        "388041d1999d40e2a8f7b24e4b4bdb3e": {
          "model_module": "@jupyter-widgets/controls",
          "model_name": "DescriptionStyleModel",
          "model_module_version": "1.5.0",
          "state": {
            "_model_module": "@jupyter-widgets/controls",
            "_model_module_version": "1.5.0",
            "_model_name": "DescriptionStyleModel",
            "_view_count": null,
            "_view_module": "@jupyter-widgets/base",
            "_view_module_version": "1.2.0",
            "_view_name": "StyleView",
            "description_width": ""
          }
        },
        "9047d38d16f1449f97783a0584489a00": {
          "model_module": "@jupyter-widgets/controls",
          "model_name": "HBoxModel",
          "model_module_version": "1.5.0",
          "state": {
            "_dom_classes": [],
            "_model_module": "@jupyter-widgets/controls",
            "_model_module_version": "1.5.0",
            "_model_name": "HBoxModel",
            "_view_count": null,
            "_view_module": "@jupyter-widgets/controls",
            "_view_module_version": "1.5.0",
            "_view_name": "HBoxView",
            "box_style": "",
            "children": [
              "IPY_MODEL_53de65f361494204b51cddf98c4ad5f1",
              "IPY_MODEL_cf7b1f47afe840c98b2dc04114954287",
              "IPY_MODEL_6ddde4316ced4a80a8b5272abfab2e30"
            ],
            "layout": "IPY_MODEL_2249a47194154df99baf24261e306541"
          }
        },
        "53de65f361494204b51cddf98c4ad5f1": {
          "model_module": "@jupyter-widgets/controls",
          "model_name": "HTMLModel",
          "model_module_version": "1.5.0",
          "state": {
            "_dom_classes": [],
            "_model_module": "@jupyter-widgets/controls",
            "_model_module_version": "1.5.0",
            "_model_name": "HTMLModel",
            "_view_count": null,
            "_view_module": "@jupyter-widgets/controls",
            "_view_module_version": "1.5.0",
            "_view_name": "HTMLView",
            "description": "",
            "description_tooltip": null,
            "layout": "IPY_MODEL_3ce4290f05064f3f8959884ccda75985",
            "placeholder": "​",
            "style": "IPY_MODEL_e844c15155b84793a235d7f0b7c3d918",
            "value": "modules.json: 100%"
          }
        },
        "cf7b1f47afe840c98b2dc04114954287": {
          "model_module": "@jupyter-widgets/controls",
          "model_name": "FloatProgressModel",
          "model_module_version": "1.5.0",
          "state": {
            "_dom_classes": [],
            "_model_module": "@jupyter-widgets/controls",
            "_model_module_version": "1.5.0",
            "_model_name": "FloatProgressModel",
            "_view_count": null,
            "_view_module": "@jupyter-widgets/controls",
            "_view_module_version": "1.5.0",
            "_view_name": "ProgressView",
            "bar_style": "success",
            "description": "",
            "description_tooltip": null,
            "layout": "IPY_MODEL_706caed548d34a04ad21c2159cc180d9",
            "max": 349,
            "min": 0,
            "orientation": "horizontal",
            "style": "IPY_MODEL_5dabfe2d66f0486aa0260c8b95f0bb76",
            "value": 349
          }
        },
        "6ddde4316ced4a80a8b5272abfab2e30": {
          "model_module": "@jupyter-widgets/controls",
          "model_name": "HTMLModel",
          "model_module_version": "1.5.0",
          "state": {
            "_dom_classes": [],
            "_model_module": "@jupyter-widgets/controls",
            "_model_module_version": "1.5.0",
            "_model_name": "HTMLModel",
            "_view_count": null,
            "_view_module": "@jupyter-widgets/controls",
            "_view_module_version": "1.5.0",
            "_view_name": "HTMLView",
            "description": "",
            "description_tooltip": null,
            "layout": "IPY_MODEL_d1e1cb81f1de499c9d9cabb0457c47b8",
            "placeholder": "​",
            "style": "IPY_MODEL_99e38f56bce349919f01e077f9196b56",
            "value": " 349/349 [00:00&lt;00:00, 30.2kB/s]"
          }
        },
        "2249a47194154df99baf24261e306541": {
          "model_module": "@jupyter-widgets/base",
          "model_name": "LayoutModel",
          "model_module_version": "1.2.0",
          "state": {
            "_model_module": "@jupyter-widgets/base",
            "_model_module_version": "1.2.0",
            "_model_name": "LayoutModel",
            "_view_count": null,
            "_view_module": "@jupyter-widgets/base",
            "_view_module_version": "1.2.0",
            "_view_name": "LayoutView",
            "align_content": null,
            "align_items": null,
            "align_self": null,
            "border": null,
            "bottom": null,
            "display": null,
            "flex": null,
            "flex_flow": null,
            "grid_area": null,
            "grid_auto_columns": null,
            "grid_auto_flow": null,
            "grid_auto_rows": null,
            "grid_column": null,
            "grid_gap": null,
            "grid_row": null,
            "grid_template_areas": null,
            "grid_template_columns": null,
            "grid_template_rows": null,
            "height": null,
            "justify_content": null,
            "justify_items": null,
            "left": null,
            "margin": null,
            "max_height": null,
            "max_width": null,
            "min_height": null,
            "min_width": null,
            "object_fit": null,
            "object_position": null,
            "order": null,
            "overflow": null,
            "overflow_x": null,
            "overflow_y": null,
            "padding": null,
            "right": null,
            "top": null,
            "visibility": null,
            "width": null
          }
        },
        "3ce4290f05064f3f8959884ccda75985": {
          "model_module": "@jupyter-widgets/base",
          "model_name": "LayoutModel",
          "model_module_version": "1.2.0",
          "state": {
            "_model_module": "@jupyter-widgets/base",
            "_model_module_version": "1.2.0",
            "_model_name": "LayoutModel",
            "_view_count": null,
            "_view_module": "@jupyter-widgets/base",
            "_view_module_version": "1.2.0",
            "_view_name": "LayoutView",
            "align_content": null,
            "align_items": null,
            "align_self": null,
            "border": null,
            "bottom": null,
            "display": null,
            "flex": null,
            "flex_flow": null,
            "grid_area": null,
            "grid_auto_columns": null,
            "grid_auto_flow": null,
            "grid_auto_rows": null,
            "grid_column": null,
            "grid_gap": null,
            "grid_row": null,
            "grid_template_areas": null,
            "grid_template_columns": null,
            "grid_template_rows": null,
            "height": null,
            "justify_content": null,
            "justify_items": null,
            "left": null,
            "margin": null,
            "max_height": null,
            "max_width": null,
            "min_height": null,
            "min_width": null,
            "object_fit": null,
            "object_position": null,
            "order": null,
            "overflow": null,
            "overflow_x": null,
            "overflow_y": null,
            "padding": null,
            "right": null,
            "top": null,
            "visibility": null,
            "width": null
          }
        },
        "e844c15155b84793a235d7f0b7c3d918": {
          "model_module": "@jupyter-widgets/controls",
          "model_name": "DescriptionStyleModel",
          "model_module_version": "1.5.0",
          "state": {
            "_model_module": "@jupyter-widgets/controls",
            "_model_module_version": "1.5.0",
            "_model_name": "DescriptionStyleModel",
            "_view_count": null,
            "_view_module": "@jupyter-widgets/base",
            "_view_module_version": "1.2.0",
            "_view_name": "StyleView",
            "description_width": ""
          }
        },
        "706caed548d34a04ad21c2159cc180d9": {
          "model_module": "@jupyter-widgets/base",
          "model_name": "LayoutModel",
          "model_module_version": "1.2.0",
          "state": {
            "_model_module": "@jupyter-widgets/base",
            "_model_module_version": "1.2.0",
            "_model_name": "LayoutModel",
            "_view_count": null,
            "_view_module": "@jupyter-widgets/base",
            "_view_module_version": "1.2.0",
            "_view_name": "LayoutView",
            "align_content": null,
            "align_items": null,
            "align_self": null,
            "border": null,
            "bottom": null,
            "display": null,
            "flex": null,
            "flex_flow": null,
            "grid_area": null,
            "grid_auto_columns": null,
            "grid_auto_flow": null,
            "grid_auto_rows": null,
            "grid_column": null,
            "grid_gap": null,
            "grid_row": null,
            "grid_template_areas": null,
            "grid_template_columns": null,
            "grid_template_rows": null,
            "height": null,
            "justify_content": null,
            "justify_items": null,
            "left": null,
            "margin": null,
            "max_height": null,
            "max_width": null,
            "min_height": null,
            "min_width": null,
            "object_fit": null,
            "object_position": null,
            "order": null,
            "overflow": null,
            "overflow_x": null,
            "overflow_y": null,
            "padding": null,
            "right": null,
            "top": null,
            "visibility": null,
            "width": null
          }
        },
        "5dabfe2d66f0486aa0260c8b95f0bb76": {
          "model_module": "@jupyter-widgets/controls",
          "model_name": "ProgressStyleModel",
          "model_module_version": "1.5.0",
          "state": {
            "_model_module": "@jupyter-widgets/controls",
            "_model_module_version": "1.5.0",
            "_model_name": "ProgressStyleModel",
            "_view_count": null,
            "_view_module": "@jupyter-widgets/base",
            "_view_module_version": "1.2.0",
            "_view_name": "StyleView",
            "bar_color": null,
            "description_width": ""
          }
        },
        "d1e1cb81f1de499c9d9cabb0457c47b8": {
          "model_module": "@jupyter-widgets/base",
          "model_name": "LayoutModel",
          "model_module_version": "1.2.0",
          "state": {
            "_model_module": "@jupyter-widgets/base",
            "_model_module_version": "1.2.0",
            "_model_name": "LayoutModel",
            "_view_count": null,
            "_view_module": "@jupyter-widgets/base",
            "_view_module_version": "1.2.0",
            "_view_name": "LayoutView",
            "align_content": null,
            "align_items": null,
            "align_self": null,
            "border": null,
            "bottom": null,
            "display": null,
            "flex": null,
            "flex_flow": null,
            "grid_area": null,
            "grid_auto_columns": null,
            "grid_auto_flow": null,
            "grid_auto_rows": null,
            "grid_column": null,
            "grid_gap": null,
            "grid_row": null,
            "grid_template_areas": null,
            "grid_template_columns": null,
            "grid_template_rows": null,
            "height": null,
            "justify_content": null,
            "justify_items": null,
            "left": null,
            "margin": null,
            "max_height": null,
            "max_width": null,
            "min_height": null,
            "min_width": null,
            "object_fit": null,
            "object_position": null,
            "order": null,
            "overflow": null,
            "overflow_x": null,
            "overflow_y": null,
            "padding": null,
            "right": null,
            "top": null,
            "visibility": null,
            "width": null
          }
        },
        "99e38f56bce349919f01e077f9196b56": {
          "model_module": "@jupyter-widgets/controls",
          "model_name": "DescriptionStyleModel",
          "model_module_version": "1.5.0",
          "state": {
            "_model_module": "@jupyter-widgets/controls",
            "_model_module_version": "1.5.0",
            "_model_name": "DescriptionStyleModel",
            "_view_count": null,
            "_view_module": "@jupyter-widgets/base",
            "_view_module_version": "1.2.0",
            "_view_name": "StyleView",
            "description_width": ""
          }
        },
        "b75373eb3a154e168c17e88ff6bb2ec0": {
          "model_module": "@jupyter-widgets/controls",
          "model_name": "HBoxModel",
          "model_module_version": "1.5.0",
          "state": {
            "_dom_classes": [],
            "_model_module": "@jupyter-widgets/controls",
            "_model_module_version": "1.5.0",
            "_model_name": "HBoxModel",
            "_view_count": null,
            "_view_module": "@jupyter-widgets/controls",
            "_view_module_version": "1.5.0",
            "_view_name": "HBoxView",
            "box_style": "",
            "children": [
              "IPY_MODEL_8bc23eba02c84ea2be414e66512d180c",
              "IPY_MODEL_0fcbc4161db14ebc8eb87fb1ae8eb278",
              "IPY_MODEL_77fd1777d0cb47d6a4e87ab0e9a91e34"
            ],
            "layout": "IPY_MODEL_6c0d9f12dcee4a33a95e74e35b3ed3b5"
          }
        },
        "8bc23eba02c84ea2be414e66512d180c": {
          "model_module": "@jupyter-widgets/controls",
          "model_name": "HTMLModel",
          "model_module_version": "1.5.0",
          "state": {
            "_dom_classes": [],
            "_model_module": "@jupyter-widgets/controls",
            "_model_module_version": "1.5.0",
            "_model_name": "HTMLModel",
            "_view_count": null,
            "_view_module": "@jupyter-widgets/controls",
            "_view_module_version": "1.5.0",
            "_view_name": "HTMLView",
            "description": "",
            "description_tooltip": null,
            "layout": "IPY_MODEL_af32cef997544684b3be6ca74f00c6a9",
            "placeholder": "​",
            "style": "IPY_MODEL_64a1e0c9e17a45738849be529ab3baed",
            "value": "config_sentence_transformers.json: 100%"
          }
        },
        "0fcbc4161db14ebc8eb87fb1ae8eb278": {
          "model_module": "@jupyter-widgets/controls",
          "model_name": "FloatProgressModel",
          "model_module_version": "1.5.0",
          "state": {
            "_dom_classes": [],
            "_model_module": "@jupyter-widgets/controls",
            "_model_module_version": "1.5.0",
            "_model_name": "FloatProgressModel",
            "_view_count": null,
            "_view_module": "@jupyter-widgets/controls",
            "_view_module_version": "1.5.0",
            "_view_name": "ProgressView",
            "bar_style": "success",
            "description": "",
            "description_tooltip": null,
            "layout": "IPY_MODEL_bf320fd3ecdd412081200a931268f4f8",
            "max": 124,
            "min": 0,
            "orientation": "horizontal",
            "style": "IPY_MODEL_2d0f0d67320a4a23ba03cfc2e20bc891",
            "value": 124
          }
        },
        "77fd1777d0cb47d6a4e87ab0e9a91e34": {
          "model_module": "@jupyter-widgets/controls",
          "model_name": "HTMLModel",
          "model_module_version": "1.5.0",
          "state": {
            "_dom_classes": [],
            "_model_module": "@jupyter-widgets/controls",
            "_model_module_version": "1.5.0",
            "_model_name": "HTMLModel",
            "_view_count": null,
            "_view_module": "@jupyter-widgets/controls",
            "_view_module_version": "1.5.0",
            "_view_name": "HTMLView",
            "description": "",
            "description_tooltip": null,
            "layout": "IPY_MODEL_4ae0546b84bd4925b49f16d1208ae287",
            "placeholder": "​",
            "style": "IPY_MODEL_9a03462bf0f74c69974cde116476fe9e",
            "value": " 124/124 [00:00&lt;00:00, 10.6kB/s]"
          }
        },
        "6c0d9f12dcee4a33a95e74e35b3ed3b5": {
          "model_module": "@jupyter-widgets/base",
          "model_name": "LayoutModel",
          "model_module_version": "1.2.0",
          "state": {
            "_model_module": "@jupyter-widgets/base",
            "_model_module_version": "1.2.0",
            "_model_name": "LayoutModel",
            "_view_count": null,
            "_view_module": "@jupyter-widgets/base",
            "_view_module_version": "1.2.0",
            "_view_name": "LayoutView",
            "align_content": null,
            "align_items": null,
            "align_self": null,
            "border": null,
            "bottom": null,
            "display": null,
            "flex": null,
            "flex_flow": null,
            "grid_area": null,
            "grid_auto_columns": null,
            "grid_auto_flow": null,
            "grid_auto_rows": null,
            "grid_column": null,
            "grid_gap": null,
            "grid_row": null,
            "grid_template_areas": null,
            "grid_template_columns": null,
            "grid_template_rows": null,
            "height": null,
            "justify_content": null,
            "justify_items": null,
            "left": null,
            "margin": null,
            "max_height": null,
            "max_width": null,
            "min_height": null,
            "min_width": null,
            "object_fit": null,
            "object_position": null,
            "order": null,
            "overflow": null,
            "overflow_x": null,
            "overflow_y": null,
            "padding": null,
            "right": null,
            "top": null,
            "visibility": null,
            "width": null
          }
        },
        "af32cef997544684b3be6ca74f00c6a9": {
          "model_module": "@jupyter-widgets/base",
          "model_name": "LayoutModel",
          "model_module_version": "1.2.0",
          "state": {
            "_model_module": "@jupyter-widgets/base",
            "_model_module_version": "1.2.0",
            "_model_name": "LayoutModel",
            "_view_count": null,
            "_view_module": "@jupyter-widgets/base",
            "_view_module_version": "1.2.0",
            "_view_name": "LayoutView",
            "align_content": null,
            "align_items": null,
            "align_self": null,
            "border": null,
            "bottom": null,
            "display": null,
            "flex": null,
            "flex_flow": null,
            "grid_area": null,
            "grid_auto_columns": null,
            "grid_auto_flow": null,
            "grid_auto_rows": null,
            "grid_column": null,
            "grid_gap": null,
            "grid_row": null,
            "grid_template_areas": null,
            "grid_template_columns": null,
            "grid_template_rows": null,
            "height": null,
            "justify_content": null,
            "justify_items": null,
            "left": null,
            "margin": null,
            "max_height": null,
            "max_width": null,
            "min_height": null,
            "min_width": null,
            "object_fit": null,
            "object_position": null,
            "order": null,
            "overflow": null,
            "overflow_x": null,
            "overflow_y": null,
            "padding": null,
            "right": null,
            "top": null,
            "visibility": null,
            "width": null
          }
        },
        "64a1e0c9e17a45738849be529ab3baed": {
          "model_module": "@jupyter-widgets/controls",
          "model_name": "DescriptionStyleModel",
          "model_module_version": "1.5.0",
          "state": {
            "_model_module": "@jupyter-widgets/controls",
            "_model_module_version": "1.5.0",
            "_model_name": "DescriptionStyleModel",
            "_view_count": null,
            "_view_module": "@jupyter-widgets/base",
            "_view_module_version": "1.2.0",
            "_view_name": "StyleView",
            "description_width": ""
          }
        },
        "bf320fd3ecdd412081200a931268f4f8": {
          "model_module": "@jupyter-widgets/base",
          "model_name": "LayoutModel",
          "model_module_version": "1.2.0",
          "state": {
            "_model_module": "@jupyter-widgets/base",
            "_model_module_version": "1.2.0",
            "_model_name": "LayoutModel",
            "_view_count": null,
            "_view_module": "@jupyter-widgets/base",
            "_view_module_version": "1.2.0",
            "_view_name": "LayoutView",
            "align_content": null,
            "align_items": null,
            "align_self": null,
            "border": null,
            "bottom": null,
            "display": null,
            "flex": null,
            "flex_flow": null,
            "grid_area": null,
            "grid_auto_columns": null,
            "grid_auto_flow": null,
            "grid_auto_rows": null,
            "grid_column": null,
            "grid_gap": null,
            "grid_row": null,
            "grid_template_areas": null,
            "grid_template_columns": null,
            "grid_template_rows": null,
            "height": null,
            "justify_content": null,
            "justify_items": null,
            "left": null,
            "margin": null,
            "max_height": null,
            "max_width": null,
            "min_height": null,
            "min_width": null,
            "object_fit": null,
            "object_position": null,
            "order": null,
            "overflow": null,
            "overflow_x": null,
            "overflow_y": null,
            "padding": null,
            "right": null,
            "top": null,
            "visibility": null,
            "width": null
          }
        },
        "2d0f0d67320a4a23ba03cfc2e20bc891": {
          "model_module": "@jupyter-widgets/controls",
          "model_name": "ProgressStyleModel",
          "model_module_version": "1.5.0",
          "state": {
            "_model_module": "@jupyter-widgets/controls",
            "_model_module_version": "1.5.0",
            "_model_name": "ProgressStyleModel",
            "_view_count": null,
            "_view_module": "@jupyter-widgets/base",
            "_view_module_version": "1.2.0",
            "_view_name": "StyleView",
            "bar_color": null,
            "description_width": ""
          }
        },
        "4ae0546b84bd4925b49f16d1208ae287": {
          "model_module": "@jupyter-widgets/base",
          "model_name": "LayoutModel",
          "model_module_version": "1.2.0",
          "state": {
            "_model_module": "@jupyter-widgets/base",
            "_model_module_version": "1.2.0",
            "_model_name": "LayoutModel",
            "_view_count": null,
            "_view_module": "@jupyter-widgets/base",
            "_view_module_version": "1.2.0",
            "_view_name": "LayoutView",
            "align_content": null,
            "align_items": null,
            "align_self": null,
            "border": null,
            "bottom": null,
            "display": null,
            "flex": null,
            "flex_flow": null,
            "grid_area": null,
            "grid_auto_columns": null,
            "grid_auto_flow": null,
            "grid_auto_rows": null,
            "grid_column": null,
            "grid_gap": null,
            "grid_row": null,
            "grid_template_areas": null,
            "grid_template_columns": null,
            "grid_template_rows": null,
            "height": null,
            "justify_content": null,
            "justify_items": null,
            "left": null,
            "margin": null,
            "max_height": null,
            "max_width": null,
            "min_height": null,
            "min_width": null,
            "object_fit": null,
            "object_position": null,
            "order": null,
            "overflow": null,
            "overflow_x": null,
            "overflow_y": null,
            "padding": null,
            "right": null,
            "top": null,
            "visibility": null,
            "width": null
          }
        },
        "9a03462bf0f74c69974cde116476fe9e": {
          "model_module": "@jupyter-widgets/controls",
          "model_name": "DescriptionStyleModel",
          "model_module_version": "1.5.0",
          "state": {
            "_model_module": "@jupyter-widgets/controls",
            "_model_module_version": "1.5.0",
            "_model_name": "DescriptionStyleModel",
            "_view_count": null,
            "_view_module": "@jupyter-widgets/base",
            "_view_module_version": "1.2.0",
            "_view_name": "StyleView",
            "description_width": ""
          }
        },
        "b73da164b4a541bca942e51062993064": {
          "model_module": "@jupyter-widgets/controls",
          "model_name": "HBoxModel",
          "model_module_version": "1.5.0",
          "state": {
            "_dom_classes": [],
            "_model_module": "@jupyter-widgets/controls",
            "_model_module_version": "1.5.0",
            "_model_name": "HBoxModel",
            "_view_count": null,
            "_view_module": "@jupyter-widgets/controls",
            "_view_module_version": "1.5.0",
            "_view_name": "HBoxView",
            "box_style": "",
            "children": [
              "IPY_MODEL_86e95f5c9ba74246bc52ff6869e902bc",
              "IPY_MODEL_63f006e7011e4680a68aa5160eacf2f7",
              "IPY_MODEL_b5f3465bf9244ac3861a82e100924bf9"
            ],
            "layout": "IPY_MODEL_97b7b8d747a449258137ceb4f86f93cc"
          }
        },
        "86e95f5c9ba74246bc52ff6869e902bc": {
          "model_module": "@jupyter-widgets/controls",
          "model_name": "HTMLModel",
          "model_module_version": "1.5.0",
          "state": {
            "_dom_classes": [],
            "_model_module": "@jupyter-widgets/controls",
            "_model_module_version": "1.5.0",
            "_model_name": "HTMLModel",
            "_view_count": null,
            "_view_module": "@jupyter-widgets/controls",
            "_view_module_version": "1.5.0",
            "_view_name": "HTMLView",
            "description": "",
            "description_tooltip": null,
            "layout": "IPY_MODEL_571e745faaaa4402b244b7cefe80dc60",
            "placeholder": "​",
            "style": "IPY_MODEL_b0f1413dfd3944abacc177af50c37a8b",
            "value": "README.md: 100%"
          }
        },
        "63f006e7011e4680a68aa5160eacf2f7": {
          "model_module": "@jupyter-widgets/controls",
          "model_name": "FloatProgressModel",
          "model_module_version": "1.5.0",
          "state": {
            "_dom_classes": [],
            "_model_module": "@jupyter-widgets/controls",
            "_model_module_version": "1.5.0",
            "_model_name": "FloatProgressModel",
            "_view_count": null,
            "_view_module": "@jupyter-widgets/controls",
            "_view_module_version": "1.5.0",
            "_view_name": "ProgressView",
            "bar_style": "success",
            "description": "",
            "description_tooltip": null,
            "layout": "IPY_MODEL_5c12bb052cfe411db20a3702641fd828",
            "max": 94783,
            "min": 0,
            "orientation": "horizontal",
            "style": "IPY_MODEL_a52703fb34fb4141b5610c4fbfb9509e",
            "value": 94783
          }
        },
        "b5f3465bf9244ac3861a82e100924bf9": {
          "model_module": "@jupyter-widgets/controls",
          "model_name": "HTMLModel",
          "model_module_version": "1.5.0",
          "state": {
            "_dom_classes": [],
            "_model_module": "@jupyter-widgets/controls",
            "_model_module_version": "1.5.0",
            "_model_name": "HTMLModel",
            "_view_count": null,
            "_view_module": "@jupyter-widgets/controls",
            "_view_module_version": "1.5.0",
            "_view_name": "HTMLView",
            "description": "",
            "description_tooltip": null,
            "layout": "IPY_MODEL_3f97848841524170a3ad2b26940219ef",
            "placeholder": "​",
            "style": "IPY_MODEL_6b7fc6a540614cafb34aa0856c431520",
            "value": " 94.8k/94.8k [00:00&lt;00:00, 384kB/s]"
          }
        },
        "97b7b8d747a449258137ceb4f86f93cc": {
          "model_module": "@jupyter-widgets/base",
          "model_name": "LayoutModel",
          "model_module_version": "1.2.0",
          "state": {
            "_model_module": "@jupyter-widgets/base",
            "_model_module_version": "1.2.0",
            "_model_name": "LayoutModel",
            "_view_count": null,
            "_view_module": "@jupyter-widgets/base",
            "_view_module_version": "1.2.0",
            "_view_name": "LayoutView",
            "align_content": null,
            "align_items": null,
            "align_self": null,
            "border": null,
            "bottom": null,
            "display": null,
            "flex": null,
            "flex_flow": null,
            "grid_area": null,
            "grid_auto_columns": null,
            "grid_auto_flow": null,
            "grid_auto_rows": null,
            "grid_column": null,
            "grid_gap": null,
            "grid_row": null,
            "grid_template_areas": null,
            "grid_template_columns": null,
            "grid_template_rows": null,
            "height": null,
            "justify_content": null,
            "justify_items": null,
            "left": null,
            "margin": null,
            "max_height": null,
            "max_width": null,
            "min_height": null,
            "min_width": null,
            "object_fit": null,
            "object_position": null,
            "order": null,
            "overflow": null,
            "overflow_x": null,
            "overflow_y": null,
            "padding": null,
            "right": null,
            "top": null,
            "visibility": null,
            "width": null
          }
        },
        "571e745faaaa4402b244b7cefe80dc60": {
          "model_module": "@jupyter-widgets/base",
          "model_name": "LayoutModel",
          "model_module_version": "1.2.0",
          "state": {
            "_model_module": "@jupyter-widgets/base",
            "_model_module_version": "1.2.0",
            "_model_name": "LayoutModel",
            "_view_count": null,
            "_view_module": "@jupyter-widgets/base",
            "_view_module_version": "1.2.0",
            "_view_name": "LayoutView",
            "align_content": null,
            "align_items": null,
            "align_self": null,
            "border": null,
            "bottom": null,
            "display": null,
            "flex": null,
            "flex_flow": null,
            "grid_area": null,
            "grid_auto_columns": null,
            "grid_auto_flow": null,
            "grid_auto_rows": null,
            "grid_column": null,
            "grid_gap": null,
            "grid_row": null,
            "grid_template_areas": null,
            "grid_template_columns": null,
            "grid_template_rows": null,
            "height": null,
            "justify_content": null,
            "justify_items": null,
            "left": null,
            "margin": null,
            "max_height": null,
            "max_width": null,
            "min_height": null,
            "min_width": null,
            "object_fit": null,
            "object_position": null,
            "order": null,
            "overflow": null,
            "overflow_x": null,
            "overflow_y": null,
            "padding": null,
            "right": null,
            "top": null,
            "visibility": null,
            "width": null
          }
        },
        "b0f1413dfd3944abacc177af50c37a8b": {
          "model_module": "@jupyter-widgets/controls",
          "model_name": "DescriptionStyleModel",
          "model_module_version": "1.5.0",
          "state": {
            "_model_module": "@jupyter-widgets/controls",
            "_model_module_version": "1.5.0",
            "_model_name": "DescriptionStyleModel",
            "_view_count": null,
            "_view_module": "@jupyter-widgets/base",
            "_view_module_version": "1.2.0",
            "_view_name": "StyleView",
            "description_width": ""
          }
        },
        "5c12bb052cfe411db20a3702641fd828": {
          "model_module": "@jupyter-widgets/base",
          "model_name": "LayoutModel",
          "model_module_version": "1.2.0",
          "state": {
            "_model_module": "@jupyter-widgets/base",
            "_model_module_version": "1.2.0",
            "_model_name": "LayoutModel",
            "_view_count": null,
            "_view_module": "@jupyter-widgets/base",
            "_view_module_version": "1.2.0",
            "_view_name": "LayoutView",
            "align_content": null,
            "align_items": null,
            "align_self": null,
            "border": null,
            "bottom": null,
            "display": null,
            "flex": null,
            "flex_flow": null,
            "grid_area": null,
            "grid_auto_columns": null,
            "grid_auto_flow": null,
            "grid_auto_rows": null,
            "grid_column": null,
            "grid_gap": null,
            "grid_row": null,
            "grid_template_areas": null,
            "grid_template_columns": null,
            "grid_template_rows": null,
            "height": null,
            "justify_content": null,
            "justify_items": null,
            "left": null,
            "margin": null,
            "max_height": null,
            "max_width": null,
            "min_height": null,
            "min_width": null,
            "object_fit": null,
            "object_position": null,
            "order": null,
            "overflow": null,
            "overflow_x": null,
            "overflow_y": null,
            "padding": null,
            "right": null,
            "top": null,
            "visibility": null,
            "width": null
          }
        },
        "a52703fb34fb4141b5610c4fbfb9509e": {
          "model_module": "@jupyter-widgets/controls",
          "model_name": "ProgressStyleModel",
          "model_module_version": "1.5.0",
          "state": {
            "_model_module": "@jupyter-widgets/controls",
            "_model_module_version": "1.5.0",
            "_model_name": "ProgressStyleModel",
            "_view_count": null,
            "_view_module": "@jupyter-widgets/base",
            "_view_module_version": "1.2.0",
            "_view_name": "StyleView",
            "bar_color": null,
            "description_width": ""
          }
        },
        "3f97848841524170a3ad2b26940219ef": {
          "model_module": "@jupyter-widgets/base",
          "model_name": "LayoutModel",
          "model_module_version": "1.2.0",
          "state": {
            "_model_module": "@jupyter-widgets/base",
            "_model_module_version": "1.2.0",
            "_model_name": "LayoutModel",
            "_view_count": null,
            "_view_module": "@jupyter-widgets/base",
            "_view_module_version": "1.2.0",
            "_view_name": "LayoutView",
            "align_content": null,
            "align_items": null,
            "align_self": null,
            "border": null,
            "bottom": null,
            "display": null,
            "flex": null,
            "flex_flow": null,
            "grid_area": null,
            "grid_auto_columns": null,
            "grid_auto_flow": null,
            "grid_auto_rows": null,
            "grid_column": null,
            "grid_gap": null,
            "grid_row": null,
            "grid_template_areas": null,
            "grid_template_columns": null,
            "grid_template_rows": null,
            "height": null,
            "justify_content": null,
            "justify_items": null,
            "left": null,
            "margin": null,
            "max_height": null,
            "max_width": null,
            "min_height": null,
            "min_width": null,
            "object_fit": null,
            "object_position": null,
            "order": null,
            "overflow": null,
            "overflow_x": null,
            "overflow_y": null,
            "padding": null,
            "right": null,
            "top": null,
            "visibility": null,
            "width": null
          }
        },
        "6b7fc6a540614cafb34aa0856c431520": {
          "model_module": "@jupyter-widgets/controls",
          "model_name": "DescriptionStyleModel",
          "model_module_version": "1.5.0",
          "state": {
            "_model_module": "@jupyter-widgets/controls",
            "_model_module_version": "1.5.0",
            "_model_name": "DescriptionStyleModel",
            "_view_count": null,
            "_view_module": "@jupyter-widgets/base",
            "_view_module_version": "1.2.0",
            "_view_name": "StyleView",
            "description_width": ""
          }
        },
        "5ca154273a3043e3b1ab8084ad82a10b": {
          "model_module": "@jupyter-widgets/controls",
          "model_name": "HBoxModel",
          "model_module_version": "1.5.0",
          "state": {
            "_dom_classes": [],
            "_model_module": "@jupyter-widgets/controls",
            "_model_module_version": "1.5.0",
            "_model_name": "HBoxModel",
            "_view_count": null,
            "_view_module": "@jupyter-widgets/controls",
            "_view_module_version": "1.5.0",
            "_view_name": "HBoxView",
            "box_style": "",
            "children": [
              "IPY_MODEL_148d26e1c0674bc2b6cc8039bd9f41de",
              "IPY_MODEL_f0ef5a39d9bb4d08a1e603a5bfe2f121",
              "IPY_MODEL_1db3e02cef414c91b57f8d198a2d1157"
            ],
            "layout": "IPY_MODEL_d409746e165c41f69dfa1fe18dee5e7b"
          }
        },
        "148d26e1c0674bc2b6cc8039bd9f41de": {
          "model_module": "@jupyter-widgets/controls",
          "model_name": "HTMLModel",
          "model_module_version": "1.5.0",
          "state": {
            "_dom_classes": [],
            "_model_module": "@jupyter-widgets/controls",
            "_model_module_version": "1.5.0",
            "_model_name": "HTMLModel",
            "_view_count": null,
            "_view_module": "@jupyter-widgets/controls",
            "_view_module_version": "1.5.0",
            "_view_name": "HTMLView",
            "description": "",
            "description_tooltip": null,
            "layout": "IPY_MODEL_58e44b793f0745219f01d3ca1dfbfc88",
            "placeholder": "​",
            "style": "IPY_MODEL_be011531edf14fb8a0e71863f2af4b2f",
            "value": "sentence_bert_config.json: 100%"
          }
        },
        "f0ef5a39d9bb4d08a1e603a5bfe2f121": {
          "model_module": "@jupyter-widgets/controls",
          "model_name": "FloatProgressModel",
          "model_module_version": "1.5.0",
          "state": {
            "_dom_classes": [],
            "_model_module": "@jupyter-widgets/controls",
            "_model_module_version": "1.5.0",
            "_model_name": "FloatProgressModel",
            "_view_count": null,
            "_view_module": "@jupyter-widgets/controls",
            "_view_module_version": "1.5.0",
            "_view_name": "ProgressView",
            "bar_style": "success",
            "description": "",
            "description_tooltip": null,
            "layout": "IPY_MODEL_3e53fb790d2d4d878a1e3b7587b3dd99",
            "max": 52,
            "min": 0,
            "orientation": "horizontal",
            "style": "IPY_MODEL_e3fb0bcacc4b4016a02a07990cbf8b2d",
            "value": 52
          }
        },
        "1db3e02cef414c91b57f8d198a2d1157": {
          "model_module": "@jupyter-widgets/controls",
          "model_name": "HTMLModel",
          "model_module_version": "1.5.0",
          "state": {
            "_dom_classes": [],
            "_model_module": "@jupyter-widgets/controls",
            "_model_module_version": "1.5.0",
            "_model_name": "HTMLModel",
            "_view_count": null,
            "_view_module": "@jupyter-widgets/controls",
            "_view_module_version": "1.5.0",
            "_view_name": "HTMLView",
            "description": "",
            "description_tooltip": null,
            "layout": "IPY_MODEL_6e7c5c60b87c435ba49453491ad5ffd5",
            "placeholder": "​",
            "style": "IPY_MODEL_f27ce502accc4c03acbf833130dafc11",
            "value": " 52.0/52.0 [00:00&lt;00:00, 4.65kB/s]"
          }
        },
        "d409746e165c41f69dfa1fe18dee5e7b": {
          "model_module": "@jupyter-widgets/base",
          "model_name": "LayoutModel",
          "model_module_version": "1.2.0",
          "state": {
            "_model_module": "@jupyter-widgets/base",
            "_model_module_version": "1.2.0",
            "_model_name": "LayoutModel",
            "_view_count": null,
            "_view_module": "@jupyter-widgets/base",
            "_view_module_version": "1.2.0",
            "_view_name": "LayoutView",
            "align_content": null,
            "align_items": null,
            "align_self": null,
            "border": null,
            "bottom": null,
            "display": null,
            "flex": null,
            "flex_flow": null,
            "grid_area": null,
            "grid_auto_columns": null,
            "grid_auto_flow": null,
            "grid_auto_rows": null,
            "grid_column": null,
            "grid_gap": null,
            "grid_row": null,
            "grid_template_areas": null,
            "grid_template_columns": null,
            "grid_template_rows": null,
            "height": null,
            "justify_content": null,
            "justify_items": null,
            "left": null,
            "margin": null,
            "max_height": null,
            "max_width": null,
            "min_height": null,
            "min_width": null,
            "object_fit": null,
            "object_position": null,
            "order": null,
            "overflow": null,
            "overflow_x": null,
            "overflow_y": null,
            "padding": null,
            "right": null,
            "top": null,
            "visibility": null,
            "width": null
          }
        },
        "58e44b793f0745219f01d3ca1dfbfc88": {
          "model_module": "@jupyter-widgets/base",
          "model_name": "LayoutModel",
          "model_module_version": "1.2.0",
          "state": {
            "_model_module": "@jupyter-widgets/base",
            "_model_module_version": "1.2.0",
            "_model_name": "LayoutModel",
            "_view_count": null,
            "_view_module": "@jupyter-widgets/base",
            "_view_module_version": "1.2.0",
            "_view_name": "LayoutView",
            "align_content": null,
            "align_items": null,
            "align_self": null,
            "border": null,
            "bottom": null,
            "display": null,
            "flex": null,
            "flex_flow": null,
            "grid_area": null,
            "grid_auto_columns": null,
            "grid_auto_flow": null,
            "grid_auto_rows": null,
            "grid_column": null,
            "grid_gap": null,
            "grid_row": null,
            "grid_template_areas": null,
            "grid_template_columns": null,
            "grid_template_rows": null,
            "height": null,
            "justify_content": null,
            "justify_items": null,
            "left": null,
            "margin": null,
            "max_height": null,
            "max_width": null,
            "min_height": null,
            "min_width": null,
            "object_fit": null,
            "object_position": null,
            "order": null,
            "overflow": null,
            "overflow_x": null,
            "overflow_y": null,
            "padding": null,
            "right": null,
            "top": null,
            "visibility": null,
            "width": null
          }
        },
        "be011531edf14fb8a0e71863f2af4b2f": {
          "model_module": "@jupyter-widgets/controls",
          "model_name": "DescriptionStyleModel",
          "model_module_version": "1.5.0",
          "state": {
            "_model_module": "@jupyter-widgets/controls",
            "_model_module_version": "1.5.0",
            "_model_name": "DescriptionStyleModel",
            "_view_count": null,
            "_view_module": "@jupyter-widgets/base",
            "_view_module_version": "1.2.0",
            "_view_name": "StyleView",
            "description_width": ""
          }
        },
        "3e53fb790d2d4d878a1e3b7587b3dd99": {
          "model_module": "@jupyter-widgets/base",
          "model_name": "LayoutModel",
          "model_module_version": "1.2.0",
          "state": {
            "_model_module": "@jupyter-widgets/base",
            "_model_module_version": "1.2.0",
            "_model_name": "LayoutModel",
            "_view_count": null,
            "_view_module": "@jupyter-widgets/base",
            "_view_module_version": "1.2.0",
            "_view_name": "LayoutView",
            "align_content": null,
            "align_items": null,
            "align_self": null,
            "border": null,
            "bottom": null,
            "display": null,
            "flex": null,
            "flex_flow": null,
            "grid_area": null,
            "grid_auto_columns": null,
            "grid_auto_flow": null,
            "grid_auto_rows": null,
            "grid_column": null,
            "grid_gap": null,
            "grid_row": null,
            "grid_template_areas": null,
            "grid_template_columns": null,
            "grid_template_rows": null,
            "height": null,
            "justify_content": null,
            "justify_items": null,
            "left": null,
            "margin": null,
            "max_height": null,
            "max_width": null,
            "min_height": null,
            "min_width": null,
            "object_fit": null,
            "object_position": null,
            "order": null,
            "overflow": null,
            "overflow_x": null,
            "overflow_y": null,
            "padding": null,
            "right": null,
            "top": null,
            "visibility": null,
            "width": null
          }
        },
        "e3fb0bcacc4b4016a02a07990cbf8b2d": {
          "model_module": "@jupyter-widgets/controls",
          "model_name": "ProgressStyleModel",
          "model_module_version": "1.5.0",
          "state": {
            "_model_module": "@jupyter-widgets/controls",
            "_model_module_version": "1.5.0",
            "_model_name": "ProgressStyleModel",
            "_view_count": null,
            "_view_module": "@jupyter-widgets/base",
            "_view_module_version": "1.2.0",
            "_view_name": "StyleView",
            "bar_color": null,
            "description_width": ""
          }
        },
        "6e7c5c60b87c435ba49453491ad5ffd5": {
          "model_module": "@jupyter-widgets/base",
          "model_name": "LayoutModel",
          "model_module_version": "1.2.0",
          "state": {
            "_model_module": "@jupyter-widgets/base",
            "_model_module_version": "1.2.0",
            "_model_name": "LayoutModel",
            "_view_count": null,
            "_view_module": "@jupyter-widgets/base",
            "_view_module_version": "1.2.0",
            "_view_name": "LayoutView",
            "align_content": null,
            "align_items": null,
            "align_self": null,
            "border": null,
            "bottom": null,
            "display": null,
            "flex": null,
            "flex_flow": null,
            "grid_area": null,
            "grid_auto_columns": null,
            "grid_auto_flow": null,
            "grid_auto_rows": null,
            "grid_column": null,
            "grid_gap": null,
            "grid_row": null,
            "grid_template_areas": null,
            "grid_template_columns": null,
            "grid_template_rows": null,
            "height": null,
            "justify_content": null,
            "justify_items": null,
            "left": null,
            "margin": null,
            "max_height": null,
            "max_width": null,
            "min_height": null,
            "min_width": null,
            "object_fit": null,
            "object_position": null,
            "order": null,
            "overflow": null,
            "overflow_x": null,
            "overflow_y": null,
            "padding": null,
            "right": null,
            "top": null,
            "visibility": null,
            "width": null
          }
        },
        "f27ce502accc4c03acbf833130dafc11": {
          "model_module": "@jupyter-widgets/controls",
          "model_name": "DescriptionStyleModel",
          "model_module_version": "1.5.0",
          "state": {
            "_model_module": "@jupyter-widgets/controls",
            "_model_module_version": "1.5.0",
            "_model_name": "DescriptionStyleModel",
            "_view_count": null,
            "_view_module": "@jupyter-widgets/base",
            "_view_module_version": "1.2.0",
            "_view_name": "StyleView",
            "description_width": ""
          }
        },
        "75e23e32f103457ea6831c4a68954150": {
          "model_module": "@jupyter-widgets/controls",
          "model_name": "HBoxModel",
          "model_module_version": "1.5.0",
          "state": {
            "_dom_classes": [],
            "_model_module": "@jupyter-widgets/controls",
            "_model_module_version": "1.5.0",
            "_model_name": "HBoxModel",
            "_view_count": null,
            "_view_module": "@jupyter-widgets/controls",
            "_view_module_version": "1.5.0",
            "_view_name": "HBoxView",
            "box_style": "",
            "children": [
              "IPY_MODEL_eef250de05f44cb1a06a48887137661d",
              "IPY_MODEL_1b4d3ddbbf6047a78972f67172740a1f",
              "IPY_MODEL_fc444099b6104e7dba0f2d6818d2d624"
            ],
            "layout": "IPY_MODEL_7804938e8fe34589a9913c81b31ff164"
          }
        },
        "eef250de05f44cb1a06a48887137661d": {
          "model_module": "@jupyter-widgets/controls",
          "model_name": "HTMLModel",
          "model_module_version": "1.5.0",
          "state": {
            "_dom_classes": [],
            "_model_module": "@jupyter-widgets/controls",
            "_model_module_version": "1.5.0",
            "_model_name": "HTMLModel",
            "_view_count": null,
            "_view_module": "@jupyter-widgets/controls",
            "_view_module_version": "1.5.0",
            "_view_name": "HTMLView",
            "description": "",
            "description_tooltip": null,
            "layout": "IPY_MODEL_61c417d60e7c4d558c6d2a10cfd99a88",
            "placeholder": "​",
            "style": "IPY_MODEL_adad7459207a41bb814cfa79580dea75",
            "value": "config.json: 100%"
          }
        },
        "1b4d3ddbbf6047a78972f67172740a1f": {
          "model_module": "@jupyter-widgets/controls",
          "model_name": "FloatProgressModel",
          "model_module_version": "1.5.0",
          "state": {
            "_dom_classes": [],
            "_model_module": "@jupyter-widgets/controls",
            "_model_module_version": "1.5.0",
            "_model_name": "FloatProgressModel",
            "_view_count": null,
            "_view_module": "@jupyter-widgets/controls",
            "_view_module_version": "1.5.0",
            "_view_name": "ProgressView",
            "bar_style": "success",
            "description": "",
            "description_tooltip": null,
            "layout": "IPY_MODEL_ca156c749b0d4ce99ca3d9f45abf8246",
            "max": 743,
            "min": 0,
            "orientation": "horizontal",
            "style": "IPY_MODEL_2913e49eebd4479cbbc4abb1336b1675",
            "value": 743
          }
        },
        "fc444099b6104e7dba0f2d6818d2d624": {
          "model_module": "@jupyter-widgets/controls",
          "model_name": "HTMLModel",
          "model_module_version": "1.5.0",
          "state": {
            "_dom_classes": [],
            "_model_module": "@jupyter-widgets/controls",
            "_model_module_version": "1.5.0",
            "_model_name": "HTMLModel",
            "_view_count": null,
            "_view_module": "@jupyter-widgets/controls",
            "_view_module_version": "1.5.0",
            "_view_name": "HTMLView",
            "description": "",
            "description_tooltip": null,
            "layout": "IPY_MODEL_78c46cdc59ed4276bb72323e27ec02c3",
            "placeholder": "​",
            "style": "IPY_MODEL_ed74b460f816454a8dd0a252c3b0f06b",
            "value": " 743/743 [00:00&lt;00:00, 63.4kB/s]"
          }
        },
        "7804938e8fe34589a9913c81b31ff164": {
          "model_module": "@jupyter-widgets/base",
          "model_name": "LayoutModel",
          "model_module_version": "1.2.0",
          "state": {
            "_model_module": "@jupyter-widgets/base",
            "_model_module_version": "1.2.0",
            "_model_name": "LayoutModel",
            "_view_count": null,
            "_view_module": "@jupyter-widgets/base",
            "_view_module_version": "1.2.0",
            "_view_name": "LayoutView",
            "align_content": null,
            "align_items": null,
            "align_self": null,
            "border": null,
            "bottom": null,
            "display": null,
            "flex": null,
            "flex_flow": null,
            "grid_area": null,
            "grid_auto_columns": null,
            "grid_auto_flow": null,
            "grid_auto_rows": null,
            "grid_column": null,
            "grid_gap": null,
            "grid_row": null,
            "grid_template_areas": null,
            "grid_template_columns": null,
            "grid_template_rows": null,
            "height": null,
            "justify_content": null,
            "justify_items": null,
            "left": null,
            "margin": null,
            "max_height": null,
            "max_width": null,
            "min_height": null,
            "min_width": null,
            "object_fit": null,
            "object_position": null,
            "order": null,
            "overflow": null,
            "overflow_x": null,
            "overflow_y": null,
            "padding": null,
            "right": null,
            "top": null,
            "visibility": null,
            "width": null
          }
        },
        "61c417d60e7c4d558c6d2a10cfd99a88": {
          "model_module": "@jupyter-widgets/base",
          "model_name": "LayoutModel",
          "model_module_version": "1.2.0",
          "state": {
            "_model_module": "@jupyter-widgets/base",
            "_model_module_version": "1.2.0",
            "_model_name": "LayoutModel",
            "_view_count": null,
            "_view_module": "@jupyter-widgets/base",
            "_view_module_version": "1.2.0",
            "_view_name": "LayoutView",
            "align_content": null,
            "align_items": null,
            "align_self": null,
            "border": null,
            "bottom": null,
            "display": null,
            "flex": null,
            "flex_flow": null,
            "grid_area": null,
            "grid_auto_columns": null,
            "grid_auto_flow": null,
            "grid_auto_rows": null,
            "grid_column": null,
            "grid_gap": null,
            "grid_row": null,
            "grid_template_areas": null,
            "grid_template_columns": null,
            "grid_template_rows": null,
            "height": null,
            "justify_content": null,
            "justify_items": null,
            "left": null,
            "margin": null,
            "max_height": null,
            "max_width": null,
            "min_height": null,
            "min_width": null,
            "object_fit": null,
            "object_position": null,
            "order": null,
            "overflow": null,
            "overflow_x": null,
            "overflow_y": null,
            "padding": null,
            "right": null,
            "top": null,
            "visibility": null,
            "width": null
          }
        },
        "adad7459207a41bb814cfa79580dea75": {
          "model_module": "@jupyter-widgets/controls",
          "model_name": "DescriptionStyleModel",
          "model_module_version": "1.5.0",
          "state": {
            "_model_module": "@jupyter-widgets/controls",
            "_model_module_version": "1.5.0",
            "_model_name": "DescriptionStyleModel",
            "_view_count": null,
            "_view_module": "@jupyter-widgets/base",
            "_view_module_version": "1.2.0",
            "_view_name": "StyleView",
            "description_width": ""
          }
        },
        "ca156c749b0d4ce99ca3d9f45abf8246": {
          "model_module": "@jupyter-widgets/base",
          "model_name": "LayoutModel",
          "model_module_version": "1.2.0",
          "state": {
            "_model_module": "@jupyter-widgets/base",
            "_model_module_version": "1.2.0",
            "_model_name": "LayoutModel",
            "_view_count": null,
            "_view_module": "@jupyter-widgets/base",
            "_view_module_version": "1.2.0",
            "_view_name": "LayoutView",
            "align_content": null,
            "align_items": null,
            "align_self": null,
            "border": null,
            "bottom": null,
            "display": null,
            "flex": null,
            "flex_flow": null,
            "grid_area": null,
            "grid_auto_columns": null,
            "grid_auto_flow": null,
            "grid_auto_rows": null,
            "grid_column": null,
            "grid_gap": null,
            "grid_row": null,
            "grid_template_areas": null,
            "grid_template_columns": null,
            "grid_template_rows": null,
            "height": null,
            "justify_content": null,
            "justify_items": null,
            "left": null,
            "margin": null,
            "max_height": null,
            "max_width": null,
            "min_height": null,
            "min_width": null,
            "object_fit": null,
            "object_position": null,
            "order": null,
            "overflow": null,
            "overflow_x": null,
            "overflow_y": null,
            "padding": null,
            "right": null,
            "top": null,
            "visibility": null,
            "width": null
          }
        },
        "2913e49eebd4479cbbc4abb1336b1675": {
          "model_module": "@jupyter-widgets/controls",
          "model_name": "ProgressStyleModel",
          "model_module_version": "1.5.0",
          "state": {
            "_model_module": "@jupyter-widgets/controls",
            "_model_module_version": "1.5.0",
            "_model_name": "ProgressStyleModel",
            "_view_count": null,
            "_view_module": "@jupyter-widgets/base",
            "_view_module_version": "1.2.0",
            "_view_name": "StyleView",
            "bar_color": null,
            "description_width": ""
          }
        },
        "78c46cdc59ed4276bb72323e27ec02c3": {
          "model_module": "@jupyter-widgets/base",
          "model_name": "LayoutModel",
          "model_module_version": "1.2.0",
          "state": {
            "_model_module": "@jupyter-widgets/base",
            "_model_module_version": "1.2.0",
            "_model_name": "LayoutModel",
            "_view_count": null,
            "_view_module": "@jupyter-widgets/base",
            "_view_module_version": "1.2.0",
            "_view_name": "LayoutView",
            "align_content": null,
            "align_items": null,
            "align_self": null,
            "border": null,
            "bottom": null,
            "display": null,
            "flex": null,
            "flex_flow": null,
            "grid_area": null,
            "grid_auto_columns": null,
            "grid_auto_flow": null,
            "grid_auto_rows": null,
            "grid_column": null,
            "grid_gap": null,
            "grid_row": null,
            "grid_template_areas": null,
            "grid_template_columns": null,
            "grid_template_rows": null,
            "height": null,
            "justify_content": null,
            "justify_items": null,
            "left": null,
            "margin": null,
            "max_height": null,
            "max_width": null,
            "min_height": null,
            "min_width": null,
            "object_fit": null,
            "object_position": null,
            "order": null,
            "overflow": null,
            "overflow_x": null,
            "overflow_y": null,
            "padding": null,
            "right": null,
            "top": null,
            "visibility": null,
            "width": null
          }
        },
        "ed74b460f816454a8dd0a252c3b0f06b": {
          "model_module": "@jupyter-widgets/controls",
          "model_name": "DescriptionStyleModel",
          "model_module_version": "1.5.0",
          "state": {
            "_model_module": "@jupyter-widgets/controls",
            "_model_module_version": "1.5.0",
            "_model_name": "DescriptionStyleModel",
            "_view_count": null,
            "_view_module": "@jupyter-widgets/base",
            "_view_module_version": "1.2.0",
            "_view_name": "StyleView",
            "description_width": ""
          }
        },
        "588986f46c674be088d8ea22520fedbd": {
          "model_module": "@jupyter-widgets/controls",
          "model_name": "HBoxModel",
          "model_module_version": "1.5.0",
          "state": {
            "_dom_classes": [],
            "_model_module": "@jupyter-widgets/controls",
            "_model_module_version": "1.5.0",
            "_model_name": "HBoxModel",
            "_view_count": null,
            "_view_module": "@jupyter-widgets/controls",
            "_view_module_version": "1.5.0",
            "_view_name": "HBoxView",
            "box_style": "",
            "children": [
              "IPY_MODEL_e445bf012d974931884eae78278aa370",
              "IPY_MODEL_6b96b03d9511401997a977de178cb3c6",
              "IPY_MODEL_8e70b4a6a095488fac74ff42d0dd4934"
            ],
            "layout": "IPY_MODEL_ef5174bbd25949c6b91454efbb233a62"
          }
        },
        "e445bf012d974931884eae78278aa370": {
          "model_module": "@jupyter-widgets/controls",
          "model_name": "HTMLModel",
          "model_module_version": "1.5.0",
          "state": {
            "_dom_classes": [],
            "_model_module": "@jupyter-widgets/controls",
            "_model_module_version": "1.5.0",
            "_model_name": "HTMLModel",
            "_view_count": null,
            "_view_module": "@jupyter-widgets/controls",
            "_view_module_version": "1.5.0",
            "_view_name": "HTMLView",
            "description": "",
            "description_tooltip": null,
            "layout": "IPY_MODEL_7e214c23fcb04a36848095c6c6269a37",
            "placeholder": "​",
            "style": "IPY_MODEL_95fa26c06d0a48bd8b745a3f3fe0ab40",
            "value": "model.safetensors: 100%"
          }
        },
        "6b96b03d9511401997a977de178cb3c6": {
          "model_module": "@jupyter-widgets/controls",
          "model_name": "FloatProgressModel",
          "model_module_version": "1.5.0",
          "state": {
            "_dom_classes": [],
            "_model_module": "@jupyter-widgets/controls",
            "_model_module_version": "1.5.0",
            "_model_name": "FloatProgressModel",
            "_view_count": null,
            "_view_module": "@jupyter-widgets/controls",
            "_view_module_version": "1.5.0",
            "_view_name": "ProgressView",
            "bar_style": "success",
            "description": "",
            "description_tooltip": null,
            "layout": "IPY_MODEL_c32e374910934a44bbd5919e1486190d",
            "max": 133466304,
            "min": 0,
            "orientation": "horizontal",
            "style": "IPY_MODEL_cf94cf187bdf4e6ab0dee1ca4e52cb17",
            "value": 133466304
          }
        },
        "8e70b4a6a095488fac74ff42d0dd4934": {
          "model_module": "@jupyter-widgets/controls",
          "model_name": "HTMLModel",
          "model_module_version": "1.5.0",
          "state": {
            "_dom_classes": [],
            "_model_module": "@jupyter-widgets/controls",
            "_model_module_version": "1.5.0",
            "_model_name": "HTMLModel",
            "_view_count": null,
            "_view_module": "@jupyter-widgets/controls",
            "_view_module_version": "1.5.0",
            "_view_name": "HTMLView",
            "description": "",
            "description_tooltip": null,
            "layout": "IPY_MODEL_9c7a396741ac4e40adcee22badfb9472",
            "placeholder": "​",
            "style": "IPY_MODEL_19b9444afa284d52ad3e392ac2dca94f",
            "value": " 133M/133M [00:00&lt;00:00, 307MB/s]"
          }
        },
        "ef5174bbd25949c6b91454efbb233a62": {
          "model_module": "@jupyter-widgets/base",
          "model_name": "LayoutModel",
          "model_module_version": "1.2.0",
          "state": {
            "_model_module": "@jupyter-widgets/base",
            "_model_module_version": "1.2.0",
            "_model_name": "LayoutModel",
            "_view_count": null,
            "_view_module": "@jupyter-widgets/base",
            "_view_module_version": "1.2.0",
            "_view_name": "LayoutView",
            "align_content": null,
            "align_items": null,
            "align_self": null,
            "border": null,
            "bottom": null,
            "display": null,
            "flex": null,
            "flex_flow": null,
            "grid_area": null,
            "grid_auto_columns": null,
            "grid_auto_flow": null,
            "grid_auto_rows": null,
            "grid_column": null,
            "grid_gap": null,
            "grid_row": null,
            "grid_template_areas": null,
            "grid_template_columns": null,
            "grid_template_rows": null,
            "height": null,
            "justify_content": null,
            "justify_items": null,
            "left": null,
            "margin": null,
            "max_height": null,
            "max_width": null,
            "min_height": null,
            "min_width": null,
            "object_fit": null,
            "object_position": null,
            "order": null,
            "overflow": null,
            "overflow_x": null,
            "overflow_y": null,
            "padding": null,
            "right": null,
            "top": null,
            "visibility": null,
            "width": null
          }
        },
        "7e214c23fcb04a36848095c6c6269a37": {
          "model_module": "@jupyter-widgets/base",
          "model_name": "LayoutModel",
          "model_module_version": "1.2.0",
          "state": {
            "_model_module": "@jupyter-widgets/base",
            "_model_module_version": "1.2.0",
            "_model_name": "LayoutModel",
            "_view_count": null,
            "_view_module": "@jupyter-widgets/base",
            "_view_module_version": "1.2.0",
            "_view_name": "LayoutView",
            "align_content": null,
            "align_items": null,
            "align_self": null,
            "border": null,
            "bottom": null,
            "display": null,
            "flex": null,
            "flex_flow": null,
            "grid_area": null,
            "grid_auto_columns": null,
            "grid_auto_flow": null,
            "grid_auto_rows": null,
            "grid_column": null,
            "grid_gap": null,
            "grid_row": null,
            "grid_template_areas": null,
            "grid_template_columns": null,
            "grid_template_rows": null,
            "height": null,
            "justify_content": null,
            "justify_items": null,
            "left": null,
            "margin": null,
            "max_height": null,
            "max_width": null,
            "min_height": null,
            "min_width": null,
            "object_fit": null,
            "object_position": null,
            "order": null,
            "overflow": null,
            "overflow_x": null,
            "overflow_y": null,
            "padding": null,
            "right": null,
            "top": null,
            "visibility": null,
            "width": null
          }
        },
        "95fa26c06d0a48bd8b745a3f3fe0ab40": {
          "model_module": "@jupyter-widgets/controls",
          "model_name": "DescriptionStyleModel",
          "model_module_version": "1.5.0",
          "state": {
            "_model_module": "@jupyter-widgets/controls",
            "_model_module_version": "1.5.0",
            "_model_name": "DescriptionStyleModel",
            "_view_count": null,
            "_view_module": "@jupyter-widgets/base",
            "_view_module_version": "1.2.0",
            "_view_name": "StyleView",
            "description_width": ""
          }
        },
        "c32e374910934a44bbd5919e1486190d": {
          "model_module": "@jupyter-widgets/base",
          "model_name": "LayoutModel",
          "model_module_version": "1.2.0",
          "state": {
            "_model_module": "@jupyter-widgets/base",
            "_model_module_version": "1.2.0",
            "_model_name": "LayoutModel",
            "_view_count": null,
            "_view_module": "@jupyter-widgets/base",
            "_view_module_version": "1.2.0",
            "_view_name": "LayoutView",
            "align_content": null,
            "align_items": null,
            "align_self": null,
            "border": null,
            "bottom": null,
            "display": null,
            "flex": null,
            "flex_flow": null,
            "grid_area": null,
            "grid_auto_columns": null,
            "grid_auto_flow": null,
            "grid_auto_rows": null,
            "grid_column": null,
            "grid_gap": null,
            "grid_row": null,
            "grid_template_areas": null,
            "grid_template_columns": null,
            "grid_template_rows": null,
            "height": null,
            "justify_content": null,
            "justify_items": null,
            "left": null,
            "margin": null,
            "max_height": null,
            "max_width": null,
            "min_height": null,
            "min_width": null,
            "object_fit": null,
            "object_position": null,
            "order": null,
            "overflow": null,
            "overflow_x": null,
            "overflow_y": null,
            "padding": null,
            "right": null,
            "top": null,
            "visibility": null,
            "width": null
          }
        },
        "cf94cf187bdf4e6ab0dee1ca4e52cb17": {
          "model_module": "@jupyter-widgets/controls",
          "model_name": "ProgressStyleModel",
          "model_module_version": "1.5.0",
          "state": {
            "_model_module": "@jupyter-widgets/controls",
            "_model_module_version": "1.5.0",
            "_model_name": "ProgressStyleModel",
            "_view_count": null,
            "_view_module": "@jupyter-widgets/base",
            "_view_module_version": "1.2.0",
            "_view_name": "StyleView",
            "bar_color": null,
            "description_width": ""
          }
        },
        "9c7a396741ac4e40adcee22badfb9472": {
          "model_module": "@jupyter-widgets/base",
          "model_name": "LayoutModel",
          "model_module_version": "1.2.0",
          "state": {
            "_model_module": "@jupyter-widgets/base",
            "_model_module_version": "1.2.0",
            "_model_name": "LayoutModel",
            "_view_count": null,
            "_view_module": "@jupyter-widgets/base",
            "_view_module_version": "1.2.0",
            "_view_name": "LayoutView",
            "align_content": null,
            "align_items": null,
            "align_self": null,
            "border": null,
            "bottom": null,
            "display": null,
            "flex": null,
            "flex_flow": null,
            "grid_area": null,
            "grid_auto_columns": null,
            "grid_auto_flow": null,
            "grid_auto_rows": null,
            "grid_column": null,
            "grid_gap": null,
            "grid_row": null,
            "grid_template_areas": null,
            "grid_template_columns": null,
            "grid_template_rows": null,
            "height": null,
            "justify_content": null,
            "justify_items": null,
            "left": null,
            "margin": null,
            "max_height": null,
            "max_width": null,
            "min_height": null,
            "min_width": null,
            "object_fit": null,
            "object_position": null,
            "order": null,
            "overflow": null,
            "overflow_x": null,
            "overflow_y": null,
            "padding": null,
            "right": null,
            "top": null,
            "visibility": null,
            "width": null
          }
        },
        "19b9444afa284d52ad3e392ac2dca94f": {
          "model_module": "@jupyter-widgets/controls",
          "model_name": "DescriptionStyleModel",
          "model_module_version": "1.5.0",
          "state": {
            "_model_module": "@jupyter-widgets/controls",
            "_model_module_version": "1.5.0",
            "_model_name": "DescriptionStyleModel",
            "_view_count": null,
            "_view_module": "@jupyter-widgets/base",
            "_view_module_version": "1.2.0",
            "_view_name": "StyleView",
            "description_width": ""
          }
        },
        "3b14d0ef46bb4775aa1286b03ccd5a99": {
          "model_module": "@jupyter-widgets/controls",
          "model_name": "HBoxModel",
          "model_module_version": "1.5.0",
          "state": {
            "_dom_classes": [],
            "_model_module": "@jupyter-widgets/controls",
            "_model_module_version": "1.5.0",
            "_model_name": "HBoxModel",
            "_view_count": null,
            "_view_module": "@jupyter-widgets/controls",
            "_view_module_version": "1.5.0",
            "_view_name": "HBoxView",
            "box_style": "",
            "children": [
              "IPY_MODEL_3662c37367c544fdab504bded3a75caf",
              "IPY_MODEL_d865ebea72cf41dea27835d82658b295",
              "IPY_MODEL_001bb0e0ff7747aa99409e6c626548de"
            ],
            "layout": "IPY_MODEL_0ca471ac88c349978d4f154150eb1b55"
          }
        },
        "3662c37367c544fdab504bded3a75caf": {
          "model_module": "@jupyter-widgets/controls",
          "model_name": "HTMLModel",
          "model_module_version": "1.5.0",
          "state": {
            "_dom_classes": [],
            "_model_module": "@jupyter-widgets/controls",
            "_model_module_version": "1.5.0",
            "_model_name": "HTMLModel",
            "_view_count": null,
            "_view_module": "@jupyter-widgets/controls",
            "_view_module_version": "1.5.0",
            "_view_name": "HTMLView",
            "description": "",
            "description_tooltip": null,
            "layout": "IPY_MODEL_c456ef59077d4ea4a947b00c9157489f",
            "placeholder": "​",
            "style": "IPY_MODEL_7daad600a8d848ad95df611b452d6aaa",
            "value": "tokenizer_config.json: 100%"
          }
        },
        "d865ebea72cf41dea27835d82658b295": {
          "model_module": "@jupyter-widgets/controls",
          "model_name": "FloatProgressModel",
          "model_module_version": "1.5.0",
          "state": {
            "_dom_classes": [],
            "_model_module": "@jupyter-widgets/controls",
            "_model_module_version": "1.5.0",
            "_model_name": "FloatProgressModel",
            "_view_count": null,
            "_view_module": "@jupyter-widgets/controls",
            "_view_module_version": "1.5.0",
            "_view_name": "ProgressView",
            "bar_style": "success",
            "description": "",
            "description_tooltip": null,
            "layout": "IPY_MODEL_c1c79e931e8840f8b0809b6db84e7977",
            "max": 366,
            "min": 0,
            "orientation": "horizontal",
            "style": "IPY_MODEL_20d5debf751a4d569c4eeda6de854ecc",
            "value": 366
          }
        },
        "001bb0e0ff7747aa99409e6c626548de": {
          "model_module": "@jupyter-widgets/controls",
          "model_name": "HTMLModel",
          "model_module_version": "1.5.0",
          "state": {
            "_dom_classes": [],
            "_model_module": "@jupyter-widgets/controls",
            "_model_module_version": "1.5.0",
            "_model_name": "HTMLModel",
            "_view_count": null,
            "_view_module": "@jupyter-widgets/controls",
            "_view_module_version": "1.5.0",
            "_view_name": "HTMLView",
            "description": "",
            "description_tooltip": null,
            "layout": "IPY_MODEL_c4576c2bf53b422db9d9d35fbb885852",
            "placeholder": "​",
            "style": "IPY_MODEL_d1836d2bb6ba4908b509a44d1f1aa71b",
            "value": " 366/366 [00:00&lt;00:00, 34.5kB/s]"
          }
        },
        "0ca471ac88c349978d4f154150eb1b55": {
          "model_module": "@jupyter-widgets/base",
          "model_name": "LayoutModel",
          "model_module_version": "1.2.0",
          "state": {
            "_model_module": "@jupyter-widgets/base",
            "_model_module_version": "1.2.0",
            "_model_name": "LayoutModel",
            "_view_count": null,
            "_view_module": "@jupyter-widgets/base",
            "_view_module_version": "1.2.0",
            "_view_name": "LayoutView",
            "align_content": null,
            "align_items": null,
            "align_self": null,
            "border": null,
            "bottom": null,
            "display": null,
            "flex": null,
            "flex_flow": null,
            "grid_area": null,
            "grid_auto_columns": null,
            "grid_auto_flow": null,
            "grid_auto_rows": null,
            "grid_column": null,
            "grid_gap": null,
            "grid_row": null,
            "grid_template_areas": null,
            "grid_template_columns": null,
            "grid_template_rows": null,
            "height": null,
            "justify_content": null,
            "justify_items": null,
            "left": null,
            "margin": null,
            "max_height": null,
            "max_width": null,
            "min_height": null,
            "min_width": null,
            "object_fit": null,
            "object_position": null,
            "order": null,
            "overflow": null,
            "overflow_x": null,
            "overflow_y": null,
            "padding": null,
            "right": null,
            "top": null,
            "visibility": null,
            "width": null
          }
        },
        "c456ef59077d4ea4a947b00c9157489f": {
          "model_module": "@jupyter-widgets/base",
          "model_name": "LayoutModel",
          "model_module_version": "1.2.0",
          "state": {
            "_model_module": "@jupyter-widgets/base",
            "_model_module_version": "1.2.0",
            "_model_name": "LayoutModel",
            "_view_count": null,
            "_view_module": "@jupyter-widgets/base",
            "_view_module_version": "1.2.0",
            "_view_name": "LayoutView",
            "align_content": null,
            "align_items": null,
            "align_self": null,
            "border": null,
            "bottom": null,
            "display": null,
            "flex": null,
            "flex_flow": null,
            "grid_area": null,
            "grid_auto_columns": null,
            "grid_auto_flow": null,
            "grid_auto_rows": null,
            "grid_column": null,
            "grid_gap": null,
            "grid_row": null,
            "grid_template_areas": null,
            "grid_template_columns": null,
            "grid_template_rows": null,
            "height": null,
            "justify_content": null,
            "justify_items": null,
            "left": null,
            "margin": null,
            "max_height": null,
            "max_width": null,
            "min_height": null,
            "min_width": null,
            "object_fit": null,
            "object_position": null,
            "order": null,
            "overflow": null,
            "overflow_x": null,
            "overflow_y": null,
            "padding": null,
            "right": null,
            "top": null,
            "visibility": null,
            "width": null
          }
        },
        "7daad600a8d848ad95df611b452d6aaa": {
          "model_module": "@jupyter-widgets/controls",
          "model_name": "DescriptionStyleModel",
          "model_module_version": "1.5.0",
          "state": {
            "_model_module": "@jupyter-widgets/controls",
            "_model_module_version": "1.5.0",
            "_model_name": "DescriptionStyleModel",
            "_view_count": null,
            "_view_module": "@jupyter-widgets/base",
            "_view_module_version": "1.2.0",
            "_view_name": "StyleView",
            "description_width": ""
          }
        },
        "c1c79e931e8840f8b0809b6db84e7977": {
          "model_module": "@jupyter-widgets/base",
          "model_name": "LayoutModel",
          "model_module_version": "1.2.0",
          "state": {
            "_model_module": "@jupyter-widgets/base",
            "_model_module_version": "1.2.0",
            "_model_name": "LayoutModel",
            "_view_count": null,
            "_view_module": "@jupyter-widgets/base",
            "_view_module_version": "1.2.0",
            "_view_name": "LayoutView",
            "align_content": null,
            "align_items": null,
            "align_self": null,
            "border": null,
            "bottom": null,
            "display": null,
            "flex": null,
            "flex_flow": null,
            "grid_area": null,
            "grid_auto_columns": null,
            "grid_auto_flow": null,
            "grid_auto_rows": null,
            "grid_column": null,
            "grid_gap": null,
            "grid_row": null,
            "grid_template_areas": null,
            "grid_template_columns": null,
            "grid_template_rows": null,
            "height": null,
            "justify_content": null,
            "justify_items": null,
            "left": null,
            "margin": null,
            "max_height": null,
            "max_width": null,
            "min_height": null,
            "min_width": null,
            "object_fit": null,
            "object_position": null,
            "order": null,
            "overflow": null,
            "overflow_x": null,
            "overflow_y": null,
            "padding": null,
            "right": null,
            "top": null,
            "visibility": null,
            "width": null
          }
        },
        "20d5debf751a4d569c4eeda6de854ecc": {
          "model_module": "@jupyter-widgets/controls",
          "model_name": "ProgressStyleModel",
          "model_module_version": "1.5.0",
          "state": {
            "_model_module": "@jupyter-widgets/controls",
            "_model_module_version": "1.5.0",
            "_model_name": "ProgressStyleModel",
            "_view_count": null,
            "_view_module": "@jupyter-widgets/base",
            "_view_module_version": "1.2.0",
            "_view_name": "StyleView",
            "bar_color": null,
            "description_width": ""
          }
        },
        "c4576c2bf53b422db9d9d35fbb885852": {
          "model_module": "@jupyter-widgets/base",
          "model_name": "LayoutModel",
          "model_module_version": "1.2.0",
          "state": {
            "_model_module": "@jupyter-widgets/base",
            "_model_module_version": "1.2.0",
            "_model_name": "LayoutModel",
            "_view_count": null,
            "_view_module": "@jupyter-widgets/base",
            "_view_module_version": "1.2.0",
            "_view_name": "LayoutView",
            "align_content": null,
            "align_items": null,
            "align_self": null,
            "border": null,
            "bottom": null,
            "display": null,
            "flex": null,
            "flex_flow": null,
            "grid_area": null,
            "grid_auto_columns": null,
            "grid_auto_flow": null,
            "grid_auto_rows": null,
            "grid_column": null,
            "grid_gap": null,
            "grid_row": null,
            "grid_template_areas": null,
            "grid_template_columns": null,
            "grid_template_rows": null,
            "height": null,
            "justify_content": null,
            "justify_items": null,
            "left": null,
            "margin": null,
            "max_height": null,
            "max_width": null,
            "min_height": null,
            "min_width": null,
            "object_fit": null,
            "object_position": null,
            "order": null,
            "overflow": null,
            "overflow_x": null,
            "overflow_y": null,
            "padding": null,
            "right": null,
            "top": null,
            "visibility": null,
            "width": null
          }
        },
        "d1836d2bb6ba4908b509a44d1f1aa71b": {
          "model_module": "@jupyter-widgets/controls",
          "model_name": "DescriptionStyleModel",
          "model_module_version": "1.5.0",
          "state": {
            "_model_module": "@jupyter-widgets/controls",
            "_model_module_version": "1.5.0",
            "_model_name": "DescriptionStyleModel",
            "_view_count": null,
            "_view_module": "@jupyter-widgets/base",
            "_view_module_version": "1.2.0",
            "_view_name": "StyleView",
            "description_width": ""
          }
        },
        "3a0568b5243746e4841843133cfb70c9": {
          "model_module": "@jupyter-widgets/controls",
          "model_name": "HBoxModel",
          "model_module_version": "1.5.0",
          "state": {
            "_dom_classes": [],
            "_model_module": "@jupyter-widgets/controls",
            "_model_module_version": "1.5.0",
            "_model_name": "HBoxModel",
            "_view_count": null,
            "_view_module": "@jupyter-widgets/controls",
            "_view_module_version": "1.5.0",
            "_view_name": "HBoxView",
            "box_style": "",
            "children": [
              "IPY_MODEL_28b089b2e37f4ca28059e6fcfb8dc618",
              "IPY_MODEL_4401698357954bd9befb85621e882f2d",
              "IPY_MODEL_cfa79bd68f0b4478b0ba8747cd837d8e"
            ],
            "layout": "IPY_MODEL_6bb272be27a94eaeb30ddb440fb912d3"
          }
        },
        "28b089b2e37f4ca28059e6fcfb8dc618": {
          "model_module": "@jupyter-widgets/controls",
          "model_name": "HTMLModel",
          "model_module_version": "1.5.0",
          "state": {
            "_dom_classes": [],
            "_model_module": "@jupyter-widgets/controls",
            "_model_module_version": "1.5.0",
            "_model_name": "HTMLModel",
            "_view_count": null,
            "_view_module": "@jupyter-widgets/controls",
            "_view_module_version": "1.5.0",
            "_view_name": "HTMLView",
            "description": "",
            "description_tooltip": null,
            "layout": "IPY_MODEL_be1e146764b64ce2bbb708e89ca6cce2",
            "placeholder": "​",
            "style": "IPY_MODEL_b3463673c77d4b77bdbf0bd80c6a9d78",
            "value": "vocab.txt: 100%"
          }
        },
        "4401698357954bd9befb85621e882f2d": {
          "model_module": "@jupyter-widgets/controls",
          "model_name": "FloatProgressModel",
          "model_module_version": "1.5.0",
          "state": {
            "_dom_classes": [],
            "_model_module": "@jupyter-widgets/controls",
            "_model_module_version": "1.5.0",
            "_model_name": "FloatProgressModel",
            "_view_count": null,
            "_view_module": "@jupyter-widgets/controls",
            "_view_module_version": "1.5.0",
            "_view_name": "ProgressView",
            "bar_style": "success",
            "description": "",
            "description_tooltip": null,
            "layout": "IPY_MODEL_a44248cbe19d4a7b964ac86e0cad6fd0",
            "max": 231508,
            "min": 0,
            "orientation": "horizontal",
            "style": "IPY_MODEL_885f601a3aa946509055d88f17e8c6e9",
            "value": 231508
          }
        },
        "cfa79bd68f0b4478b0ba8747cd837d8e": {
          "model_module": "@jupyter-widgets/controls",
          "model_name": "HTMLModel",
          "model_module_version": "1.5.0",
          "state": {
            "_dom_classes": [],
            "_model_module": "@jupyter-widgets/controls",
            "_model_module_version": "1.5.0",
            "_model_name": "HTMLModel",
            "_view_count": null,
            "_view_module": "@jupyter-widgets/controls",
            "_view_module_version": "1.5.0",
            "_view_name": "HTMLView",
            "description": "",
            "description_tooltip": null,
            "layout": "IPY_MODEL_d1e86ad3485d4427b21cc933145ecd10",
            "placeholder": "​",
            "style": "IPY_MODEL_d51ad883859c411daaeb206ecdf791f9",
            "value": " 232k/232k [00:00&lt;00:00, 17.7MB/s]"
          }
        },
        "6bb272be27a94eaeb30ddb440fb912d3": {
          "model_module": "@jupyter-widgets/base",
          "model_name": "LayoutModel",
          "model_module_version": "1.2.0",
          "state": {
            "_model_module": "@jupyter-widgets/base",
            "_model_module_version": "1.2.0",
            "_model_name": "LayoutModel",
            "_view_count": null,
            "_view_module": "@jupyter-widgets/base",
            "_view_module_version": "1.2.0",
            "_view_name": "LayoutView",
            "align_content": null,
            "align_items": null,
            "align_self": null,
            "border": null,
            "bottom": null,
            "display": null,
            "flex": null,
            "flex_flow": null,
            "grid_area": null,
            "grid_auto_columns": null,
            "grid_auto_flow": null,
            "grid_auto_rows": null,
            "grid_column": null,
            "grid_gap": null,
            "grid_row": null,
            "grid_template_areas": null,
            "grid_template_columns": null,
            "grid_template_rows": null,
            "height": null,
            "justify_content": null,
            "justify_items": null,
            "left": null,
            "margin": null,
            "max_height": null,
            "max_width": null,
            "min_height": null,
            "min_width": null,
            "object_fit": null,
            "object_position": null,
            "order": null,
            "overflow": null,
            "overflow_x": null,
            "overflow_y": null,
            "padding": null,
            "right": null,
            "top": null,
            "visibility": null,
            "width": null
          }
        },
        "be1e146764b64ce2bbb708e89ca6cce2": {
          "model_module": "@jupyter-widgets/base",
          "model_name": "LayoutModel",
          "model_module_version": "1.2.0",
          "state": {
            "_model_module": "@jupyter-widgets/base",
            "_model_module_version": "1.2.0",
            "_model_name": "LayoutModel",
            "_view_count": null,
            "_view_module": "@jupyter-widgets/base",
            "_view_module_version": "1.2.0",
            "_view_name": "LayoutView",
            "align_content": null,
            "align_items": null,
            "align_self": null,
            "border": null,
            "bottom": null,
            "display": null,
            "flex": null,
            "flex_flow": null,
            "grid_area": null,
            "grid_auto_columns": null,
            "grid_auto_flow": null,
            "grid_auto_rows": null,
            "grid_column": null,
            "grid_gap": null,
            "grid_row": null,
            "grid_template_areas": null,
            "grid_template_columns": null,
            "grid_template_rows": null,
            "height": null,
            "justify_content": null,
            "justify_items": null,
            "left": null,
            "margin": null,
            "max_height": null,
            "max_width": null,
            "min_height": null,
            "min_width": null,
            "object_fit": null,
            "object_position": null,
            "order": null,
            "overflow": null,
            "overflow_x": null,
            "overflow_y": null,
            "padding": null,
            "right": null,
            "top": null,
            "visibility": null,
            "width": null
          }
        },
        "b3463673c77d4b77bdbf0bd80c6a9d78": {
          "model_module": "@jupyter-widgets/controls",
          "model_name": "DescriptionStyleModel",
          "model_module_version": "1.5.0",
          "state": {
            "_model_module": "@jupyter-widgets/controls",
            "_model_module_version": "1.5.0",
            "_model_name": "DescriptionStyleModel",
            "_view_count": null,
            "_view_module": "@jupyter-widgets/base",
            "_view_module_version": "1.2.0",
            "_view_name": "StyleView",
            "description_width": ""
          }
        },
        "a44248cbe19d4a7b964ac86e0cad6fd0": {
          "model_module": "@jupyter-widgets/base",
          "model_name": "LayoutModel",
          "model_module_version": "1.2.0",
          "state": {
            "_model_module": "@jupyter-widgets/base",
            "_model_module_version": "1.2.0",
            "_model_name": "LayoutModel",
            "_view_count": null,
            "_view_module": "@jupyter-widgets/base",
            "_view_module_version": "1.2.0",
            "_view_name": "LayoutView",
            "align_content": null,
            "align_items": null,
            "align_self": null,
            "border": null,
            "bottom": null,
            "display": null,
            "flex": null,
            "flex_flow": null,
            "grid_area": null,
            "grid_auto_columns": null,
            "grid_auto_flow": null,
            "grid_auto_rows": null,
            "grid_column": null,
            "grid_gap": null,
            "grid_row": null,
            "grid_template_areas": null,
            "grid_template_columns": null,
            "grid_template_rows": null,
            "height": null,
            "justify_content": null,
            "justify_items": null,
            "left": null,
            "margin": null,
            "max_height": null,
            "max_width": null,
            "min_height": null,
            "min_width": null,
            "object_fit": null,
            "object_position": null,
            "order": null,
            "overflow": null,
            "overflow_x": null,
            "overflow_y": null,
            "padding": null,
            "right": null,
            "top": null,
            "visibility": null,
            "width": null
          }
        },
        "885f601a3aa946509055d88f17e8c6e9": {
          "model_module": "@jupyter-widgets/controls",
          "model_name": "ProgressStyleModel",
          "model_module_version": "1.5.0",
          "state": {
            "_model_module": "@jupyter-widgets/controls",
            "_model_module_version": "1.5.0",
            "_model_name": "ProgressStyleModel",
            "_view_count": null,
            "_view_module": "@jupyter-widgets/base",
            "_view_module_version": "1.2.0",
            "_view_name": "StyleView",
            "bar_color": null,
            "description_width": ""
          }
        },
        "d1e86ad3485d4427b21cc933145ecd10": {
          "model_module": "@jupyter-widgets/base",
          "model_name": "LayoutModel",
          "model_module_version": "1.2.0",
          "state": {
            "_model_module": "@jupyter-widgets/base",
            "_model_module_version": "1.2.0",
            "_model_name": "LayoutModel",
            "_view_count": null,
            "_view_module": "@jupyter-widgets/base",
            "_view_module_version": "1.2.0",
            "_view_name": "LayoutView",
            "align_content": null,
            "align_items": null,
            "align_self": null,
            "border": null,
            "bottom": null,
            "display": null,
            "flex": null,
            "flex_flow": null,
            "grid_area": null,
            "grid_auto_columns": null,
            "grid_auto_flow": null,
            "grid_auto_rows": null,
            "grid_column": null,
            "grid_gap": null,
            "grid_row": null,
            "grid_template_areas": null,
            "grid_template_columns": null,
            "grid_template_rows": null,
            "height": null,
            "justify_content": null,
            "justify_items": null,
            "left": null,
            "margin": null,
            "max_height": null,
            "max_width": null,
            "min_height": null,
            "min_width": null,
            "object_fit": null,
            "object_position": null,
            "order": null,
            "overflow": null,
            "overflow_x": null,
            "overflow_y": null,
            "padding": null,
            "right": null,
            "top": null,
            "visibility": null,
            "width": null
          }
        },
        "d51ad883859c411daaeb206ecdf791f9": {
          "model_module": "@jupyter-widgets/controls",
          "model_name": "DescriptionStyleModel",
          "model_module_version": "1.5.0",
          "state": {
            "_model_module": "@jupyter-widgets/controls",
            "_model_module_version": "1.5.0",
            "_model_name": "DescriptionStyleModel",
            "_view_count": null,
            "_view_module": "@jupyter-widgets/base",
            "_view_module_version": "1.2.0",
            "_view_name": "StyleView",
            "description_width": ""
          }
        },
        "a6caa368339045199da0f926d8a9e7a2": {
          "model_module": "@jupyter-widgets/controls",
          "model_name": "HBoxModel",
          "model_module_version": "1.5.0",
          "state": {
            "_dom_classes": [],
            "_model_module": "@jupyter-widgets/controls",
            "_model_module_version": "1.5.0",
            "_model_name": "HBoxModel",
            "_view_count": null,
            "_view_module": "@jupyter-widgets/controls",
            "_view_module_version": "1.5.0",
            "_view_name": "HBoxView",
            "box_style": "",
            "children": [
              "IPY_MODEL_8a29f3ba22f84126a15784ecfd7992d4",
              "IPY_MODEL_45550fa5944c49b9a2275fdf808668e2",
              "IPY_MODEL_dd25f26d05a24afab8be77e0a2c17a26"
            ],
            "layout": "IPY_MODEL_c467a20dba9a4896be20c4582c882567"
          }
        },
        "8a29f3ba22f84126a15784ecfd7992d4": {
          "model_module": "@jupyter-widgets/controls",
          "model_name": "HTMLModel",
          "model_module_version": "1.5.0",
          "state": {
            "_dom_classes": [],
            "_model_module": "@jupyter-widgets/controls",
            "_model_module_version": "1.5.0",
            "_model_name": "HTMLModel",
            "_view_count": null,
            "_view_module": "@jupyter-widgets/controls",
            "_view_module_version": "1.5.0",
            "_view_name": "HTMLView",
            "description": "",
            "description_tooltip": null,
            "layout": "IPY_MODEL_8a9c9508df194f0484600acb153024de",
            "placeholder": "​",
            "style": "IPY_MODEL_0af275cb498a48f58cd95d590a7edcc2",
            "value": "tokenizer.json: 100%"
          }
        },
        "45550fa5944c49b9a2275fdf808668e2": {
          "model_module": "@jupyter-widgets/controls",
          "model_name": "FloatProgressModel",
          "model_module_version": "1.5.0",
          "state": {
            "_dom_classes": [],
            "_model_module": "@jupyter-widgets/controls",
            "_model_module_version": "1.5.0",
            "_model_name": "FloatProgressModel",
            "_view_count": null,
            "_view_module": "@jupyter-widgets/controls",
            "_view_module_version": "1.5.0",
            "_view_name": "ProgressView",
            "bar_style": "success",
            "description": "",
            "description_tooltip": null,
            "layout": "IPY_MODEL_df0ad714725f4cf981f186e2fb6cdc07",
            "max": 711396,
            "min": 0,
            "orientation": "horizontal",
            "style": "IPY_MODEL_fe53b9b7d0ec489e9a0a23ee492c8502",
            "value": 711396
          }
        },
        "dd25f26d05a24afab8be77e0a2c17a26": {
          "model_module": "@jupyter-widgets/controls",
          "model_name": "HTMLModel",
          "model_module_version": "1.5.0",
          "state": {
            "_dom_classes": [],
            "_model_module": "@jupyter-widgets/controls",
            "_model_module_version": "1.5.0",
            "_model_name": "HTMLModel",
            "_view_count": null,
            "_view_module": "@jupyter-widgets/controls",
            "_view_module_version": "1.5.0",
            "_view_name": "HTMLView",
            "description": "",
            "description_tooltip": null,
            "layout": "IPY_MODEL_5f7a28ed02f24d1db75135e20c8e8f84",
            "placeholder": "​",
            "style": "IPY_MODEL_55a5a298d21e4706984f38247879c940",
            "value": " 711k/711k [00:00&lt;00:00, 725kB/s]"
          }
        },
        "c467a20dba9a4896be20c4582c882567": {
          "model_module": "@jupyter-widgets/base",
          "model_name": "LayoutModel",
          "model_module_version": "1.2.0",
          "state": {
            "_model_module": "@jupyter-widgets/base",
            "_model_module_version": "1.2.0",
            "_model_name": "LayoutModel",
            "_view_count": null,
            "_view_module": "@jupyter-widgets/base",
            "_view_module_version": "1.2.0",
            "_view_name": "LayoutView",
            "align_content": null,
            "align_items": null,
            "align_self": null,
            "border": null,
            "bottom": null,
            "display": null,
            "flex": null,
            "flex_flow": null,
            "grid_area": null,
            "grid_auto_columns": null,
            "grid_auto_flow": null,
            "grid_auto_rows": null,
            "grid_column": null,
            "grid_gap": null,
            "grid_row": null,
            "grid_template_areas": null,
            "grid_template_columns": null,
            "grid_template_rows": null,
            "height": null,
            "justify_content": null,
            "justify_items": null,
            "left": null,
            "margin": null,
            "max_height": null,
            "max_width": null,
            "min_height": null,
            "min_width": null,
            "object_fit": null,
            "object_position": null,
            "order": null,
            "overflow": null,
            "overflow_x": null,
            "overflow_y": null,
            "padding": null,
            "right": null,
            "top": null,
            "visibility": null,
            "width": null
          }
        },
        "8a9c9508df194f0484600acb153024de": {
          "model_module": "@jupyter-widgets/base",
          "model_name": "LayoutModel",
          "model_module_version": "1.2.0",
          "state": {
            "_model_module": "@jupyter-widgets/base",
            "_model_module_version": "1.2.0",
            "_model_name": "LayoutModel",
            "_view_count": null,
            "_view_module": "@jupyter-widgets/base",
            "_view_module_version": "1.2.0",
            "_view_name": "LayoutView",
            "align_content": null,
            "align_items": null,
            "align_self": null,
            "border": null,
            "bottom": null,
            "display": null,
            "flex": null,
            "flex_flow": null,
            "grid_area": null,
            "grid_auto_columns": null,
            "grid_auto_flow": null,
            "grid_auto_rows": null,
            "grid_column": null,
            "grid_gap": null,
            "grid_row": null,
            "grid_template_areas": null,
            "grid_template_columns": null,
            "grid_template_rows": null,
            "height": null,
            "justify_content": null,
            "justify_items": null,
            "left": null,
            "margin": null,
            "max_height": null,
            "max_width": null,
            "min_height": null,
            "min_width": null,
            "object_fit": null,
            "object_position": null,
            "order": null,
            "overflow": null,
            "overflow_x": null,
            "overflow_y": null,
            "padding": null,
            "right": null,
            "top": null,
            "visibility": null,
            "width": null
          }
        },
        "0af275cb498a48f58cd95d590a7edcc2": {
          "model_module": "@jupyter-widgets/controls",
          "model_name": "DescriptionStyleModel",
          "model_module_version": "1.5.0",
          "state": {
            "_model_module": "@jupyter-widgets/controls",
            "_model_module_version": "1.5.0",
            "_model_name": "DescriptionStyleModel",
            "_view_count": null,
            "_view_module": "@jupyter-widgets/base",
            "_view_module_version": "1.2.0",
            "_view_name": "StyleView",
            "description_width": ""
          }
        },
        "df0ad714725f4cf981f186e2fb6cdc07": {
          "model_module": "@jupyter-widgets/base",
          "model_name": "LayoutModel",
          "model_module_version": "1.2.0",
          "state": {
            "_model_module": "@jupyter-widgets/base",
            "_model_module_version": "1.2.0",
            "_model_name": "LayoutModel",
            "_view_count": null,
            "_view_module": "@jupyter-widgets/base",
            "_view_module_version": "1.2.0",
            "_view_name": "LayoutView",
            "align_content": null,
            "align_items": null,
            "align_self": null,
            "border": null,
            "bottom": null,
            "display": null,
            "flex": null,
            "flex_flow": null,
            "grid_area": null,
            "grid_auto_columns": null,
            "grid_auto_flow": null,
            "grid_auto_rows": null,
            "grid_column": null,
            "grid_gap": null,
            "grid_row": null,
            "grid_template_areas": null,
            "grid_template_columns": null,
            "grid_template_rows": null,
            "height": null,
            "justify_content": null,
            "justify_items": null,
            "left": null,
            "margin": null,
            "max_height": null,
            "max_width": null,
            "min_height": null,
            "min_width": null,
            "object_fit": null,
            "object_position": null,
            "order": null,
            "overflow": null,
            "overflow_x": null,
            "overflow_y": null,
            "padding": null,
            "right": null,
            "top": null,
            "visibility": null,
            "width": null
          }
        },
        "fe53b9b7d0ec489e9a0a23ee492c8502": {
          "model_module": "@jupyter-widgets/controls",
          "model_name": "ProgressStyleModel",
          "model_module_version": "1.5.0",
          "state": {
            "_model_module": "@jupyter-widgets/controls",
            "_model_module_version": "1.5.0",
            "_model_name": "ProgressStyleModel",
            "_view_count": null,
            "_view_module": "@jupyter-widgets/base",
            "_view_module_version": "1.2.0",
            "_view_name": "StyleView",
            "bar_color": null,
            "description_width": ""
          }
        },
        "5f7a28ed02f24d1db75135e20c8e8f84": {
          "model_module": "@jupyter-widgets/base",
          "model_name": "LayoutModel",
          "model_module_version": "1.2.0",
          "state": {
            "_model_module": "@jupyter-widgets/base",
            "_model_module_version": "1.2.0",
            "_model_name": "LayoutModel",
            "_view_count": null,
            "_view_module": "@jupyter-widgets/base",
            "_view_module_version": "1.2.0",
            "_view_name": "LayoutView",
            "align_content": null,
            "align_items": null,
            "align_self": null,
            "border": null,
            "bottom": null,
            "display": null,
            "flex": null,
            "flex_flow": null,
            "grid_area": null,
            "grid_auto_columns": null,
            "grid_auto_flow": null,
            "grid_auto_rows": null,
            "grid_column": null,
            "grid_gap": null,
            "grid_row": null,
            "grid_template_areas": null,
            "grid_template_columns": null,
            "grid_template_rows": null,
            "height": null,
            "justify_content": null,
            "justify_items": null,
            "left": null,
            "margin": null,
            "max_height": null,
            "max_width": null,
            "min_height": null,
            "min_width": null,
            "object_fit": null,
            "object_position": null,
            "order": null,
            "overflow": null,
            "overflow_x": null,
            "overflow_y": null,
            "padding": null,
            "right": null,
            "top": null,
            "visibility": null,
            "width": null
          }
        },
        "55a5a298d21e4706984f38247879c940": {
          "model_module": "@jupyter-widgets/controls",
          "model_name": "DescriptionStyleModel",
          "model_module_version": "1.5.0",
          "state": {
            "_model_module": "@jupyter-widgets/controls",
            "_model_module_version": "1.5.0",
            "_model_name": "DescriptionStyleModel",
            "_view_count": null,
            "_view_module": "@jupyter-widgets/base",
            "_view_module_version": "1.2.0",
            "_view_name": "StyleView",
            "description_width": ""
          }
        },
        "76736a332d1c4e03a9fcc967b0ff521e": {
          "model_module": "@jupyter-widgets/controls",
          "model_name": "HBoxModel",
          "model_module_version": "1.5.0",
          "state": {
            "_dom_classes": [],
            "_model_module": "@jupyter-widgets/controls",
            "_model_module_version": "1.5.0",
            "_model_name": "HBoxModel",
            "_view_count": null,
            "_view_module": "@jupyter-widgets/controls",
            "_view_module_version": "1.5.0",
            "_view_name": "HBoxView",
            "box_style": "",
            "children": [
              "IPY_MODEL_fb64bbdbb0fb422c87b14859c3d5d1df",
              "IPY_MODEL_b98dc02cc8da459d954ebb6b1fa60f70",
              "IPY_MODEL_0253931a347c4dd99d5bff066807912d"
            ],
            "layout": "IPY_MODEL_0386279800044ba39c9e7d0aa5c610f5"
          }
        },
        "fb64bbdbb0fb422c87b14859c3d5d1df": {
          "model_module": "@jupyter-widgets/controls",
          "model_name": "HTMLModel",
          "model_module_version": "1.5.0",
          "state": {
            "_dom_classes": [],
            "_model_module": "@jupyter-widgets/controls",
            "_model_module_version": "1.5.0",
            "_model_name": "HTMLModel",
            "_view_count": null,
            "_view_module": "@jupyter-widgets/controls",
            "_view_module_version": "1.5.0",
            "_view_name": "HTMLView",
            "description": "",
            "description_tooltip": null,
            "layout": "IPY_MODEL_bf7acd0c8f4847d3bf0f85063132d29f",
            "placeholder": "​",
            "style": "IPY_MODEL_9deb5d3666ef470f86a63ffbb16497b4",
            "value": "special_tokens_map.json: 100%"
          }
        },
        "b98dc02cc8da459d954ebb6b1fa60f70": {
          "model_module": "@jupyter-widgets/controls",
          "model_name": "FloatProgressModel",
          "model_module_version": "1.5.0",
          "state": {
            "_dom_classes": [],
            "_model_module": "@jupyter-widgets/controls",
            "_model_module_version": "1.5.0",
            "_model_name": "FloatProgressModel",
            "_view_count": null,
            "_view_module": "@jupyter-widgets/controls",
            "_view_module_version": "1.5.0",
            "_view_name": "ProgressView",
            "bar_style": "success",
            "description": "",
            "description_tooltip": null,
            "layout": "IPY_MODEL_c5299f754d7746bb9fa217439c8d637c",
            "max": 125,
            "min": 0,
            "orientation": "horizontal",
            "style": "IPY_MODEL_86603160054a48f493ea32ec58a19923",
            "value": 125
          }
        },
        "0253931a347c4dd99d5bff066807912d": {
          "model_module": "@jupyter-widgets/controls",
          "model_name": "HTMLModel",
          "model_module_version": "1.5.0",
          "state": {
            "_dom_classes": [],
            "_model_module": "@jupyter-widgets/controls",
            "_model_module_version": "1.5.0",
            "_model_name": "HTMLModel",
            "_view_count": null,
            "_view_module": "@jupyter-widgets/controls",
            "_view_module_version": "1.5.0",
            "_view_name": "HTMLView",
            "description": "",
            "description_tooltip": null,
            "layout": "IPY_MODEL_7927cd4e0b474409a6111d6eeab68587",
            "placeholder": "​",
            "style": "IPY_MODEL_4a1348b6364f4709896fafca629552cd",
            "value": " 125/125 [00:00&lt;00:00, 10.9kB/s]"
          }
        },
        "0386279800044ba39c9e7d0aa5c610f5": {
          "model_module": "@jupyter-widgets/base",
          "model_name": "LayoutModel",
          "model_module_version": "1.2.0",
          "state": {
            "_model_module": "@jupyter-widgets/base",
            "_model_module_version": "1.2.0",
            "_model_name": "LayoutModel",
            "_view_count": null,
            "_view_module": "@jupyter-widgets/base",
            "_view_module_version": "1.2.0",
            "_view_name": "LayoutView",
            "align_content": null,
            "align_items": null,
            "align_self": null,
            "border": null,
            "bottom": null,
            "display": null,
            "flex": null,
            "flex_flow": null,
            "grid_area": null,
            "grid_auto_columns": null,
            "grid_auto_flow": null,
            "grid_auto_rows": null,
            "grid_column": null,
            "grid_gap": null,
            "grid_row": null,
            "grid_template_areas": null,
            "grid_template_columns": null,
            "grid_template_rows": null,
            "height": null,
            "justify_content": null,
            "justify_items": null,
            "left": null,
            "margin": null,
            "max_height": null,
            "max_width": null,
            "min_height": null,
            "min_width": null,
            "object_fit": null,
            "object_position": null,
            "order": null,
            "overflow": null,
            "overflow_x": null,
            "overflow_y": null,
            "padding": null,
            "right": null,
            "top": null,
            "visibility": null,
            "width": null
          }
        },
        "bf7acd0c8f4847d3bf0f85063132d29f": {
          "model_module": "@jupyter-widgets/base",
          "model_name": "LayoutModel",
          "model_module_version": "1.2.0",
          "state": {
            "_model_module": "@jupyter-widgets/base",
            "_model_module_version": "1.2.0",
            "_model_name": "LayoutModel",
            "_view_count": null,
            "_view_module": "@jupyter-widgets/base",
            "_view_module_version": "1.2.0",
            "_view_name": "LayoutView",
            "align_content": null,
            "align_items": null,
            "align_self": null,
            "border": null,
            "bottom": null,
            "display": null,
            "flex": null,
            "flex_flow": null,
            "grid_area": null,
            "grid_auto_columns": null,
            "grid_auto_flow": null,
            "grid_auto_rows": null,
            "grid_column": null,
            "grid_gap": null,
            "grid_row": null,
            "grid_template_areas": null,
            "grid_template_columns": null,
            "grid_template_rows": null,
            "height": null,
            "justify_content": null,
            "justify_items": null,
            "left": null,
            "margin": null,
            "max_height": null,
            "max_width": null,
            "min_height": null,
            "min_width": null,
            "object_fit": null,
            "object_position": null,
            "order": null,
            "overflow": null,
            "overflow_x": null,
            "overflow_y": null,
            "padding": null,
            "right": null,
            "top": null,
            "visibility": null,
            "width": null
          }
        },
        "9deb5d3666ef470f86a63ffbb16497b4": {
          "model_module": "@jupyter-widgets/controls",
          "model_name": "DescriptionStyleModel",
          "model_module_version": "1.5.0",
          "state": {
            "_model_module": "@jupyter-widgets/controls",
            "_model_module_version": "1.5.0",
            "_model_name": "DescriptionStyleModel",
            "_view_count": null,
            "_view_module": "@jupyter-widgets/base",
            "_view_module_version": "1.2.0",
            "_view_name": "StyleView",
            "description_width": ""
          }
        },
        "c5299f754d7746bb9fa217439c8d637c": {
          "model_module": "@jupyter-widgets/base",
          "model_name": "LayoutModel",
          "model_module_version": "1.2.0",
          "state": {
            "_model_module": "@jupyter-widgets/base",
            "_model_module_version": "1.2.0",
            "_model_name": "LayoutModel",
            "_view_count": null,
            "_view_module": "@jupyter-widgets/base",
            "_view_module_version": "1.2.0",
            "_view_name": "LayoutView",
            "align_content": null,
            "align_items": null,
            "align_self": null,
            "border": null,
            "bottom": null,
            "display": null,
            "flex": null,
            "flex_flow": null,
            "grid_area": null,
            "grid_auto_columns": null,
            "grid_auto_flow": null,
            "grid_auto_rows": null,
            "grid_column": null,
            "grid_gap": null,
            "grid_row": null,
            "grid_template_areas": null,
            "grid_template_columns": null,
            "grid_template_rows": null,
            "height": null,
            "justify_content": null,
            "justify_items": null,
            "left": null,
            "margin": null,
            "max_height": null,
            "max_width": null,
            "min_height": null,
            "min_width": null,
            "object_fit": null,
            "object_position": null,
            "order": null,
            "overflow": null,
            "overflow_x": null,
            "overflow_y": null,
            "padding": null,
            "right": null,
            "top": null,
            "visibility": null,
            "width": null
          }
        },
        "86603160054a48f493ea32ec58a19923": {
          "model_module": "@jupyter-widgets/controls",
          "model_name": "ProgressStyleModel",
          "model_module_version": "1.5.0",
          "state": {
            "_model_module": "@jupyter-widgets/controls",
            "_model_module_version": "1.5.0",
            "_model_name": "ProgressStyleModel",
            "_view_count": null,
            "_view_module": "@jupyter-widgets/base",
            "_view_module_version": "1.2.0",
            "_view_name": "StyleView",
            "bar_color": null,
            "description_width": ""
          }
        },
        "7927cd4e0b474409a6111d6eeab68587": {
          "model_module": "@jupyter-widgets/base",
          "model_name": "LayoutModel",
          "model_module_version": "1.2.0",
          "state": {
            "_model_module": "@jupyter-widgets/base",
            "_model_module_version": "1.2.0",
            "_model_name": "LayoutModel",
            "_view_count": null,
            "_view_module": "@jupyter-widgets/base",
            "_view_module_version": "1.2.0",
            "_view_name": "LayoutView",
            "align_content": null,
            "align_items": null,
            "align_self": null,
            "border": null,
            "bottom": null,
            "display": null,
            "flex": null,
            "flex_flow": null,
            "grid_area": null,
            "grid_auto_columns": null,
            "grid_auto_flow": null,
            "grid_auto_rows": null,
            "grid_column": null,
            "grid_gap": null,
            "grid_row": null,
            "grid_template_areas": null,
            "grid_template_columns": null,
            "grid_template_rows": null,
            "height": null,
            "justify_content": null,
            "justify_items": null,
            "left": null,
            "margin": null,
            "max_height": null,
            "max_width": null,
            "min_height": null,
            "min_width": null,
            "object_fit": null,
            "object_position": null,
            "order": null,
            "overflow": null,
            "overflow_x": null,
            "overflow_y": null,
            "padding": null,
            "right": null,
            "top": null,
            "visibility": null,
            "width": null
          }
        },
        "4a1348b6364f4709896fafca629552cd": {
          "model_module": "@jupyter-widgets/controls",
          "model_name": "DescriptionStyleModel",
          "model_module_version": "1.5.0",
          "state": {
            "_model_module": "@jupyter-widgets/controls",
            "_model_module_version": "1.5.0",
            "_model_name": "DescriptionStyleModel",
            "_view_count": null,
            "_view_module": "@jupyter-widgets/base",
            "_view_module_version": "1.2.0",
            "_view_name": "StyleView",
            "description_width": ""
          }
        },
        "3b686390f04845b8833804d8ed545a00": {
          "model_module": "@jupyter-widgets/controls",
          "model_name": "HBoxModel",
          "model_module_version": "1.5.0",
          "state": {
            "_dom_classes": [],
            "_model_module": "@jupyter-widgets/controls",
            "_model_module_version": "1.5.0",
            "_model_name": "HBoxModel",
            "_view_count": null,
            "_view_module": "@jupyter-widgets/controls",
            "_view_module_version": "1.5.0",
            "_view_name": "HBoxView",
            "box_style": "",
            "children": [
              "IPY_MODEL_d0182e4f0349483fa53afdc70be57c99",
              "IPY_MODEL_303ff86f7e1e4c2eb7823b17d4d788ac",
              "IPY_MODEL_65c7091dfd3a4c7a975f28ef85f208d0"
            ],
            "layout": "IPY_MODEL_ee2257c6c7594fd48333f791f4788594"
          }
        },
        "d0182e4f0349483fa53afdc70be57c99": {
          "model_module": "@jupyter-widgets/controls",
          "model_name": "HTMLModel",
          "model_module_version": "1.5.0",
          "state": {
            "_dom_classes": [],
            "_model_module": "@jupyter-widgets/controls",
            "_model_module_version": "1.5.0",
            "_model_name": "HTMLModel",
            "_view_count": null,
            "_view_module": "@jupyter-widgets/controls",
            "_view_module_version": "1.5.0",
            "_view_name": "HTMLView",
            "description": "",
            "description_tooltip": null,
            "layout": "IPY_MODEL_9745220bd3a94ce1ab782beb649f1f5b",
            "placeholder": "​",
            "style": "IPY_MODEL_23343de11494465eafa72b54197074f6",
            "value": "1_Pooling/config.json: 100%"
          }
        },
        "303ff86f7e1e4c2eb7823b17d4d788ac": {
          "model_module": "@jupyter-widgets/controls",
          "model_name": "FloatProgressModel",
          "model_module_version": "1.5.0",
          "state": {
            "_dom_classes": [],
            "_model_module": "@jupyter-widgets/controls",
            "_model_module_version": "1.5.0",
            "_model_name": "FloatProgressModel",
            "_view_count": null,
            "_view_module": "@jupyter-widgets/controls",
            "_view_module_version": "1.5.0",
            "_view_name": "ProgressView",
            "bar_style": "success",
            "description": "",
            "description_tooltip": null,
            "layout": "IPY_MODEL_51499f8af8bb425ca566b2c1635ef4f5",
            "max": 190,
            "min": 0,
            "orientation": "horizontal",
            "style": "IPY_MODEL_201e2b5947284fcebb7ef613ba8f7190",
            "value": 190
          }
        },
        "65c7091dfd3a4c7a975f28ef85f208d0": {
          "model_module": "@jupyter-widgets/controls",
          "model_name": "HTMLModel",
          "model_module_version": "1.5.0",
          "state": {
            "_dom_classes": [],
            "_model_module": "@jupyter-widgets/controls",
            "_model_module_version": "1.5.0",
            "_model_name": "HTMLModel",
            "_view_count": null,
            "_view_module": "@jupyter-widgets/controls",
            "_view_module_version": "1.5.0",
            "_view_name": "HTMLView",
            "description": "",
            "description_tooltip": null,
            "layout": "IPY_MODEL_e93fc3f9bdcd44258fa7e6a46506f14b",
            "placeholder": "​",
            "style": "IPY_MODEL_4a4e1e70f0304c739a58bd572f5d9d8e",
            "value": " 190/190 [00:00&lt;00:00, 15.7kB/s]"
          }
        },
        "ee2257c6c7594fd48333f791f4788594": {
          "model_module": "@jupyter-widgets/base",
          "model_name": "LayoutModel",
          "model_module_version": "1.2.0",
          "state": {
            "_model_module": "@jupyter-widgets/base",
            "_model_module_version": "1.2.0",
            "_model_name": "LayoutModel",
            "_view_count": null,
            "_view_module": "@jupyter-widgets/base",
            "_view_module_version": "1.2.0",
            "_view_name": "LayoutView",
            "align_content": null,
            "align_items": null,
            "align_self": null,
            "border": null,
            "bottom": null,
            "display": null,
            "flex": null,
            "flex_flow": null,
            "grid_area": null,
            "grid_auto_columns": null,
            "grid_auto_flow": null,
            "grid_auto_rows": null,
            "grid_column": null,
            "grid_gap": null,
            "grid_row": null,
            "grid_template_areas": null,
            "grid_template_columns": null,
            "grid_template_rows": null,
            "height": null,
            "justify_content": null,
            "justify_items": null,
            "left": null,
            "margin": null,
            "max_height": null,
            "max_width": null,
            "min_height": null,
            "min_width": null,
            "object_fit": null,
            "object_position": null,
            "order": null,
            "overflow": null,
            "overflow_x": null,
            "overflow_y": null,
            "padding": null,
            "right": null,
            "top": null,
            "visibility": null,
            "width": null
          }
        },
        "9745220bd3a94ce1ab782beb649f1f5b": {
          "model_module": "@jupyter-widgets/base",
          "model_name": "LayoutModel",
          "model_module_version": "1.2.0",
          "state": {
            "_model_module": "@jupyter-widgets/base",
            "_model_module_version": "1.2.0",
            "_model_name": "LayoutModel",
            "_view_count": null,
            "_view_module": "@jupyter-widgets/base",
            "_view_module_version": "1.2.0",
            "_view_name": "LayoutView",
            "align_content": null,
            "align_items": null,
            "align_self": null,
            "border": null,
            "bottom": null,
            "display": null,
            "flex": null,
            "flex_flow": null,
            "grid_area": null,
            "grid_auto_columns": null,
            "grid_auto_flow": null,
            "grid_auto_rows": null,
            "grid_column": null,
            "grid_gap": null,
            "grid_row": null,
            "grid_template_areas": null,
            "grid_template_columns": null,
            "grid_template_rows": null,
            "height": null,
            "justify_content": null,
            "justify_items": null,
            "left": null,
            "margin": null,
            "max_height": null,
            "max_width": null,
            "min_height": null,
            "min_width": null,
            "object_fit": null,
            "object_position": null,
            "order": null,
            "overflow": null,
            "overflow_x": null,
            "overflow_y": null,
            "padding": null,
            "right": null,
            "top": null,
            "visibility": null,
            "width": null
          }
        },
        "23343de11494465eafa72b54197074f6": {
          "model_module": "@jupyter-widgets/controls",
          "model_name": "DescriptionStyleModel",
          "model_module_version": "1.5.0",
          "state": {
            "_model_module": "@jupyter-widgets/controls",
            "_model_module_version": "1.5.0",
            "_model_name": "DescriptionStyleModel",
            "_view_count": null,
            "_view_module": "@jupyter-widgets/base",
            "_view_module_version": "1.2.0",
            "_view_name": "StyleView",
            "description_width": ""
          }
        },
        "51499f8af8bb425ca566b2c1635ef4f5": {
          "model_module": "@jupyter-widgets/base",
          "model_name": "LayoutModel",
          "model_module_version": "1.2.0",
          "state": {
            "_model_module": "@jupyter-widgets/base",
            "_model_module_version": "1.2.0",
            "_model_name": "LayoutModel",
            "_view_count": null,
            "_view_module": "@jupyter-widgets/base",
            "_view_module_version": "1.2.0",
            "_view_name": "LayoutView",
            "align_content": null,
            "align_items": null,
            "align_self": null,
            "border": null,
            "bottom": null,
            "display": null,
            "flex": null,
            "flex_flow": null,
            "grid_area": null,
            "grid_auto_columns": null,
            "grid_auto_flow": null,
            "grid_auto_rows": null,
            "grid_column": null,
            "grid_gap": null,
            "grid_row": null,
            "grid_template_areas": null,
            "grid_template_columns": null,
            "grid_template_rows": null,
            "height": null,
            "justify_content": null,
            "justify_items": null,
            "left": null,
            "margin": null,
            "max_height": null,
            "max_width": null,
            "min_height": null,
            "min_width": null,
            "object_fit": null,
            "object_position": null,
            "order": null,
            "overflow": null,
            "overflow_x": null,
            "overflow_y": null,
            "padding": null,
            "right": null,
            "top": null,
            "visibility": null,
            "width": null
          }
        },
        "201e2b5947284fcebb7ef613ba8f7190": {
          "model_module": "@jupyter-widgets/controls",
          "model_name": "ProgressStyleModel",
          "model_module_version": "1.5.0",
          "state": {
            "_model_module": "@jupyter-widgets/controls",
            "_model_module_version": "1.5.0",
            "_model_name": "ProgressStyleModel",
            "_view_count": null,
            "_view_module": "@jupyter-widgets/base",
            "_view_module_version": "1.2.0",
            "_view_name": "StyleView",
            "bar_color": null,
            "description_width": ""
          }
        },
        "e93fc3f9bdcd44258fa7e6a46506f14b": {
          "model_module": "@jupyter-widgets/base",
          "model_name": "LayoutModel",
          "model_module_version": "1.2.0",
          "state": {
            "_model_module": "@jupyter-widgets/base",
            "_model_module_version": "1.2.0",
            "_model_name": "LayoutModel",
            "_view_count": null,
            "_view_module": "@jupyter-widgets/base",
            "_view_module_version": "1.2.0",
            "_view_name": "LayoutView",
            "align_content": null,
            "align_items": null,
            "align_self": null,
            "border": null,
            "bottom": null,
            "display": null,
            "flex": null,
            "flex_flow": null,
            "grid_area": null,
            "grid_auto_columns": null,
            "grid_auto_flow": null,
            "grid_auto_rows": null,
            "grid_column": null,
            "grid_gap": null,
            "grid_row": null,
            "grid_template_areas": null,
            "grid_template_columns": null,
            "grid_template_rows": null,
            "height": null,
            "justify_content": null,
            "justify_items": null,
            "left": null,
            "margin": null,
            "max_height": null,
            "max_width": null,
            "min_height": null,
            "min_width": null,
            "object_fit": null,
            "object_position": null,
            "order": null,
            "overflow": null,
            "overflow_x": null,
            "overflow_y": null,
            "padding": null,
            "right": null,
            "top": null,
            "visibility": null,
            "width": null
          }
        },
        "4a4e1e70f0304c739a58bd572f5d9d8e": {
          "model_module": "@jupyter-widgets/controls",
          "model_name": "DescriptionStyleModel",
          "model_module_version": "1.5.0",
          "state": {
            "_model_module": "@jupyter-widgets/controls",
            "_model_module_version": "1.5.0",
            "_model_name": "DescriptionStyleModel",
            "_view_count": null,
            "_view_module": "@jupyter-widgets/base",
            "_view_module_version": "1.2.0",
            "_view_name": "StyleView",
            "description_width": ""
          }
        }
      }
    }
  },
  "cells": [
    {
      "cell_type": "markdown",
      "source": [
        "#Pix2Text"
      ],
      "metadata": {
        "id": "GzTFRWcz9BSE"
      }
    },
    {
      "cell_type": "code",
      "source": [
        "!pip install -qU pix2text langchain jq tiktoken langchain_community langchain_chroma langchain-huggingface huggingface-hub sentence_transformers\n",
        "!pip uninstall onnxruntime -y\n",
        "!pip install -qU onnxruntime-gpu"
      ],
      "metadata": {
        "colab": {
          "base_uri": "https://localhost:8080/"
        },
        "id": "oVmEzRHo8quL",
        "outputId": "28d25862-f644-479a-e808-d4f4ddfac603"
      },
      "execution_count": 1,
      "outputs": [
        {
          "output_type": "stream",
          "name": "stdout",
          "text": [
            "\u001b[?25l     \u001b[90m━━━━━━━━━━━━━━━━━━━━━━━━━━━━━━━━━━━━━━━━\u001b[0m \u001b[32m0.0/67.3 kB\u001b[0m \u001b[31m?\u001b[0m eta \u001b[36m-:--:--\u001b[0m\r\u001b[2K     \u001b[90m━━━━━━━━━━━━━━━━━━━━━━━━━━━━━━━━━━━━━━━━\u001b[0m \u001b[32m67.3/67.3 kB\u001b[0m \u001b[31m4.6 MB/s\u001b[0m eta \u001b[36m0:00:00\u001b[0m\n",
            "\u001b[?25h  Installing build dependencies ... \u001b[?25l\u001b[?25hdone\n",
            "  Getting requirements to build wheel ... \u001b[?25l\u001b[?25hdone\n",
            "  Preparing metadata (pyproject.toml) ... \u001b[?25l\u001b[?25hdone\n",
            "\u001b[2K     \u001b[90m━━━━━━━━━━━━━━━━━━━━━━━━━━━━━━━━━━━━━━━━\u001b[0m \u001b[32m50.4/50.4 kB\u001b[0m \u001b[31m2.0 MB/s\u001b[0m eta \u001b[36m0:00:00\u001b[0m\n",
            "\u001b[?25h  Preparing metadata (setup.py) ... \u001b[?25l\u001b[?25hdone\n",
            "  Preparing metadata (setup.py) ... \u001b[?25l\u001b[?25hdone\n",
            "\u001b[2K   \u001b[90m━━━━━━━━━━━━━━━━━━━━━━━━━━━━━━━━━━━━━━━━\u001b[0m \u001b[32m163.6/163.6 kB\u001b[0m \u001b[31m13.4 MB/s\u001b[0m eta \u001b[36m0:00:00\u001b[0m\n",
            "\u001b[2K   \u001b[90m━━━━━━━━━━━━━━━━━━━━━━━━━━━━━━━━━━━━━━━━\u001b[0m \u001b[32m1.0/1.0 MB\u001b[0m \u001b[31m57.2 MB/s\u001b[0m eta \u001b[36m0:00:00\u001b[0m\n",
            "\u001b[2K   \u001b[90m━━━━━━━━━━━━━━━━━━━━━━━━━━━━━━━━━━━━━━━━\u001b[0m \u001b[32m737.4/737.4 kB\u001b[0m \u001b[31m51.9 MB/s\u001b[0m eta \u001b[36m0:00:00\u001b[0m\n",
            "\u001b[2K   \u001b[90m━━━━━━━━━━━━━━━━━━━━━━━━━━━━━━━━━━━━━━━━\u001b[0m \u001b[32m1.1/1.1 MB\u001b[0m \u001b[31m63.4 MB/s\u001b[0m eta \u001b[36m0:00:00\u001b[0m\n",
            "\u001b[2K   \u001b[90m━━━━━━━━━━━━━━━━━━━━━━━━━━━━━━━━━━━━━━━━\u001b[0m \u001b[32m2.3/2.3 MB\u001b[0m \u001b[31m83.6 MB/s\u001b[0m eta \u001b[36m0:00:00\u001b[0m\n",
            "\u001b[2K   \u001b[90m━━━━━━━━━━━━━━━━━━━━━━━━━━━━━━━━━━━━━━━━\u001b[0m \u001b[32m436.4/436.4 kB\u001b[0m \u001b[31m31.0 MB/s\u001b[0m eta \u001b[36m0:00:00\u001b[0m\n",
            "\u001b[2K   \u001b[90m━━━━━━━━━━━━━━━━━━━━━━━━━━━━━━━━━━━━━━━━\u001b[0m \u001b[32m245.3/245.3 kB\u001b[0m \u001b[31m24.3 MB/s\u001b[0m eta \u001b[36m0:00:00\u001b[0m\n",
            "\u001b[2K   \u001b[90m━━━━━━━━━━━━━━━━━━━━━━━━━━━━━━━━━━━━━━━━\u001b[0m \u001b[32m599.2/599.2 kB\u001b[0m \u001b[31m41.2 MB/s\u001b[0m eta \u001b[36m0:00:00\u001b[0m\n",
            "\u001b[2K   \u001b[90m━━━━━━━━━━━━━━━━━━━━━━━━━━━━━━━━━━━━━━━━\u001b[0m \u001b[32m2.4/2.4 MB\u001b[0m \u001b[31m92.5 MB/s\u001b[0m eta \u001b[36m0:00:00\u001b[0m\n",
            "\u001b[2K   \u001b[90m━━━━━━━━━━━━━━━━━━━━━━━━━━━━━━━━━━━━━━━━\u001b[0m \u001b[32m222.1/222.1 kB\u001b[0m \u001b[31m22.6 MB/s\u001b[0m eta \u001b[36m0:00:00\u001b[0m\n",
            "\u001b[2K   \u001b[90m━━━━━━━━━━━━━━━━━━━━━━━━━━━━━━━━━━━━━━━━\u001b[0m \u001b[32m249.3/249.3 kB\u001b[0m \u001b[31m23.0 MB/s\u001b[0m eta \u001b[36m0:00:00\u001b[0m\n",
            "\u001b[2K   \u001b[90m━━━━━━━━━━━━━━━━━━━━━━━━━━━━━━━━━━━━━━━━\u001b[0m \u001b[32m94.6/94.6 kB\u001b[0m \u001b[31m7.6 MB/s\u001b[0m eta \u001b[36m0:00:00\u001b[0m\n",
            "\u001b[2K   \u001b[90m━━━━━━━━━━━━━━━━━━━━━━━━━━━━━━━━━━━━━━━━\u001b[0m \u001b[32m399.9/399.9 kB\u001b[0m \u001b[31m31.5 MB/s\u001b[0m eta \u001b[36m0:00:00\u001b[0m\n",
            "\u001b[2K   \u001b[90m━━━━━━━━━━━━━━━━━━━━━━━━━━━━━━━━━━━━━━━━\u001b[0m \u001b[32m292.1/292.1 kB\u001b[0m \u001b[31m26.7 MB/s\u001b[0m eta \u001b[36m0:00:00\u001b[0m\n",
            "\u001b[2K   \u001b[90m━━━━━━━━━━━━━━━━━━━━━━━━━━━━━━━━━━━━━━━━\u001b[0m \u001b[32m3.5/3.5 MB\u001b[0m \u001b[31m46.6 MB/s\u001b[0m eta \u001b[36m0:00:00\u001b[0m\n",
            "\u001b[2K   \u001b[90m━━━━━━━━━━━━━━━━━━━━━━━━━━━━━━━━━━━━━━━━\u001b[0m \u001b[32m15.9/15.9 MB\u001b[0m \u001b[31m93.3 MB/s\u001b[0m eta \u001b[36m0:00:00\u001b[0m\n",
            "\u001b[2K   \u001b[90m━━━━━━━━━━━━━━━━━━━━━━━━━━━━━━━━━━━━━━━━\u001b[0m \u001b[32m6.8/6.8 MB\u001b[0m \u001b[31m99.7 MB/s\u001b[0m eta \u001b[36m0:00:00\u001b[0m\n",
            "\u001b[2K   \u001b[90m━━━━━━━━━━━━━━━━━━━━━━━━━━━━━━━━━━━━━━━━\u001b[0m \u001b[32m273.8/273.8 kB\u001b[0m \u001b[31m25.2 MB/s\u001b[0m eta \u001b[36m0:00:00\u001b[0m\n",
            "\u001b[2K   \u001b[90m━━━━━━━━━━━━━━━━━━━━━━━━━━━━━━━━━━━━━━━━\u001b[0m \u001b[32m474.3/474.3 kB\u001b[0m \u001b[31m38.3 MB/s\u001b[0m eta \u001b[36m0:00:00\u001b[0m\n",
            "\u001b[2K   \u001b[90m━━━━━━━━━━━━━━━━━━━━━━━━━━━━━━━━━━━━━━━━\u001b[0m \u001b[32m76.4/76.4 kB\u001b[0m \u001b[31m8.0 MB/s\u001b[0m eta \u001b[36m0:00:00\u001b[0m\n",
            "\u001b[2K   \u001b[90m━━━━━━━━━━━━━━━━━━━━━━━━━━━━━━━━━━━━━━━━\u001b[0m \u001b[32m77.9/77.9 kB\u001b[0m \u001b[31m6.7 MB/s\u001b[0m eta \u001b[36m0:00:00\u001b[0m\n",
            "\u001b[2K   \u001b[90m━━━━━━━━━━━━━━━━━━━━━━━━━━━━━━━━━━━━━━━━\u001b[0m \u001b[32m1.9/1.9 MB\u001b[0m \u001b[31m78.0 MB/s\u001b[0m eta \u001b[36m0:00:00\u001b[0m\n",
            "\u001b[2K   \u001b[90m━━━━━━━━━━━━━━━━━━━━━━━━━━━━━━━━━━━━━━━━\u001b[0m \u001b[32m49.3/49.3 kB\u001b[0m \u001b[31m3.9 MB/s\u001b[0m eta \u001b[36m0:00:00\u001b[0m\n",
            "\u001b[2K   \u001b[90m━━━━━━━━━━━━━━━━━━━━━━━━━━━━━━━━━━━━━━━━\u001b[0m \u001b[32m93.2/93.2 kB\u001b[0m \u001b[31m8.1 MB/s\u001b[0m eta \u001b[36m0:00:00\u001b[0m\n",
            "\u001b[2K   \u001b[90m━━━━━━━━━━━━━━━━━━━━━━━━━━━━━━━━━━━━━━━━\u001b[0m \u001b[32m13.2/13.2 MB\u001b[0m \u001b[31m104.0 MB/s\u001b[0m eta \u001b[36m0:00:00\u001b[0m\n",
            "\u001b[2K   \u001b[90m━━━━━━━━━━━━━━━━━━━━━━━━━━━━━━━━━━━━━━━━\u001b[0m \u001b[32m64.0/64.0 kB\u001b[0m \u001b[31m6.9 MB/s\u001b[0m eta \u001b[36m0:00:00\u001b[0m\n",
            "\u001b[2K   \u001b[90m━━━━━━━━━━━━━━━━━━━━━━━━━━━━━━━━━━━━━━━━\u001b[0m \u001b[32m52.5/52.5 kB\u001b[0m \u001b[31m5.5 MB/s\u001b[0m eta \u001b[36m0:00:00\u001b[0m\n",
            "\u001b[2K   \u001b[90m━━━━━━━━━━━━━━━━━━━━━━━━━━━━━━━━━━━━━━━━\u001b[0m \u001b[32m149.7/149.7 kB\u001b[0m \u001b[31m14.3 MB/s\u001b[0m eta \u001b[36m0:00:00\u001b[0m\n",
            "\u001b[2K   \u001b[90m━━━━━━━━━━━━━━━━━━━━━━━━━━━━━━━━━━━━━━━━\u001b[0m \u001b[32m110.5/110.5 kB\u001b[0m \u001b[31m10.8 MB/s\u001b[0m eta \u001b[36m0:00:00\u001b[0m\n",
            "\u001b[2K   \u001b[90m━━━━━━━━━━━━━━━━━━━━━━━━━━━━━━━━━━━━━━━━\u001b[0m \u001b[32m141.9/141.9 kB\u001b[0m \u001b[31m14.3 MB/s\u001b[0m eta \u001b[36m0:00:00\u001b[0m\n",
            "\u001b[2K   \u001b[90m━━━━━━━━━━━━━━━━━━━━━━━━━━━━━━━━━━━━━━━━\u001b[0m \u001b[32m54.3/54.3 kB\u001b[0m \u001b[31m5.6 MB/s\u001b[0m eta \u001b[36m0:00:00\u001b[0m\n",
            "\u001b[2K   \u001b[90m━━━━━━━━━━━━━━━━━━━━━━━━━━━━━━━━━━━━━━━━\u001b[0m \u001b[32m815.2/815.2 kB\u001b[0m \u001b[31m52.4 MB/s\u001b[0m eta \u001b[36m0:00:00\u001b[0m\n",
            "\u001b[2K   \u001b[90m━━━━━━━━━━━━━━━━━━━━━━━━━━━━━━━━━━━━━━━━\u001b[0m \u001b[32m71.5/71.5 kB\u001b[0m \u001b[31m7.3 MB/s\u001b[0m eta \u001b[36m0:00:00\u001b[0m\n",
            "\u001b[2K   \u001b[90m━━━━━━━━━━━━━━━━━━━━━━━━━━━━━━━━━━━━━━━━\u001b[0m \u001b[32m869.2/869.2 kB\u001b[0m \u001b[31m49.0 MB/s\u001b[0m eta \u001b[36m0:00:00\u001b[0m\n",
            "\u001b[2K   \u001b[90m━━━━━━━━━━━━━━━━━━━━━━━━━━━━━━━━━━━━━━━━\u001b[0m \u001b[32m62.8/62.8 kB\u001b[0m \u001b[31m6.5 MB/s\u001b[0m eta \u001b[36m0:00:00\u001b[0m\n",
            "\u001b[2K   \u001b[90m━━━━━━━━━━━━━━━━━━━━━━━━━━━━━━━━━━━━━━━━\u001b[0m \u001b[32m46.0/46.0 kB\u001b[0m \u001b[31m4.6 MB/s\u001b[0m eta \u001b[36m0:00:00\u001b[0m\n",
            "\u001b[2K   \u001b[90m━━━━━━━━━━━━━━━━━━━━━━━━━━━━━━━━━━━━━━━━\u001b[0m \u001b[32m84.0/84.0 kB\u001b[0m \u001b[31m8.7 MB/s\u001b[0m eta \u001b[36m0:00:00\u001b[0m\n",
            "\u001b[2K   \u001b[90m━━━━━━━━━━━━━━━━━━━━━━━━━━━━━━━━━━━━━━━━\u001b[0m \u001b[32m15.9/15.9 MB\u001b[0m \u001b[31m99.0 MB/s\u001b[0m eta \u001b[36m0:00:00\u001b[0m\n",
            "\u001b[2K   \u001b[90m━━━━━━━━━━━━━━━━━━━━━━━━━━━━━━━━━━━━━━━━\u001b[0m \u001b[32m453.7/453.7 kB\u001b[0m \u001b[31m35.6 MB/s\u001b[0m eta \u001b[36m0:00:00\u001b[0m\n",
            "\u001b[2K   \u001b[90m━━━━━━━━━━━━━━━━━━━━━━━━━━━━━━━━━━━━━━━━\u001b[0m \u001b[32m908.3/908.3 kB\u001b[0m \u001b[31m62.1 MB/s\u001b[0m eta \u001b[36m0:00:00\u001b[0m\n",
            "\u001b[2K   \u001b[90m━━━━━━━━━━━━━━━━━━━━━━━━━━━━━━━━━━━━━━━━\u001b[0m \u001b[32m874.1/874.1 kB\u001b[0m \u001b[31m56.2 MB/s\u001b[0m eta \u001b[36m0:00:00\u001b[0m\n",
            "\u001b[2K   \u001b[90m━━━━━━━━━━━━━━━━━━━━━━━━━━━━━━━━━━━━━━━━\u001b[0m \u001b[32m235.5/235.5 kB\u001b[0m \u001b[31m22.5 MB/s\u001b[0m eta \u001b[36m0:00:00\u001b[0m\n",
            "\u001b[2K   \u001b[90m━━━━━━━━━━━━━━━━━━━━━━━━━━━━━━━━━━━━━━━━\u001b[0m \u001b[32m9.7/9.7 MB\u001b[0m \u001b[31m124.7 MB/s\u001b[0m eta \u001b[36m0:00:00\u001b[0m\n",
            "\u001b[2K   \u001b[90m━━━━━━━━━━━━━━━━━━━━━━━━━━━━━━━━━━━━━━━━\u001b[0m \u001b[32m116.3/116.3 kB\u001b[0m \u001b[31m12.8 MB/s\u001b[0m eta \u001b[36m0:00:00\u001b[0m\n",
            "\u001b[2K   \u001b[90m━━━━━━━━━━━━━━━━━━━━━━━━━━━━━━━━━━━━━━━━\u001b[0m \u001b[32m207.3/207.3 kB\u001b[0m \u001b[31m20.7 MB/s\u001b[0m eta \u001b[36m0:00:00\u001b[0m\n",
            "\u001b[2K   \u001b[90m━━━━━━━━━━━━━━━━━━━━━━━━━━━━━━━━━━━━━━━━\u001b[0m \u001b[32m58.3/58.3 kB\u001b[0m \u001b[31m5.9 MB/s\u001b[0m eta \u001b[36m0:00:00\u001b[0m\n",
            "\u001b[2K   \u001b[90m━━━━━━━━━━━━━━━━━━━━━━━━━━━━━━━━━━━━━━━━\u001b[0m \u001b[32m341.4/341.4 kB\u001b[0m \u001b[31m32.3 MB/s\u001b[0m eta \u001b[36m0:00:00\u001b[0m\n",
            "\u001b[2K   \u001b[90m━━━━━━━━━━━━━━━━━━━━━━━━━━━━━━━━━━━━━━━━\u001b[0m \u001b[32m86.8/86.8 kB\u001b[0m \u001b[31m8.8 MB/s\u001b[0m eta \u001b[36m0:00:00\u001b[0m\n",
            "\u001b[2K   \u001b[90m━━━━━━━━━━━━━━━━━━━━━━━━━━━━━━━━━━━━━━━━\u001b[0m \u001b[32m39.9/39.9 MB\u001b[0m \u001b[31m56.4 MB/s\u001b[0m eta \u001b[36m0:00:00\u001b[0m\n",
            "\u001b[2K   \u001b[90m━━━━━━━━━━━━━━━━━━━━━━━━━━━━━━━━━━━━━━━━\u001b[0m \u001b[32m311.4/311.4 kB\u001b[0m \u001b[31m28.9 MB/s\u001b[0m eta \u001b[36m0:00:00\u001b[0m\n",
            "\u001b[2K   \u001b[90m━━━━━━━━━━━━━━━━━━━━━━━━━━━━━━━━━━━━━━━━\u001b[0m \u001b[32m3.4/3.4 MB\u001b[0m \u001b[31m66.0 MB/s\u001b[0m eta \u001b[36m0:00:00\u001b[0m\n",
            "\u001b[2K   \u001b[90m━━━━━━━━━━━━━━━━━━━━━━━━━━━━━━━━━━━━━━━━\u001b[0m \u001b[32m425.7/425.7 kB\u001b[0m \u001b[31m37.2 MB/s\u001b[0m eta \u001b[36m0:00:00\u001b[0m\n",
            "\u001b[2K   \u001b[90m━━━━━━━━━━━━━━━━━━━━━━━━━━━━━━━━━━━━━━━━\u001b[0m \u001b[32m164.1/164.1 kB\u001b[0m \u001b[31m17.5 MB/s\u001b[0m eta \u001b[36m0:00:00\u001b[0m\n",
            "\u001b[2K   \u001b[90m━━━━━━━━━━━━━━━━━━━━━━━━━━━━━━━━━━━━━━━━\u001b[0m \u001b[32m134.8/134.8 kB\u001b[0m \u001b[31m13.5 MB/s\u001b[0m eta \u001b[36m0:00:00\u001b[0m\n",
            "\u001b[2K   \u001b[90m━━━━━━━━━━━━━━━━━━━━━━━━━━━━━━━━━━━━━━━━\u001b[0m \u001b[32m194.1/194.1 kB\u001b[0m \u001b[31m19.9 MB/s\u001b[0m eta \u001b[36m0:00:00\u001b[0m\n",
            "\u001b[2K   \u001b[90m━━━━━━━━━━━━━━━━━━━━━━━━━━━━━━━━━━━━━━━━\u001b[0m \u001b[32m62.7/62.7 kB\u001b[0m \u001b[31m6.6 MB/s\u001b[0m eta \u001b[36m0:00:00\u001b[0m\n",
            "\u001b[?25h  Building wheel for pypika (pyproject.toml) ... \u001b[?25l\u001b[?25hdone\n",
            "  Building wheel for Polygon3 (setup.py) ... \u001b[?25l\u001b[?25hdone\n",
            "  Building wheel for durationpy (setup.py) ... \u001b[?25l\u001b[?25hdone\n",
            "\u001b[31mERROR: pip's dependency resolver does not currently take into account all the packages that are installed. This behaviour is the source of the following dependency conflicts.\n",
            "cudf-cu12 24.4.1 requires pyarrow<15.0.0a0,>=14.0.1, but you have pyarrow 17.0.0 which is incompatible.\u001b[0m\u001b[31m\n",
            "\u001b[0mFound existing installation: onnxruntime 1.19.2\n",
            "Uninstalling onnxruntime-1.19.2:\n",
            "  Successfully uninstalled onnxruntime-1.19.2\n",
            "\u001b[2K   \u001b[90m━━━━━━━━━━━━━━━━━━━━━━━━━━━━━━━━━━━━━━━━\u001b[0m \u001b[32m226.2/226.2 MB\u001b[0m \u001b[31m5.1 MB/s\u001b[0m eta \u001b[36m0:00:00\u001b[0m\n",
            "\u001b[?25h"
          ]
        }
      ]
    },
    {
      "cell_type": "code",
      "source": [
        "from pix2text import Pix2Text\n",
        "from pix2text.latex_ocr import *\n",
        "\n",
        "img_fp = '/content/chapter1.pdf'\n",
        "p2t = Pix2Text.from_config()\n"
      ],
      "metadata": {
        "colab": {
          "base_uri": "https://localhost:8080/",
          "height": 344,
          "referenced_widgets": [
            "f0defd0404ac4201b2dec973adb4f0d7",
            "ab532015740a45c49a9a37d8f64bad5e",
            "ef39a088eea74ac782f9e3da17ebe2e6",
            "6134c400efc846b8b11880159a2c9497",
            "8f4a3f503b6f43c39677019ac6b8d8de",
            "991ea989e93644f0bfbef79038ae88c0",
            "66ef94698b01427ca383cbb625b1b407",
            "1f7814bba7f64eef8f126ab0eb643154",
            "82d2edf0a23c4afeb7251c81c96f6950",
            "6effd543b0e64daba662853e5d221aaf",
            "b5719d5360c74fe0850957cc2a325fd7",
            "d1fbb84860e5430bb1d9bcfe5f68b6a1",
            "4fdfa7d3479443cd80f1842df555e6f4",
            "89461a91ac224a66a2bf9669810e8fe7",
            "cbe8bfb1e5874e63bf3414468e15397f",
            "23db30cf2e1846ca94e402e8b891b657",
            "0544c19264bf47bc86a0bbd60106d3a7",
            "bfd6758e7be245c795cc6274a6c99d4e",
            "6322c21431ba4675b2276f9b41469436",
            "3411d0041fa74a9987b13c21ac1fe237",
            "8fd289b07136413189d2070a6a9ddc2a",
            "388041d1999d40e2a8f7b24e4b4bdb3e"
          ]
        },
        "id": "uL1kC-V5zJlD",
        "outputId": "8c35aa9a-1fa5-4b63-b5d7-9def35e34dd7"
      },
      "execution_count": 2,
      "outputs": [
        {
          "output_type": "stream",
          "name": "stdout",
          "text": [
            "Creating new Ultralytics Settings v0.0.6 file ✅ \n",
            "View Ultralytics Settings with 'yolo settings' or at '/root/.config/Ultralytics/settings.json'\n",
            "Update Settings with 'yolo settings key=value', i.e. 'yolo settings runs_dir=path/to/dir'. For help see https://docs.ultralytics.com/quickstart/#ultralytics-settings.\n",
            "Fix size testing.\n",
            "training chunk_sizes: [32]\n",
            "The output will be saved to  /usr/local/lib/python3.10/dist-packages/pix2text/doc_xl_layout/../../exp/ctdet_subfield/default\n",
            "heads {'hm': 11, 'cls': 4, 'ftype': 3, 'wh': 8, 'hm_sub': 2, 'wh_sub': 8, 'reg': 2, 'reg_sub': 2}\n"
          ]
        },
        {
          "output_type": "stream",
          "name": "stderr",
          "text": [
            "WARNING:cnocr.recognizer:no onnx file is found in /root/.cnocr/2.3/densenet_lite_136-gru\n"
          ]
        },
        {
          "output_type": "display_data",
          "data": {
            "text/plain": [
              "densenet_lite_136-gru-onnx.zip:   0%|          | 0.00/11.6M [00:00<?, ?B/s]"
            ],
            "application/vnd.jupyter.widget-view+json": {
              "version_major": 2,
              "version_minor": 0,
              "model_id": "f0defd0404ac4201b2dec973adb4f0d7"
            }
          },
          "metadata": {}
        },
        {
          "output_type": "stream",
          "name": "stderr",
          "text": [
            "WARNING:cnstd.ppocr.pp_detector:can not find model file /root/.cnstd/1.2/ppocr/ch_PP-OCRv3_det_infer.onnx\n"
          ]
        },
        {
          "output_type": "display_data",
          "data": {
            "text/plain": [
              "ch_PP-OCRv3_det_infer-onnx.zip:   0%|          | 0.00/2.22M [00:00<?, ?B/s]"
            ],
            "application/vnd.jupyter.widget-view+json": {
              "version_major": 2,
              "version_minor": 0,
              "model_id": "d1fbb84860e5430bb1d9bcfe5f68b6a1"
            }
          },
          "metadata": {}
        },
        {
          "output_type": "stream",
          "name": "stdout",
          "text": [
            "*************** EP Error ***************\n",
            "EP Error /onnxruntime_src/onnxruntime/python/onnxruntime_pybind_state.cc:490 void onnxruntime::python::RegisterTensorRTPluginsAsCustomOps(PySessionOptions&, const onnxruntime::ProviderOptions&) Please install TensorRT libraries as mentioned in the GPU requirements page, make sure they're in the PATH or LD_LIBRARY_PATH, and that your GPU is supported.\n",
            " when using ['TensorrtExecutionProvider', 'CUDAExecutionProvider', 'CPUExecutionProvider']\n",
            "Falling back to ['CUDAExecutionProvider', 'CPUExecutionProvider'] and retrying.\n",
            "****************************************\n"
          ]
        }
      ]
    },
    {
      "cell_type": "markdown",
      "source": [
        "## Page by page\n"
      ],
      "metadata": {
        "id": "3_UMEdqb9I8N"
      }
    },
    {
      "cell_type": "code",
      "source": [
        "#page by page\n",
        "from langchain_core.documents import Document\n",
        "pages=[]\n",
        "for i in range(0,25):\n",
        "  doc = p2t.recognize_pdf(img_fp,table_as_image=False,page_numbers=[i])\n",
        "  pages.append(Document(page_content=doc.to_markdown('Page'), metadata={'page':i}))"
      ],
      "metadata": {
        "colab": {
          "base_uri": "https://localhost:8080/"
        },
        "id": "xiPXNfpAw7Ii",
        "outputId": "44ce6cfd-b831-419b-b9de-18a179a0d32f"
      },
      "execution_count": 3,
      "outputs": [
        {
          "output_type": "stream",
          "name": "stdout",
          "text": [
            "Loading /root/.pix2text/1.1/mfd-onnx/mfd-v20240618.onnx for ONNX Runtime inference...\n",
            "\n",
            "WARNING ⚠️ imgsz=[421, 1152] must be multiple of max stride 32, updating to [448, 1152]\n",
            "0: 448x1152 (no detections), 21.5ms\n",
            "Speed: 3.8ms preprocess, 21.5ms inference, 69.0ms postprocess per image at shape (1, 3, 448, 1152)\n"
          ]
        },
        {
          "output_type": "stream",
          "name": "stderr",
          "text": [
            "0it [00:00, ?it/s]\n"
          ]
        },
        {
          "output_type": "stream",
          "name": "stdout",
          "text": [
            "\n",
            "WARNING ⚠️ imgsz=[419, 1152] must be multiple of max stride 32, updating to [448, 1152]\n",
            "0: 448x1152 (no detections), 20.5ms\n",
            "Speed: 3.8ms preprocess, 20.5ms inference, 1.0ms postprocess per image at shape (1, 3, 448, 1152)\n"
          ]
        },
        {
          "output_type": "stream",
          "name": "stderr",
          "text": [
            "0it [00:00, ?it/s]\n"
          ]
        },
        {
          "output_type": "stream",
          "name": "stdout",
          "text": [
            "\n",
            "WARNING ⚠️ imgsz=[196, 1152] must be multiple of max stride 32, updating to [224, 1152]\n",
            "0: 224x1152 (no detections), 7879.5ms\n",
            "Speed: 2.9ms preprocess, 7879.5ms inference, 0.8ms postprocess per image at shape (1, 3, 224, 1152)\n"
          ]
        },
        {
          "output_type": "stream",
          "name": "stderr",
          "text": [
            "0it [00:00, ?it/s]\n"
          ]
        },
        {
          "output_type": "stream",
          "name": "stdout",
          "text": [
            "\n",
            "WARNING ⚠️ imgsz=[247, 768] must be multiple of max stride 32, updating to [256, 768]\n",
            "0: 256x768 1 isolated, 2072.2ms\n",
            "Speed: 2.3ms preprocess, 2072.2ms inference, 502.1ms postprocess per image at shape (1, 3, 256, 768)\n"
          ]
        },
        {
          "output_type": "stream",
          "name": "stderr",
          "text": [
            "100%|██████████| 1/1 [00:00<00:00,  2.68it/s]\n"
          ]
        },
        {
          "output_type": "stream",
          "name": "stdout",
          "text": [
            "\n",
            "WARNING ⚠️ imgsz=[1282, 768] must be multiple of max stride 32, updating to [1312, 768]\n",
            "0: 1312x768 (no detections), 7994.4ms\n",
            "Speed: 7.7ms preprocess, 7994.4ms inference, 0.9ms postprocess per image at shape (1, 3, 1312, 768)\n"
          ]
        },
        {
          "output_type": "stream",
          "name": "stderr",
          "text": [
            "0it [00:00, ?it/s]\n"
          ]
        },
        {
          "output_type": "stream",
          "name": "stdout",
          "text": [
            "\n",
            "WARNING ⚠️ imgsz=[598, 1152] must be multiple of max stride 32, updating to [608, 1152]\n",
            "0: 608x1152 (no detections), 8023.0ms\n",
            "Speed: 4.6ms preprocess, 8023.0ms inference, 1.8ms postprocess per image at shape (1, 3, 608, 1152)\n"
          ]
        },
        {
          "output_type": "stream",
          "name": "stderr",
          "text": [
            "0it [00:00, ?it/s]\n"
          ]
        },
        {
          "output_type": "stream",
          "name": "stdout",
          "text": [
            "\n",
            "WARNING ⚠️ imgsz=[412, 1152] must be multiple of max stride 32, updating to [416, 1152]\n",
            "0: 416x1152 (no detections), 7973.3ms\n",
            "Speed: 3.5ms preprocess, 7973.3ms inference, 0.8ms postprocess per image at shape (1, 3, 416, 1152)\n"
          ]
        },
        {
          "output_type": "stream",
          "name": "stderr",
          "text": [
            "0it [00:00, ?it/s]\n"
          ]
        },
        {
          "output_type": "stream",
          "name": "stdout",
          "text": [
            "\n",
            "WARNING ⚠️ imgsz=[233, 1152] must be multiple of max stride 32, updating to [256, 1152]\n",
            "0: 256x1152 1 embedding, 8010.5ms\n",
            "Speed: 2.3ms preprocess, 8010.5ms inference, 2.0ms postprocess per image at shape (1, 3, 256, 1152)\n"
          ]
        },
        {
          "output_type": "stream",
          "name": "stderr",
          "text": [
            "100%|██████████| 1/1 [00:00<00:00, 23.92it/s]\n"
          ]
        },
        {
          "output_type": "stream",
          "name": "stdout",
          "text": [
            "\n",
            "WARNING ⚠️ imgsz=[280, 1152] must be multiple of max stride 32, updating to [288, 1152]\n",
            "0: 288x1152 (no detections), 7942.3ms\n",
            "Speed: 2.8ms preprocess, 7942.3ms inference, 0.8ms postprocess per image at shape (1, 3, 288, 1152)\n"
          ]
        },
        {
          "output_type": "stream",
          "name": "stderr",
          "text": [
            "0it [00:00, ?it/s]\n"
          ]
        },
        {
          "output_type": "stream",
          "name": "stdout",
          "text": [
            "\n",
            "WARNING ⚠️ imgsz=[131, 1152] must be multiple of max stride 32, updating to [160, 1152]\n",
            "0: 160x1152 (no detections), 7919.7ms\n",
            "Speed: 1.6ms preprocess, 7919.7ms inference, 0.7ms postprocess per image at shape (1, 3, 160, 1152)\n"
          ]
        },
        {
          "output_type": "stream",
          "name": "stderr",
          "text": [
            "0it [00:00, ?it/s]\n"
          ]
        },
        {
          "output_type": "stream",
          "name": "stdout",
          "text": [
            "\n",
            "WARNING ⚠️ imgsz=[162, 768] must be multiple of max stride 32, updating to [192, 768]\n",
            "0: 192x768 1 embedding, 2064.7ms\n",
            "Speed: 1.5ms preprocess, 2064.7ms inference, 1.5ms postprocess per image at shape (1, 3, 192, 768)\n"
          ]
        },
        {
          "output_type": "stream",
          "name": "stderr",
          "text": [
            "100%|██████████| 1/1 [00:00<00:00, 13.75it/s]\n"
          ]
        },
        {
          "output_type": "stream",
          "name": "stdout",
          "text": [
            "\n",
            "WARNING ⚠️ imgsz=[1251, 768] must be multiple of max stride 32, updating to [1280, 768]\n",
            "0: 1280x768 (no detections), 8116.8ms\n",
            "Speed: 7.7ms preprocess, 8116.8ms inference, 1.5ms postprocess per image at shape (1, 3, 1280, 768)\n"
          ]
        },
        {
          "output_type": "stream",
          "name": "stderr",
          "text": [
            "0it [00:00, ?it/s]\n"
          ]
        },
        {
          "output_type": "stream",
          "name": "stdout",
          "text": [
            "\n",
            "WARNING ⚠️ imgsz=[264, 1152] must be multiple of max stride 32, updating to [288, 1152]\n",
            "0: 288x1152 (no detections), 9.3ms\n",
            "Speed: 2.3ms preprocess, 9.3ms inference, 3.7ms postprocess per image at shape (1, 3, 288, 1152)\n"
          ]
        },
        {
          "output_type": "stream",
          "name": "stderr",
          "text": [
            "0it [00:00, ?it/s]\n"
          ]
        },
        {
          "output_type": "stream",
          "name": "stdout",
          "text": [
            "\n",
            "WARNING ⚠️ imgsz=[232, 1152] must be multiple of max stride 32, updating to [256, 1152]\n",
            "0: 256x1152 1 embedding, 18.1ms\n",
            "Speed: 2.9ms preprocess, 18.1ms inference, 1.6ms postprocess per image at shape (1, 3, 256, 1152)\n"
          ]
        },
        {
          "output_type": "stream",
          "name": "stderr",
          "text": [
            "100%|██████████| 1/1 [00:00<00:00, 21.29it/s]\n"
          ]
        },
        {
          "output_type": "stream",
          "name": "stdout",
          "text": [
            "\n",
            "WARNING ⚠️ imgsz=[429, 1152] must be multiple of max stride 32, updating to [448, 1152]\n",
            "0: 448x1152 (no detections), 20.5ms\n",
            "Speed: 4.3ms preprocess, 20.5ms inference, 0.8ms postprocess per image at shape (1, 3, 448, 1152)\n"
          ]
        },
        {
          "output_type": "stream",
          "name": "stderr",
          "text": [
            "0it [00:00, ?it/s]\n"
          ]
        },
        {
          "output_type": "stream",
          "name": "stdout",
          "text": [
            "\n",
            "WARNING ⚠️ imgsz=[273, 1152] must be multiple of max stride 32, updating to [288, 1152]\n",
            "0: 288x1152 (no detections), 9.5ms\n",
            "Speed: 2.4ms preprocess, 9.5ms inference, 0.8ms postprocess per image at shape (1, 3, 288, 1152)\n"
          ]
        },
        {
          "output_type": "stream",
          "name": "stderr",
          "text": [
            "0it [00:00, ?it/s]\n"
          ]
        },
        {
          "output_type": "stream",
          "name": "stdout",
          "text": [
            "\n",
            "WARNING ⚠️ imgsz=[254, 768] must be multiple of max stride 32, updating to [256, 768]\n",
            "0: 256x768 1 isolated, 17.1ms\n",
            "Speed: 1.5ms preprocess, 17.1ms inference, 1.6ms postprocess per image at shape (1, 3, 256, 768)\n"
          ]
        },
        {
          "output_type": "stream",
          "name": "stderr",
          "text": [
            "100%|██████████| 1/1 [00:00<00:00, 10.04it/s]\n"
          ]
        },
        {
          "output_type": "stream",
          "name": "stdout",
          "text": [
            "\n",
            "WARNING ⚠️ imgsz=[129, 1152] must be multiple of max stride 32, updating to [160, 1152]\n",
            "0: 160x1152 (no detections), 18.1ms\n",
            "Speed: 2.5ms preprocess, 18.1ms inference, 0.7ms postprocess per image at shape (1, 3, 160, 1152)\n"
          ]
        },
        {
          "output_type": "stream",
          "name": "stderr",
          "text": [
            "0it [00:00, ?it/s]\n",
            "100%|██████████| 1/1 [00:02<00:00,  2.62s/it]\n",
            "100%|██████████| 1/1 [00:00<00:00,  5.19it/s]\n",
            "100%|██████████| 1/1 [00:00<00:00,  4.82it/s]"
          ]
        },
        {
          "output_type": "stream",
          "name": "stdout",
          "text": [
            "\n"
          ]
        },
        {
          "output_type": "stream",
          "name": "stderr",
          "text": [
            "\n"
          ]
        },
        {
          "output_type": "stream",
          "name": "stdout",
          "text": [
            "0: 128x768 (no detections), 1954.8ms\n",
            "Speed: 0.9ms preprocess, 1954.8ms inference, 0.7ms postprocess per image at shape (1, 3, 128, 768)\n"
          ]
        },
        {
          "output_type": "stream",
          "name": "stderr",
          "text": [
            "0it [00:00, ?it/s]\n"
          ]
        },
        {
          "output_type": "stream",
          "name": "stdout",
          "text": [
            "\n",
            "WARNING ⚠️ imgsz=[1255, 768] must be multiple of max stride 32, updating to [1280, 768]\n",
            "0: 1280x768 1 embedding, 14.3ms\n",
            "Speed: 7.4ms preprocess, 14.3ms inference, 1.5ms postprocess per image at shape (1, 3, 1280, 768)\n"
          ]
        },
        {
          "output_type": "stream",
          "name": "stderr",
          "text": [
            "100%|██████████| 1/1 [00:00<00:00, 12.70it/s]\n"
          ]
        },
        {
          "output_type": "stream",
          "name": "stdout",
          "text": [
            "\n",
            "WARNING ⚠️ imgsz=[172, 768] must be multiple of max stride 32, updating to [192, 768]\n",
            "0: 192x768 2 isolateds, 6.9ms\n",
            "Speed: 1.1ms preprocess, 6.9ms inference, 3.7ms postprocess per image at shape (1, 3, 192, 768)\n"
          ]
        },
        {
          "output_type": "stream",
          "name": "stderr",
          "text": [
            "100%|██████████| 1/1 [00:00<00:00,  7.56it/s]\n"
          ]
        },
        {
          "output_type": "stream",
          "name": "stdout",
          "text": [
            "\n",
            "WARNING ⚠️ imgsz=[359, 768] must be multiple of max stride 32, updating to [384, 768]\n",
            "0: 384x768 1 isolated, 1985.5ms\n",
            "Speed: 2.7ms preprocess, 1985.5ms inference, 1.6ms postprocess per image at shape (1, 3, 384, 768)\n"
          ]
        },
        {
          "output_type": "stream",
          "name": "stderr",
          "text": [
            "100%|██████████| 1/1 [00:00<00:00, 16.63it/s]\n"
          ]
        },
        {
          "output_type": "stream",
          "name": "stdout",
          "text": [
            "\n",
            "WARNING ⚠️ imgsz=[290, 768] must be multiple of max stride 32, updating to [320, 768]\n",
            "0: 320x768 1 isolated, 1988.4ms\n",
            "Speed: 1.4ms preprocess, 1988.4ms inference, 1.6ms postprocess per image at shape (1, 3, 320, 768)\n"
          ]
        },
        {
          "output_type": "stream",
          "name": "stderr",
          "text": [
            "100%|██████████| 1/1 [00:00<00:00, 16.61it/s]\n"
          ]
        },
        {
          "output_type": "stream",
          "name": "stdout",
          "text": [
            "\n",
            "WARNING ⚠️ imgsz=[447, 768] must be multiple of max stride 32, updating to [448, 768]\n",
            "0: 448x768 3 isolateds, 1988.7ms\n",
            "Speed: 1.9ms preprocess, 1988.7ms inference, 2.1ms postprocess per image at shape (1, 3, 448, 768)\n"
          ]
        },
        {
          "output_type": "stream",
          "name": "stderr",
          "text": [
            "100%|██████████| 1/1 [00:00<00:00,  4.86it/s]\n"
          ]
        },
        {
          "output_type": "stream",
          "name": "stdout",
          "text": [
            "\n",
            "WARNING ⚠️ imgsz=[298, 768] must be multiple of max stride 32, updating to [320, 768]\n",
            "0: 320x768 1 isolated, 9.2ms\n",
            "Speed: 2.3ms preprocess, 9.2ms inference, 1.5ms postprocess per image at shape (1, 3, 320, 768)\n"
          ]
        },
        {
          "output_type": "stream",
          "name": "stderr",
          "text": [
            "100%|██████████| 1/1 [00:00<00:00, 13.70it/s]\n"
          ]
        },
        {
          "output_type": "stream",
          "name": "stdout",
          "text": [
            "\n",
            "WARNING ⚠️ imgsz=[362, 768] must be multiple of max stride 32, updating to [384, 768]\n",
            "0: 384x768 1 isolated, 8.1ms\n",
            "Speed: 1.8ms preprocess, 8.1ms inference, 1.6ms postprocess per image at shape (1, 3, 384, 768)\n"
          ]
        },
        {
          "output_type": "stream",
          "name": "stderr",
          "text": [
            "100%|██████████| 1/1 [00:00<00:00, 11.49it/s]\n"
          ]
        },
        {
          "output_type": "stream",
          "name": "stdout",
          "text": [
            "\n",
            "WARNING ⚠️ imgsz=[267, 768] must be multiple of max stride 32, updating to [288, 768]\n",
            "0: 288x768 1 isolated, 1977.8ms\n",
            "Speed: 1.4ms preprocess, 1977.8ms inference, 1.5ms postprocess per image at shape (1, 3, 288, 768)\n"
          ]
        },
        {
          "output_type": "stream",
          "name": "stderr",
          "text": [
            "100%|██████████| 1/1 [00:00<00:00, 11.71it/s]\n"
          ]
        },
        {
          "output_type": "stream",
          "name": "stdout",
          "text": [
            "\n",
            "WARNING ⚠️ imgsz=[294, 768] must be multiple of max stride 32, updating to [320, 768]\n",
            "0: 320x768 1 isolated, 11.6ms\n",
            "Speed: 2.0ms preprocess, 11.6ms inference, 1.5ms postprocess per image at shape (1, 3, 320, 768)\n"
          ]
        },
        {
          "output_type": "stream",
          "name": "stderr",
          "text": [
            "100%|██████████| 1/1 [00:00<00:00, 15.55it/s]"
          ]
        },
        {
          "output_type": "stream",
          "name": "stdout",
          "text": [
            "\n",
            "WARNING ⚠️ imgsz=[107, 768] must be multiple of max stride 32, updating to [128, 768]\n",
            "0: 128x768 1 embedding, 6.0ms\n",
            "Speed: 0.9ms preprocess, 6.0ms inference, 1.4ms postprocess per image at shape (1, 3, 128, 768)\n"
          ]
        },
        {
          "output_type": "stream",
          "name": "stderr",
          "text": [
            "\n",
            "100%|██████████| 1/1 [00:00<00:00, 43.09it/s]\n"
          ]
        },
        {
          "output_type": "stream",
          "name": "stdout",
          "text": [
            "\n",
            "WARNING ⚠️ imgsz=[122, 768] must be multiple of max stride 32, updating to [128, 768]\n",
            "0: 128x768 1 isolated, 15.1ms\n",
            "Speed: 1.5ms preprocess, 15.1ms inference, 1.4ms postprocess per image at shape (1, 3, 128, 768)\n"
          ]
        },
        {
          "output_type": "stream",
          "name": "stderr",
          "text": [
            "100%|██████████| 1/1 [00:00<00:00,  4.08it/s]"
          ]
        },
        {
          "output_type": "stream",
          "name": "stdout",
          "text": [
            "\n",
            "WARNING ⚠️ imgsz=[227, 1152] must be multiple of max stride 32, updating to [256, 1152]\n",
            "0: 256x1152 4 embeddings, 8.8ms\n",
            "Speed: 2.1ms preprocess, 8.8ms inference, 1.6ms postprocess per image at shape (1, 3, 256, 1152)\n"
          ]
        },
        {
          "output_type": "stream",
          "name": "stderr",
          "text": [
            "\n",
            "100%|██████████| 4/4 [00:00<00:00, 34.38it/s]\n"
          ]
        },
        {
          "output_type": "stream",
          "name": "stdout",
          "text": [
            "\n",
            "WARNING ⚠️ imgsz=[166, 1152] must be multiple of max stride 32, updating to [192, 1152]\n",
            "0: 192x1152 (no detections), 7905.1ms\n",
            "Speed: 1.7ms preprocess, 7905.1ms inference, 1.1ms postprocess per image at shape (1, 3, 192, 1152)\n"
          ]
        },
        {
          "output_type": "stream",
          "name": "stderr",
          "text": [
            "0it [00:00, ?it/s]\n"
          ]
        },
        {
          "output_type": "stream",
          "name": "stdout",
          "text": [
            "\n",
            "WARNING ⚠️ imgsz=[156, 1152] must be multiple of max stride 32, updating to [160, 1152]\n",
            "0: 160x1152 (no detections), 18.1ms\n",
            "Speed: 1.9ms preprocess, 18.1ms inference, 0.7ms postprocess per image at shape (1, 3, 160, 1152)\n"
          ]
        },
        {
          "output_type": "stream",
          "name": "stderr",
          "text": [
            "0it [00:00, ?it/s]\n"
          ]
        },
        {
          "output_type": "stream",
          "name": "stdout",
          "text": [
            "\n",
            "WARNING ⚠️ imgsz=[190, 1152] must be multiple of max stride 32, updating to [192, 1152]\n",
            "0: 192x1152 2 embeddings, 18.1ms\n",
            "Speed: 2.2ms preprocess, 18.1ms inference, 1.7ms postprocess per image at shape (1, 3, 192, 1152)\n"
          ]
        },
        {
          "output_type": "stream",
          "name": "stderr",
          "text": [
            "100%|██████████| 2/2 [00:00<00:00, 28.02it/s]\n"
          ]
        },
        {
          "output_type": "stream",
          "name": "stdout",
          "text": [
            "\n",
            "WARNING ⚠️ imgsz=[340, 768] must be multiple of max stride 32, updating to [352, 768]\n",
            "0: 352x768 1 isolated, 2062.1ms\n",
            "Speed: 2.0ms preprocess, 2062.1ms inference, 1.6ms postprocess per image at shape (1, 3, 352, 768)\n"
          ]
        },
        {
          "output_type": "stream",
          "name": "stderr",
          "text": [
            "100%|██████████| 1/1 [00:00<00:00, 14.03it/s]"
          ]
        },
        {
          "output_type": "stream",
          "name": "stdout",
          "text": [
            "\n",
            "WARNING ⚠️ imgsz=[162, 1152] must be multiple of max stride 32, updating to [192, 1152]\n",
            "0: 192x1152 (no detections), 18.1ms\n",
            "Speed: 2.2ms preprocess, 18.1ms inference, 0.7ms postprocess per image at shape (1, 3, 192, 1152)\n"
          ]
        },
        {
          "output_type": "stream",
          "name": "stderr",
          "text": [
            "\n",
            "0it [00:00, ?it/s]\n"
          ]
        },
        {
          "output_type": "stream",
          "name": "stdout",
          "text": [
            "\n",
            "WARNING ⚠️ imgsz=[121, 1152] must be multiple of max stride 32, updating to [128, 1152]\n",
            "0: 128x1152 (no detections), 8095.8ms\n",
            "Speed: 1.7ms preprocess, 8095.8ms inference, 0.8ms postprocess per image at shape (1, 3, 128, 1152)\n"
          ]
        },
        {
          "output_type": "stream",
          "name": "stderr",
          "text": [
            "0it [00:00, ?it/s]\n"
          ]
        },
        {
          "output_type": "stream",
          "name": "stdout",
          "text": [
            "\n",
            "WARNING ⚠️ imgsz=[171, 1152] must be multiple of max stride 32, updating to [192, 1152]\n",
            "0: 192x1152 (no detections), 18.1ms\n",
            "Speed: 2.3ms preprocess, 18.1ms inference, 0.8ms postprocess per image at shape (1, 3, 192, 1152)\n"
          ]
        },
        {
          "output_type": "stream",
          "name": "stderr",
          "text": [
            "0it [00:00, ?it/s]\n"
          ]
        },
        {
          "output_type": "stream",
          "name": "stdout",
          "text": [
            "\n",
            "WARNING ⚠️ imgsz=[162, 1152] must be multiple of max stride 32, updating to [192, 1152]\n",
            "0: 192x1152 (no detections), 18.1ms\n",
            "Speed: 2.4ms preprocess, 18.1ms inference, 0.7ms postprocess per image at shape (1, 3, 192, 1152)\n"
          ]
        },
        {
          "output_type": "stream",
          "name": "stderr",
          "text": [
            "0it [00:00, ?it/s]\n"
          ]
        },
        {
          "output_type": "stream",
          "name": "stdout",
          "text": [
            "\n",
            "0: 160x1152 1 embedding, 18.1ms\n",
            "Speed: 1.8ms preprocess, 18.1ms inference, 1.5ms postprocess per image at shape (1, 3, 160, 1152)\n"
          ]
        },
        {
          "output_type": "stream",
          "name": "stderr",
          "text": [
            "100%|██████████| 1/1 [00:00<00:00, 15.41it/s]\n"
          ]
        },
        {
          "output_type": "stream",
          "name": "stdout",
          "text": [
            "\n",
            "WARNING ⚠️ imgsz=[164, 768] must be multiple of max stride 32, updating to [192, 768]\n",
            "0: 192x768 1 embedding, 1 isolated, 17.0ms\n",
            "Speed: 1.3ms preprocess, 17.0ms inference, 1.5ms postprocess per image at shape (1, 3, 192, 768)\n"
          ]
        },
        {
          "output_type": "stream",
          "name": "stderr",
          "text": [
            "100%|██████████| 1/1 [00:00<00:00,  5.59it/s]\n"
          ]
        },
        {
          "output_type": "stream",
          "name": "stdout",
          "text": [
            "\n",
            "WARNING ⚠️ imgsz=[1281, 768] must be multiple of max stride 32, updating to [1312, 768]\n",
            "0: 1312x768 (no detections), 13.9ms\n",
            "Speed: 7.2ms preprocess, 13.9ms inference, 0.7ms postprocess per image at shape (1, 3, 1312, 768)\n"
          ]
        },
        {
          "output_type": "stream",
          "name": "stderr",
          "text": [
            "0it [00:00, ?it/s]\n"
          ]
        },
        {
          "output_type": "stream",
          "name": "stdout",
          "text": [
            "\n",
            "WARNING ⚠️ imgsz=[273, 1152] must be multiple of max stride 32, updating to [288, 1152]\n",
            "0: 288x1152 (no detections), 9.2ms\n",
            "Speed: 2.4ms preprocess, 9.2ms inference, 0.8ms postprocess per image at shape (1, 3, 288, 1152)\n"
          ]
        },
        {
          "output_type": "stream",
          "name": "stderr",
          "text": [
            "0it [00:00, ?it/s]\n"
          ]
        },
        {
          "output_type": "stream",
          "name": "stdout",
          "text": [
            "\n",
            "WARNING ⚠️ imgsz=[119, 1152] must be multiple of max stride 32, updating to [128, 1152]\n",
            "0: 128x1152 1 embedding, 17.0ms\n",
            "Speed: 1.9ms preprocess, 17.0ms inference, 1.5ms postprocess per image at shape (1, 3, 128, 1152)\n"
          ]
        },
        {
          "output_type": "stream",
          "name": "stderr",
          "text": [
            "100%|██████████| 1/1 [00:00<00:00, 12.30it/s]\n"
          ]
        },
        {
          "output_type": "stream",
          "name": "stdout",
          "text": [
            "\n",
            "WARNING ⚠️ imgsz=[205, 1152] must be multiple of max stride 32, updating to [224, 1152]\n",
            "0: 224x1152 8 embeddings, 18.1ms\n",
            "Speed: 2.0ms preprocess, 18.1ms inference, 1.7ms postprocess per image at shape (1, 3, 224, 1152)\n"
          ]
        },
        {
          "output_type": "stream",
          "name": "stderr",
          "text": [
            "100%|██████████| 7/7 [00:00<00:00, 28.07it/s]\n",
            "100%|██████████| 1/1 [00:00<00:00,  4.56it/s]"
          ]
        },
        {
          "output_type": "stream",
          "name": "stdout",
          "text": [
            "\n",
            "WARNING ⚠️ imgsz=[207, 1152] must be multiple of max stride 32, updating to [224, 1152]\n",
            "0: 224x1152 4 embeddings, 18.1ms\n",
            "Speed: 2.7ms preprocess, 18.1ms inference, 1.5ms postprocess per image at shape (1, 3, 224, 1152)\n"
          ]
        },
        {
          "output_type": "stream",
          "name": "stderr",
          "text": [
            "\n",
            "100%|██████████| 4/4 [00:00<00:00, 26.72it/s]\n",
            "100%|██████████| 1/1 [00:00<00:00,  3.68it/s]"
          ]
        },
        {
          "output_type": "stream",
          "name": "stdout",
          "text": [
            "\n",
            "WARNING ⚠️ imgsz=[134, 1152] must be multiple of max stride 32, updating to [160, 1152]\n",
            "0: 160x1152 (no detections), 7.5ms\n",
            "Speed: 1.5ms preprocess, 7.5ms inference, 0.8ms postprocess per image at shape (1, 3, 160, 1152)\n"
          ]
        },
        {
          "output_type": "stream",
          "name": "stderr",
          "text": [
            "\n",
            "0it [00:00, ?it/s]\n",
            "100%|██████████| 1/1 [00:02<00:00,  2.21s/it]"
          ]
        },
        {
          "output_type": "stream",
          "name": "stdout",
          "text": [
            "\n",
            "WARNING ⚠️ imgsz=[132, 1152] must be multiple of max stride 32, updating to [160, 1152]\n",
            "0: 160x1152 3 embeddings, 7.0ms\n",
            "Speed: 1.4ms preprocess, 7.0ms inference, 1.6ms postprocess per image at shape (1, 3, 160, 1152)\n"
          ]
        },
        {
          "output_type": "stream",
          "name": "stderr",
          "text": [
            "\n",
            "100%|██████████| 2/2 [00:00<00:00, 23.37it/s]\n",
            "100%|██████████| 1/1 [00:00<00:00,  4.08it/s]\n"
          ]
        },
        {
          "output_type": "stream",
          "name": "stdout",
          "text": [
            "\n",
            "0: 128x1152 (no detections), 17.0ms\n",
            "Speed: 1.5ms preprocess, 17.0ms inference, 0.7ms postprocess per image at shape (1, 3, 128, 1152)\n"
          ]
        },
        {
          "output_type": "stream",
          "name": "stderr",
          "text": [
            "0it [00:00, ?it/s]\n",
            "100%|██████████| 1/1 [00:00<00:00,  2.94it/s]"
          ]
        },
        {
          "output_type": "stream",
          "name": "stdout",
          "text": [
            "\n",
            "WARNING ⚠️ imgsz=[75, 768] must be multiple of max stride 32, updating to [96, 768]\n"
          ]
        },
        {
          "output_type": "stream",
          "name": "stderr",
          "text": [
            "\n"
          ]
        },
        {
          "output_type": "stream",
          "name": "stdout",
          "text": [
            "0: 96x768 1 embedding, 1921.4ms\n",
            "Speed: 0.8ms preprocess, 1921.4ms inference, 1.5ms postprocess per image at shape (1, 3, 96, 768)\n"
          ]
        },
        {
          "output_type": "stream",
          "name": "stderr",
          "text": [
            "100%|██████████| 1/1 [00:00<00:00, 15.12it/s]\n"
          ]
        },
        {
          "output_type": "stream",
          "name": "stdout",
          "text": [
            "\n",
            "WARNING ⚠️ imgsz=[465, 768] must be multiple of max stride 32, updating to [480, 768]\n",
            "0: 480x768 1 isolated, 2083.9ms\n",
            "Speed: 2.8ms preprocess, 2083.9ms inference, 1.5ms postprocess per image at shape (1, 3, 480, 768)\n"
          ]
        },
        {
          "output_type": "stream",
          "name": "stderr",
          "text": [
            "100%|██████████| 1/1 [00:00<00:00, 19.72it/s]\n"
          ]
        },
        {
          "output_type": "stream",
          "name": "stdout",
          "text": [
            "\n",
            "WARNING ⚠️ imgsz=[124, 1152] must be multiple of max stride 32, updating to [128, 1152]\n",
            "0: 128x1152 3 embeddings, 7.0ms\n",
            "Speed: 1.2ms preprocess, 7.0ms inference, 1.4ms postprocess per image at shape (1, 3, 128, 1152)\n"
          ]
        },
        {
          "output_type": "stream",
          "name": "stderr",
          "text": [
            "100%|██████████| 3/3 [00:00<00:00, 25.24it/s]\n",
            "100%|██████████| 1/1 [00:00<00:00,  7.07it/s]"
          ]
        },
        {
          "output_type": "stream",
          "name": "stdout",
          "text": [
            "\n",
            "WARNING ⚠️ imgsz=[107, 768] must be multiple of max stride 32, updating to [128, 768]\n",
            "0: 128x768 (no detections), 5.9ms\n",
            "Speed: 0.8ms preprocess, 5.9ms inference, 0.6ms postprocess per image at shape (1, 3, 128, 768)\n"
          ]
        },
        {
          "output_type": "stream",
          "name": "stderr",
          "text": [
            "\n",
            "0it [00:00, ?it/s]\n"
          ]
        },
        {
          "output_type": "stream",
          "name": "stdout",
          "text": [
            "\n",
            "WARNING ⚠️ imgsz=[119, 768] must be multiple of max stride 32, updating to [128, 768]\n",
            "0: 128x768 (no detections), 15.3ms\n",
            "Speed: 2.0ms preprocess, 15.3ms inference, 0.8ms postprocess per image at shape (1, 3, 128, 768)\n"
          ]
        },
        {
          "output_type": "stream",
          "name": "stderr",
          "text": [
            "0it [00:00, ?it/s]\n"
          ]
        },
        {
          "output_type": "stream",
          "name": "stdout",
          "text": [
            "\n",
            "WARNING ⚠️ imgsz=[1319, 768] must be multiple of max stride 32, updating to [1344, 768]\n",
            "0: 1344x768 (no detections), 8052.8ms\n",
            "Speed: 7.6ms preprocess, 8052.8ms inference, 0.8ms postprocess per image at shape (1, 3, 1344, 768)\n"
          ]
        },
        {
          "output_type": "stream",
          "name": "stderr",
          "text": [
            "0it [00:00, ?it/s]\n"
          ]
        },
        {
          "output_type": "stream",
          "name": "stdout",
          "text": [
            "\n",
            "WARNING ⚠️ imgsz=[353, 1152] must be multiple of max stride 32, updating to [384, 1152]\n",
            "0: 384x1152 7 embeddings, 7951.9ms\n",
            "Speed: 3.0ms preprocess, 7951.9ms inference, 1.6ms postprocess per image at shape (1, 3, 384, 1152)\n"
          ]
        },
        {
          "output_type": "stream",
          "name": "stderr",
          "text": [
            "100%|██████████| 7/7 [00:00<00:00, 22.29it/s]\n",
            "100%|██████████| 1/1 [00:00<00:00,  3.53it/s]"
          ]
        },
        {
          "output_type": "stream",
          "name": "stdout",
          "text": [
            "\n",
            "WARNING ⚠️ imgsz=[131, 1152] must be multiple of max stride 32, updating to [160, 1152]\n",
            "0: 160x1152 2 embeddings, 7.6ms\n",
            "Speed: 1.4ms preprocess, 7.6ms inference, 1.5ms postprocess per image at shape (1, 3, 160, 1152)\n"
          ]
        },
        {
          "output_type": "stream",
          "name": "stderr",
          "text": [
            "\n",
            "100%|██████████| 2/2 [00:00<00:00, 32.85it/s]\n",
            "100%|██████████| 1/1 [00:00<00:00,  2.64it/s]"
          ]
        },
        {
          "output_type": "stream",
          "name": "stdout",
          "text": [
            "\n",
            "WARNING ⚠️ imgsz=[129, 1152] must be multiple of max stride 32, updating to [160, 1152]\n",
            "0: 160x1152 (no detections), 7.2ms\n",
            "Speed: 1.5ms preprocess, 7.2ms inference, 0.7ms postprocess per image at shape (1, 3, 160, 1152)\n"
          ]
        },
        {
          "output_type": "stream",
          "name": "stderr",
          "text": [
            "\n",
            "0it [00:00, ?it/s]\n"
          ]
        },
        {
          "output_type": "stream",
          "name": "stdout",
          "text": [
            "\n",
            "WARNING ⚠️ imgsz=[235, 1152] must be multiple of max stride 32, updating to [256, 1152]\n",
            "0: 256x1152 1 embedding, 9.0ms\n",
            "Speed: 2.2ms preprocess, 9.0ms inference, 1.6ms postprocess per image at shape (1, 3, 256, 1152)\n"
          ]
        },
        {
          "output_type": "stream",
          "name": "stderr",
          "text": [
            "100%|██████████| 1/1 [00:00<00:00, 24.77it/s]\n",
            "100%|██████████| 1/1 [00:00<00:00,  4.91it/s]"
          ]
        },
        {
          "output_type": "stream",
          "name": "stdout",
          "text": [
            "\n",
            "WARNING ⚠️ imgsz=[133, 1152] must be multiple of max stride 32, updating to [160, 1152]\n",
            "0: 160x1152 (no detections), 14.9ms\n",
            "Speed: 1.5ms preprocess, 14.9ms inference, 0.7ms postprocess per image at shape (1, 3, 160, 1152)\n"
          ]
        },
        {
          "output_type": "stream",
          "name": "stderr",
          "text": [
            "\n",
            "0it [00:00, ?it/s]\n"
          ]
        },
        {
          "output_type": "stream",
          "name": "stdout",
          "text": [
            "\n",
            "WARNING ⚠️ imgsz=[167, 1152] must be multiple of max stride 32, updating to [192, 1152]\n",
            "0: 192x1152 (no detections), 18.1ms\n",
            "Speed: 2.0ms preprocess, 18.1ms inference, 0.8ms postprocess per image at shape (1, 3, 192, 1152)\n"
          ]
        },
        {
          "output_type": "stream",
          "name": "stderr",
          "text": [
            "0it [00:00, ?it/s]\n"
          ]
        },
        {
          "output_type": "stream",
          "name": "stdout",
          "text": [
            "\n",
            "WARNING ⚠️ imgsz=[199, 1152] must be multiple of max stride 32, updating to [224, 1152]\n",
            "0: 224x1152 2 embeddings, 18.1ms\n",
            "Speed: 2.3ms preprocess, 18.1ms inference, 1.5ms postprocess per image at shape (1, 3, 224, 1152)\n"
          ]
        },
        {
          "output_type": "stream",
          "name": "stderr",
          "text": [
            "100%|██████████| 2/2 [00:00<00:00, 30.80it/s]\n"
          ]
        },
        {
          "output_type": "stream",
          "name": "stdout",
          "text": [
            "\n",
            "WARNING ⚠️ imgsz=[169, 768] must be multiple of max stride 32, updating to [192, 768]\n",
            "0: 192x768 2 embeddings, 1 isolated, 17.0ms\n",
            "Speed: 1.9ms preprocess, 17.0ms inference, 1.9ms postprocess per image at shape (1, 3, 192, 768)\n"
          ]
        },
        {
          "output_type": "stream",
          "name": "stderr",
          "text": [
            "100%|██████████| 1/1 [00:00<00:00,  6.29it/s]\n",
            "100%|██████████| 1/1 [00:00<00:00,  4.67it/s]\n"
          ]
        },
        {
          "output_type": "stream",
          "name": "stdout",
          "text": [
            "\n",
            "WARNING ⚠️ imgsz=[1279, 768] must be multiple of max stride 32, updating to [1280, 768]\n",
            "0: 1280x768 (no detections), 13.9ms\n",
            "Speed: 7.4ms preprocess, 13.9ms inference, 0.8ms postprocess per image at shape (1, 3, 1280, 768)\n"
          ]
        },
        {
          "output_type": "stream",
          "name": "stderr",
          "text": [
            "0it [00:00, ?it/s]\n"
          ]
        },
        {
          "output_type": "stream",
          "name": "stdout",
          "text": [
            "\n",
            "WARNING ⚠️ imgsz=[107, 768] must be multiple of max stride 32, updating to [128, 768]\n",
            "0: 128x768 (no detections), 5.9ms\n",
            "Speed: 0.8ms preprocess, 5.9ms inference, 0.6ms postprocess per image at shape (1, 3, 128, 768)\n"
          ]
        },
        {
          "output_type": "stream",
          "name": "stderr",
          "text": [
            "0it [00:00, ?it/s]\n"
          ]
        },
        {
          "output_type": "stream",
          "name": "stdout",
          "text": [
            "\n",
            "WARNING ⚠️ imgsz=[159, 1152] must be multiple of max stride 32, updating to [160, 1152]\n",
            "0: 160x1152 (no detections), 7.3ms\n",
            "Speed: 1.5ms preprocess, 7.3ms inference, 0.7ms postprocess per image at shape (1, 3, 160, 1152)\n"
          ]
        },
        {
          "output_type": "stream",
          "name": "stderr",
          "text": [
            "0it [00:00, ?it/s]\n",
            "100%|██████████| 1/1 [00:00<00:00,  2.98it/s]"
          ]
        },
        {
          "output_type": "stream",
          "name": "stdout",
          "text": [
            "\n",
            "WARNING ⚠️ imgsz=[129, 1152] must be multiple of max stride 32, updating to [160, 1152]\n",
            "0: 160x1152 (no detections), 7.1ms\n",
            "Speed: 1.4ms preprocess, 7.1ms inference, 0.7ms postprocess per image at shape (1, 3, 160, 1152)\n"
          ]
        },
        {
          "output_type": "stream",
          "name": "stderr",
          "text": [
            "\n",
            "0it [00:00, ?it/s]\n",
            "100%|██████████| 1/1 [00:00<00:00,  2.79it/s]\n"
          ]
        },
        {
          "output_type": "stream",
          "name": "stdout",
          "text": [
            "\n",
            "WARNING ⚠️ imgsz=[133, 1152] must be multiple of max stride 32, updating to [160, 1152]\n",
            "0: 160x1152 (no detections), 9.0ms\n",
            "Speed: 2.1ms preprocess, 9.0ms inference, 0.8ms postprocess per image at shape (1, 3, 160, 1152)\n"
          ]
        },
        {
          "output_type": "stream",
          "name": "stderr",
          "text": [
            "0it [00:00, ?it/s]\n",
            "100%|██████████| 1/1 [00:00<00:00,  4.45it/s]"
          ]
        },
        {
          "output_type": "stream",
          "name": "stdout",
          "text": [
            "\n",
            "WARNING ⚠️ imgsz=[89, 768] must be multiple of max stride 32, updating to [96, 768]\n",
            "0: 96x768 (no detections), 14.6ms\n",
            "Speed: 1.7ms preprocess, 14.6ms inference, 0.6ms postprocess per image at shape (1, 3, 96, 768)\n"
          ]
        },
        {
          "output_type": "stream",
          "name": "stderr",
          "text": [
            "\n",
            "0it [00:00, ?it/s]\n",
            "100%|██████████| 1/1 [00:00<00:00,  4.67it/s]"
          ]
        },
        {
          "output_type": "stream",
          "name": "stdout",
          "text": [
            "\n",
            "WARNING ⚠️ imgsz=[79, 768] must be multiple of max stride 32, updating to [96, 768]\n",
            "0: 96x768 (no detections), 11.8ms\n",
            "Speed: 1.9ms preprocess, 11.8ms inference, 0.7ms postprocess per image at shape (1, 3, 96, 768)\n"
          ]
        },
        {
          "output_type": "stream",
          "name": "stderr",
          "text": [
            "\n",
            "0it [00:00, ?it/s]\n"
          ]
        },
        {
          "output_type": "stream",
          "name": "stdout",
          "text": [
            "\n",
            "WARNING ⚠️ imgsz=[119, 1152] must be multiple of max stride 32, updating to [128, 1152]\n",
            "0: 128x1152 1 embedding, 17.1ms\n",
            "Speed: 1.6ms preprocess, 17.1ms inference, 1.5ms postprocess per image at shape (1, 3, 128, 1152)\n"
          ]
        },
        {
          "output_type": "stream",
          "name": "stderr",
          "text": [
            "100%|██████████| 1/1 [00:00<00:00, 24.99it/s]\n",
            "100%|██████████| 1/1 [00:01<00:00,  1.70s/it]"
          ]
        },
        {
          "output_type": "stream",
          "name": "stdout",
          "text": [
            "\n",
            "WARNING ⚠️ imgsz=[99, 768] must be multiple of max stride 32, updating to [128, 768]\n",
            "0: 128x768 1 embedding, 6.0ms\n",
            "Speed: 0.8ms preprocess, 6.0ms inference, 1.4ms postprocess per image at shape (1, 3, 128, 768)\n"
          ]
        },
        {
          "output_type": "stream",
          "name": "stderr",
          "text": [
            "\n",
            "100%|██████████| 1/1 [00:00<00:00, 28.63it/s]\n",
            "100%|██████████| 1/1 [00:00<00:00,  4.66it/s]"
          ]
        },
        {
          "output_type": "stream",
          "name": "stdout",
          "text": [
            "\n",
            "WARNING ⚠️ imgsz=[130, 1152] must be multiple of max stride 32, updating to [160, 1152]\n",
            "0: 160x1152 3 embeddings, 7.7ms\n",
            "Speed: 1.4ms preprocess, 7.7ms inference, 1.6ms postprocess per image at shape (1, 3, 160, 1152)\n"
          ]
        },
        {
          "output_type": "stream",
          "name": "stderr",
          "text": [
            "\n",
            "100%|██████████| 3/3 [00:00<00:00, 25.89it/s]\n"
          ]
        },
        {
          "output_type": "stream",
          "name": "stdout",
          "text": [
            "\n",
            "WARNING ⚠️ imgsz=[110, 768] must be multiple of max stride 32, updating to [128, 768]\n",
            "0: 128x768 (no detections), 6.5ms\n",
            "Speed: 1.1ms preprocess, 6.5ms inference, 0.7ms postprocess per image at shape (1, 3, 128, 768)\n"
          ]
        },
        {
          "output_type": "stream",
          "name": "stderr",
          "text": [
            "0it [00:00, ?it/s]\n"
          ]
        },
        {
          "output_type": "stream",
          "name": "stdout",
          "text": [
            "\n",
            "WARNING ⚠️ imgsz=[1272, 768] must be multiple of max stride 32, updating to [1280, 768]\n",
            "0: 1280x768 (no detections), 13.8ms\n",
            "Speed: 7.3ms preprocess, 13.8ms inference, 0.8ms postprocess per image at shape (1, 3, 1280, 768)\n"
          ]
        },
        {
          "output_type": "stream",
          "name": "stderr",
          "text": [
            "0it [00:00, ?it/s]\n"
          ]
        },
        {
          "output_type": "stream",
          "name": "stdout",
          "text": [
            "\n",
            "0: 128x1152 (no detections), 7.4ms\n",
            "Speed: 1.4ms preprocess, 7.4ms inference, 2.3ms postprocess per image at shape (1, 3, 128, 1152)\n"
          ]
        },
        {
          "output_type": "stream",
          "name": "stderr",
          "text": [
            "0it [00:00, ?it/s]\n",
            "100%|██████████| 1/1 [00:02<00:00,  2.20s/it]"
          ]
        },
        {
          "output_type": "stream",
          "name": "stdout",
          "text": [
            "\n",
            "WARNING ⚠️ imgsz=[126, 1152] must be multiple of max stride 32, updating to [128, 1152]\n",
            "0: 128x1152 1 embedding, 6.6ms\n",
            "Speed: 1.2ms preprocess, 6.6ms inference, 1.4ms postprocess per image at shape (1, 3, 128, 1152)\n"
          ]
        },
        {
          "output_type": "stream",
          "name": "stderr",
          "text": [
            "\n",
            "100%|██████████| 1/1 [00:00<00:00, 25.99it/s]\n",
            "100%|██████████| 1/1 [00:00<00:00,  3.15it/s]"
          ]
        },
        {
          "output_type": "stream",
          "name": "stdout",
          "text": [
            "\n",
            "WARNING ⚠️ imgsz=[137, 1152] must be multiple of max stride 32, updating to [160, 1152]\n",
            "0: 160x1152 1 embedding, 7.4ms\n",
            "Speed: 1.4ms preprocess, 7.4ms inference, 1.5ms postprocess per image at shape (1, 3, 160, 1152)\n"
          ]
        },
        {
          "output_type": "stream",
          "name": "stderr",
          "text": [
            "\n",
            "100%|██████████| 1/1 [00:00<00:00, 10.99it/s]\n",
            "100%|██████████| 1/1 [00:00<00:00,  3.09it/s]"
          ]
        },
        {
          "output_type": "stream",
          "name": "stdout",
          "text": [
            "\n",
            "WARNING ⚠️ imgsz=[127, 1152] must be multiple of max stride 32, updating to [128, 1152]\n",
            "0: 128x1152 1 embedding, 6.9ms\n",
            "Speed: 1.3ms preprocess, 6.9ms inference, 1.4ms postprocess per image at shape (1, 3, 128, 1152)\n"
          ]
        },
        {
          "output_type": "stream",
          "name": "stderr",
          "text": [
            "\n",
            "100%|██████████| 1/1 [00:00<00:00, 29.07it/s]\n",
            "100%|██████████| 1/1 [00:00<00:00,  4.95it/s]"
          ]
        },
        {
          "output_type": "stream",
          "name": "stdout",
          "text": [
            "\n",
            "WARNING ⚠️ imgsz=[154, 1152] must be multiple of max stride 32, updating to [160, 1152]\n",
            "0: 160x1152 (no detections), 7.9ms\n",
            "Speed: 1.6ms preprocess, 7.9ms inference, 0.7ms postprocess per image at shape (1, 3, 160, 1152)\n"
          ]
        },
        {
          "output_type": "stream",
          "name": "stderr",
          "text": [
            "\n",
            "0it [00:00, ?it/s]\n"
          ]
        },
        {
          "output_type": "stream",
          "name": "stdout",
          "text": [
            "\n",
            "WARNING ⚠️ imgsz=[75, 768] must be multiple of max stride 32, updating to [96, 768]\n",
            "0: 96x768 (no detections), 6.2ms\n",
            "Speed: 0.9ms preprocess, 6.2ms inference, 0.7ms postprocess per image at shape (1, 3, 96, 768)\n"
          ]
        },
        {
          "output_type": "stream",
          "name": "stderr",
          "text": [
            "0it [00:00, ?it/s]\n",
            "100%|██████████| 1/1 [00:00<00:00,  4.65it/s]"
          ]
        },
        {
          "output_type": "stream",
          "name": "stdout",
          "text": [
            "\n",
            "WARNING ⚠️ imgsz=[133, 1152] must be multiple of max stride 32, updating to [160, 1152]\n",
            "0: 160x1152 (no detections), 7.3ms\n",
            "Speed: 1.4ms preprocess, 7.3ms inference, 0.6ms postprocess per image at shape (1, 3, 160, 1152)\n"
          ]
        },
        {
          "output_type": "stream",
          "name": "stderr",
          "text": [
            "\n",
            "0it [00:00, ?it/s]\n",
            "100%|██████████| 1/1 [00:00<00:00,  3.73it/s]"
          ]
        },
        {
          "output_type": "stream",
          "name": "stdout",
          "text": [
            "\n",
            "WARNING ⚠️ imgsz=[107, 768] must be multiple of max stride 32, updating to [128, 768]\n",
            "0: 128x768 (no detections), 5.8ms\n",
            "Speed: 0.8ms preprocess, 5.8ms inference, 0.6ms postprocess per image at shape (1, 3, 128, 768)\n"
          ]
        },
        {
          "output_type": "stream",
          "name": "stderr",
          "text": [
            "\n",
            "0it [00:00, ?it/s]"
          ]
        },
        {
          "output_type": "stream",
          "name": "stdout",
          "text": [
            "\n",
            "WARNING ⚠️ imgsz=[121, 1152] must be multiple of max stride 32, updating to [128, 1152]\n",
            "0: 128x1152 (no detections), 7.0ms\n",
            "Speed: 1.2ms preprocess, 7.0ms inference, 0.7ms postprocess per image at shape (1, 3, 128, 1152)\n"
          ]
        },
        {
          "output_type": "stream",
          "name": "stderr",
          "text": [
            "\n",
            "0it [00:00, ?it/s]\n",
            "100%|██████████| 1/1 [00:00<00:00,  4.74it/s]"
          ]
        },
        {
          "output_type": "stream",
          "name": "stdout",
          "text": [
            "\n",
            "WARNING ⚠️ imgsz=[73, 768] must be multiple of max stride 32, updating to [96, 768]\n",
            "0: 96x768 1 embedding, 15.1ms\n",
            "Speed: 1.6ms preprocess, 15.1ms inference, 1.4ms postprocess per image at shape (1, 3, 96, 768)\n"
          ]
        },
        {
          "output_type": "stream",
          "name": "stderr",
          "text": [
            "\n",
            "100%|██████████| 1/1 [00:00<00:00,  7.58it/s]\n"
          ]
        },
        {
          "output_type": "stream",
          "name": "stdout",
          "text": [
            "\n",
            "WARNING ⚠️ imgsz=[159, 1152] must be multiple of max stride 32, updating to [160, 1152]\n",
            "0: 160x1152 (no detections), 18.1ms\n",
            "Speed: 2.1ms preprocess, 18.1ms inference, 0.7ms postprocess per image at shape (1, 3, 160, 1152)\n"
          ]
        },
        {
          "output_type": "stream",
          "name": "stderr",
          "text": [
            "0it [00:00, ?it/s]\n",
            "100%|██████████| 1/1 [00:00<00:00,  3.13it/s]"
          ]
        },
        {
          "output_type": "stream",
          "name": "stdout",
          "text": [
            "\n",
            "WARNING ⚠️ imgsz=[131, 1152] must be multiple of max stride 32, updating to [160, 1152]\n",
            "0: 160x1152 1 isolated, 7.1ms\n",
            "Speed: 1.4ms preprocess, 7.1ms inference, 1.5ms postprocess per image at shape (1, 3, 160, 1152)\n"
          ]
        },
        {
          "output_type": "stream",
          "name": "stderr",
          "text": [
            "\n",
            "100%|██████████| 1/1 [00:00<00:00,  7.96it/s]\n",
            "100%|██████████| 1/1 [00:00<00:00,  5.41it/s]"
          ]
        },
        {
          "output_type": "stream",
          "name": "stdout",
          "text": [
            "\n",
            "WARNING ⚠️ imgsz=[191, 768] must be multiple of max stride 32, updating to [192, 768]\n"
          ]
        },
        {
          "output_type": "stream",
          "name": "stderr",
          "text": [
            "\n"
          ]
        },
        {
          "output_type": "stream",
          "name": "stdout",
          "text": [
            "0: 192x768 1 embedding, 7.2ms\n",
            "Speed: 1.0ms preprocess, 7.2ms inference, 1.3ms postprocess per image at shape (1, 3, 192, 768)\n"
          ]
        },
        {
          "output_type": "stream",
          "name": "stderr",
          "text": [
            "100%|██████████| 1/1 [00:00<00:00, 12.76it/s]\n"
          ]
        },
        {
          "output_type": "stream",
          "name": "stdout",
          "text": [
            "\n",
            "WARNING ⚠️ imgsz=[1277, 768] must be multiple of max stride 32, updating to [1280, 768]\n",
            "0: 1280x768 (no detections), 14.2ms\n",
            "Speed: 7.2ms preprocess, 14.2ms inference, 0.8ms postprocess per image at shape (1, 3, 1280, 768)\n"
          ]
        },
        {
          "output_type": "stream",
          "name": "stderr",
          "text": [
            "0it [00:00, ?it/s]\n"
          ]
        },
        {
          "output_type": "stream",
          "name": "stdout",
          "text": [
            "\n",
            "WARNING ⚠️ imgsz=[87, 768] must be multiple of max stride 32, updating to [96, 768]\n",
            "0: 96x768 (no detections), 6.2ms\n",
            "Speed: 0.8ms preprocess, 6.2ms inference, 4.0ms postprocess per image at shape (1, 3, 96, 768)\n"
          ]
        },
        {
          "output_type": "stream",
          "name": "stderr",
          "text": [
            "0it [00:00, ?it/s]\n",
            "100%|██████████| 1/1 [00:00<00:00,  3.87it/s]"
          ]
        },
        {
          "output_type": "stream",
          "name": "stdout",
          "text": [
            "\n",
            "WARNING ⚠️ imgsz=[168, 768] must be multiple of max stride 32, updating to [192, 768]\n",
            "0: 192x768 1 isolated, 6.8ms\n",
            "Speed: 1.0ms preprocess, 6.8ms inference, 1.4ms postprocess per image at shape (1, 3, 192, 768)\n"
          ]
        },
        {
          "output_type": "stream",
          "name": "stderr",
          "text": [
            "\n",
            "100%|██████████| 1/1 [00:00<00:00,  6.19it/s]\n"
          ]
        },
        {
          "output_type": "stream",
          "name": "stdout",
          "text": [
            "\n",
            "WARNING ⚠️ imgsz=[198, 1152] must be multiple of max stride 32, updating to [224, 1152]\n",
            "0: 224x1152 2 embeddings, 8.8ms\n",
            "Speed: 1.9ms preprocess, 8.8ms inference, 1.5ms postprocess per image at shape (1, 3, 224, 1152)\n"
          ]
        },
        {
          "output_type": "stream",
          "name": "stderr",
          "text": [
            "100%|██████████| 2/2 [00:00<00:00, 18.08it/s]\n",
            "100%|██████████| 1/1 [00:00<00:00,  2.59it/s]"
          ]
        },
        {
          "output_type": "stream",
          "name": "stdout",
          "text": [
            "\n",
            "WARNING ⚠️ imgsz=[154, 768] must be multiple of max stride 32, updating to [160, 768]\n"
          ]
        },
        {
          "output_type": "stream",
          "name": "stderr",
          "text": [
            "\n"
          ]
        },
        {
          "output_type": "stream",
          "name": "stdout",
          "text": [
            "0: 160x768 (no detections), 1973.5ms\n",
            "Speed: 1.0ms preprocess, 1973.5ms inference, 0.8ms postprocess per image at shape (1, 3, 160, 768)\n"
          ]
        },
        {
          "output_type": "stream",
          "name": "stderr",
          "text": [
            "0it [00:00, ?it/s]\n",
            "100%|██████████| 1/1 [00:02<00:00,  2.18s/it]"
          ]
        },
        {
          "output_type": "stream",
          "name": "stdout",
          "text": [
            "\n"
          ]
        },
        {
          "output_type": "stream",
          "name": "stderr",
          "text": [
            "\n"
          ]
        },
        {
          "output_type": "stream",
          "name": "stdout",
          "text": [
            "0: 224x768 1 isolated, 1966.5ms\n",
            "Speed: 1.1ms preprocess, 1966.5ms inference, 1.6ms postprocess per image at shape (1, 3, 224, 768)\n"
          ]
        },
        {
          "output_type": "stream",
          "name": "stderr",
          "text": [
            "100%|██████████| 1/1 [00:00<00:00,  8.35it/s]\n",
            "100%|██████████| 1/1 [00:02<00:00,  2.21s/it]"
          ]
        },
        {
          "output_type": "stream",
          "name": "stdout",
          "text": [
            "\n",
            "WARNING ⚠️ imgsz=[85, 768] must be multiple of max stride 32, updating to [96, 768]\n",
            "0: 96x768 2 embeddings, 6.1ms\n",
            "Speed: 0.8ms preprocess, 6.1ms inference, 1.4ms postprocess per image at shape (1, 3, 96, 768)\n"
          ]
        },
        {
          "output_type": "stream",
          "name": "stderr",
          "text": [
            "\n",
            "100%|██████████| 2/2 [00:00<00:00, 21.58it/s]\n",
            "100%|██████████| 1/1 [00:00<00:00,  6.59it/s]"
          ]
        },
        {
          "output_type": "stream",
          "name": "stdout",
          "text": [
            "\n",
            "WARNING ⚠️ imgsz=[164, 1152] must be multiple of max stride 32, updating to [192, 1152]\n"
          ]
        },
        {
          "output_type": "stream",
          "name": "stderr",
          "text": [
            "\n"
          ]
        },
        {
          "output_type": "stream",
          "name": "stdout",
          "text": [
            "0: 192x1152 1 embedding, 7.7ms\n",
            "Speed: 2.0ms preprocess, 7.7ms inference, 1.5ms postprocess per image at shape (1, 3, 192, 1152)\n"
          ]
        },
        {
          "output_type": "stream",
          "name": "stderr",
          "text": [
            "100%|██████████| 1/1 [00:00<00:00, 23.04it/s]\n",
            "100%|██████████| 1/1 [00:00<00:00,  2.74it/s]"
          ]
        },
        {
          "output_type": "stream",
          "name": "stdout",
          "text": [
            "\n",
            "WARNING ⚠️ imgsz=[169, 1152] must be multiple of max stride 32, updating to [192, 1152]\n",
            "0: 192x1152 (no detections), 8.5ms\n",
            "Speed: 1.8ms preprocess, 8.5ms inference, 0.9ms postprocess per image at shape (1, 3, 192, 1152)\n"
          ]
        },
        {
          "output_type": "stream",
          "name": "stderr",
          "text": [
            "\n",
            "0it [00:00, ?it/s]\n",
            "100%|██████████| 1/1 [00:02<00:00,  2.16s/it]"
          ]
        },
        {
          "output_type": "stream",
          "name": "stdout",
          "text": [
            "\n",
            "WARNING ⚠️ imgsz=[132, 1152] must be multiple of max stride 32, updating to [160, 1152]\n",
            "0: 160x1152 (no detections), 7.3ms\n",
            "Speed: 1.7ms preprocess, 7.3ms inference, 0.7ms postprocess per image at shape (1, 3, 160, 1152)\n"
          ]
        },
        {
          "output_type": "stream",
          "name": "stderr",
          "text": [
            "\n",
            "0it [00:00, ?it/s]\n",
            "100%|██████████| 1/1 [00:00<00:00,  3.07it/s]"
          ]
        },
        {
          "output_type": "stream",
          "name": "stdout",
          "text": [
            "\n",
            "WARNING ⚠️ imgsz=[127, 1152] must be multiple of max stride 32, updating to [128, 1152]\n",
            "0: 128x1152 3 embeddings, 7.0ms\n",
            "Speed: 1.3ms preprocess, 7.0ms inference, 1.7ms postprocess per image at shape (1, 3, 128, 1152)\n"
          ]
        },
        {
          "output_type": "stream",
          "name": "stderr",
          "text": [
            "\n",
            "100%|██████████| 3/3 [00:00<00:00, 32.04it/s]\n"
          ]
        },
        {
          "output_type": "stream",
          "name": "stdout",
          "text": [
            "\n",
            "0: 160x1152 (no detections), 7.1ms\n",
            "Speed: 1.4ms preprocess, 7.1ms inference, 0.6ms postprocess per image at shape (1, 3, 160, 1152)\n"
          ]
        },
        {
          "output_type": "stream",
          "name": "stderr",
          "text": [
            "0it [00:00, ?it/s]"
          ]
        },
        {
          "output_type": "stream",
          "name": "stdout",
          "text": [
            "\n",
            "WARNING ⚠️ imgsz=[123, 768] must be multiple of max stride 32, updating to [128, 768]\n",
            "0: 128x768 (no detections), 6.3ms\n",
            "Speed: 0.9ms preprocess, 6.3ms inference, 0.7ms postprocess per image at shape (1, 3, 128, 768)\n"
          ]
        },
        {
          "output_type": "stream",
          "name": "stderr",
          "text": [
            "\n",
            "0it [00:00, ?it/s]\n"
          ]
        },
        {
          "output_type": "stream",
          "name": "stdout",
          "text": [
            "\n",
            "WARNING ⚠️ imgsz=[1289, 768] must be multiple of max stride 32, updating to [1312, 768]\n",
            "0: 1312x768 (no detections), 14.2ms\n",
            "Speed: 7.4ms preprocess, 14.2ms inference, 0.8ms postprocess per image at shape (1, 3, 1312, 768)\n"
          ]
        },
        {
          "output_type": "stream",
          "name": "stderr",
          "text": [
            "0it [00:00, ?it/s]\n"
          ]
        },
        {
          "output_type": "stream",
          "name": "stdout",
          "text": [
            "\n",
            "WARNING ⚠️ imgsz=[189, 768] must be multiple of max stride 32, updating to [192, 768]\n",
            "0: 192x768 1 embedding, 6.9ms\n",
            "Speed: 1.2ms preprocess, 6.9ms inference, 5.9ms postprocess per image at shape (1, 3, 192, 768)\n"
          ]
        },
        {
          "output_type": "stream",
          "name": "stderr",
          "text": [
            "100%|██████████| 1/1 [00:00<00:00, 43.57it/s]\n"
          ]
        },
        {
          "output_type": "stream",
          "name": "stdout",
          "text": [
            "\n",
            "WARNING ⚠️ imgsz=[232, 1152] must be multiple of max stride 32, updating to [256, 1152]\n",
            "0: 256x1152 4 embeddings, 8.8ms\n",
            "Speed: 2.2ms preprocess, 8.8ms inference, 1.5ms postprocess per image at shape (1, 3, 256, 1152)\n"
          ]
        },
        {
          "output_type": "stream",
          "name": "stderr",
          "text": [
            "100%|██████████| 4/4 [00:00<00:00, 32.88it/s]\n",
            "100%|██████████| 1/1 [00:00<00:00,  4.72it/s]"
          ]
        },
        {
          "output_type": "stream",
          "name": "stdout",
          "text": [
            "\n",
            "WARNING ⚠️ imgsz=[164, 1152] must be multiple of max stride 32, updating to [192, 1152]\n",
            "0: 192x1152 4 embeddings, 7.8ms\n",
            "Speed: 1.7ms preprocess, 7.8ms inference, 1.5ms postprocess per image at shape (1, 3, 192, 1152)\n"
          ]
        },
        {
          "output_type": "stream",
          "name": "stderr",
          "text": [
            "\n",
            "100%|██████████| 4/4 [00:00<00:00, 35.93it/s]\n",
            "100%|██████████| 1/1 [00:00<00:00,  2.46it/s]"
          ]
        },
        {
          "output_type": "stream",
          "name": "stdout",
          "text": [
            "\n",
            "WARNING ⚠️ imgsz=[268, 1152] must be multiple of max stride 32, updating to [288, 1152]\n",
            "0: 288x1152 2 embeddings, 9.4ms\n",
            "Speed: 2.4ms preprocess, 9.4ms inference, 1.6ms postprocess per image at shape (1, 3, 288, 1152)\n"
          ]
        },
        {
          "output_type": "stream",
          "name": "stderr",
          "text": [
            "\n",
            "100%|██████████| 2/2 [00:00<00:00, 44.34it/s]\n"
          ]
        },
        {
          "output_type": "stream",
          "name": "stdout",
          "text": [
            "\n",
            "WARNING ⚠️ imgsz=[163, 1152] must be multiple of max stride 32, updating to [192, 1152]\n",
            "0: 192x1152 4 embeddings, 18.1ms\n",
            "Speed: 1.9ms preprocess, 18.1ms inference, 1.4ms postprocess per image at shape (1, 3, 192, 1152)\n"
          ]
        },
        {
          "output_type": "stream",
          "name": "stderr",
          "text": [
            "100%|██████████| 4/4 [00:00<00:00, 13.20it/s]\n"
          ]
        },
        {
          "output_type": "stream",
          "name": "stdout",
          "text": [
            "\n",
            "WARNING ⚠️ imgsz=[240, 1152] must be multiple of max stride 32, updating to [256, 1152]\n",
            "0: 256x1152 (no detections), 9.4ms\n",
            "Speed: 2.2ms preprocess, 9.4ms inference, 0.8ms postprocess per image at shape (1, 3, 256, 1152)\n"
          ]
        },
        {
          "output_type": "stream",
          "name": "stderr",
          "text": [
            "0it [00:00, ?it/s]\n"
          ]
        },
        {
          "output_type": "stream",
          "name": "stdout",
          "text": [
            "\n",
            "WARNING ⚠️ imgsz=[186, 768] must be multiple of max stride 32, updating to [192, 768]\n",
            "0: 192x768 1 embedding, 17.0ms\n",
            "Speed: 1.9ms preprocess, 17.0ms inference, 1.5ms postprocess per image at shape (1, 3, 192, 768)\n"
          ]
        },
        {
          "output_type": "stream",
          "name": "stderr",
          "text": [
            "100%|██████████| 1/1 [00:00<00:00, 11.58it/s]\n"
          ]
        },
        {
          "output_type": "stream",
          "name": "stdout",
          "text": [
            "\n",
            "WARNING ⚠️ imgsz=[1278, 768] must be multiple of max stride 32, updating to [1280, 768]\n",
            "0: 1280x768 (no detections), 14.5ms\n",
            "Speed: 7.7ms preprocess, 14.5ms inference, 0.8ms postprocess per image at shape (1, 3, 1280, 768)\n"
          ]
        },
        {
          "output_type": "stream",
          "name": "stderr",
          "text": [
            "0it [00:00, ?it/s]\n"
          ]
        },
        {
          "output_type": "stream",
          "name": "stdout",
          "text": [
            "\n",
            "WARNING ⚠️ imgsz=[239, 1152] must be multiple of max stride 32, updating to [256, 1152]\n",
            "0: 256x1152 (no detections), 9.1ms\n",
            "Speed: 2.2ms preprocess, 9.1ms inference, 5.7ms postprocess per image at shape (1, 3, 256, 1152)\n"
          ]
        },
        {
          "output_type": "stream",
          "name": "stderr",
          "text": [
            "0it [00:00, ?it/s]\n"
          ]
        },
        {
          "output_type": "stream",
          "name": "stdout",
          "text": [
            "\n",
            "WARNING ⚠️ imgsz=[266, 1152] must be multiple of max stride 32, updating to [288, 1152]\n",
            "0: 288x1152 1 embedding, 19.3ms\n",
            "Speed: 2.8ms preprocess, 19.3ms inference, 1.6ms postprocess per image at shape (1, 3, 288, 1152)\n"
          ]
        },
        {
          "output_type": "stream",
          "name": "stderr",
          "text": [
            "100%|██████████| 1/1 [00:00<00:00, 24.51it/s]\n"
          ]
        },
        {
          "output_type": "stream",
          "name": "stdout",
          "text": [
            "\n",
            "WARNING ⚠️ imgsz=[173, 1152] must be multiple of max stride 32, updating to [192, 1152]\n",
            "0: 192x1152 2 embeddings, 18.0ms\n",
            "Speed: 2.4ms preprocess, 18.0ms inference, 1.5ms postprocess per image at shape (1, 3, 192, 1152)\n"
          ]
        },
        {
          "output_type": "stream",
          "name": "stderr",
          "text": [
            "100%|██████████| 2/2 [00:00<00:00, 26.14it/s]\n",
            "100%|██████████| 1/1 [00:00<00:00,  2.46it/s]"
          ]
        },
        {
          "output_type": "stream",
          "name": "stdout",
          "text": [
            "\n",
            "WARNING ⚠️ imgsz=[270, 768] must be multiple of max stride 32, updating to [288, 768]\n",
            "0: 288x768 1 isolated, 7.9ms\n",
            "Speed: 1.3ms preprocess, 7.9ms inference, 1.4ms postprocess per image at shape (1, 3, 288, 768)\n"
          ]
        },
        {
          "output_type": "stream",
          "name": "stderr",
          "text": [
            "\n",
            "100%|██████████| 1/1 [00:00<00:00, 10.94it/s]\n",
            "100%|██████████| 1/1 [00:00<00:00,  3.96it/s]"
          ]
        },
        {
          "output_type": "stream",
          "name": "stdout",
          "text": [
            "\n",
            "WARNING ⚠️ imgsz=[461, 768] must be multiple of max stride 32, updating to [480, 768]\n",
            "0: 480x768 1 isolated, 10.2ms\n",
            "Speed: 2.2ms preprocess, 10.2ms inference, 1.9ms postprocess per image at shape (1, 3, 480, 768)\n"
          ]
        },
        {
          "output_type": "stream",
          "name": "stderr",
          "text": [
            "\n",
            "100%|██████████| 1/1 [00:00<00:00, 17.49it/s]\n"
          ]
        },
        {
          "output_type": "stream",
          "name": "stdout",
          "text": [
            "\n",
            "WARNING ⚠️ imgsz=[165, 1152] must be multiple of max stride 32, updating to [192, 1152]\n",
            "0: 192x1152 (no detections), 7.8ms\n",
            "Speed: 1.7ms preprocess, 7.8ms inference, 0.7ms postprocess per image at shape (1, 3, 192, 1152)\n"
          ]
        },
        {
          "output_type": "stream",
          "name": "stderr",
          "text": [
            "0it [00:00, ?it/s]"
          ]
        },
        {
          "output_type": "stream",
          "name": "stdout",
          "text": [
            "\n",
            "WARNING ⚠️ imgsz=[216, 768] must be multiple of max stride 32, updating to [224, 768]\n",
            "0: 224x768 1 isolated, 6.6ms\n",
            "Speed: 1.1ms preprocess, 6.6ms inference, 1.4ms postprocess per image at shape (1, 3, 224, 768)\n"
          ]
        },
        {
          "output_type": "stream",
          "name": "stderr",
          "text": [
            "\n",
            "100%|██████████| 1/1 [00:00<00:00,  8.68it/s]\n",
            "100%|██████████| 1/1 [00:00<00:00,  4.45it/s]\n",
            "100%|██████████| 1/1 [00:00<00:00,  2.61it/s]"
          ]
        },
        {
          "output_type": "stream",
          "name": "stdout",
          "text": [
            "\n",
            "WARNING ⚠️ imgsz=[143, 768] must be multiple of max stride 32, updating to [160, 768]\n",
            "0: 160x768 1 isolated, 6.2ms\n",
            "Speed: 0.9ms preprocess, 6.2ms inference, 1.3ms postprocess per image at shape (1, 3, 160, 768)\n"
          ]
        },
        {
          "output_type": "stream",
          "name": "stderr",
          "text": [
            "\n",
            "100%|██████████| 1/1 [00:00<00:00,  5.41it/s]\n",
            "100%|██████████| 1/1 [00:00<00:00,  2.49it/s]"
          ]
        },
        {
          "output_type": "stream",
          "name": "stdout",
          "text": [
            "\n",
            "WARNING ⚠️ imgsz=[144, 768] must be multiple of max stride 32, updating to [160, 768]\n",
            "0: 160x768 1 isolated, 6.0ms\n",
            "Speed: 0.9ms preprocess, 6.0ms inference, 1.4ms postprocess per image at shape (1, 3, 160, 768)\n"
          ]
        },
        {
          "output_type": "stream",
          "name": "stderr",
          "text": [
            "\n",
            "100%|██████████| 1/1 [00:00<00:00,  4.18it/s]"
          ]
        },
        {
          "output_type": "stream",
          "name": "stdout",
          "text": [
            "\n",
            "WARNING ⚠️ imgsz=[132, 768] must be multiple of max stride 32, updating to [160, 768]\n",
            "0: 160x768 (no detections), 6.0ms\n",
            "Speed: 1.4ms preprocess, 6.0ms inference, 0.7ms postprocess per image at shape (1, 3, 160, 768)\n"
          ]
        },
        {
          "output_type": "stream",
          "name": "stderr",
          "text": [
            "\n",
            "0it [00:00, ?it/s]\n"
          ]
        },
        {
          "output_type": "stream",
          "name": "stdout",
          "text": [
            "\n",
            "WARNING ⚠️ imgsz=[1110, 768] must be multiple of max stride 32, updating to [1120, 768]\n",
            "0: 1120x768 1 isolated, 8017.7ms\n",
            "Speed: 6.6ms preprocess, 8017.7ms inference, 1.6ms postprocess per image at shape (1, 3, 1120, 768)\n"
          ]
        },
        {
          "output_type": "stream",
          "name": "stderr",
          "text": [
            "100%|██████████| 1/1 [00:00<00:00,  1.65it/s]\n"
          ]
        },
        {
          "output_type": "stream",
          "name": "stdout",
          "text": [
            "\n",
            "WARNING ⚠️ imgsz=[99, 768] must be multiple of max stride 32, updating to [128, 768]\n",
            "0: 128x768 1 embedding, 6.1ms\n",
            "Speed: 0.9ms preprocess, 6.1ms inference, 4.0ms postprocess per image at shape (1, 3, 128, 768)\n"
          ]
        },
        {
          "output_type": "stream",
          "name": "stderr",
          "text": [
            "100%|██████████| 1/1 [00:00<00:00, 11.78it/s]\n",
            "100%|██████████| 1/1 [00:02<00:00,  2.12s/it]"
          ]
        },
        {
          "output_type": "stream",
          "name": "stdout",
          "text": [
            "\n",
            "WARNING ⚠️ imgsz=[170, 768] must be multiple of max stride 32, updating to [192, 768]\n",
            "0: 192x768 1 isolated, 8.2ms\n",
            "Speed: 1.4ms preprocess, 8.2ms inference, 1.9ms postprocess per image at shape (1, 3, 192, 768)\n"
          ]
        },
        {
          "output_type": "stream",
          "name": "stderr",
          "text": [
            "\n",
            "100%|██████████| 1/1 [00:00<00:00,  5.90it/s]\n",
            "100%|██████████| 1/1 [00:00<00:00,  2.67it/s]"
          ]
        },
        {
          "output_type": "stream",
          "name": "stdout",
          "text": [
            "\n",
            "WARNING ⚠️ imgsz=[157, 768] must be multiple of max stride 32, updating to [160, 768]\n",
            "0: 160x768 1 isolated, 6.1ms\n",
            "Speed: 0.9ms preprocess, 6.1ms inference, 1.3ms postprocess per image at shape (1, 3, 160, 768)\n"
          ]
        },
        {
          "output_type": "stream",
          "name": "stderr",
          "text": [
            "\n",
            "100%|██████████| 1/1 [00:00<00:00,  5.23it/s]\n",
            "100%|██████████| 1/1 [00:00<00:00,  2.98it/s]"
          ]
        },
        {
          "output_type": "stream",
          "name": "stdout",
          "text": [
            "\n",
            "WARNING ⚠️ imgsz=[107, 768] must be multiple of max stride 32, updating to [128, 768]\n",
            "0: 128x768 (no detections), 6.0ms\n",
            "Speed: 0.8ms preprocess, 6.0ms inference, 0.6ms postprocess per image at shape (1, 3, 128, 768)\n"
          ]
        },
        {
          "output_type": "stream",
          "name": "stderr",
          "text": [
            "\n",
            "0it [00:00, ?it/s]\n",
            "100%|██████████| 1/1 [00:00<00:00,  9.45it/s]\n"
          ]
        },
        {
          "output_type": "stream",
          "name": "stdout",
          "text": [
            "\n",
            "WARNING ⚠️ imgsz=[166, 1152] must be multiple of max stride 32, updating to [192, 1152]\n",
            "0: 192x1152 2 embeddings, 7.8ms\n",
            "Speed: 1.6ms preprocess, 7.8ms inference, 1.5ms postprocess per image at shape (1, 3, 192, 1152)\n"
          ]
        },
        {
          "output_type": "stream",
          "name": "stderr",
          "text": [
            "100%|██████████| 2/2 [00:00<00:00, 34.25it/s]\n"
          ]
        },
        {
          "output_type": "stream",
          "name": "stdout",
          "text": [
            "\n",
            "WARNING ⚠️ imgsz=[276, 1152] must be multiple of max stride 32, updating to [288, 1152]\n",
            "0: 288x1152 (no detections), 19.3ms\n",
            "Speed: 3.4ms preprocess, 19.3ms inference, 0.7ms postprocess per image at shape (1, 3, 288, 1152)\n"
          ]
        },
        {
          "output_type": "stream",
          "name": "stderr",
          "text": [
            "0it [00:00, ?it/s]\n"
          ]
        },
        {
          "output_type": "stream",
          "name": "stdout",
          "text": [
            "\n",
            "WARNING ⚠️ imgsz=[353, 1152] must be multiple of max stride 32, updating to [384, 1152]\n",
            "0: 384x1152 (no detections), 20.4ms\n",
            "Speed: 3.6ms preprocess, 20.4ms inference, 0.8ms postprocess per image at shape (1, 3, 384, 1152)\n"
          ]
        },
        {
          "output_type": "stream",
          "name": "stderr",
          "text": [
            "0it [00:00, ?it/s]\n"
          ]
        },
        {
          "output_type": "stream",
          "name": "stdout",
          "text": [
            "\n",
            "WARNING ⚠️ imgsz=[171, 1152] must be multiple of max stride 32, updating to [192, 1152]\n",
            "0: 192x1152 4 embeddings, 7.7ms\n",
            "Speed: 1.7ms preprocess, 7.7ms inference, 1.5ms postprocess per image at shape (1, 3, 192, 1152)\n"
          ]
        },
        {
          "output_type": "stream",
          "name": "stderr",
          "text": [
            "100%|██████████| 4/4 [00:00<00:00, 29.48it/s]\n"
          ]
        },
        {
          "output_type": "stream",
          "name": "stdout",
          "text": [
            "\n",
            "WARNING ⚠️ imgsz=[194, 768] must be multiple of max stride 32, updating to [224, 768]\n",
            "0: 224x768 (no detections), 17.0ms\n",
            "Speed: 1.3ms preprocess, 17.0ms inference, 0.6ms postprocess per image at shape (1, 3, 224, 768)\n"
          ]
        },
        {
          "output_type": "stream",
          "name": "stderr",
          "text": [
            "0it [00:00, ?it/s]\n"
          ]
        },
        {
          "output_type": "stream",
          "name": "stdout",
          "text": [
            "\n",
            "WARNING ⚠️ imgsz=[1274, 768] must be multiple of max stride 32, updating to [1280, 768]\n",
            "0: 1280x768 (no detections), 14.4ms\n",
            "Speed: 7.5ms preprocess, 14.4ms inference, 0.8ms postprocess per image at shape (1, 3, 1280, 768)\n"
          ]
        },
        {
          "output_type": "stream",
          "name": "stderr",
          "text": [
            "0it [00:00, ?it/s]\n"
          ]
        },
        {
          "output_type": "stream",
          "name": "stdout",
          "text": [
            "\n",
            "WARNING ⚠️ imgsz=[300, 1152] must be multiple of max stride 32, updating to [320, 1152]\n",
            "0: 320x1152 (no detections), 7934.0ms\n",
            "Speed: 2.7ms preprocess, 7934.0ms inference, 3.6ms postprocess per image at shape (1, 3, 320, 1152)\n"
          ]
        },
        {
          "output_type": "stream",
          "name": "stderr",
          "text": [
            "0it [00:00, ?it/s]\n"
          ]
        },
        {
          "output_type": "stream",
          "name": "stdout",
          "text": [
            "\n",
            "WARNING ⚠️ imgsz=[190, 1152] must be multiple of max stride 32, updating to [192, 1152]\n",
            "0: 192x1152 (no detections), 18.1ms\n",
            "Speed: 1.9ms preprocess, 18.1ms inference, 0.7ms postprocess per image at shape (1, 3, 192, 1152)\n"
          ]
        },
        {
          "output_type": "stream",
          "name": "stderr",
          "text": [
            "0it [00:00, ?it/s]\n"
          ]
        },
        {
          "output_type": "stream",
          "name": "stdout",
          "text": [
            "\n",
            "WARNING ⚠️ imgsz=[121, 1152] must be multiple of max stride 32, updating to [128, 1152]\n",
            "0: 128x1152 3 embeddings, 17.0ms\n",
            "Speed: 1.4ms preprocess, 17.0ms inference, 1.4ms postprocess per image at shape (1, 3, 128, 1152)\n"
          ]
        },
        {
          "output_type": "stream",
          "name": "stderr",
          "text": [
            "100%|██████████| 3/3 [00:00<00:00, 30.96it/s]\n",
            "100%|██████████| 1/1 [00:00<00:00,  4.60it/s]"
          ]
        },
        {
          "output_type": "stream",
          "name": "stdout",
          "text": [
            "\n",
            "0: 128x1152 1 embedding, 6.4ms\n",
            "Speed: 1.2ms preprocess, 6.4ms inference, 1.4ms postprocess per image at shape (1, 3, 128, 1152)\n"
          ]
        },
        {
          "output_type": "stream",
          "name": "stderr",
          "text": [
            "\n",
            "100%|██████████| 1/1 [00:00<00:00, 44.26it/s]\n",
            "100%|██████████| 1/1 [00:00<00:00,  4.45it/s]"
          ]
        },
        {
          "output_type": "stream",
          "name": "stdout",
          "text": [
            "\n",
            "WARNING ⚠️ imgsz=[278, 1152] must be multiple of max stride 32, updating to [288, 1152]\n",
            "0: 288x1152 (no detections), 9.3ms\n",
            "Speed: 2.5ms preprocess, 9.3ms inference, 0.7ms postprocess per image at shape (1, 3, 288, 1152)\n"
          ]
        },
        {
          "output_type": "stream",
          "name": "stderr",
          "text": [
            "\n",
            "0it [00:00, ?it/s]\n"
          ]
        },
        {
          "output_type": "stream",
          "name": "stdout",
          "text": [
            "\n",
            "WARNING ⚠️ imgsz=[385, 1152] must be multiple of max stride 32, updating to [416, 1152]\n",
            "0: 416x1152 (no detections), 10.2ms\n",
            "Speed: 3.1ms preprocess, 10.2ms inference, 0.7ms postprocess per image at shape (1, 3, 416, 1152)\n"
          ]
        },
        {
          "output_type": "stream",
          "name": "stderr",
          "text": [
            "0it [00:00, ?it/s]\n",
            "100%|██████████| 1/1 [00:00<00:00,  3.78it/s]"
          ]
        },
        {
          "output_type": "stream",
          "name": "stdout",
          "text": [
            "\n",
            "0: 128x768 (no detections), 6.2ms\n",
            "Speed: 0.8ms preprocess, 6.2ms inference, 0.6ms postprocess per image at shape (1, 3, 128, 768)\n"
          ]
        },
        {
          "output_type": "stream",
          "name": "stderr",
          "text": [
            "\n",
            "0it [00:00, ?it/s]"
          ]
        },
        {
          "output_type": "stream",
          "name": "stdout",
          "text": [
            "\n",
            "WARNING ⚠️ imgsz=[165, 768] must be multiple of max stride 32, updating to [192, 768]\n",
            "0: 192x768 1 isolated, 6.6ms\n",
            "Speed: 1.4ms preprocess, 6.6ms inference, 1.4ms postprocess per image at shape (1, 3, 192, 768)\n"
          ]
        },
        {
          "output_type": "stream",
          "name": "stderr",
          "text": [
            "\n",
            "100%|██████████| 1/1 [00:00<00:00,  7.20it/s]\n"
          ]
        },
        {
          "output_type": "stream",
          "name": "stdout",
          "text": [
            "\n",
            "WARNING ⚠️ imgsz=[135, 768] must be multiple of max stride 32, updating to [160, 768]\n",
            "0: 160x768 (no detections), 6.3ms\n",
            "Speed: 0.9ms preprocess, 6.3ms inference, 0.6ms postprocess per image at shape (1, 3, 160, 768)\n"
          ]
        },
        {
          "output_type": "stream",
          "name": "stderr",
          "text": [
            "0it [00:00, ?it/s]\n"
          ]
        },
        {
          "output_type": "stream",
          "name": "stdout",
          "text": [
            "\n",
            "WARNING ⚠️ imgsz=[1279, 768] must be multiple of max stride 32, updating to [1280, 768]\n",
            "0: 1280x768 (no detections), 13.8ms\n",
            "Speed: 7.4ms preprocess, 13.8ms inference, 0.8ms postprocess per image at shape (1, 3, 1280, 768)\n"
          ]
        },
        {
          "output_type": "stream",
          "name": "stderr",
          "text": [
            "0it [00:00, ?it/s]\n"
          ]
        },
        {
          "output_type": "stream",
          "name": "stdout",
          "text": [
            "\n",
            "WARNING ⚠️ imgsz=[81, 768] must be multiple of max stride 32, updating to [96, 768]\n",
            "0: 96x768 (no detections), 6.2ms\n",
            "Speed: 0.8ms preprocess, 6.2ms inference, 4.5ms postprocess per image at shape (1, 3, 96, 768)\n"
          ]
        },
        {
          "output_type": "stream",
          "name": "stderr",
          "text": [
            "0it [00:00, ?it/s]"
          ]
        },
        {
          "output_type": "stream",
          "name": "stdout",
          "text": [
            "\n",
            "WARNING ⚠️ imgsz=[140, 768] must be multiple of max stride 32, updating to [160, 768]\n",
            "0: 160x768 1 isolated, 6.3ms\n",
            "Speed: 1.3ms preprocess, 6.3ms inference, 1.4ms postprocess per image at shape (1, 3, 160, 768)\n"
          ]
        },
        {
          "output_type": "stream",
          "name": "stderr",
          "text": [
            "\n",
            "100%|██████████| 1/1 [00:00<00:00,  5.00it/s]\n"
          ]
        },
        {
          "output_type": "stream",
          "name": "stdout",
          "text": [
            "\n",
            "WARNING ⚠️ imgsz=[310, 1152] must be multiple of max stride 32, updating to [320, 1152]\n",
            "0: 320x1152 3 embeddings, 10.1ms\n",
            "Speed: 2.9ms preprocess, 10.1ms inference, 1.5ms postprocess per image at shape (1, 3, 320, 1152)\n"
          ]
        },
        {
          "output_type": "stream",
          "name": "stderr",
          "text": [
            "100%|██████████| 2/2 [00:00<00:00, 22.39it/s]\n"
          ]
        },
        {
          "output_type": "stream",
          "name": "stdout",
          "text": [
            "\n",
            "WARNING ⚠️ imgsz=[122, 1152] must be multiple of max stride 32, updating to [128, 1152]\n",
            "0: 128x1152 (no detections), 17.0ms\n",
            "Speed: 1.7ms preprocess, 17.0ms inference, 0.7ms postprocess per image at shape (1, 3, 128, 1152)\n"
          ]
        },
        {
          "output_type": "stream",
          "name": "stderr",
          "text": [
            "0it [00:00, ?it/s]\n"
          ]
        },
        {
          "output_type": "stream",
          "name": "stdout",
          "text": [
            "\n",
            "WARNING ⚠️ imgsz=[494, 1152] must be multiple of max stride 32, updating to [512, 1152]\n",
            "0: 512x1152 (no detections), 7988.8ms\n",
            "Speed: 3.7ms preprocess, 7988.8ms inference, 0.8ms postprocess per image at shape (1, 3, 512, 1152)\n"
          ]
        },
        {
          "output_type": "stream",
          "name": "stderr",
          "text": [
            "0it [00:00, ?it/s]\n"
          ]
        },
        {
          "output_type": "stream",
          "name": "stdout",
          "text": [
            "\n",
            "WARNING ⚠️ imgsz=[266, 1152] must be multiple of max stride 32, updating to [288, 1152]\n",
            "0: 288x1152 (no detections), 18.2ms\n",
            "Speed: 2.8ms preprocess, 18.2ms inference, 0.7ms postprocess per image at shape (1, 3, 288, 1152)\n"
          ]
        },
        {
          "output_type": "stream",
          "name": "stderr",
          "text": [
            "0it [00:00, ?it/s]\n"
          ]
        },
        {
          "output_type": "stream",
          "name": "stdout",
          "text": [
            "\n",
            "WARNING ⚠️ imgsz=[259, 1152] must be multiple of max stride 32, updating to [288, 1152]\n",
            "0: 288x1152 (no detections), 9.0ms\n",
            "Speed: 2.4ms preprocess, 9.0ms inference, 0.7ms postprocess per image at shape (1, 3, 288, 1152)\n"
          ]
        },
        {
          "output_type": "stream",
          "name": "stderr",
          "text": [
            "0it [00:00, ?it/s]\n"
          ]
        },
        {
          "output_type": "stream",
          "name": "stdout",
          "text": [
            "\n",
            "WARNING ⚠️ imgsz=[238, 1152] must be multiple of max stride 32, updating to [256, 1152]\n",
            "0: 256x1152 (no detections), 18.2ms\n",
            "Speed: 3.1ms preprocess, 18.2ms inference, 0.7ms postprocess per image at shape (1, 3, 256, 1152)\n"
          ]
        },
        {
          "output_type": "stream",
          "name": "stderr",
          "text": [
            "0it [00:00, ?it/s]"
          ]
        },
        {
          "output_type": "stream",
          "name": "stdout",
          "text": [
            "\n",
            "WARNING ⚠️ imgsz=[139, 768] must be multiple of max stride 32, updating to [160, 768]\n",
            "0: 160x768 1 embedding, 1 isolated, 6.6ms\n",
            "Speed: 1.1ms preprocess, 6.6ms inference, 1.5ms postprocess per image at shape (1, 3, 160, 768)\n"
          ]
        },
        {
          "output_type": "stream",
          "name": "stderr",
          "text": [
            "\n",
            "100%|██████████| 1/1 [00:00<00:00,  6.22it/s]\n"
          ]
        },
        {
          "output_type": "stream",
          "name": "stdout",
          "text": [
            "\n",
            "WARNING ⚠️ imgsz=[1278, 768] must be multiple of max stride 32, updating to [1280, 768]\n",
            "0: 1280x768 (no detections), 14.2ms\n",
            "Speed: 7.8ms preprocess, 14.2ms inference, 0.7ms postprocess per image at shape (1, 3, 1280, 768)\n"
          ]
        },
        {
          "output_type": "stream",
          "name": "stderr",
          "text": [
            "0it [00:00, ?it/s]\n"
          ]
        },
        {
          "output_type": "stream",
          "name": "stdout",
          "text": [
            "\n",
            "WARNING ⚠️ imgsz=[193, 1152] must be multiple of max stride 32, updating to [224, 1152]\n",
            "0: 224x1152 (no detections), 8.8ms\n",
            "Speed: 1.9ms preprocess, 8.8ms inference, 4.1ms postprocess per image at shape (1, 3, 224, 1152)\n"
          ]
        },
        {
          "output_type": "stream",
          "name": "stderr",
          "text": [
            "0it [00:00, ?it/s]\n"
          ]
        },
        {
          "output_type": "stream",
          "name": "stdout",
          "text": [
            "\n",
            "WARNING ⚠️ imgsz=[243, 1152] must be multiple of max stride 32, updating to [256, 1152]\n",
            "0: 256x1152 (no detections), 18.2ms\n",
            "Speed: 3.1ms preprocess, 18.2ms inference, 0.8ms postprocess per image at shape (1, 3, 256, 1152)\n"
          ]
        },
        {
          "output_type": "stream",
          "name": "stderr",
          "text": [
            "0it [00:00, ?it/s]"
          ]
        },
        {
          "output_type": "stream",
          "name": "stdout",
          "text": [
            "\n",
            "WARNING ⚠️ imgsz=[234, 1152] must be multiple of max stride 32, updating to [256, 1152]\n"
          ]
        },
        {
          "output_type": "stream",
          "name": "stderr",
          "text": [
            "\n"
          ]
        },
        {
          "output_type": "stream",
          "name": "stdout",
          "text": [
            "0: 256x1152 (no detections), 8.1ms\n",
            "Speed: 2.4ms preprocess, 8.1ms inference, 0.7ms postprocess per image at shape (1, 3, 256, 1152)\n"
          ]
        },
        {
          "output_type": "stream",
          "name": "stderr",
          "text": [
            "0it [00:00, ?it/s]\n"
          ]
        },
        {
          "output_type": "stream",
          "name": "stdout",
          "text": [
            "\n",
            "WARNING ⚠️ imgsz=[203, 1152] must be multiple of max stride 32, updating to [224, 1152]\n",
            "0: 224x1152 1 embedding, 8.7ms\n",
            "Speed: 1.9ms preprocess, 8.7ms inference, 1.4ms postprocess per image at shape (1, 3, 224, 1152)\n"
          ]
        },
        {
          "output_type": "stream",
          "name": "stderr",
          "text": [
            "100%|██████████| 1/1 [00:00<00:00, 33.10it/s]\n",
            "100%|██████████| 1/1 [00:00<00:00,  4.14it/s]"
          ]
        },
        {
          "output_type": "stream",
          "name": "stdout",
          "text": [
            "\n",
            "WARNING ⚠️ imgsz=[204, 1152] must be multiple of max stride 32, updating to [224, 1152]\n",
            "0: 224x1152 3 embeddings, 8.9ms\n",
            "Speed: 1.9ms preprocess, 8.9ms inference, 1.5ms postprocess per image at shape (1, 3, 224, 1152)\n"
          ]
        },
        {
          "output_type": "stream",
          "name": "stderr",
          "text": [
            "\n",
            "100%|██████████| 3/3 [00:00<00:00, 34.38it/s]\n",
            "100%|██████████| 1/1 [00:00<00:00,  2.69it/s]"
          ]
        },
        {
          "output_type": "stream",
          "name": "stdout",
          "text": [
            "\n",
            "0: 128x1152 1 embedding, 7.0ms\n",
            "Speed: 1.2ms preprocess, 7.0ms inference, 1.4ms postprocess per image at shape (1, 3, 128, 1152)\n"
          ]
        },
        {
          "output_type": "stream",
          "name": "stderr",
          "text": [
            "\n",
            "100%|██████████| 1/1 [00:00<00:00, 43.94it/s]\n",
            "100%|██████████| 1/1 [00:00<00:00,  1.39it/s]"
          ]
        },
        {
          "output_type": "stream",
          "name": "stdout",
          "text": [
            "\n",
            "WARNING ⚠️ imgsz=[94, 768] must be multiple of max stride 32, updating to [96, 768]\n",
            "0: 96x768 (no detections), 6.3ms\n",
            "Speed: 1.1ms preprocess, 6.3ms inference, 0.6ms postprocess per image at shape (1, 3, 96, 768)\n"
          ]
        },
        {
          "output_type": "stream",
          "name": "stderr",
          "text": [
            "\n",
            "0it [00:00, ?it/s]\n"
          ]
        },
        {
          "output_type": "stream",
          "name": "stdout",
          "text": [
            "\n",
            "WARNING ⚠️ imgsz=[130, 768] must be multiple of max stride 32, updating to [160, 768]\n",
            "0: 160x768 (no detections), 15.1ms\n",
            "Speed: 2.0ms preprocess, 15.1ms inference, 1.0ms postprocess per image at shape (1, 3, 160, 768)\n"
          ]
        },
        {
          "output_type": "stream",
          "name": "stderr",
          "text": [
            "0it [00:00, ?it/s]\n"
          ]
        },
        {
          "output_type": "stream",
          "name": "stdout",
          "text": [
            "\n",
            "WARNING ⚠️ imgsz=[1140, 768] must be multiple of max stride 32, updating to [1152, 768]\n",
            "0: 1152x768 1 isolated, 8030.3ms\n",
            "Speed: 6.5ms preprocess, 8030.3ms inference, 1.9ms postprocess per image at shape (1, 3, 1152, 768)\n"
          ]
        },
        {
          "output_type": "stream",
          "name": "stderr",
          "text": [
            "100%|██████████| 1/1 [00:01<00:00,  1.58s/it]\n"
          ]
        },
        {
          "output_type": "stream",
          "name": "stdout",
          "text": [
            "\n",
            "WARNING ⚠️ imgsz=[165, 1152] must be multiple of max stride 32, updating to [192, 1152]\n",
            "0: 192x1152 (no detections), 7.9ms\n",
            "Speed: 1.8ms preprocess, 7.9ms inference, 5.2ms postprocess per image at shape (1, 3, 192, 1152)\n"
          ]
        },
        {
          "output_type": "stream",
          "name": "stderr",
          "text": [
            "0it [00:00, ?it/s]\n",
            "100%|██████████| 1/1 [00:01<00:00,  1.55s/it]"
          ]
        },
        {
          "output_type": "stream",
          "name": "stdout",
          "text": [
            "\n",
            "WARNING ⚠️ imgsz=[239, 1152] must be multiple of max stride 32, updating to [256, 1152]\n",
            "0: 256x1152 4 embeddings, 8.9ms\n",
            "Speed: 2.2ms preprocess, 8.9ms inference, 1.5ms postprocess per image at shape (1, 3, 256, 1152)\n"
          ]
        },
        {
          "output_type": "stream",
          "name": "stderr",
          "text": [
            "\n",
            "100%|██████████| 4/4 [00:00<00:00, 31.16it/s]\n",
            "100%|██████████| 1/1 [00:00<00:00, 10.96it/s]"
          ]
        },
        {
          "output_type": "stream",
          "name": "stdout",
          "text": [
            "\n",
            "WARNING ⚠️ imgsz=[163, 768] must be multiple of max stride 32, updating to [192, 768]\n",
            "0: 192x768 1 isolated, 6.7ms\n",
            "Speed: 1.0ms preprocess, 6.7ms inference, 1.3ms postprocess per image at shape (1, 3, 192, 768)\n"
          ]
        },
        {
          "output_type": "stream",
          "name": "stderr",
          "text": [
            "\n",
            "100%|██████████| 1/1 [00:00<00:00,  6.21it/s]\n",
            "100%|██████████| 1/1 [00:00<00:00,  8.05it/s]"
          ]
        },
        {
          "output_type": "stream",
          "name": "stdout",
          "text": [
            "\n",
            "WARNING ⚠️ imgsz=[210, 1152] must be multiple of max stride 32, updating to [224, 1152]\n"
          ]
        },
        {
          "output_type": "stream",
          "name": "stderr",
          "text": [
            "\n"
          ]
        },
        {
          "output_type": "stream",
          "name": "stdout",
          "text": [
            "0: 224x1152 1 embedding, 2 isolateds, 8.7ms\n",
            "Speed: 1.9ms preprocess, 8.7ms inference, 1.9ms postprocess per image at shape (1, 3, 224, 1152)\n"
          ]
        },
        {
          "output_type": "stream",
          "name": "stderr",
          "text": [
            "100%|██████████| 2/2 [00:00<00:00, 12.54it/s]\n",
            "100%|██████████| 1/1 [00:00<00:00,  7.31it/s]"
          ]
        },
        {
          "output_type": "stream",
          "name": "stdout",
          "text": [
            "\n",
            "WARNING ⚠️ imgsz=[153, 768] must be multiple of max stride 32, updating to [160, 768]\n",
            "0: 160x768 1 isolated, 6.2ms\n",
            "Speed: 1.0ms preprocess, 6.2ms inference, 1.3ms postprocess per image at shape (1, 3, 160, 768)\n"
          ]
        },
        {
          "output_type": "stream",
          "name": "stderr",
          "text": [
            "\n",
            "100%|██████████| 1/1 [00:00<00:00,  6.19it/s]\n",
            "100%|██████████| 1/1 [00:00<00:00,  7.91it/s]"
          ]
        },
        {
          "output_type": "stream",
          "name": "stdout",
          "text": [
            "\n",
            "WARNING ⚠️ imgsz=[113, 768] must be multiple of max stride 32, updating to [128, 768]\n",
            "0: 128x768 (no detections), 6.2ms\n",
            "Speed: 0.9ms preprocess, 6.2ms inference, 0.6ms postprocess per image at shape (1, 3, 128, 768)\n"
          ]
        },
        {
          "output_type": "stream",
          "name": "stderr",
          "text": [
            "\n",
            "0it [00:00, ?it/s]\n",
            "100%|██████████| 1/1 [00:00<00:00,  2.94it/s]\n",
            "100%|██████████| 1/1 [00:00<00:00, 14.64it/s]"
          ]
        },
        {
          "output_type": "stream",
          "name": "stdout",
          "text": [
            "\n",
            "WARNING ⚠️ imgsz=[137, 1152] must be multiple of max stride 32, updating to [160, 1152]\n",
            "0: 160x1152 2 embeddings, 7.3ms\n",
            "Speed: 1.3ms preprocess, 7.3ms inference, 1.4ms postprocess per image at shape (1, 3, 160, 1152)\n"
          ]
        },
        {
          "output_type": "stream",
          "name": "stderr",
          "text": [
            "\n",
            "100%|██████████| 1/1 [00:00<00:00, 20.31it/s]\n",
            "100%|██████████| 1/1 [00:00<00:00,  2.69it/s]"
          ]
        },
        {
          "output_type": "stream",
          "name": "stdout",
          "text": [
            "\n",
            "WARNING ⚠️ imgsz=[129, 1152] must be multiple of max stride 32, updating to [160, 1152]\n",
            "0: 160x1152 2 embeddings, 6.9ms\n",
            "Speed: 1.3ms preprocess, 6.9ms inference, 1.3ms postprocess per image at shape (1, 3, 160, 1152)\n"
          ]
        },
        {
          "output_type": "stream",
          "name": "stderr",
          "text": [
            "\n",
            "100%|██████████| 2/2 [00:00<00:00, 37.48it/s]\n",
            "100%|██████████| 1/1 [00:00<00:00,  2.57it/s]"
          ]
        },
        {
          "output_type": "stream",
          "name": "stdout",
          "text": [
            "\n",
            "WARNING ⚠️ imgsz=[194, 1152] must be multiple of max stride 32, updating to [224, 1152]\n",
            "0: 224x1152 (no detections), 8.6ms\n",
            "Speed: 2.2ms preprocess, 8.6ms inference, 0.6ms postprocess per image at shape (1, 3, 224, 1152)\n"
          ]
        },
        {
          "output_type": "stream",
          "name": "stderr",
          "text": [
            "\n",
            "0it [00:00, ?it/s]\n"
          ]
        },
        {
          "output_type": "stream",
          "name": "stdout",
          "text": [
            "\n",
            "WARNING ⚠️ imgsz=[184, 768] must be multiple of max stride 32, updating to [192, 768]\n",
            "0: 192x768 (no detections), 17.0ms\n",
            "Speed: 1.5ms preprocess, 17.0ms inference, 0.7ms postprocess per image at shape (1, 3, 192, 768)\n"
          ]
        },
        {
          "output_type": "stream",
          "name": "stderr",
          "text": [
            "0it [00:00, ?it/s]\n",
            "100%|██████████| 1/1 [00:00<00:00,  3.04it/s]\n"
          ]
        },
        {
          "output_type": "stream",
          "name": "stdout",
          "text": [
            "\n",
            "WARNING ⚠️ imgsz=[1300, 768] must be multiple of max stride 32, updating to [1312, 768]\n",
            "0: 1312x768 1 embedding, 14.2ms\n",
            "Speed: 7.5ms preprocess, 14.2ms inference, 1.6ms postprocess per image at shape (1, 3, 1312, 768)\n"
          ]
        },
        {
          "output_type": "stream",
          "name": "stderr",
          "text": [
            "100%|██████████| 1/1 [00:00<00:00, 13.62it/s]\n",
            "100%|██████████| 1/1 [00:00<00:00,  2.89it/s]"
          ]
        },
        {
          "output_type": "stream",
          "name": "stdout",
          "text": [
            "\n",
            "WARNING ⚠️ imgsz=[198, 1152] must be multiple of max stride 32, updating to [224, 1152]\n",
            "0: 224x1152 (no detections), 9.0ms\n",
            "Speed: 2.1ms preprocess, 9.0ms inference, 4.8ms postprocess per image at shape (1, 3, 224, 1152)\n"
          ]
        },
        {
          "output_type": "stream",
          "name": "stderr",
          "text": [
            "\n",
            "0it [00:00, ?it/s]\n"
          ]
        },
        {
          "output_type": "stream",
          "name": "stdout",
          "text": [
            "\n",
            "WARNING ⚠️ imgsz=[156, 1152] must be multiple of max stride 32, updating to [160, 1152]\n",
            "0: 160x1152 (no detections), 7.4ms\n",
            "Speed: 1.6ms preprocess, 7.4ms inference, 0.7ms postprocess per image at shape (1, 3, 160, 1152)\n"
          ]
        },
        {
          "output_type": "stream",
          "name": "stderr",
          "text": [
            "0it [00:00, ?it/s]\n"
          ]
        },
        {
          "output_type": "stream",
          "name": "stdout",
          "text": [
            "\n",
            "WARNING ⚠️ imgsz=[159, 1152] must be multiple of max stride 32, updating to [160, 1152]\n",
            "0: 160x1152 4 embeddings, 7.8ms\n",
            "Speed: 1.5ms preprocess, 7.8ms inference, 1.6ms postprocess per image at shape (1, 3, 160, 1152)\n"
          ]
        },
        {
          "output_type": "stream",
          "name": "stderr",
          "text": [
            "100%|██████████| 4/4 [00:00<00:00, 40.80it/s]\n",
            "100%|██████████| 1/1 [00:00<00:00,  2.95it/s]"
          ]
        },
        {
          "output_type": "stream",
          "name": "stdout",
          "text": [
            "\n",
            "0: 320x1152 1 embedding, 9.8ms\n",
            "Speed: 2.6ms preprocess, 9.8ms inference, 1.6ms postprocess per image at shape (1, 3, 320, 1152)\n"
          ]
        },
        {
          "output_type": "stream",
          "name": "stderr",
          "text": [
            "\n",
            "100%|██████████| 1/1 [00:00<00:00,  8.63it/s]\n",
            "100%|██████████| 1/1 [00:00<00:00,  1.38it/s]"
          ]
        },
        {
          "output_type": "stream",
          "name": "stdout",
          "text": [
            "\n",
            "WARNING ⚠️ imgsz=[244, 1152] must be multiple of max stride 32, updating to [256, 1152]\n",
            "0: 256x1152 5 embeddings, 8.8ms\n",
            "Speed: 2.3ms preprocess, 8.8ms inference, 1.5ms postprocess per image at shape (1, 3, 256, 1152)\n"
          ]
        },
        {
          "output_type": "stream",
          "name": "stderr",
          "text": [
            "\n",
            "100%|██████████| 4/4 [00:00<00:00, 26.04it/s]\n"
          ]
        },
        {
          "output_type": "stream",
          "name": "stdout",
          "text": [
            "\n",
            "WARNING ⚠️ imgsz=[456, 1152] must be multiple of max stride 32, updating to [480, 1152]\n",
            "0: 480x1152 (no detections), 7957.8ms\n",
            "Speed: 3.5ms preprocess, 7957.8ms inference, 0.8ms postprocess per image at shape (1, 3, 480, 1152)\n"
          ]
        },
        {
          "output_type": "stream",
          "name": "stderr",
          "text": [
            "0it [00:00, ?it/s]\n"
          ]
        },
        {
          "output_type": "stream",
          "name": "stdout",
          "text": [
            "\n",
            "0: 128x768 (no detections), 6.0ms\n",
            "Speed: 0.9ms preprocess, 6.0ms inference, 0.6ms postprocess per image at shape (1, 3, 128, 768)\n"
          ]
        },
        {
          "output_type": "stream",
          "name": "stderr",
          "text": [
            "0it [00:00, ?it/s]\n"
          ]
        },
        {
          "output_type": "stream",
          "name": "stdout",
          "text": [
            "\n",
            "WARNING ⚠️ imgsz=[1321, 768] must be multiple of max stride 32, updating to [1344, 768]\n",
            "0: 1344x768 (no detections), 13.7ms\n",
            "Speed: 7.7ms preprocess, 13.7ms inference, 0.7ms postprocess per image at shape (1, 3, 1344, 768)\n"
          ]
        },
        {
          "output_type": "stream",
          "name": "stderr",
          "text": [
            "0it [00:00, ?it/s]\n"
          ]
        },
        {
          "output_type": "stream",
          "name": "stdout",
          "text": [
            "\n",
            "WARNING ⚠️ imgsz=[168, 1152] must be multiple of max stride 32, updating to [192, 1152]\n",
            "0: 192x1152 (no detections), 7.8ms\n",
            "Speed: 1.7ms preprocess, 7.8ms inference, 4.8ms postprocess per image at shape (1, 3, 192, 1152)\n"
          ]
        },
        {
          "output_type": "stream",
          "name": "stderr",
          "text": [
            "0it [00:00, ?it/s]"
          ]
        },
        {
          "output_type": "stream",
          "name": "stdout",
          "text": [
            "\n",
            "WARNING ⚠️ imgsz=[273, 1152] must be multiple of max stride 32, updating to [288, 1152]\n",
            "0: 288x1152 (no detections), 9.3ms\n",
            "Speed: 2.4ms preprocess, 9.3ms inference, 0.8ms postprocess per image at shape (1, 3, 288, 1152)\n"
          ]
        },
        {
          "output_type": "stream",
          "name": "stderr",
          "text": [
            "\n",
            "0it [00:00, ?it/s]\n"
          ]
        },
        {
          "output_type": "stream",
          "name": "stdout",
          "text": [
            "\n",
            "WARNING ⚠️ imgsz=[207, 1152] must be multiple of max stride 32, updating to [224, 1152]\n",
            "0: 224x1152 4 embeddings, 8.9ms\n",
            "Speed: 1.9ms preprocess, 8.9ms inference, 2.3ms postprocess per image at shape (1, 3, 224, 1152)\n"
          ]
        },
        {
          "output_type": "stream",
          "name": "stderr",
          "text": [
            "100%|██████████| 4/4 [00:00<00:00, 42.43it/s]\n",
            "100%|██████████| 1/1 [00:00<00:00,  8.00it/s]"
          ]
        },
        {
          "output_type": "stream",
          "name": "stdout",
          "text": [
            "\n",
            "WARNING ⚠️ imgsz=[163, 1152] must be multiple of max stride 32, updating to [192, 1152]\n",
            "0: 192x1152 (no detections), 7.8ms\n",
            "Speed: 1.7ms preprocess, 7.8ms inference, 0.7ms postprocess per image at shape (1, 3, 192, 1152)\n"
          ]
        },
        {
          "output_type": "stream",
          "name": "stderr",
          "text": [
            "\n",
            "0it [00:00, ?it/s]\n",
            "100%|██████████| 1/1 [00:00<00:00,  3.07it/s]"
          ]
        },
        {
          "output_type": "stream",
          "name": "stdout",
          "text": [
            "\n",
            "WARNING ⚠️ imgsz=[342, 1152] must be multiple of max stride 32, updating to [352, 1152]\n"
          ]
        },
        {
          "output_type": "stream",
          "name": "stderr",
          "text": [
            "\n"
          ]
        },
        {
          "output_type": "stream",
          "name": "stdout",
          "text": [
            "0: 352x1152 9 embeddings, 7934.8ms\n",
            "Speed: 2.8ms preprocess, 7934.8ms inference, 1.6ms postprocess per image at shape (1, 3, 352, 1152)\n"
          ]
        },
        {
          "output_type": "stream",
          "name": "stderr",
          "text": [
            "100%|██████████| 5/5 [00:00<00:00, 34.32it/s]\n"
          ]
        },
        {
          "output_type": "stream",
          "name": "stdout",
          "text": [
            "\n",
            "WARNING ⚠️ imgsz=[119, 768] must be multiple of max stride 32, updating to [128, 768]\n",
            "0: 128x768 (no detections), 15.2ms\n",
            "Speed: 1.6ms preprocess, 15.2ms inference, 0.7ms postprocess per image at shape (1, 3, 128, 768)\n"
          ]
        },
        {
          "output_type": "stream",
          "name": "stderr",
          "text": [
            "0it [00:00, ?it/s]"
          ]
        },
        {
          "output_type": "stream",
          "name": "stdout",
          "text": [
            "\n",
            "WARNING ⚠️ imgsz=[99, 768] must be multiple of max stride 32, updating to [128, 768]\n",
            "0: 128x768 (no detections), 5.4ms\n",
            "Speed: 0.8ms preprocess, 5.4ms inference, 0.6ms postprocess per image at shape (1, 3, 128, 768)\n"
          ]
        },
        {
          "output_type": "stream",
          "name": "stderr",
          "text": [
            "\n",
            "0it [00:00, ?it/s]\n",
            "100%|██████████| 1/1 [00:00<00:00,  3.85it/s]"
          ]
        },
        {
          "output_type": "stream",
          "name": "stdout",
          "text": [
            "\n",
            "WARNING ⚠️ imgsz=[182, 768] must be multiple of max stride 32, updating to [192, 768]\n",
            "0: 192x768 1 embedding, 1 isolated, 6.7ms\n",
            "Speed: 1.4ms preprocess, 6.7ms inference, 1.3ms postprocess per image at shape (1, 3, 192, 768)\n"
          ]
        },
        {
          "output_type": "stream",
          "name": "stderr",
          "text": [
            "\n",
            "100%|██████████| 1/1 [00:00<00:00,  6.90it/s]\n"
          ]
        },
        {
          "output_type": "stream",
          "name": "stdout",
          "text": [
            "\n",
            "WARNING ⚠️ imgsz=[1350, 768] must be multiple of max stride 32, updating to [1376, 768]\n",
            "0: 1376x768 (no detections), 8111.0ms\n",
            "Speed: 7.9ms preprocess, 8111.0ms inference, 1.6ms postprocess per image at shape (1, 3, 1376, 768)\n"
          ]
        },
        {
          "output_type": "stream",
          "name": "stderr",
          "text": [
            "0it [00:00, ?it/s]\n",
            "100%|██████████| 1/1 [00:00<00:00,  7.79it/s]\n"
          ]
        },
        {
          "output_type": "stream",
          "name": "stdout",
          "text": [
            "\n",
            "WARNING ⚠️ imgsz=[312, 1152] must be multiple of max stride 32, updating to [320, 1152]\n",
            "0: 320x1152 5 embeddings, 9.7ms\n",
            "Speed: 2.7ms preprocess, 9.7ms inference, 6.3ms postprocess per image at shape (1, 3, 320, 1152)\n"
          ]
        },
        {
          "output_type": "stream",
          "name": "stderr",
          "text": [
            "100%|██████████| 5/5 [00:00<00:00, 34.41it/s]\n",
            "100%|██████████| 1/1 [00:00<00:00,  4.77it/s]"
          ]
        },
        {
          "output_type": "stream",
          "name": "stdout",
          "text": [
            "\n",
            "WARNING ⚠️ imgsz=[212, 1152] must be multiple of max stride 32, updating to [224, 1152]\n",
            "0: 224x1152 (no detections), 8.7ms\n",
            "Speed: 1.9ms preprocess, 8.7ms inference, 0.7ms postprocess per image at shape (1, 3, 224, 1152)\n"
          ]
        },
        {
          "output_type": "stream",
          "name": "stderr",
          "text": [
            "\n",
            "0it [00:00, ?it/s]\n"
          ]
        },
        {
          "output_type": "stream",
          "name": "stdout",
          "text": [
            "\n",
            "0: 160x1152 1 embedding, 6.9ms\n",
            "Speed: 1.4ms preprocess, 6.9ms inference, 1.4ms postprocess per image at shape (1, 3, 160, 1152)\n"
          ]
        },
        {
          "output_type": "stream",
          "name": "stderr",
          "text": [
            "100%|██████████| 1/1 [00:00<00:00, 44.42it/s]\n",
            "100%|██████████| 1/1 [00:00<00:00,  7.28it/s]"
          ]
        },
        {
          "output_type": "stream",
          "name": "stdout",
          "text": [
            "\n",
            "0: 160x768 3 embeddings, 6.2ms\n",
            "Speed: 1.0ms preprocess, 6.2ms inference, 1.4ms postprocess per image at shape (1, 3, 160, 768)\n"
          ]
        },
        {
          "output_type": "stream",
          "name": "stderr",
          "text": [
            "\n",
            "100%|██████████| 3/3 [00:00<00:00, 32.51it/s]\n"
          ]
        },
        {
          "output_type": "stream",
          "name": "stdout",
          "text": [
            "\n",
            "WARNING ⚠️ imgsz=[74, 768] must be multiple of max stride 32, updating to [96, 768]\n",
            "0: 96x768 (no detections), 6.7ms\n",
            "Speed: 0.7ms preprocess, 6.7ms inference, 0.7ms postprocess per image at shape (1, 3, 96, 768)\n"
          ]
        },
        {
          "output_type": "stream",
          "name": "stderr",
          "text": [
            "0it [00:00, ?it/s]\n",
            "100%|██████████| 1/1 [00:00<00:00,  5.10it/s]\n"
          ]
        },
        {
          "output_type": "stream",
          "name": "stdout",
          "text": [
            "\n",
            "WARNING ⚠️ imgsz=[109, 768] must be multiple of max stride 32, updating to [128, 768]\n",
            "0: 128x768 (no detections), 6.0ms\n",
            "Speed: 0.9ms preprocess, 6.0ms inference, 0.6ms postprocess per image at shape (1, 3, 128, 768)\n"
          ]
        },
        {
          "output_type": "stream",
          "name": "stderr",
          "text": [
            "0it [00:00, ?it/s]\n",
            "100%|██████████| 1/1 [00:00<00:00,  5.97it/s]"
          ]
        },
        {
          "output_type": "stream",
          "name": "stdout",
          "text": [
            "\n"
          ]
        },
        {
          "output_type": "stream",
          "name": "stderr",
          "text": [
            "\n"
          ]
        },
        {
          "output_type": "stream",
          "name": "stdout",
          "text": [
            "WARNING ⚠️ imgsz=[129, 1152] must be multiple of max stride 32, updating to [160, 1152]\n",
            "0: 160x1152 (no detections), 7.7ms\n",
            "Speed: 1.4ms preprocess, 7.7ms inference, 0.7ms postprocess per image at shape (1, 3, 160, 1152)\n"
          ]
        },
        {
          "output_type": "stream",
          "name": "stderr",
          "text": [
            "0it [00:00, ?it/s]\n"
          ]
        },
        {
          "output_type": "stream",
          "name": "stdout",
          "text": [
            "\n",
            "WARNING ⚠️ imgsz=[237, 1152] must be multiple of max stride 32, updating to [256, 1152]\n",
            "0: 256x1152 (no detections), 11.0ms\n",
            "Speed: 2.4ms preprocess, 11.0ms inference, 0.8ms postprocess per image at shape (1, 3, 256, 1152)\n"
          ]
        },
        {
          "output_type": "stream",
          "name": "stderr",
          "text": [
            "0it [00:00, ?it/s]\n"
          ]
        },
        {
          "output_type": "stream",
          "name": "stdout",
          "text": [
            "\n",
            "WARNING ⚠️ imgsz=[106, 768] must be multiple of max stride 32, updating to [128, 768]\n",
            "0: 128x768 (no detections), 15.1ms\n",
            "Speed: 2.1ms preprocess, 15.1ms inference, 0.7ms postprocess per image at shape (1, 3, 128, 768)\n"
          ]
        },
        {
          "output_type": "stream",
          "name": "stderr",
          "text": [
            "0it [00:00, ?it/s]"
          ]
        },
        {
          "output_type": "stream",
          "name": "stdout",
          "text": [
            "\n",
            "WARNING ⚠️ imgsz=[106, 1152] must be multiple of max stride 32, updating to [128, 1152]\n",
            "0: 128x1152 2 embeddings, 16.9ms\n",
            "Speed: 2.6ms preprocess, 16.9ms inference, 1.5ms postprocess per image at shape (1, 3, 128, 1152)\n"
          ]
        },
        {
          "output_type": "stream",
          "name": "stderr",
          "text": [
            "\n",
            "100%|██████████| 2/2 [00:00<00:00, 31.71it/s]\n"
          ]
        },
        {
          "output_type": "stream",
          "name": "stdout",
          "text": [
            "\n",
            "WARNING ⚠️ imgsz=[1281, 768] must be multiple of max stride 32, updating to [1312, 768]\n",
            "0: 1312x768 (no detections), 13.9ms\n",
            "Speed: 7.3ms preprocess, 13.9ms inference, 0.7ms postprocess per image at shape (1, 3, 1312, 768)\n"
          ]
        },
        {
          "output_type": "stream",
          "name": "stderr",
          "text": [
            "0it [00:00, ?it/s]\n"
          ]
        },
        {
          "output_type": "stream",
          "name": "stdout",
          "text": [
            "\n",
            "WARNING ⚠️ imgsz=[165, 1152] must be multiple of max stride 32, updating to [192, 1152]\n",
            "0: 192x1152 (no detections), 7.8ms\n",
            "Speed: 2.4ms preprocess, 7.8ms inference, 5.3ms postprocess per image at shape (1, 3, 192, 1152)\n"
          ]
        },
        {
          "output_type": "stream",
          "name": "stderr",
          "text": [
            "0it [00:00, ?it/s]\n"
          ]
        },
        {
          "output_type": "stream",
          "name": "stdout",
          "text": [
            "\n",
            "WARNING ⚠️ imgsz=[411, 1152] must be multiple of max stride 32, updating to [416, 1152]\n",
            "0: 416x1152 (no detections), 22.6ms\n",
            "Speed: 3.1ms preprocess, 22.6ms inference, 0.8ms postprocess per image at shape (1, 3, 416, 1152)\n"
          ]
        },
        {
          "output_type": "stream",
          "name": "stderr",
          "text": [
            "0it [00:00, ?it/s]\n"
          ]
        },
        {
          "output_type": "stream",
          "name": "stdout",
          "text": [
            "\n",
            "WARNING ⚠️ imgsz=[197, 1152] must be multiple of max stride 32, updating to [224, 1152]\n",
            "0: 224x1152 (no detections), 8.7ms\n",
            "Speed: 2.0ms preprocess, 8.7ms inference, 0.6ms postprocess per image at shape (1, 3, 224, 1152)\n"
          ]
        },
        {
          "output_type": "stream",
          "name": "stderr",
          "text": [
            "0it [00:00, ?it/s]\n"
          ]
        },
        {
          "output_type": "stream",
          "name": "stdout",
          "text": [
            "\n",
            "WARNING ⚠️ imgsz=[236, 1152] must be multiple of max stride 32, updating to [256, 1152]\n",
            "0: 256x1152 (no detections), 18.2ms\n",
            "Speed: 2.6ms preprocess, 18.2ms inference, 0.7ms postprocess per image at shape (1, 3, 256, 1152)\n"
          ]
        },
        {
          "output_type": "stream",
          "name": "stderr",
          "text": [
            "0it [00:00, ?it/s]\n"
          ]
        },
        {
          "output_type": "stream",
          "name": "stdout",
          "text": [
            "\n",
            "WARNING ⚠️ imgsz=[643, 1152] must be multiple of max stride 32, updating to [672, 1152]\n",
            "0: 672x1152 11 embeddings, 8032.6ms\n",
            "Speed: 4.9ms preprocess, 8032.6ms inference, 1.6ms postprocess per image at shape (1, 3, 672, 1152)\n"
          ]
        },
        {
          "output_type": "stream",
          "name": "stderr",
          "text": [
            "100%|██████████| 10/10 [00:00<00:00, 27.78it/s]\n",
            "100%|██████████| 1/1 [00:00<00:00,  2.85it/s]"
          ]
        },
        {
          "output_type": "stream",
          "name": "stdout",
          "text": [
            "\n",
            "WARNING ⚠️ imgsz=[187, 768] must be multiple of max stride 32, updating to [192, 768]\n",
            "0: 192x768 1 isolated, 7.0ms\n",
            "Speed: 1.2ms preprocess, 7.0ms inference, 4.2ms postprocess per image at shape (1, 3, 192, 768)\n"
          ]
        },
        {
          "output_type": "stream",
          "name": "stderr",
          "text": [
            "\n",
            "100%|██████████| 1/1 [00:00<00:00,  5.97it/s]\n"
          ]
        },
        {
          "output_type": "stream",
          "name": "stdout",
          "text": [
            "\n",
            "WARNING ⚠️ imgsz=[1299, 768] must be multiple of max stride 32, updating to [1312, 768]\n",
            "0: 1312x768 (no detections), 14.3ms\n",
            "Speed: 7.3ms preprocess, 14.3ms inference, 0.8ms postprocess per image at shape (1, 3, 1312, 768)\n"
          ]
        },
        {
          "output_type": "stream",
          "name": "stderr",
          "text": [
            "0it [00:00, ?it/s]\n"
          ]
        },
        {
          "output_type": "stream",
          "name": "stdout",
          "text": [
            "\n",
            "WARNING ⚠️ imgsz=[276, 768] must be multiple of max stride 32, updating to [288, 768]\n",
            "0: 288x768 1 isolated, 8.2ms\n",
            "Speed: 1.4ms preprocess, 8.2ms inference, 6.3ms postprocess per image at shape (1, 3, 288, 768)\n"
          ]
        },
        {
          "output_type": "stream",
          "name": "stderr",
          "text": [
            "100%|██████████| 1/1 [00:00<00:00,  9.81it/s]\n",
            "100%|██████████| 1/1 [00:00<00:00,  2.24it/s]"
          ]
        },
        {
          "output_type": "stream",
          "name": "stdout",
          "text": [
            "\n",
            "WARNING ⚠️ imgsz=[100, 768] must be multiple of max stride 32, updating to [128, 768]\n",
            "0: 128x768 2 embeddings, 6.3ms\n",
            "Speed: 0.9ms preprocess, 6.3ms inference, 1.4ms postprocess per image at shape (1, 3, 128, 768)\n"
          ]
        },
        {
          "output_type": "stream",
          "name": "stderr",
          "text": [
            "\n",
            "100%|██████████| 2/2 [00:00<00:00, 27.94it/s]\n"
          ]
        },
        {
          "output_type": "stream",
          "name": "stdout",
          "text": [
            "\n",
            "WARNING ⚠️ imgsz=[450, 1152] must be multiple of max stride 32, updating to [480, 1152]\n",
            "0: 480x1152 (no detections), 14.4ms\n",
            "Speed: 3.6ms preprocess, 14.4ms inference, 0.8ms postprocess per image at shape (1, 3, 480, 1152)\n"
          ]
        },
        {
          "output_type": "stream",
          "name": "stderr",
          "text": [
            "0it [00:00, ?it/s]\n"
          ]
        },
        {
          "output_type": "stream",
          "name": "stdout",
          "text": [
            "\n",
            "WARNING ⚠️ imgsz=[344, 1152] must be multiple of max stride 32, updating to [352, 1152]\n",
            "0: 352x1152 6 embeddings, 10.2ms\n",
            "Speed: 2.9ms preprocess, 10.2ms inference, 1.5ms postprocess per image at shape (1, 3, 352, 1152)\n"
          ]
        },
        {
          "output_type": "stream",
          "name": "stderr",
          "text": [
            "100%|██████████| 6/6 [00:00<00:00, 33.00it/s]\n"
          ]
        },
        {
          "output_type": "stream",
          "name": "stdout",
          "text": [
            "\n",
            "WARNING ⚠️ imgsz=[105, 768] must be multiple of max stride 32, updating to [128, 768]\n",
            "0: 128x768 (no detections), 7.0ms\n",
            "Speed: 1.1ms preprocess, 7.0ms inference, 0.7ms postprocess per image at shape (1, 3, 128, 768)\n"
          ]
        },
        {
          "output_type": "stream",
          "name": "stderr",
          "text": [
            "0it [00:00, ?it/s]\n"
          ]
        },
        {
          "output_type": "stream",
          "name": "stdout",
          "text": [
            "\n",
            "WARNING ⚠️ imgsz=[1284, 768] must be multiple of max stride 32, updating to [1312, 768]\n",
            "0: 1312x768 (no detections), 14.2ms\n",
            "Speed: 7.4ms preprocess, 14.2ms inference, 0.7ms postprocess per image at shape (1, 3, 1312, 768)\n"
          ]
        },
        {
          "output_type": "stream",
          "name": "stderr",
          "text": [
            "0it [00:00, ?it/s]\n"
          ]
        },
        {
          "output_type": "stream",
          "name": "stdout",
          "text": [
            "\n",
            "WARNING ⚠️ imgsz=[170, 1152] must be multiple of max stride 32, updating to [192, 1152]\n",
            "0: 192x1152 (no detections), 8.1ms\n",
            "Speed: 1.9ms preprocess, 8.1ms inference, 4.7ms postprocess per image at shape (1, 3, 192, 1152)\n"
          ]
        },
        {
          "output_type": "stream",
          "name": "stderr",
          "text": [
            "0it [00:00, ?it/s]"
          ]
        },
        {
          "output_type": "stream",
          "name": "stdout",
          "text": [
            "\n",
            "WARNING ⚠️ imgsz=[165, 1152] must be multiple of max stride 32, updating to [192, 1152]\n",
            "0: 192x1152 (no detections), 7.0ms\n",
            "Speed: 1.6ms preprocess, 7.0ms inference, 0.6ms postprocess per image at shape (1, 3, 192, 1152)\n"
          ]
        },
        {
          "output_type": "stream",
          "name": "stderr",
          "text": [
            "\n",
            "0it [00:00, ?it/s]\n"
          ]
        },
        {
          "output_type": "stream",
          "name": "stdout",
          "text": [
            "\n",
            "WARNING ⚠️ imgsz=[95, 768] must be multiple of max stride 32, updating to [96, 768]\n",
            "0: 96x768 (no detections), 5.9ms\n",
            "Speed: 0.7ms preprocess, 5.9ms inference, 0.6ms postprocess per image at shape (1, 3, 96, 768)\n"
          ]
        },
        {
          "output_type": "stream",
          "name": "stderr",
          "text": [
            "0it [00:00, ?it/s]\n"
          ]
        },
        {
          "output_type": "stream",
          "name": "stdout",
          "text": [
            "\n",
            "WARNING ⚠️ imgsz=[119, 1152] must be multiple of max stride 32, updating to [128, 1152]\n",
            "0: 128x1152 (no detections), 17.0ms\n",
            "Speed: 2.0ms preprocess, 17.0ms inference, 0.7ms postprocess per image at shape (1, 3, 128, 1152)\n"
          ]
        },
        {
          "output_type": "stream",
          "name": "stderr",
          "text": [
            "0it [00:00, ?it/s]"
          ]
        },
        {
          "output_type": "stream",
          "name": "stdout",
          "text": [
            "\n",
            "WARNING ⚠️ imgsz=[104, 1152] must be multiple of max stride 32, updating to [128, 1152]\n",
            "0: 128x1152 1 embedding, 6.4ms\n",
            "Speed: 1.6ms preprocess, 6.4ms inference, 1.6ms postprocess per image at shape (1, 3, 128, 1152)\n"
          ]
        },
        {
          "output_type": "stream",
          "name": "stderr",
          "text": [
            "\n",
            "100%|██████████| 1/1 [00:00<00:00,  3.80it/s]\n"
          ]
        },
        {
          "output_type": "stream",
          "name": "stdout",
          "text": [
            "\n",
            "WARNING ⚠️ imgsz=[102, 768] must be multiple of max stride 32, updating to [128, 768]\n",
            "0: 128x768 1 embedding, 7.4ms\n",
            "Speed: 1.2ms preprocess, 7.4ms inference, 1.4ms postprocess per image at shape (1, 3, 128, 768)\n"
          ]
        },
        {
          "output_type": "stream",
          "name": "stderr",
          "text": [
            "100%|██████████| 1/1 [00:00<00:00, 26.11it/s]"
          ]
        },
        {
          "output_type": "stream",
          "name": "stdout",
          "text": [
            "\n",
            "WARNING ⚠️ imgsz=[92, 1152] must be multiple of max stride 32, updating to [96, 1152]\n"
          ]
        },
        {
          "output_type": "stream",
          "name": "stderr",
          "text": [
            "\n"
          ]
        },
        {
          "output_type": "stream",
          "name": "stdout",
          "text": [
            "0: 96x1152 (no detections), 7891.4ms\n",
            "Speed: 1.3ms preprocess, 7891.4ms inference, 0.7ms postprocess per image at shape (1, 3, 96, 1152)\n"
          ]
        },
        {
          "output_type": "stream",
          "name": "stderr",
          "text": [
            "0it [00:00, ?it/s]\n"
          ]
        },
        {
          "output_type": "stream",
          "name": "stdout",
          "text": [
            "\n",
            "WARNING ⚠️ imgsz=[83, 768] must be multiple of max stride 32, updating to [96, 768]\n",
            "0: 96x768 1 isolated, 6.0ms\n",
            "Speed: 0.7ms preprocess, 6.0ms inference, 1.7ms postprocess per image at shape (1, 3, 96, 768)\n"
          ]
        },
        {
          "output_type": "stream",
          "name": "stderr",
          "text": [
            "100%|██████████| 1/1 [00:00<00:00,  3.65it/s]"
          ]
        },
        {
          "output_type": "stream",
          "name": "stdout",
          "text": [
            "\n",
            "WARNING ⚠️ imgsz=[95, 768] must be multiple of max stride 32, updating to [96, 768]\n",
            "0: 96x768 1 embedding, 6.1ms\n",
            "Speed: 1.0ms preprocess, 6.1ms inference, 1.3ms postprocess per image at shape (1, 3, 96, 768)\n"
          ]
        },
        {
          "output_type": "stream",
          "name": "stderr",
          "text": [
            "\n",
            "100%|██████████| 1/1 [00:00<00:00, 17.90it/s]"
          ]
        },
        {
          "output_type": "stream",
          "name": "stdout",
          "text": [
            "\n",
            "WARNING ⚠️ imgsz=[117, 1152] must be multiple of max stride 32, updating to [128, 1152]\n",
            "0: 128x1152 2 embeddings, 6.6ms\n",
            "Speed: 1.1ms preprocess, 6.6ms inference, 1.3ms postprocess per image at shape (1, 3, 128, 1152)\n"
          ]
        },
        {
          "output_type": "stream",
          "name": "stderr",
          "text": [
            "\n",
            "100%|██████████| 2/2 [00:00<00:00, 24.82it/s]\n"
          ]
        },
        {
          "output_type": "stream",
          "name": "stdout",
          "text": [
            "\n",
            "WARNING ⚠️ imgsz=[125, 1152] must be multiple of max stride 32, updating to [128, 1152]\n",
            "0: 128x1152 3 embeddings, 17.0ms\n",
            "Speed: 2.6ms preprocess, 17.0ms inference, 1.4ms postprocess per image at shape (1, 3, 128, 1152)\n"
          ]
        },
        {
          "output_type": "stream",
          "name": "stderr",
          "text": [
            "100%|██████████| 3/3 [00:00<00:00, 33.21it/s]"
          ]
        },
        {
          "output_type": "stream",
          "name": "stdout",
          "text": [
            "\n",
            "WARNING ⚠️ imgsz=[189, 768] must be multiple of max stride 32, updating to [192, 768]\n",
            "0: 192x768 1 embedding, 1 isolated, 6.7ms\n",
            "Speed: 1.1ms preprocess, 6.7ms inference, 1.4ms postprocess per image at shape (1, 3, 192, 768)\n"
          ]
        },
        {
          "output_type": "stream",
          "name": "stderr",
          "text": [
            "\n",
            "100%|██████████| 1/1 [00:00<00:00,  5.84it/s]\n"
          ]
        },
        {
          "output_type": "stream",
          "name": "stdout",
          "text": [
            "\n",
            "WARNING ⚠️ imgsz=[1319, 768] must be multiple of max stride 32, updating to [1344, 768]\n",
            "0: 1344x768 29 embeddings, 14.1ms\n",
            "Speed: 7.5ms preprocess, 14.1ms inference, 1.9ms postprocess per image at shape (1, 3, 1344, 768)\n"
          ]
        },
        {
          "output_type": "stream",
          "name": "stderr",
          "text": [
            "100%|██████████| 25/25 [00:01<00:00, 23.59it/s]\n"
          ]
        },
        {
          "output_type": "stream",
          "name": "stdout",
          "text": [
            "\n",
            "WARNING ⚠️ imgsz=[550, 1152] must be multiple of max stride 32, updating to [576, 1152]\n",
            "0: 576x1152 21 embeddings, 8027.6ms\n",
            "Speed: 4.0ms preprocess, 8027.6ms inference, 4.7ms postprocess per image at shape (1, 3, 576, 1152)\n"
          ]
        },
        {
          "output_type": "stream",
          "name": "stderr",
          "text": [
            "100%|██████████| 19/19 [00:00<00:00, 21.54it/s]\n"
          ]
        },
        {
          "output_type": "stream",
          "name": "stdout",
          "text": [
            "\n",
            "WARNING ⚠️ imgsz=[98, 768] must be multiple of max stride 32, updating to [128, 768]\n",
            "0: 128x768 (no detections), 15.1ms\n",
            "Speed: 1.8ms preprocess, 15.1ms inference, 0.6ms postprocess per image at shape (1, 3, 128, 768)\n"
          ]
        },
        {
          "output_type": "stream",
          "name": "stderr",
          "text": [
            "0it [00:00, ?it/s]"
          ]
        },
        {
          "output_type": "stream",
          "name": "stdout",
          "text": [
            "\n",
            "0: 96x768 1 embedding, 5.9ms\n",
            "Speed: 0.7ms preprocess, 5.9ms inference, 1.4ms postprocess per image at shape (1, 3, 96, 768)\n"
          ]
        },
        {
          "output_type": "stream",
          "name": "stderr",
          "text": [
            "\n",
            "100%|██████████| 1/1 [00:00<00:00, 32.30it/s]\n"
          ]
        },
        {
          "output_type": "stream",
          "name": "stdout",
          "text": [
            "\n",
            "WARNING ⚠️ imgsz=[90, 768] must be multiple of max stride 32, updating to [96, 768]\n",
            "0: 96x768 1 embedding, 15.0ms\n",
            "Speed: 1.5ms preprocess, 15.0ms inference, 1.4ms postprocess per image at shape (1, 3, 96, 768)\n"
          ]
        },
        {
          "output_type": "stream",
          "name": "stderr",
          "text": [
            "100%|██████████| 1/1 [00:00<00:00, 33.68it/s]"
          ]
        },
        {
          "output_type": "stream",
          "name": "stdout",
          "text": [
            "\n",
            "WARNING ⚠️ imgsz=[108, 768] must be multiple of max stride 32, updating to [128, 768]\n",
            "0: 128x768 1 embedding, 1 isolated, 6.2ms\n",
            "Speed: 0.8ms preprocess, 6.2ms inference, 1.4ms postprocess per image at shape (1, 3, 128, 768)\n"
          ]
        },
        {
          "output_type": "stream",
          "name": "stderr",
          "text": [
            "\n",
            "100%|██████████| 1/1 [00:00<00:00,  5.11it/s]\n"
          ]
        },
        {
          "output_type": "stream",
          "name": "stdout",
          "text": [
            "\n",
            "WARNING ⚠️ imgsz=[78, 768] must be multiple of max stride 32, updating to [96, 768]\n",
            "0: 96x768 1 embedding, 5.8ms\n",
            "Speed: 0.7ms preprocess, 5.8ms inference, 1.4ms postprocess per image at shape (1, 3, 96, 768)\n"
          ]
        },
        {
          "output_type": "stream",
          "name": "stderr",
          "text": [
            "100%|██████████| 1/1 [00:00<00:00, 22.51it/s]"
          ]
        },
        {
          "output_type": "stream",
          "name": "stdout",
          "text": [
            "\n",
            "WARNING ⚠️ imgsz=[194, 768] must be multiple of max stride 32, updating to [224, 768]\n",
            "0: 224x768 2 isolateds, 6.7ms\n",
            "Speed: 1.3ms preprocess, 6.7ms inference, 1.6ms postprocess per image at shape (1, 3, 224, 768)\n"
          ]
        },
        {
          "output_type": "stream",
          "name": "stderr",
          "text": [
            "\n",
            "100%|██████████| 1/1 [00:00<00:00,  9.99it/s]"
          ]
        },
        {
          "output_type": "stream",
          "name": "stdout",
          "text": [
            "\n",
            "WARNING ⚠️ imgsz=[191, 768] must be multiple of max stride 32, updating to [192, 768]\n",
            "0: 192x768 1 isolated, 6.8ms\n",
            "Speed: 1.1ms preprocess, 6.8ms inference, 1.4ms postprocess per image at shape (1, 3, 192, 768)\n"
          ]
        },
        {
          "output_type": "stream",
          "name": "stderr",
          "text": [
            "\n",
            "100%|██████████| 1/1 [00:00<00:00,  7.14it/s]\n"
          ]
        },
        {
          "output_type": "stream",
          "name": "stdout",
          "text": [
            "\n",
            "WARNING ⚠️ imgsz=[220, 1152] must be multiple of max stride 32, updating to [224, 1152]\n",
            "0: 224x1152 1 embedding, 8.7ms\n",
            "Speed: 1.8ms preprocess, 8.7ms inference, 1.6ms postprocess per image at shape (1, 3, 224, 1152)\n"
          ]
        },
        {
          "output_type": "stream",
          "name": "stderr",
          "text": [
            "100%|██████████| 1/1 [00:00<00:00,  8.12it/s]\n"
          ]
        },
        {
          "output_type": "stream",
          "name": "stdout",
          "text": [
            "\n",
            "WARNING ⚠️ imgsz=[80, 768] must be multiple of max stride 32, updating to [96, 768]\n",
            "0: 96x768 (no detections), 5.9ms\n",
            "Speed: 1.0ms preprocess, 5.9ms inference, 0.6ms postprocess per image at shape (1, 3, 96, 768)\n"
          ]
        },
        {
          "output_type": "stream",
          "name": "stderr",
          "text": [
            "0it [00:00, ?it/s]\n"
          ]
        },
        {
          "output_type": "stream",
          "name": "stdout",
          "text": [
            "\n",
            "WARNING ⚠️ imgsz=[127, 1152] must be multiple of max stride 32, updating to [128, 1152]\n",
            "0: 128x1152 (no detections), 17.0ms\n",
            "Speed: 1.8ms preprocess, 17.0ms inference, 0.7ms postprocess per image at shape (1, 3, 128, 1152)\n"
          ]
        },
        {
          "output_type": "stream",
          "name": "stderr",
          "text": [
            "0it [00:00, ?it/s]\n",
            "100%|██████████| 1/1 [00:00<00:00,  2.30it/s]"
          ]
        },
        {
          "output_type": "stream",
          "name": "stdout",
          "text": [
            "\n",
            "WARNING ⚠️ imgsz=[171, 1152] must be multiple of max stride 32, updating to [192, 1152]\n",
            "0: 192x1152 9 embeddings, 7.8ms\n",
            "Speed: 1.7ms preprocess, 7.8ms inference, 1.5ms postprocess per image at shape (1, 3, 192, 1152)\n"
          ]
        },
        {
          "output_type": "stream",
          "name": "stderr",
          "text": [
            "\n",
            "100%|██████████| 7/7 [00:00<00:00, 23.92it/s]\n"
          ]
        },
        {
          "output_type": "stream",
          "name": "stdout",
          "text": [
            "\n",
            "WARNING ⚠️ imgsz=[107, 768] must be multiple of max stride 32, updating to [128, 768]\n",
            "0: 128x768 (no detections), 15.1ms\n",
            "Speed: 1.7ms preprocess, 15.1ms inference, 0.6ms postprocess per image at shape (1, 3, 128, 768)\n"
          ]
        },
        {
          "output_type": "stream",
          "name": "stderr",
          "text": [
            "0it [00:00, ?it/s]\n"
          ]
        },
        {
          "output_type": "stream",
          "name": "stdout",
          "text": [
            "\n",
            "WARNING ⚠️ imgsz=[1323, 768] must be multiple of max stride 32, updating to [1344, 768]\n",
            "0: 1344x768 (no detections), 13.8ms\n",
            "Speed: 7.6ms preprocess, 13.8ms inference, 0.7ms postprocess per image at shape (1, 3, 1344, 768)\n"
          ]
        },
        {
          "output_type": "stream",
          "name": "stderr",
          "text": [
            "0it [00:00, ?it/s]\n"
          ]
        },
        {
          "output_type": "stream",
          "name": "stdout",
          "text": [
            "\n",
            "WARNING ⚠️ imgsz=[239, 1152] must be multiple of max stride 32, updating to [256, 1152]\n",
            "0: 256x1152 6 embeddings, 8.9ms\n",
            "Speed: 2.2ms preprocess, 8.9ms inference, 3.4ms postprocess per image at shape (1, 3, 256, 1152)\n"
          ]
        },
        {
          "output_type": "stream",
          "name": "stderr",
          "text": [
            "100%|██████████| 6/6 [00:00<00:00, 18.85it/s]\n"
          ]
        },
        {
          "output_type": "stream",
          "name": "stdout",
          "text": [
            "\n",
            "WARNING ⚠️ imgsz=[414, 1152] must be multiple of max stride 32, updating to [416, 1152]\n",
            "0: 416x1152 (no detections), 11.0ms\n",
            "Speed: 3.2ms preprocess, 11.0ms inference, 0.8ms postprocess per image at shape (1, 3, 416, 1152)\n"
          ]
        },
        {
          "output_type": "stream",
          "name": "stderr",
          "text": [
            "0it [00:00, ?it/s]\n"
          ]
        },
        {
          "output_type": "stream",
          "name": "stdout",
          "text": [
            "\n",
            "WARNING ⚠️ imgsz=[360, 1152] must be multiple of max stride 32, updating to [384, 1152]\n",
            "0: 384x1152 2 embeddings, 20.4ms\n",
            "Speed: 3.7ms preprocess, 20.4ms inference, 1.5ms postprocess per image at shape (1, 3, 384, 1152)\n"
          ]
        },
        {
          "output_type": "stream",
          "name": "stderr",
          "text": [
            "100%|██████████| 2/2 [00:00<00:00, 25.47it/s]\n"
          ]
        },
        {
          "output_type": "stream",
          "name": "stdout",
          "text": [
            "\n",
            "WARNING ⚠️ imgsz=[223, 1152] must be multiple of max stride 32, updating to [224, 1152]\n",
            "0: 224x1152 (no detections), 8.9ms\n",
            "Speed: 2.0ms preprocess, 8.9ms inference, 0.9ms postprocess per image at shape (1, 3, 224, 1152)\n"
          ]
        },
        {
          "output_type": "stream",
          "name": "stderr",
          "text": [
            "0it [00:00, ?it/s]\n"
          ]
        },
        {
          "output_type": "stream",
          "name": "stdout",
          "text": [
            "\n",
            "0: 160x1152 (no detections), 18.0ms\n",
            "Speed: 2.9ms preprocess, 18.0ms inference, 0.7ms postprocess per image at shape (1, 3, 160, 1152)\n"
          ]
        },
        {
          "output_type": "stream",
          "name": "stderr",
          "text": [
            "0it [00:00, ?it/s]"
          ]
        },
        {
          "output_type": "stream",
          "name": "stdout",
          "text": [
            "\n",
            "WARNING ⚠️ imgsz=[213, 1152] must be multiple of max stride 32, updating to [224, 1152]\n",
            "0: 224x1152 (no detections), 8.9ms\n",
            "Speed: 2.0ms preprocess, 8.9ms inference, 0.7ms postprocess per image at shape (1, 3, 224, 1152)\n"
          ]
        },
        {
          "output_type": "stream",
          "name": "stderr",
          "text": [
            "\n",
            "0it [00:00, ?it/s]\n"
          ]
        },
        {
          "output_type": "stream",
          "name": "stdout",
          "text": [
            "\n",
            "WARNING ⚠️ imgsz=[123, 1152] must be multiple of max stride 32, updating to [128, 1152]\n",
            "0: 128x1152 (no detections), 17.0ms\n",
            "Speed: 1.6ms preprocess, 17.0ms inference, 0.7ms postprocess per image at shape (1, 3, 128, 1152)\n"
          ]
        },
        {
          "output_type": "stream",
          "name": "stderr",
          "text": [
            "0it [00:00, ?it/s]\n",
            "100%|██████████| 1/1 [00:00<00:00,  3.49it/s]"
          ]
        },
        {
          "output_type": "stream",
          "name": "stdout",
          "text": [
            "\n",
            "WARNING ⚠️ imgsz=[142, 768] must be multiple of max stride 32, updating to [160, 768]\n",
            "0: 160x768 (no detections), 6.5ms\n",
            "Speed: 1.0ms preprocess, 6.5ms inference, 0.7ms postprocess per image at shape (1, 3, 160, 768)\n"
          ]
        },
        {
          "output_type": "stream",
          "name": "stderr",
          "text": [
            "\n",
            "0it [00:00, ?it/s]\n"
          ]
        },
        {
          "output_type": "stream",
          "name": "stdout",
          "text": [
            "\n",
            "0: 160x768 1 isolated, 15.2ms\n",
            "Speed: 1.7ms preprocess, 15.2ms inference, 1.5ms postprocess per image at shape (1, 3, 160, 768)\n"
          ]
        },
        {
          "output_type": "stream",
          "name": "stderr",
          "text": [
            "100%|██████████| 1/1 [00:00<00:00,  7.63it/s]"
          ]
        },
        {
          "output_type": "stream",
          "name": "stdout",
          "text": [
            "\n",
            "WARNING ⚠️ imgsz=[140, 768] must be multiple of max stride 32, updating to [160, 768]\n",
            "0: 160x768 1 isolated, 6.5ms\n",
            "Speed: 1.4ms preprocess, 6.5ms inference, 1.5ms postprocess per image at shape (1, 3, 160, 768)\n"
          ]
        },
        {
          "output_type": "stream",
          "name": "stderr",
          "text": [
            "\n",
            "100%|██████████| 1/1 [00:00<00:00,  6.08it/s]\n"
          ]
        },
        {
          "output_type": "stream",
          "name": "stdout",
          "text": [
            "\n",
            "0: 1312x768 (no detections), 14.2ms\n",
            "Speed: 7.5ms preprocess, 14.2ms inference, 0.8ms postprocess per image at shape (1, 3, 1312, 768)\n"
          ]
        },
        {
          "output_type": "stream",
          "name": "stderr",
          "text": [
            "0it [00:00, ?it/s]\n"
          ]
        },
        {
          "output_type": "stream",
          "name": "stdout",
          "text": [
            "\n",
            "WARNING ⚠️ imgsz=[166, 768] must be multiple of max stride 32, updating to [192, 768]\n",
            "0: 192x768 1 isolated, 6.8ms\n",
            "Speed: 1.0ms preprocess, 6.8ms inference, 3.3ms postprocess per image at shape (1, 3, 192, 768)\n"
          ]
        },
        {
          "output_type": "stream",
          "name": "stderr",
          "text": [
            "100%|██████████| 1/1 [00:00<00:00,  7.50it/s]"
          ]
        },
        {
          "output_type": "stream",
          "name": "stdout",
          "text": [
            "\n",
            "WARNING ⚠️ imgsz=[177, 768] must be multiple of max stride 32, updating to [192, 768]\n",
            "0: 192x768 1 isolated, 6.4ms\n",
            "Speed: 1.0ms preprocess, 6.4ms inference, 1.4ms postprocess per image at shape (1, 3, 192, 768)\n"
          ]
        },
        {
          "output_type": "stream",
          "name": "stderr",
          "text": [
            "\n",
            "100%|██████████| 1/1 [00:00<00:00,  8.02it/s]"
          ]
        },
        {
          "output_type": "stream",
          "name": "stdout",
          "text": [
            "\n",
            "WARNING ⚠️ imgsz=[174, 768] must be multiple of max stride 32, updating to [192, 768]\n",
            "0: 192x768 1 isolated, 6.4ms\n",
            "Speed: 1.1ms preprocess, 6.4ms inference, 1.4ms postprocess per image at shape (1, 3, 192, 768)\n"
          ]
        },
        {
          "output_type": "stream",
          "name": "stderr",
          "text": [
            "\n",
            "100%|██████████| 1/1 [00:00<00:00,  6.68it/s]\n"
          ]
        },
        {
          "output_type": "stream",
          "name": "stdout",
          "text": [
            "\n",
            "WARNING ⚠️ imgsz=[229, 1152] must be multiple of max stride 32, updating to [256, 1152]\n",
            "0: 256x1152 9 embeddings, 10.3ms\n",
            "Speed: 2.4ms preprocess, 10.3ms inference, 1.7ms postprocess per image at shape (1, 3, 256, 1152)\n"
          ]
        },
        {
          "output_type": "stream",
          "name": "stderr",
          "text": [
            "100%|██████████| 9/9 [00:00<00:00, 34.15it/s]\n",
            "100%|██████████| 1/1 [00:00<00:00,  8.04it/s]"
          ]
        },
        {
          "output_type": "stream",
          "name": "stdout",
          "text": [
            "\n",
            "WARNING ⚠️ imgsz=[135, 1152] must be multiple of max stride 32, updating to [160, 1152]\n",
            "0: 160x1152 1 embedding, 7.3ms\n",
            "Speed: 1.4ms preprocess, 7.3ms inference, 1.4ms postprocess per image at shape (1, 3, 160, 1152)\n"
          ]
        },
        {
          "output_type": "stream",
          "name": "stderr",
          "text": [
            "\n",
            "100%|██████████| 1/1 [00:00<00:00,  3.51it/s]"
          ]
        },
        {
          "output_type": "stream",
          "name": "stdout",
          "text": [
            "\n",
            "WARNING ⚠️ imgsz=[163, 1152] must be multiple of max stride 32, updating to [192, 1152]\n",
            "0: 192x1152 (no detections), 7.6ms\n",
            "Speed: 1.6ms preprocess, 7.6ms inference, 0.7ms postprocess per image at shape (1, 3, 192, 1152)\n"
          ]
        },
        {
          "output_type": "stream",
          "name": "stderr",
          "text": [
            "\n",
            "0it [00:00, ?it/s]\n"
          ]
        },
        {
          "output_type": "stream",
          "name": "stdout",
          "text": [
            "\n",
            "WARNING ⚠️ imgsz=[157, 1152] must be multiple of max stride 32, updating to [160, 1152]\n",
            "0: 160x1152 (no detections), 7.5ms\n",
            "Speed: 1.5ms preprocess, 7.5ms inference, 0.7ms postprocess per image at shape (1, 3, 160, 1152)\n"
          ]
        },
        {
          "output_type": "stream",
          "name": "stderr",
          "text": [
            "0it [00:00, ?it/s]\n"
          ]
        },
        {
          "output_type": "stream",
          "name": "stdout",
          "text": [
            "\n",
            "WARNING ⚠️ imgsz=[188, 1152] must be multiple of max stride 32, updating to [192, 1152]\n",
            "0: 192x1152 1 embedding, 9.2ms\n",
            "Speed: 2.5ms preprocess, 9.2ms inference, 1.5ms postprocess per image at shape (1, 3, 192, 1152)\n"
          ]
        },
        {
          "output_type": "stream",
          "name": "stderr",
          "text": [
            "100%|██████████| 1/1 [00:00<00:00, 28.52it/s]\n"
          ]
        },
        {
          "output_type": "stream",
          "name": "stdout",
          "text": [
            "\n",
            "WARNING ⚠️ imgsz=[171, 1152] must be multiple of max stride 32, updating to [192, 1152]\n",
            "0: 192x1152 (no detections), 7.6ms\n",
            "Speed: 1.7ms preprocess, 7.6ms inference, 0.7ms postprocess per image at shape (1, 3, 192, 1152)\n"
          ]
        },
        {
          "output_type": "stream",
          "name": "stderr",
          "text": [
            "0it [00:00, ?it/s]\n"
          ]
        },
        {
          "output_type": "stream",
          "name": "stdout",
          "text": [
            "\n",
            "WARNING ⚠️ imgsz=[195, 1152] must be multiple of max stride 32, updating to [224, 1152]\n",
            "0: 224x1152 (no detections), 9.2ms\n",
            "Speed: 2.0ms preprocess, 9.2ms inference, 0.8ms postprocess per image at shape (1, 3, 224, 1152)\n"
          ]
        },
        {
          "output_type": "stream",
          "name": "stderr",
          "text": [
            "0it [00:00, ?it/s]\n"
          ]
        },
        {
          "output_type": "stream",
          "name": "stdout",
          "text": [
            "\n",
            "WARNING ⚠️ imgsz=[85, 768] must be multiple of max stride 32, updating to [96, 768]\n",
            "0: 96x768 (no detections), 6.0ms\n",
            "Speed: 0.8ms preprocess, 6.0ms inference, 0.7ms postprocess per image at shape (1, 3, 96, 768)\n"
          ]
        },
        {
          "output_type": "stream",
          "name": "stderr",
          "text": [
            "0it [00:00, ?it/s]\n",
            "100%|██████████| 1/1 [00:00<00:00,  3.44it/s]"
          ]
        },
        {
          "output_type": "stream",
          "name": "stdout",
          "text": [
            "\n",
            "WARNING ⚠️ imgsz=[155, 1152] must be multiple of max stride 32, updating to [160, 1152]\n",
            "0: 160x1152 3 embeddings, 8.2ms\n",
            "Speed: 1.8ms preprocess, 8.2ms inference, 1.6ms postprocess per image at shape (1, 3, 160, 1152)\n"
          ]
        },
        {
          "output_type": "stream",
          "name": "stderr",
          "text": [
            "\n",
            "100%|██████████| 3/3 [00:00<00:00, 16.98it/s]\n"
          ]
        },
        {
          "output_type": "stream",
          "name": "stdout",
          "text": [
            "\n",
            "0: 128x1152 1 embedding, 6.6ms\n",
            "Speed: 1.1ms preprocess, 6.6ms inference, 1.3ms postprocess per image at shape (1, 3, 128, 1152)\n"
          ]
        },
        {
          "output_type": "stream",
          "name": "stderr",
          "text": [
            "100%|██████████| 1/1 [00:00<00:00, 19.09it/s]\n"
          ]
        },
        {
          "output_type": "stream",
          "name": "stdout",
          "text": [
            "\n",
            "WARNING ⚠️ imgsz=[164, 1152] must be multiple of max stride 32, updating to [192, 1152]\n",
            "0: 192x1152 1 embedding, 7.9ms\n",
            "Speed: 1.6ms preprocess, 7.9ms inference, 1.6ms postprocess per image at shape (1, 3, 192, 1152)\n"
          ]
        },
        {
          "output_type": "stream",
          "name": "stderr",
          "text": [
            "100%|██████████| 1/1 [00:00<00:00, 20.06it/s]\n"
          ]
        },
        {
          "output_type": "stream",
          "name": "stdout",
          "text": [
            "\n",
            "WARNING ⚠️ imgsz=[134, 768] must be multiple of max stride 32, updating to [160, 768]\n",
            "0: 160x768 (no detections), 6.2ms\n",
            "Speed: 1.0ms preprocess, 6.2ms inference, 0.6ms postprocess per image at shape (1, 3, 160, 768)\n"
          ]
        },
        {
          "output_type": "stream",
          "name": "stderr",
          "text": [
            "0it [00:00, ?it/s]\n"
          ]
        },
        {
          "output_type": "stream",
          "name": "stdout",
          "text": [
            "\n",
            "WARNING ⚠️ imgsz=[1286, 768] must be multiple of max stride 32, updating to [1312, 768]\n",
            "0: 1312x768 (no detections), 13.6ms\n",
            "Speed: 7.7ms preprocess, 13.6ms inference, 0.7ms postprocess per image at shape (1, 3, 1312, 768)\n"
          ]
        },
        {
          "output_type": "stream",
          "name": "stderr",
          "text": [
            "0it [00:00, ?it/s]\n"
          ]
        }
      ]
    },
    {
      "cell_type": "code",
      "source": [
        "pages"
      ],
      "metadata": {
        "colab": {
          "base_uri": "https://localhost:8080/"
        },
        "id": "QCUJg_-3EUOW",
        "outputId": "e6ae5cbe-8b53-4ec9-bc88-184c8e6d2bcf"
      },
      "execution_count": 4,
      "outputs": [
        {
          "output_type": "execute_result",
          "data": {
            "text/plain": [
              "[Document(metadata={'page': 0}, page_content='\\n$$\\n\\\\mathbf{C H A P T E R} \\\\, \\\\mathbf{1}\\n$$\\n\\n踹时钲泼藕霆经懿谎颦S谌兽荦柒泫蛲诟悲崧S葴菠料\\n\\n## Definitions and Principles\\n\\nChemical engineering has to do with industrial processes in which raw materials are changed or separated into useful products. The chemical engineer must develop, design, and engineer both the complete process and the equipment used; choose the proper raw materials; operate the plants efficiently, safely, and economically; and see to it that products meet the requirements set by the customers. Chemical engineering is both an art and a science. Whenever science helps the engineer to solve a problem, science should be used. When, as is usually the case, science does not give a complete answer, it is necessary to use experience and judgment. The professional stature of an engineer depends on skill in utilizing all sources of information to reach practical solutions to processing problems.\\n\\nThe variety of processes and industries that call for the services of chemical engineers is enormous. In the past, the areas of most concern to chemical engineers were ore beneficiation, petroleum refining, and the manufacture of heavy chemicals and organics such as sulfuric acid, methyl alcohol, and polyethylene. Today items such as polymeric lithographic supports for the electronics industry, high-strength composite materials, genetically modified biochemical agents in areas of food processing, and drug manufacture and drug delivery have become increasingly important. The processes described in standard treatises on chemical technology and the Mnantndnantnd ocrenmd\\n\\nBecause of the variety and complexity of modern processes, it is not practicable to cover the entire subject matter of chemical engineering under a single head. The field is divided into convenient, but arbitrary, sectors. This text covers that portion of chemical engineering known as the unit operations.\\n'),\n",
              " Document(metadata={'page': 1}, page_content=\"4 $S E C T 1 \\\\, O \\\\, \\\\mathrm{N}$ l:Introduction\\n\\n## UNIT OPERATIONS\\n\\nAn economical method of organizing much of the subject matter of chemical engineering is based on two facts: (1) Although the number of individual processes is great, each one can be broken down into a series of steps, called operations, each of which in turn appears in process after process; (2) the individual operations have common techniques and are based on the same scientific principles. For example, in most processes solids and fluids must be moved; heat or other forms of energy must be transferred from one substance to another, and tasks such as drying, size reduction, distillation, and evaporation must be performed. The unit operation concept is this: By studying systematically these operations themselves- -operations that clearly cross industry and process lines--the treatment of all processes is unified and simplified.\\nThe strictly chemical aspects of processing are studied in a companion area of chemical engineering called reaction kinetics. The unit operations are largely used to conduct the primarily physical steps of preparing the reactants, separating and purifying the products, recycling unconverted reactants, and controlling the energy transfer into or out of the chemical reactor.\\n\\nThe unit operations are as applicable to many physical processes as to chemical ones. For example, the process used to manufacture common salt consists of the following sequence of unit operations: transportation of solids and liquids, transfer of heat, evaporation, crystallization, drying, and screening. No chemical reaction appears in these steps. On the other hand, the cracking of petroleum, with or without the aid of a catalyst, is a typical chemical reaction conducted on an enormous scale. Here the unit operations---transportation of fluids and solids, distillation, and various mechanical separations--are vital, and the cracking reaction could not be utilized without them. The chemical steps themselves are conducted by controlling the flow of material and energy to and from the reaction zone.\\n\\nBecause the unit operations are a branch of engineering, they are based on both science and experience. Theory and practice must combine to yield designs for equipment that can be fabricated, assembled, operated, and maintained. $\\\\mathrm{A}$ balanced discussion of each operation requires that theory and equipment be considered together. This book presents such a balanced treatment.\\n\\n## Scientific foundations of unit operations\\n\\nA number of scientific principles and techniques are basic to the treatment of the unit operations. Some are elementary physical and chemical laws such as the conservation of mass and energy, physical equilibria, kinetics, and certain properties of matter. Their general use is described in the remainder of this chapter. Other special techniques important in chemical engineering are considered at the proper places in the text.\\n\\n## UNIT SYSTEMS\\n\\nThe official international system of units is SI (Systeme International d'Unités). Strong efforts are underway for its universal adoption as the exclusive system for\"),\n",
              " Document(metadata={'page': 2}, page_content='CHAPTER 1: Definitions and Principle\\n\\nall engineering and science, but older systems, particularly the centimeter-gram-second (cgs) and foot-pound-second (fps) engineering gravitational systes, are still in use and probably will be around for some time. The chemical engineer finds many physiochemical data given in cgs units; that many calculations are most conveniently done in fps units; and that SI units are increasingly encountered in science and engineering. Thus it becomes necessary to be expert in the use of all tree systems.\\n\\nIn the following treatment, SI is discussed first, and then the other systems are derived from it. The procedure reverses the historical order, as the SI units evolved from the cgs system. Because of the growing importance of SI, it should logically be given a preference. $\\\\mathrm{I f},$ in time, the other systems are phased out, they can be ignored and SI used exclusively.\\n\\n## Physical Quantities\\n\\nAny physical quantity consists of two parts: a unit, which tells what the quantity is and gives the standard by which it is measured, and a number, which tells how many units are needed to make up the quantity. For example, the statement that the distance between two points is 3 m means all this: A definite length has been measured; to measure it, a standard length, called the meter, has been chosen as a unit; and three l-m units, laid end to end, are needed to cover the distance. If an integral number of units are either too few or too many to cover a given distance, submultiples, which are fractions of the unit, are defined by dividing the unit into fractions, so that a measurement can be made to any degree of precision in terms of the fractional units. No physical quantity is defined until both the number and the unit are given.\\n\\n## SI Units\\n\\nThe SI system covers the entire field of science and engineering, including electro-magnetics and illumination. For the purposes of this book, a subset of the SI units covering chemistry, gravity, mechanics, and thermodynamics is sufficient. The units are derivable from (1) four proportionalities of chemistry and physics; (2) arbitrary standards for mass, length, time, temperature, and the mole; and (3) arbitrary choices for the numerical values of two proportionality constants.\\n\\n$$\\n\\\\mathrm{B a s i c \\\\ e q u a t i o n s}\\n$$\\n\\nThe basic proportionalities, each written as an equation with its own proportionality factor, are\\n\\n$$\\nF=k_{1} \\\\frac{d} {d t} ( m u ) \\\\ \\\\ \\\\ \\\\ \\\\ \\\\ \\\\ \\\\ \\\\ \\\\ \\\\ \\\\ \\\\ \\\\ \\\\ \\\\ \\\\ \\\\ \\\\ \\\\ \\\\ \\\\ \\\\ \\\\ \\\\ \\\\ \\\\ \\\\ \\\\ \\\\ \\\\ \\\\ \\\\ \\\\ \\\\ \\\\ \\\\ \\\\ \\\\ \\\\ \\\\ \\\\ \\\\ \\\\ \\\\ \\\\ \\\\ \\\\ \\\\ \\\\ \\\\ \\\\ \\\\ \\\\ \\\\ \\\\ \\\\ \\\\ \\\\ \\\\ \\\\ \\\\ \\\\ \\\\ \\\\ \\\\ \\\\ \\\\ \\\\ \\\\ \\\\ \\\\ \\\\ \\\\ \\\\ \\\\ \\\\ \\\\ \\\\ \\\\ \\\\ \\\\ \\\\ \\\\ \\\\ \\\\ \\\\ \\\\ \\\\ \\\\ \\\\ \\\\ \\\\ \\\\ \\\\ \\\\ \\\\ \\\\ \\\\ \\\\ \\\\ \\\\ \\\\ \\\\ \\\\ \\\\ \\\\ \\\\ \\\\ \\\\ \\\\ \\\\ \\\\ \\\\ \\\\ \\\\ \\\\ \\\\ \\\\ \\\\ \\\\ \\\\ \\\\ \\\\ \\\\ \\\\ \\\\ \\\\ \\\\ \\\\ \\\\ \\\\ \\\\ \\\\ \\\\ \\\\ \\\\ \\\\ \\\\ \\\\ \\\\ \\\\ \\\\ \\\\ \\\\ \\\\ \\\\ \\\\ \\\\ \\\\ \\\\ \\\\ \\\\ \\\\ \\\\ \\\\ \\\\ \\\\ \\\\ \\\\ \\\\ \\\\ \\\\ \\\\ \\\\ \\\\ \\\\ \\\\ \\\\ \\\\ \\\\ \\\\ \\\\ \\\\ \\\\ \\\\ \\\\ \\\\ \\\\ \\\\ \\\\ \\\\ \\\\ \\\\ \\\\ \\\\ \\\\ \\\\ \\\\ \\\\ \\\\ \\\\ \\\\ \\\\ \\\\ \\\\ \\\\ \\\\ \\\\ \\\\ \\\\ \\\\ \\\\ \\\\} \\\\ \\\\ \\\\} \\\\ \\\\ \\\\ \\\\ \\\\ \\\\ \\\\ \\\\ \\\\ \\\\ \\\\ \\\\ \\\\ \\\\ \\\\ \\\\ \\\\ \\\\ \\\\ \\\\ \\\\ \\\\ \\\\ \\\\ \\\\ \\\\ \\\\ \\\\ \\\\ \\\\ \\\\ \\\\ \\\\ \\\\ \\\\ \\\\ \\\\ \\\\ \\\\ \\\\ \\\\ \\\\ 7 \\\\ 7 \\\\ 7 \\\\ 7 \\\\ 7 \\\\ 7 \\\\ 7 \\\\ 7 \\\\ 7 \\\\ 7 \\\\ 7 \\\\ 7 \\\\ 7 \\\\ 7 \\\\ 7 \\\\ 7 7 7 7 7 7 7 7 7 7 7 7 7 7 7 7 7 7 7 7 7 7 7 7 7 7 7 7 7 7 7 7 7 7 7 7 7 7 7 7 7 7 7 7 7 7 7 7 7 7 7 7 7 7 7 7 7 7 7 7 7 7 7 7 7 7 7 7 7 7 7 7 7 7 7 7 7 7 7 7 7 7 7 7 7 7 7 7 7 7 7 7 7 7 7 7 7 7 7 7 7 7 7 7 7 7 7 7 7 7 7 7 7 7 7 7 7 7 7 7 7 7 7 7 7 7 7 7 7 7 7 7 7 7 7 7 7 7 7 7 7 7 7 7 7 7 7 7 7 7 7 7 7 7 7 7 7 7 7 7 7 7 7 7 7 7 7 7 7 7 7 7 7 7 7 7 7 7 7 7 7 7 7 7 7 7 7 7 7 7 7 7 7 7 7 7 7 7 7 7 7 7 7 7 7 7 7 7 7 7 7\\n$$\\n\\n$$\\nF=k_{2} \\\\frac{m_{a} m_{b}} {r^{2}} \\\\qquad\\\\qquad\\\\qquad\\\\qquad\\\\qquad\\\\qquad( 1. 2 )\\n$$\\n\\n $Q_{c}=k_{3} W_{c}$ (1.3)\\np→u m\\n\\n$$\\nT=k_{4} \\\\operatorname* {l i m}_{a} {\\\\frac{p V} {a_{a}}} \\\\qquad\\\\qquad\\\\qquad\\\\qquad\\\\qquad( 1. 4 )\\n$$'),\n",
              " Document(metadata={'page': 3}, page_content='\\n$$\\n6 \\\\quad\\\\mathsf{s \\\\, E C T l o N \\\\, I \\\\! :} \\\\ \\\\mathrm{I n t r o d u c t i o n}\\n$$\\n\\n$$\\n\\\\mathrm{w h e r e^{\\\\dagger}} \\\\qquad\\\\qquad F=\\\\mathrm{f o r c e}\\n$$\\n\\n$$\\nt=\\\\mathrm{t i m e}\\n$$\\n\\n$$\\nm=\\\\mathrm{m a s s}\\n$$\\n\\n$$\\n\\\\begin{aligned} {u=\\\\mathrm{v e l o c i t y}} \\\\\\\\ {r=\\\\mathrm{d i s t a n c e}} \\\\\\\\ \\\\end{aligned}\\n$$\\n\\n$$\\nW_{c}=\\\\mathrm{w o r k}\\n$$\\n\\n$$\\n{\\\\cal Q}_{c}=\\\\mathrm{h e a t}\\n$$\\n\\n$$\\np={\\\\mathrm{p r e s s u r e}}\\n$$\\n\\n$$\\nV=\\\\mathrm{v o l u m e}\\n$$\\n\\n $T$ = thermodynamic absolute temperature\\n\\n$$\\nk_{1}, \\\\, k_{2}, \\\\, k_{3}, \\\\, k_{4}=\\\\mathrm{p r o p o r t i o n a l i t y ~ f a c t o r s}\\n$$\\n\\nEquation (1.1) is Newton\\'s second law of motion, showing the proportionality between the resultant of all the forces acting on a particle of mass $m$ and the time rate of increase in momentum of the particle in the direction of the resultant force. Equation (1.2) is Newton\\'s law of gravitation, giving the force of attraction between two particles of masses $m_{a}$ and $m_{b}$ a distance $r$ apart.\\n\\nEquation (1.3) is one statement of the first law of thermodynamics. It affirms the proportionality between the work performed by a closed system during a cycle and the heat absorbed by that system during the same cycle.\\n\\nEquation (1.4) shows the proportionality between the thermodynamic absolute temperature and the zero-pressure limit of the pressure-volume product of a definite mass of any gas.\\n\\nEach equation states that if means are available for measuring the values of all variables in that equation and if the numerical value of $k$ is calculated, then the value of $k$ is constant and depends only on the units used for measuring the variables in the equation.\\n\\n$$\\n\\\\mathrm{S t a n d a r d s}\\n$$\\n\\nBy international agreement, standards are fixed arbitrarily for the quantities of mass, length, time, temperature, and the mole. These are five of the base units of SI. Currently, the standards are as follows.\\n\\nThe standard of mass is the kilogram (kg), defined as the mass of the international kilogram, a platinum cylinder preserved at Sevres, France.\\n\\nThe standard of length is the meter (m), defined\\' (since 1983) as the length of the\\n\\npath traveled by light in vacuum durin a time interval of 1/299,792,458 f a scond. The standard of time is the second (s), defined as 9,192,631.770\" frequency cy clesofa ertain uantum trasitio n an atom f lSCe\\n\\nThe standard of temperature is the kelvin (K), defined by assigning the value 273.16* K to the temperature of pure water at its triple point, the unique temperature at which liquid water, ice, and steam can exist at equilibrium.\\n\\nThe mole (abbreviated mol) is defined\\' as the amount of a substance comprising as many elementary units as there are atoms in 12\" g of $1 2 {\\\\bf C}.$ The definition of the mole is equivalent to the statement that the mass of one mole of a pure substance'),\n",
              " Document(metadata={'page': 4}, page_content='CHAPTER 1: Definitions and Principles\\n\\nin grams is numerically equal to its molecular weight calculated from the standard table of atomic weights, in which the atomic weight of carbon is given as 12.01115. This number differs from 12\" because it applies to the natural isotopic mixture of carbon rather than to pure 2C. In engineering calculations the terms kilogram mole and pound mole are commonly used to designate the mass of a pure substance in kilograms or pounds that is equal to its molecular weight.\\n\\nThe actual number of molecules in one gram mole is given by Avogadro\\'s number, $6. 0 2 2 \\\\times1 0^{2 3}.$ \\n\\n## Evaluation of constants\\n\\n上和品园dcdcedhkeceheso $u$ in meters per second. Constants $k_{1}$ and $k_{2}$ measured in kilograms, $m, \\\\, m_{a},$ and $m_{b}$ in Eqs. (1.1) and (1.2) are\\n $r$ \\nare not independent but are related by eliminating $F$ from Eqs. (1.1) and (1.2). This gives\\n\\n$$\\n\\\\frac{k_{1}} {k_{2}}=\\\\frac{d ( m u ) / d t} {m_{a} m_{b} / r^{2}}\\n$$\\n\\nEither $k_{1}$ or $k_{2}$ may be fixed arbitrarily. Then the other constant must be found by experiments in which inertial forces calculated by Eq. (1.1) are compared with gravitational forces calculated by Eq. (1.2). In SI, $k_{1}$ is fixed at unity and $k_{2}$ found experimentally. Equation (1.1) then becomes\\n\\n$$\\nF=\\\\frac{d} {d t} ( m u ) \\\\ \\\\ \\\\ \\\\ \\\\ \\\\ \\\\ \\\\ \\\\ \\\\ \\\\ \\\\ \\\\ \\\\ \\\\ \\\\ \\\\ \\\\ \\\\ \\\\ \\\\ \\\\ \\\\ \\\\ \\\\ \\\\ \\\\ \\\\ \\\\ \\\\ \\\\ \\\\ \\\\ \\\\ \\\\ \\\\ \\\\ \\\\ \\\\ ( 1. 5 )\\n$$\\n\\nThe force defined by Eq. (1.5) and also used in Eq. (1.2) is called the newton (N). From Eq. (1.5),\\n\\n$$\\n1 \\\\; \\\\mathrm{N} \\\\equiv1 \\\\; \\\\mathrm{k g} \\\\cdot\\\\mathrm{m / s}^{2} \\\\; \\\\; \\\\; \\\\; \\\\; \\\\; \\\\; \\\\; \\\\; \\\\; \\\\; \\\\; \\\\; \\\\; \\\\; \\\\; \\\\; \\\\; \\\\; \\\\; \\\\; \\\\; \\\\; \\\\; \\\\; \\\\; \\\\; \\\\; \\\\; \\\\; \\\\; \\\\; \\\\; \\\\; \\\\; \\\\; \\\\; \\\\; \\\\; \\\\; \\\\; \\\\; \\\\; \\\\; \\\\; \\\\; \\\\; \\\\; \\\\; \\\\; \\\\; \\\\; \\\\; \\\\; \\\\; \\\\; \\\\; \\\\; \\\\; \\\\; \\\\; \\\\; \\\\; \\\\; \\\\; \\\\; \\\\; \\\\; \\\\; \\\\; \\\\; \\\\; \\\\; \\\\; \\\\; \\\\; \\\\; \\\\; \\\\; \\\\; \\\\; \\\\; \\\\; \\\\; \\\\; \\\\; \\\\; \\\\; \\\\; \\\\; \\\\; \\\\; \\\\; \\\\; \\\\; \\\\; \\\\; \\\\; \\\\; \\\\; \\\\; \\\\; \\\\; \\\\; \\\\; \\\\; \\\\; \\\\; \\\\; \\\\; \\\\; \\\\; \\\\; \\\\; \\\\; \\\\; \\\\; \\\\; \\\\; \\\\; \\\\; \\\\; \\\\; \\\\; \\\\; \\\\; \\\\; \\\\; \\\\; \\\\; \\\\; \\\\; \\\\; \\\\; \\\\; \\\\; \\\\; \\\\; \\\\; \\\\; \\\\; \\\\; \\\\; \\\\; \\\\; \\\\; \\\\; \\\\; \\\\; \\\\; \\\\; \\\\; \\\\; \\\\; \\\\; \\\\; \\\\; \\\\; \\\\; \\\\; \\\\; \\\\; \\\\; \\\\; \\\\; \\\\; \\\\; \\\\; \\\\; \\\\; \\\\; \\\\; \\\\; \\\\; \\\\; \\\\; \\\\; \\\\; \\\\; \\\\; \\\\; \\\\; \\\\; \\\\; \\\\; \\\\; \\\\; \\\\; \\\\; \\\\; \\\\; \\\\; \\\\; \\\\; \\\\; \\\\; \\\\; \\\\; \\\\; \\\\; \\\\; \\\\; \\\\; \\\\; \\\\; \\\\; \\\\; \\\\; \\\\; \\\\; \\\\; \\\\; \\\\; \\\\; \\\\; \\\\; \\\\; \\\\; \\\\; \\\\; \\\\; \\\\; \\\\; \\\\; \\\\; \\\\; \\\\; \\\\; \\\\; \\\\; \\\\; \\\\; \\\\; \\\\; \\\\; \\\\; \\\\; \\\\; \\\\; \\\\; \\\\; \\\\; \\\\; \\\\; \\\\; \\\\; \\\\; \\\\; \\\\; \\\\; \\\\; \\\\; \\\\; \\\\; \\\\; \\\\; \\\\; \\\\; \\\\; \\\\; \\\\; \\\\; \\\\; \\\\; \\\\; \\\\; \\\\; \\\\; \\\\; \\\\; \\\\; \\\\; \\\\; \\\\; \\\\; \\\\; \\\\; \\\\; \\\\; \\\\; \\\\; \\\\; \\\\; \\\\; \\\\; \\\\; \\\\; \\\\; \\\\; \\\\; \\\\; \\\\; \\\\; \\\\; \\\\; \\\\; \\\\; \\\\; \\\\; \\\\; \\\\; \\\\; \\\\; \\\\; \\\\; \\\\; \\\\; \\\\; \\\\; \\\\; \\\\; \\\\; \\\\; \\\\; \\\\; \\\\; \\\\; \\\\; \\\\; \\\\; \\\\; \\\\; \\\\; \\\\; \\\\; \\\\; \\\\; \\\\; \\\\; \\\\; \\\\; \\\\; \\\\; \\\\; \\\\; \\\\; \\\\; \\\\; \\\\; \\\\; \\\\; \\\\; \\\\; \\\\; \\\\; \\\\; \\\\; \\\\; \\\\; 1 1 1 1 1 1 1 1 1 1 1 1 1 1 1 \\\\ 1 \\\\ 1 \\\\ 1 \\\\ . \\\\ . \\\\ . \\\\ . \\\\ . \\\\ . \\\\ . \\\\ . \\\\ . \\\\ . \\\\ . \\\\ . \\\\ . \\\\ . \\\\ 7 7 7 7 7 7 \\\\ 7 \\\\ 7 \\\\ 7 \\\\ 7 \\\\ 7 \\\\ 7 \\\\ 7 \\\\ 7 \\\\ 7 \\\\ 7 \\\\ 7 \\\\ 7 \\\\ 7 \\\\ 7 \\\\ \\\\ \\\\ \\\\ 7 \\\\ \\\\ \\\\ \\\\ \\\\ \\\\ \\\\ \\\\ \\\\ \\\\ \\\\ \\\\ \\\\ \\\\ \\\\ \\\\ \\\\ \\\\ \\\\ \\\\ \\\\ \\\\ \\\\ \\\\ \\\\ \\\\ \\\\ \\\\ \\\\ \\\\ \\\\ \\\\ \\\\ \\\\ \\\\ \\\\ \\\\ \\\\ \\\\ \\\\ \\\\ \\\\ \\\\ \\\\\\n$$\\n\\nConstant $k_{2}$ is denoted $\\\\textrm{b y} \\\\ G$ and called the gravitational constant. Its recom mended value is\\n\\n$$\\nG=6. 6 7 2 6 \\\\times1 0^{-1 1} \\\\, \\\\mathrm{N \\\\cdot m^{2} / k g^{2}} \\\\qquad\\\\qquad\\\\qquad\\\\qquad\\\\quad( 1. 7 )\\n$$\\n\\n## Work, energy, and power\\n\\nIn SI, both work and energy are measured in newton-meters, a unit called the joule (J), and so\\n\\n$$\\n1 \\\\; \\\\mathrm{I} \\\\; \\\\mathrm{J} \\\\equiv1 \\\\; \\\\mathrm{N} \\\\cdot\\\\mathrm{m}=1 \\\\; \\\\mathrm{k} \\\\mathrm{g} \\\\cdot\\\\mathrm{m}^{2} / \\\\mathrm{s}^{2} \\\\qquad\\\\qquad\\\\qquad\\\\qquad\\\\qquad( 1. 8 )\\n$$\\n\\nPower is measured in joules per second, a unit called the $w a t t \\\\ ( \\\\mathrm{W} )$ \\n\\n$$\\n\\\\mathbf{H e a t}\\n$$\\n\\nThe constant $k_{3}$ in Eq. (1.3) may be fixed arbitrarily. In SI $\\\\mathrm{i t},$ like $k_{1}$ , is set at unity. Equation (1.3) becomes\\n\\n$$\\nQ_{c}=W_{c} \\\\qquad\\\\qquad\\\\qquad\\\\qquad\\\\qquad\\\\qquad\\\\qquad( 1. 9 )\\n$$\\n\\nHeat, like work, is measured in joules'),\n",
              " Document(metadata={'page': 5}, page_content=\"\\n$$\\n8 \\\\quad\\\\mathsf{s \\\\, E C T l o N \\\\, I \\\\! :} \\\\ \\\\mathrm{I n t r o d u c t i o n}\\n$$\\n\\n## Temperature\\n\\nThe quantity $p$ V/m in Eq. (1.4) may be measured $\\\\mathrm{i n ~ ( N / m^2 ) ( m^3 / k g ) ~}.$ , or J/kg. With an arbitrarily chosen gas, this quantity can be determined by measuring $p$ and $V$ of $m$ kg of gas while it is immersed in a thermostat. In this experiment, only constancy of temperature, not magnitude, is needed. Values of $p V / m$ at various pressures and at constant temperature can then be extrapolated to zero pressure to obtain the limiting value required in Eq. (1.4) at the temperature of the thermostat. For the special situation in which the thermostat contains water at its triple point, the limiting value is designated by $( p V / m )_{0}.$ , For this experiment Eq. (1.4) gives\\n\\n$$\\n2 7 3. 1 6=k_{4} \\\\operatorname* {l i m}_{p \\\\to0} \\\\left( {\\\\frac{p V} {m}} \\\\right)_{0} \\\\qquad\\\\qquad\\\\qquad\\\\qquad( 1. 1 0 )\\n$$\\n\\nFor an experiment at temperature $T$ K, Eq. (1.4) can be used to eliminate $k_{4}$ from Eq. (1.10), giving\\n\\n$$\\nT \\\\equiv2 7 3. 1 6 {\\\\frac{{\\\\operatorname* {l i m}_{p \\\\to0}} ( p V / m )_{T}} {{\\\\operatorname* {l i m}_{p \\\\to0}} ( p V / m )_{0}}} \\\\qquad\\\\qquad\\\\qquad\\\\qquad( 1. 1 1 )\\n$$\\n\\nEquation (1.11) is the definition of the Kelvin temperature scale from the experimental pressure-volume properties of a real gas.\\n\\n## Celsius temperature\\n\\nIn practice, temperatures are expressed on the Celsius scale, in which the zero point is set at the ice point, defined as the equilibrium temperature of ice and air-saturated water at a pressure of one atmosphere. Experimentally, the ice point is found to be 0.01K below the triple point of water, and so it is at 273.15 $\\\\mathrm{K}$ . The Celsius temperature (°C) is defined by\\n\\n$$\\nT^{\\\\circ} \\\\mathrm{C} \\\\equiv T \\\\mathrm{~ K}-2 7 3. 1 5 \\\\qquad\\\\qquad\\\\qquad\\\\qquad\\\\qquad( 1. 1 2 )\\n$$\\n\\nOn the Celsius scale, the experimentally measured temperature of the steam point, which is the boiling point of water at a pressure of 1 atm, is 100.00C.\\n\\n## Decimal units\\n\\nIn SI, a single unit is defined for each quantity, but named decimal multiples and submultiples also are recognized. They are listed in Table 1.1. Time may be expressed in the nondecimal units: minutes (min), hours (h), or days (d).\\n\\n## Standard gravity\\n\\nFor certain purposes, the acceleration of free fall in the earth's gravitational field is used. From deductions based on Eq. (1.2), this quantity, denoted by $g$ ,is nearly constant. It varies slightly with latitude and height above sea level. For precise calculations, an arbitrary standard $g_{n}$ has been set, defined by\\n\\n$$\\ng_{n} \\\\equiv9. 8 0 6 6 5^{*} \\\\; {\\\\mathrm{m / s^{2}}} \\\\qquad\\\\qquad\\\\qquad\\\\qquad\\\\qquad\\\\qquad( 1. 1 3 )\\n$$\"),\n",
              " Document(metadata={'page': 6}, page_content=\"CHAPTER 1: Definitions and Principles\\n\\nTABLE 1.1\\n\\nSI and cgs prefixes for multiples and submultiples\\n\\n| Factor | Prefix | Abbreviation | Factor | Prefix | Abbreviation |\\n| --- | --- | --- | --- | --- | --- |\\n| 10'2 | tera | T | 10-1 | deci | d |\\n| 10° | giga | G | 10-2 | centi | c |\\n| 2 106 | mega | M | 10-3 | milli | m |\\n| 10} | kilo | k | 10-6 | micro | u |\\n| 10- | hecto | h | 10-9 | nano | n |\\n| 10' | deka | da | 10-12 | pico | p |\\n| . |  | 10-15 | 一 femto | f |\\n| 7 |  | 10-18 | atto | a |\\n\\n## Pressure units\\n\\nThe natural unit of pressure in SI is the newton per square meter. This unit, called the pascal (Pa), is inconveniently small, and a multiple, called the bar, also is used. It is defined by\\n\\n$$\\n\\\\mathrm{1 \\\\: b a r \\\\equiv1 \\\\times1 0^{5} \\\\: P a=1 \\\\times1 0^{5} \\\\: N / m^{2} ~ ~ ~ ~ ~ ~ ~ ~ ~ ~ ~ ~ ~ ~ ~ ~ ~ ~ ~ ~ ~ ~ ~ ~ ~ ~ ( 1. 1 4 ) ~}\\n$$\\n\\nA more common empirical unit for pressure, used with all systems of units, is the standard atmosphere (atm), defined by\\n\\n$$\\n1 \\\\; {\\\\mathrm{a t m}} \\\\equiv1. 0 1 3 2 5^{*} \\\\times1 0^{5} \\\\; {\\\\mathrm{P a}}=1. 0 1 3 2 5 \\\\; {\\\\mathrm{b a r s}} \\\\; \\\\; \\\\; \\\\; \\\\; \\\\; \\\\; \\\\; \\\\; \\\\; \\\\; \\\\; \\\\; \\\\; \\\\; \\\\; \\\\; \\\\; \\\\; \\\\; ( 1. 1 5 )\\n$$\\n\\n## CGS Units\\n\\nThe older cgs system can be derived from SI by making certain arbitrary decisions. The standard for mass is the gram (g), defined by\\n\\n$$\\n{\\\\sf I} {\\\\sf g} \\\\equiv{\\\\sf1} \\\\times1 0^{-3} {\\\\sf k g} \\\\qquad\\\\qquad\\\\qquad\\\\qquad\\\\qquad( 1. 1 6 )\\n$$\\n\\nThe standard for length is the centimeter (cm), defined by\\n\\n$$\\n1 \\\\; {\\\\mathrm{c m}} \\\\equiv1 \\\\times1 0^{-2} \\\\; {\\\\mathrm{m}} \\\\qquad\\\\qquad\\\\qquad\\\\qquad\\\\qquad( 1. 1 7 )\\n$$\\n\\nStandards for time, temperature, and the mole are unchanged.\\n\\nAs in SI, constant $k_{1}$ in Eq. (1.1) is fixed at unity. The unit of force is called the dyne (dyn), defined by\\n\\n$$\\n1 ~ \\\\mathrm{d y n} \\\\equiv1 ~ \\\\mathrm{g} \\\\cdot\\\\mathrm{c m / s}^{2} ~ ~ ~ ~ ~ ~ ~ ~ ~ ~ ~ ~ ~ ~ ~ ~ ~ ~ ~ ~ ~ ~ ~ ~ ~ ~ ~ ~ ~ ~ ~ ~ ~ ~ ~ ~ ~ ~ ~ ~ ~ ~ ~ ~ ~ ~ ~ ~ ~ ~ ~ ~ ~ ~ ~ ~ ~ ~ ~ ~ ~ ~ ~ ~ ~ ~ ~ ~ ~ ~ ~ ~ ~ ~ ~ ~ ~ ~ ~ ~ ~ ~ ~ ~ ~ ~ ~ ~ ~ ~ ~ ~ ~ ~ ~ ~ ~ ~ ~ ~ ~ ~ ~ ~ ~ ~ ~ ~ ~ ~ ~ ~ ~ ~ ~ ~ ~ ~ ~ ~ ~ ~ ~ ~ ~ ~ ~ ~ ~ ~ ~ ~ ~ ~ ~ ~ ~ ~ ~ ~ ~ ~ ~ ~ ~ ~ ~ ~ ~ ~ ~ ~ ~ ~ ~ ~ ~ ~ ~ ~ ~ ~ ~ ~ ~ ~ ~ ~ ~ ~ ~ ~ ~ ~ ~ ~ ~ ~ ~ ~ ~ ~ ~ ~ ~ ~ ~ ~ ~ ~ ~ ~ ~ ~ ~ ~ ~ ~ ~ ~ ~ ~ ~ ~ ~ ~ ~ ~ ~ ~ ~ ~ ~ ~ ~ ~ ~ ~ ~ ~ ~ ~ ~ ~ ~ ~ ~ ~ ~ ~ ~ ~ ~ ~ ~ ~ ~ ~ ~ ~ ~ ~ ~ ~ ~ ~ ~ ~ ~ ~ ~ ~ ~ ~ ~ ~ ~ ~ ~ ~ ~ ~ ~ ~ ~ ~ ~ ~ ~ ~ ~ ~ ~ ~ ~ ~ ~ ~ ~ ~ ~ ~ ~ ~ ~ ~ ~ ~ ~ ~ ~ ~ ~ ~ ~ ~ ~ ~ ~ ~ ~ ~ ~ ~ ~ ~ ~ ~ ~ ~ ~ ~ ~ ~ ~ ~ ~ ~ ~ ~ ~ ~ ~ ~ ~ ~ ~ ~ ~ ~ ~ ~ ~ ~ ~ ~ ~ ~ ~ ~ ~ ~ ~ ~ ~ ~ ~ ~ ~ ~ ~ ~ ~ ~ ~ ~ ~ ~ ~ ~ ~\\n$$\\n\\nThe unit for energy and work is the $e r g,$ defined by\\n\\n$$\\n\\\\mathrm{1 \\\\ e r g \\\\equiv1 \\\\ d y n \\\\cdot c m=1 \\\\times1 0^{-7} \\\\ J ~} \\\\qquad\\\\qquad\\\\qquad( 1. 1 9 )\\n$$\\n\\nConstant $k_{3}$ in Eg. (1.3) is not unity. A unit for heat, called the calorie (cal), is used to convert the unit for heat to ergs. Constant $1 / k_{3}$ is replaced by $J,$ which\"),\n",
              " Document(metadata={'page': 7}, page_content=' $S E \\\\subset\\\\mathsf{T I O N} \\\\; \\\\; 1 :$ Introduction\\n\\ndenotes the quantity called the mechanical equivalent of heat and is measured in joules per calorie. Equation (1.3) becomes\\n\\n$$\\nW_{c}=J Q_{c} ~ ~ ~ ~ ~ ~ ~ ~ ~ ~ ~ ~ ~ ~ ~ ~ ~ ~ ~ ~ ~ ~ ~ ~ ~ ~ ~ ~ ~ ~ ~ ~ ~ ~ ~ ~ ~ ~ ~ ~ ~ ~ ~ ~ ~ ~ ~ ~ ~ ~ ~ ~ ~ ~ ~ ~ ~ ~ ~ ~ ~ ~ ~ ~ ~ ~ ~ ~ ~ ~ ~ ~ ~ ~ ~ ~ ~ ~ ~ ~ ~ ~ ~ ~ ~ ~ ~ ~ ~ ~ ~ ~ ~ ~ ~ ~ ~ ~ ~ ~ ~ ~ ~ ~ ~ ~ ~ ~ ~ ~ ~ ~ ~ ~ ~ ~ ~ ~ ~ ~ ~ ~ ~ ~ ~ ~ ~ ~ ~ ~ ~ ~ ~ ~ ~ ~ ~ ~ ~ ~ ~ ~ ~ ~ ~ ~ ~ ~ ~ ~ ~ ~ ~ ~ ~ ~ ~ ~ ~ ~ ~ ~ ~ ~ ~ ~ ~ ~ ~ ~ ~ ~ ~ ~ ~ ~ ~ ~ ~ ~ ~ ~ ~ ~ ~ ~ ~ ~ ~ ~ ~ ~ ~ ~ ~ ~ ~ ~ ~ ~ ~ ~ ~ ~ ~ ~ ~ ~ ~ ~ ~ ~ ~ ~ ~ ~ ~ ~ ~ ~ ~ ~ ~ ~ ~ ~ ~ ~ ~ ~ ~ ~ ~ ~ ~ ~ ~ ~ ~ ~ ~ ~ ~ ~ ~ ~ ~ ~ ~ ~ ~ ~ ~ ~ ~ ~ ~ ~ ~ ~ ~ ~ ~ ~ ~ ~ ~ ~ ~ ~ ~ ~ ~ ~ ~ ~ ~ ~ ~ ~ ~ ~ ~ ~ ~ ~ ~ ~ ~ ~ ~ ~ ~ ~ ~ ~ ~ ~ ~ ~ ~ ~ ~ ~ ~ ~ ~ ~ ~ ~ ~ ~ ~ ~ ~ ~ ~ ~ ~ ~ ~ ~ ~ ~ ~ ~ ~ ~ ~ ~ ~ ~ ~ ~ ~ ~ ~ ~ ~ ~ ~ ~ ~ ~ ~ ~ ~ ~ ~ ~ ~ ~ ~ ~ ~ ~ ~ ~ ~ ~ ~ ~ ~ ~ ~ ~ ~ ~ ~ ~ ~ ~ ~ ~ ~ ~ ~ ~ ~ ~ ~ ~ ~ ~ ~ ~ ~ ~ ~ ~ ~ ~ ~ ~ ~ ~ ~ ~ ~ ~ 3 ~ 2 2 2 2 2 2 2 2 2 2 2 2 2 2 2 2 2 2 2 2 2 2 2 2 2 2 2 2 2 2 2 2 2 2 2 2 2 2 2 2 2 2 2 2 2 2 2 2 2 2 2 2 2 2 2 2 2 2 2 2 2 2 2 2 2 2 2 2 2 2 2 2 2 2 2 2 2 2 2 2 2 2 2 2 2 2 2 2 2 2 2 2 2 2 2 2 2 2\\n$$\\n\\nTwo calories are defined $.^{7}$ The thermochemical calorie (cal), used in chemistry, chemical engineering thermodynamics, and reaction kinetics, is defined by\\n\\n$$\\n\\\\mathrm{1 \\\\ c a l} \\\\equiv4. 1 8 4 0^{*} \\\\times1 0^{7} \\\\ \\\\mathrm{e r g s}=4. 1 8 4 0^{*} \\\\ \\\\mathrm{J \\\\ \\\\ \\\\ \\\\ \\\\ \\\\ \\\\ \\\\ \\\\ \\\\ \\\\ \\\\ \\\\ \\\\ \\\\ \\\\ ( 1. 2 1 )}\\n$$\\n\\nThe international steam table calorie $( \\\\mathrm{c a l}_{\\\\mathrm{I T}} )$ , used in heat power engineering, is defined by\\n\\n$$\\n\\\\mathrm{1 \\\\ c a l}_{\\\\mathrm{I T}} \\\\equiv4. 1 8 6 8^{*} \\\\times1 0^{7} \\\\mathrm{\\\\ c r g s}=4. 1 8 6 8^{*} \\\\mathrm{\\\\tiny~ J ~} \\\\qquad\\\\qquad( 1. 2 2 )\\n$$\\n\\nThe calorie is so defined that the specific heat of water is approximately 1 cal/g . $^\\\\circ C$ The standard acceleration of free fall in cgs units is\\n\\n$$\\ng_{n} \\\\equiv9 8 0. 6 6 5 \\\\; \\\\mathrm{c m / s^{2}} \\\\qquad\\\\qquad\\\\qquad\\\\qquad\\\\qquad( 1. 2 3 )\\n$$\\n\\n## FPS Engineering Units\\n\\nIn some countries a nondecimal gravitational unit system has long been used in commerce and engineering. The system can be derived from SI by making the following decisions.\\n\\nThe standard for mass is the avoirdupois pound (1b), defined by\\n\\n$$\\n1 \\\\; \\\\mathrm{l b}=0. 4 5 3 5 9 2 3 7^{*} \\\\; \\\\mathrm{k g} \\\\qquad\\\\qquad\\\\qquad\\\\qquad\\\\qquad( 1. 2 4 )\\n$$\\n\\nThe standard for length is the inch (in.), defined as 2.54* cm. This is equivalent to defining the foot (ft) as\\n\\n$$\\n1 \\\\; \\\\mathrm{f t} \\\\equiv2. 5 4 \\\\times1 2 \\\\times1 0^{-2} \\\\; \\\\mathrm{m}=0. 3 0 4 8^{*} \\\\; \\\\mathrm{m} \\\\qquad\\\\qquad\\\\qquad( 1. 2 5 )\\n$$\\n\\nThe standard for time remains the second (s).\\n\\nThe thermodynamic temperature scale is called the Rankine scale, in which temperatures are denoted by degrees Rankine and defined by\\n\\n$$\\n1^{\\\\circ} \\\\mathrm{R} \\\\equiv\\\\frac{1} {1. 8} \\\\: \\\\mathrm{K} \\\\qquad\\\\qquad\\\\qquad\\\\qquad\\\\qquad( 1. 2 6 )\\n$$\\n\\nThe ice point on the Rankine scale is $2 7 3. 1 5 \\\\times1. 8=4 9 1. 6 7^{\\\\circ} \\\\mathrm{R}.$ \\n\\nThe analog of the Celsius scale is the Fahrenheit scale, in which readings are denoted by degrees Fahrenheit. It is derived from the Rankine scale by setting its zero point exactly 32*F below the ice point on the Rankine scale, so that\\n\\n$$\\nT^{\\\\circ} {\\\\mathrm{F}} \\\\equiv T^{\\\\circ} {\\\\mathrm{R}}-( 4 9 1. 6 7-3 2 )=T^{\\\\circ} {\\\\mathrm{R}}-4 5 9. 6 7 \\\\qquad\\\\qquad( 1. 2 7 )\\n$$\\n\\nThe relation between the Celsius and Fahrenheit scales is given by the exact equation\\n$$\\nT^{\\\\circ} \\\\mathrm{F}=3 2+1. 8^{\\\\circ} \\\\mathrm{C} \\\\tag{1.28}\\n$$\\n\\n$$\\nT^{\\\\circ} \\\\mathrm{F}=3 2+1. 8^{\\\\circ} \\\\mathrm{C} \\\\qquad\\\\qquad\\\\qquad\\\\qquad\\\\qquad( 1. 2 8 )\\n$$'),\n",
              " Document(metadata={'page': 8}, page_content=\"CHAPTER 1: Definitions and Principles\\n\\nFrom this equation, temperature differences are related by\\n\\n$$\\n\\\\Delta T^{\\\\circ} \\\\mathbb{C}=1. 8 \\\\ \\\\Delta T^{\\\\circ} \\\\mathrm{F}=\\\\Delta T \\\\mathrm{~ K ~} \\\\qquad\\\\qquad\\\\qquad\\\\qquad( 1. 2 9 )\\n$$\\n\\n$$\\n\\\\mathrm{T h e ~ s t e a m ~ p o i n t ~ i s ~ 2 1 2. 0 0^{\\\\circ} F.}\\n$$\\n\\n## Pound force\\n\\nThe fps system is characterized by $^\\\\mathrm{a}$ gravitational unit of force, called the pound force $( \\\\mathbf{l b}_{f} )$ . The unit is so defined that a standard gravitational field exerts a force of one pound on a mass of one avoirdupois pound. The standard acceleration of free fall in fps units is, to five significant figures,\\n\\n$$\\ng_{n}={\\\\frac{9. 8 0 6 6 5 {\\\\mathrm{~ m / s^{2}}}} {0. 3 0 4 8 {\\\\mathrm{~ m / f t}}}}=3 2. 1 7 4 {\\\\mathrm{~ f t / s^{2} ~}} \\\\qquad\\\\qquad\\\\qquad( 1. 3 0 )\\n$$\\n\\nThe pound force is defined by\\n\\n$$\\n1 \\\\; \\\\mathrm{l b}_{f} \\\\equiv3 2. 1 7 4 \\\\; \\\\mathrm{l b} \\\\cdot\\\\mathrm{f t} / \\\\mathrm{s}^{2} ~ ~ ~ ~ ~ ~ ~ ~ ~ ~ ~ ~ ~ ~ ~ ~ ~ ~ ~ ~ ~ ~ ~ ~ ~ ~ ~ ~ ~ ~ ~ ~ ~ ~ ~ ~ ~ ~ ~ ~ ~ ~ ~ ~ ~ ~ ~ ~ ~ ~ ~ ~ ~ ~ ~ ~ ~ ~ ~ ~ ~ ~ ~ ~ ~ ~ ~ ~ ~ ~ ~ ~ ~ ~ ~ ~ ~ ~ ~ ~ ~ ~ ~ ~ ~ ~ ~ ~ ~ ~ ~ ~ ~ ~ ~ ~ ~ ~ ~ ~ ~ ~ ~ ~ ~ ~ ~ ~ ~ ~ ~ ~ ~ ~ ~ ~ ~ ~ ~ ~ ~ ~ ~ ~ ~ ~ ~ ~ ~ ~ ~ ~ ~ ~ ~ ~ ~ ~ ~ ~ ~ ~ ~ ~ ~ ~ ~ ~ ~ ~ ~ ~ ~ ~ ~ ~ ~ ~ ~ ~ ~ ~ ~ ~ ~ ~ ~ ~ ~ ~ ~ ~ ~ ~ ~ ~ ~ ~ ~ ~ ~ ~ ~ ~ ~ ~ ~ ~ ~ ~ ~ ~ ~ ~ ~ ~ ~ ~ ~ ~ ~ ~ ~ ~ ~ ~ ~ ~ ~ ~ ~ ~ ~ ~ ~ ~ ~ ~ ~ ~ ~ ~ ~ ~ ~ ~ ~ ~ ~ ~ ~ ~ ~ ~ ~ ~ ~ ~ ~ ~ ~ ~ ~ ~ ~ ~ ~ ~ ~ ~ ~ ~ ~ ~ ~ ~ ~ ~ ~ ~ ~ ~ ~ ~ ~ ~ ~ ~ ~ ~ ~ ~ ~ ~ ~ ~ ~ ~ ~ ~ ~ ~ ~ ~ ~ ~ ~ ~ ~ ~ ~ ~ ~ ~ ~ ~ ~ ~ ~ ~ ~ ~ ~ ~ ~ ~ ~ ~ ~ ~ ~ ~ ~ ~ ~ ~ ~ ~ ~ ~ ~ ~ ~ ~ ~ ~ ~ ~ ~ ~ ~ ~ ~ ~ ~ ~ ~ ~ ~ ~ ~ ~ ~ ~ ~ ~ ~ ~ ~ ~ ~ ~ ~ ~ ~ ~ ~ ~ ~ ~ ~ ~ ~ ~ ~ ~ ~ ~ ~ ~ ~ ~ ~ ~ ~ ~ ~ ~ ~ ~ ~ ~ ~ ~ ~ ~ ~ ~ ~ ~ ~ ~ ~ ~ ~ ~ ~ ~ ~ ~ ~ ~ ~ ~ ~ ~ ~ ~ ~ ~ ~ ~ ~ ~ ~ ~ ~ ~ ~ ~ ~ ~ ~ ~ ~ ~ ~ ~ ~ ~ ~ ~ ~ ~ ~ ~ ~ ~ ~ ~ ~ ~ ~ ~ ~ ~ ~ ~ ~ ~ ~ ~ ~ ~ ~ ~ ~ ~ ~ ~ ~ ~ ~ ~ ~ ~ ~\\n$$\\n\\n$$\\n\\\\mathrm{T h e n ~ E q. ~ ( 1. 1 ) ~ g i v e s}\\n$$\\n\\nF l, 1.32)\\n\\n$$\\n\\\\mathbf{\\\\lambda} \\\\equiv\\\\frac{d ( m u ) / d t} {3 2. 1 7 4} \\\\qquad\\\\mathrm{l b \\\\cdot f t / s^{2} ~ ~ ~ ~ ~ ~ ~ ~ ~ ~ ~ ~ ~ ~ ~ ~ ~ ~ ~ ~ ~ ~ ~ ~ ~ ~ ~ ~ ~ ~ ~ ~ ~ ~ ~ ~ ~ ~ ~ ~ ~ ~ ~ ~ ~ ~ ~ ~ ~ ~ ~ ~ ~ ~ ~ ~ ~ ~ ~ ~ ~ ~ ~ ~ ~ ~ ~ ~ ~ ~ ~ ~ ~ ~ ~ ~ ~ ~ ~ ~ ~ ~ ~ ~ ~ ~ ~ ~ ~ ~ ~ ~ ~ ~ ~ ~ ~ ~ ~ ~ ~ ~ ~ ~ ~ ~ ~ ~ ~ ~ ~ ~ ~ ~ ~ ~ ~ ~ ~ ~ ~ ~ ~ ~ ~ ~ ~ ~ ~ ~ ~ ~ ~ ~ ~ ~ ~ ~ ~ ~ ~ ~ ~ ~ ~ ~ ~ ~ ~ ~ ~ ~ ~ ~ ~ ~ ~ ~ ~ ~ ~ ~ ~ ~ ~ ~ ~ ~ ~ ~ ~ ~ ~ ~ ~ ~ ~ ~ ~ ~ ~ ~ ~ ~ ~ ~ ~ ~ ~ ~ ~ ~ ~ ~ ~ ~ ~ ~ ~ ~ ~ ~ ~ ~ ~ ~ ~ ~ ~ ~ ~ ~ ~ ~ ~ ~ ~ ~ ~ ~ ~ ~ ~ ~ ~ ~ ~ ~ ~ ~ ~ ~ ~ ~ ~ ~ ~ ~ ~ ~ ~ ~ ~ ~ ~ ~ ~ ~ ~ ~ ~ ~ ~ ~ ~ ~ ~ ~ ~ ~ ~ ~ ~ ~ ~ ~ ~ ~ ~ ~ ~ ~ ~ ~ ~ ~ ~ ~ ~ ~ ~ ~ ~ ~ ~ ~ ~ ~ ~ ~ ~ ~ ~ ~ ~ ~ ~ ~ ~ ~ ~ ~ ~ ~ ~ ~ ~ ~ ~ ~ ~ ~ ~ ~ ~ ~ ~ ~ ~ ~ ~ ~ ~ ~ ~ ~ ~ ~ ~ ~ ~ ~ ~ ~ ~ ~ ~ ~ ~ ~ ~ ~ ~ ~ ~ ~ ~ ~ ~ ~ ~ ~ ~ ~ ~ ~ ~ ~ ~ ~ ~ ~ ~ ~ ~ ~ ~ ~ ~ ~ ~ ~ ~ ~ ~ ~ ~ ~ ~ ~ ~ ~ ~ ~ ~ ~ ~ ~ ~ ~ ~ ~ ~ ~ ~ ~ ~ ~ ~ ~ ~ ~ ~ ~ ~ ~ ~ ~ ~ ~ ~ ~ ~ ~ ~ ~ ~ ~ ~ ~ ~ ~ ~ ~ ~ ~ ~ ~ ~ ~ ~ ~ ~ ~ ~ ~ ~ ~ ~ ~ ~ ~ ~ ~ ~ ~ ~ ~ ~ ~ ~ ~ ~ ~ ~ ~ ~ ~ ~ ~ ~ ~ ~ ~ \\\\ \\\\ \\\\\\n$$\\n\\nEquation (1.1) can also be written with $1 / g_{c}$ in place of $k_{1}$ :\\n\\n$$\\nF={\\\\frac{d ( m u ) / d t} {g_{c}}} \\\\eq\\\\eqno( 1. 3 3 )\\n$$\\n\\nComparison of Eas. (1.32) and (1.33) shows that to preserve both numerical equality and consistency of units in these equations, it is necessary to define $g_{c},$ called Newton's law proportionaliy factor for the gravitational force unit, by\\n\\n$$\\ng_{c} \\\\equiv3 2. 1 7 4 \\\\; \\\\mathrm{l b} \\\\cdot\\\\mathrm{f t} / \\\\mathrm{s}^{2} \\\\cdot\\\\mathrm{l b}_{f} \\\\qquad\\\\qquad\\\\qquad\\\\qquad\\\\quad( 1. 3 4 )\\n$$\\n\\nThe unit for work and mechanical energy in the fps system is the foot-pound force (ft . lb). Power is measured by an empirical unit, the horsepower (hp), defined by\\n\\n$$\\n1 ~ \\\\mathrm{h p} \\\\equiv5 5 0 ~ \\\\mathrm{f t} \\\\cdot\\\\mathrm{l b}_{f} / \\\\mathrm{s} ~ ~ ~ ~ ~ ~ ~ ~ ~ ~ ~ ~ ~ ~ ~ ~ ~ ~ ~ ~ ~ ~ ~ ~ ~ ~ ~ ~ ~ ~ ~ ~ ~ ~ ~ ~ ~ ~ ~ ~ ~ ~ ~ ~ ~ ~ ~ ~ ~ ~ ~ ~ ~ ~ ~ ~ ~ ~ ~ ~ ~ ~ ~ ~ ~ ~ ~ ~ ~ ~ ~ ~ ~ ~ ~ ~ ~ ~ ~ ~ ~ ~ ~ ~ ~ ~ ~ ~ ~ ~ ~ ~ ~ ~ ~ ~ ~ ~ ~ ~ ~ ~ ~ ~ ~ ~ ~ ~ ~ ~ ~ ~ ~ ~ ~ ~ ~ ~ ~ ~ ~ ~ ~ ~ ~ ~ ~ ~ ~ ~ ~ ~ ~ ~ ~ ~ ~ ~ ~ ~ ~ ~ ~ ~ ~ ~ ~ ~ ~ ~ ~ ~ ~ ~ ~ ~ ~ ~ ~ ~ ~ ~ ~ ~ ~ ~ ~ ~ ~ ~ ~ ~ ~ ~ ~ ~ ~ ~ ~ ~ ~ ~ ~ ~ ~ ~ ~ ~ ~ ~ ~ ~ ~ ~ ~ ~ ~ ~ ~ ~ ~ ~ ~ ~ ~ ~ ~ ~ ~ ~ ~ ~ ~ ~ ~ ~ ~ ~ ~ ~ ~ ~ ~ ~ ~ ~ ~ ~ ~ ~ ~ ~ ~ ~ ~ ~ ~ ~ ~ ~ ~ ~ ~ ~ ~ ~ ~ ~ ~ ~ ~ ~ ~ ~ ~ ~ ~ ~ ~ ~ ~ ~ ~ ~ ~ ~ ~ ~ ~ ~ ~ ~ ~ ~ ~ ~ ~ ~ ~ ~ ~ ~ ~ ~ ~ ~ ~ ~ ~ ~ ~ ~ ~ ~ ~ ~ ~ ~ ~ ~ ~ ~ ~ ~ ~ ~ ~ ~ ~ ~ ~ ~ ~ ~ ~ ~ ~ ~ ~ ~ ~ ~ ~ ~ ~ ~ ~ ~ ~ ~ ~ ~ ~ ~ ~ ~ ~ ~ ~ ~ ~ ~ ~ ~ ~ ~ ~ ~ ~ ~ ~ ~ ~ ~ ~ ~ ~ ~ ~ ~ ~ ~ ~ ~ ~ ~ ~ ~ ~ ~ ~ ~ ~ ~ ~ ~ ~ ~ ~ ~ ~ ~ ~ ~ ~ ~ ~ ~ ~ ~ ~ ~ ~ ~ ~ ~ ~ ~ ~ ~ ~ ~ ~ ~ ~ ~ ~ ~ ~ ~ ~ ~ ~ ~ ~ ~ ~ ~ ~ ~ ~ ~ ~ ~ ~ ~ ~ ~ ~ ~ ~ ~ ~ ~ ~ ~ ~ ~ ~ ~ ~ ~ ~ ~ ~ ~ ~ ~ ~ ~ ~ ~ ~ ~ ~ ~ ~ ~ 2 ~ 2 ~ 2 ~ 2 ~ 2 ~ 2 ~ 2 ~ 2 1\\n$$\\n\\nThe unit for heat is the British thermal unit (Btu), defined by the implicit relation\\n\\n$$\\n1 \\\\; \\\\mathrm{B u / l b} \\\\cdot\\\\mathrm{^\\\\circ F} \\\\equiv1 \\\\; \\\\mathrm{c a l}_{\\\\mathrm{I T}} / \\\\mathrm{g} \\\\cdot\\\\mathrm{^\\\\circ C} \\\\qquad\\\\qquad\\\\qquad\\\\qquad\\\\qquad( 1. 3 6 )\\n$$\\n\\nAs in the cgs system, constant $k_{3}$ in Ea. (1.3) is replaced by $1 / J,$ where $J$ is the mechanical equivalent of heat, equal to 778.17 ft - 1b,/Btu.\\n\\nThe definition of the Btu requires that the numerical value of specific heat be the same in both systems, and in each case the specific heat of water is approximately 1.0.\\n\"),\n",
              " Document(metadata={'page': 9}, page_content=\" $S E \\\\subset\\\\mathsf{T I O N} \\\\; \\\\; 1 :$ Introduction\\n\\nlABLEl.L\\nValues of the gas constant $R$ \\n\\n| Temperature | Mass | Energy | R |\\n| --- | --- | --- | --- |\\n| Kelvins | kg mol | J | 8.314.47 |\\n|  | calrn | 1.9859× 103 |\\n|  | cal | 1.9873×103 |\\n|  | m'-atm | 82.056 × 10-3 |\\n| g mol | cm-atm | 82.056 |\\n| Degrees Rankine | lb mol | Btu | 1.9858 |\\n|  | ft ·lb, | 1,545.3 |\\n|  | hp.h | 7.8045 × 10- |\\n|  | kWh | 5.8198 × 10- |\\n\\n## Gas Constant\\n\\nIf mass is measured in kilograms or grams, constant $k_{4}$ in Eq. (1.4) differs from gas to gas. But when the concept of the mole as a mass unit is used, $k_{4}$ can be replaced by the universal gas constant $R,$ which, by Avogadro's law, is the same for all gases. The numerical value of $R$ depends only on the units chosen for energy, temperature, and mass. Then Eq. (1.4) is written\\n\\n$$\\n\\\\operatorname* {l i m}_{p \\\\to0} {\\\\frac{p V} {n T}}=R \\\\qquad\\\\qquad\\\\qquad\\\\qquad\\\\qquad( 1. 3 7 )\\n$$\\n\\nwhere $n$ is the number of moles. This equation applies also to mixtures of gases if $n$ is the total number of moles of all the molecular species that make up the volume $V$ The accepted experimental value of $R$ isS\\n\\n$$\\nR=8. 3 1 4 4 7 \\\\; {\\\\mathrm{J / K}} \\\\cdot{\\\\mathrm{m o l}}=8. 3 1 4 4 7 \\\\times1 0^{7} \\\\; {\\\\mathrm{e r g s}} / {\\\\mathrm{K}} \\\\cdot{\\\\mathrm{m o l}} \\\\; \\\\; \\\\; \\\\; \\\\; \\\\; \\\\; \\\\; \\\\; \\\\; \\\\; \\\\; \\\\; \\\\; ( 1. 3 8 )\\n$$\\n\\nValues of $R$ in other units for energy, temperature, and mass are given in Table 1.2.\\nAlthough the mole is defined as a mass in grams, the concept of the mole is easily extended to other mass units. Thus, the kilogram mole (kg mol) is the usual molecular or atomic weight in kilograms, and the pound mole (lb mol) is that in avoirdupois pounds. When the mass unit is not specified, the gram mole (g mol) is intended. Molecular weight $M$ is a pure number.\\n\\nStandard molar volume. From Table $1. 2,$ the volume of 1 kg mol of gas at standard conditions (1 atm, 0°C), is 82.056 $\\\\times1 0^{-3} \\\\times2 7 3=2 2. 4 \\\\; {\\\\mathrm m}^{3}$ ,or $2 2. 4 \\\\, ( \\\\mathrm{L} / \\\\mathrm{g \\\\, m o l} ).$ In fps units, the standard volume at $1$ atm and 32°F is 359 ft/1b mol.\\n\\n## Conversion of Units\\n\\nSince three unit systems are in common use, it is often necessary to convert the magnitudes of quantities from one system to another. This is accomplished by using conversion factors. Only the defined conversion factors for the base units are required since conversion factors for all other units can be calculated from them. Interconversions between SI and the cgs system are simple. Both use the same\"),\n",
              " Document(metadata={'page': 10}, page_content=\"CHAPTER 1: Definitions and Principles\\n\\nstandards for time, temperature, and the mole, and only the decimal conversions defined by Eos. (1.16) and (1.17) are needed. Both SI and the fps system also use the second as the standard for time; the three conversion factors defined for mass, length, and temperature by Eqs. (1.24), (1.25), and (1.26), respectively, are'suffi-cient for all conversions of units between these two systems.\\n\\nExample l.l demonstrates how conversion factors are calculated from the exact numbers used to set up the definitions of units in SI and the fps system. In conversions involving $g_{c}$ in fps units, the use of the exact numerical ratio 9.80665/0.3048 in plac f the fps number 32.1740 is recommended to give maximum precision in the final calculation and to take advantage of possible cancellations of numbers during the calculation.\\n\\nEXAMPLE 1.1. Using only exact definitions and standards, calculate factors for converting $( a )$ newtons to pounds force, (b) British thermal units to IT calories, (c) atmospheres to pounds force per square inch, and $( d )$ horsepower to kilowatts.\\n\\n## Solution\\n\\n(a) From Es. (1.6), 1.24), and (1.25),\\n\\n$$\\n1 \\\\; {\\\\mathrm{N}}=1 \\\\; {\\\\mathrm{k g}} \\\\cdot{\\\\mathrm{m}} / {\\\\mathrm{s}}^{2}={\\\\frac{1 \\\\; {\\\\mathrm{I b}} \\\\cdot{\\\\mathrm{f t}} / {\\\\mathrm{s}}^{2}} {0. 4 5 3 5 9 2 3 7 \\\\times0. 3 0 4 8}}\\n$$\\n\\n$$\\n\\\\mathrm{F r o m ~ E q. ~} ( 1. 3 0 )\\n$$\\n\\n$$\\n1 ~ \\\\mathrm{l b} \\\\cdot\\\\mathrm{f t} / \\\\mathrm{s}^{2}={\\\\frac{0. 3 0 4 8} {9. 8 0 6 6 5}} \\\\cdot\\\\mathrm{l b}_{f}\\n$$\\n\\n$$\\n\\\\begin{array} {r l} {\\\\mathrm{I ~ N}={\\\\frac{0. 3 0 4 8} {9. 8 0 6 6 5 \\\\times0. 4 5 3 5 9 2 3 7 \\\\times0. 3 0 4 8}} \\\\; \\\\mathrm{I b}_{f}} \\\\\\\\ {\\\\mathrm{}={\\\\frac{1} {9. 8 0 6 6 5 \\\\times0. 4 5 3 5 9 2 3 7}} \\\\; \\\\mathrm{I b}_{f}=0. 2 2 4 8 0 9 \\\\; \\\\mathrm{I b}_{f}} \\\\end{array}\\n$$\\n\\n$$\\n\\\\mathrm{a n d \\\\ s o}\\n$$\\n\\nIn Appendix 1 it is shown that to convert newtons to pound force, one should multiply by 0.224809. Clearly, to convert from pounds force to newtons, multiply by 1/0.224809 = 4.448221.\\n\\n$$\\n( b ) \\\\; {\\\\mathrm{F r o m ~ E q.}} \\\\; ( 1. 3 6 )\\n$$\\n\\n$$\\n\\\\mathrm{1 \\\\ B t u=1 \\\\ c a l_{I T} \\\\frac{1 \\\\ l b} {1 \\\\ g} \\\\frac{1^{\\\\circ} F} {1^{\\\\circ} C}}\\n$$\\n\\n$$\\n= 1 \\\\mathrm{~ c a l}_{\\\\mathrm{I T}} \\\\frac{1 \\\\mathrm{~ l b}} {1 \\\\mathrm{~ k g}} \\\\frac{1 \\\\mathrm{~ k g}} {1 \\\\mathrm{~ g}} \\\\frac{1 \\\\mathrm{~^{\\\\circ} ~ F}} {1 \\\\mathrm{^{\\\\circ} ~ C}}\\n$$\\n\\n$$\\n\\\\mathrm{F r o m \\\\; E q s. \\\\;} ( 1. 1 6 ), ( 1. 2 4 ) \\\\mathrm{, \\\\; a n d \\\\;} ( 1. 2 9 )\\n$$\\n\\n$$\\n1 {\\\\mathrm{~ B t u}}=1 {\\\\mathrm{~ c a l}}_{\\\\mathrm{\\\\bar{\\\\imath} T}} {\\\\frac{0. 4 5 3 5 9 2 3 7 \\\\times1 0 0 0} {1. 8}}=2 5 1. 9 9 6 {\\\\mathrm{~ c a l}}_{\\\\mathrm{\\\\bar{\\\\imath} T}}\\n$$\\n\\n(c) From Eas. (1.6), (1.14), and (1.15)\\n\\n$$\\n1 \\\\; \\\\mathrm{a t m}=1. 0 1 3 2 5 \\\\times1 0^{5} \\\\; \\\\mathrm{k g} \\\\cdot\\\\mathrm{m / s}^{2} \\\\cdot\\\\mathrm{m}^{2}\\n$$\\n\"),\n",
              " Document(metadata={'page': 11}, page_content='ECTIONI: Introduction\\n\\nFrom Eas. (1.24), (1.25), and (1.34), since 1 $\\\\mathrm{f t}=1 2 \\\\; \\\\mathrm{i n}.$ ,\\n\\nAnin\\n\\n$$\\n\\\\begin{array} {r} {1 {\\\\mathrm{~ a m}}=1. 0 1 3 2 5 \\\\times1 0^{5} \\\\times{\\\\frac{1 \\\\, {\\\\mathrm{I}} {\\\\mathrm{I}} {\\\\mathrm{I}} {\\\\mathrm{I}} {\\\\mathrm{I}} {\\\\mathrm{I}} {\\\\mathrm{I}} {\\\\mathrm{I}} {\\\\mathrm{I}} {\\\\mathrm{I}} {\\\\mathrm{I}} {\\\\mathrm{I}} {\\\\mathrm{I}} {\\\\mathrm{I}} {\\\\mathrm{I}} {\\\\mathrm{I}} {\\\\mathrm{I}} {\\\\mathrm{I}} {\\\\mathrm{I}} {\\\\mathrm{I}} {\\\\mathrm{I}} {\\\\mathrm{I}} {\\\\mathrm{I}} {\\\\mathrm{I}} {\\\\mathrm{I}} {\\\\mathrm{I}} {\\\\mathrm{I}} {\\\\mathrm{I}} {\\\\mathrm{I}} {\\\\mathrm{I}} {\\\\mathrm{I}} {\\\\mathrm{I}} {\\\\mathrm{I}} {\\\\mathrm{I}} {\\\\mathrm{I}} {\\\\mathrm{I}} {\\\\mathrm{I}} {\\\\mathrm{I}} {\\\\mathrm{I}} {\\\\mathrm{I}} {\\\\mathrm{I}} {\\\\mathrm{I}} {\\\\mathrm{I}} {\\\\mathrm{I}} {\\\\mathrm{I}} {\\\\mathrm{I}} {\\\\mathrm{I}} {\\\\mathrm{I}} {\\\\mathrm{I}} {\\\\mathrm{I}} {\\\\mathrm{I}} {\\\\mathrm{I}} {\\\\mathrm{I}} {\\\\mathrm{I}} {\\\\mathrm{I}} {\\\\mathrm{I}} {\\\\mathrm{I}} {\\\\mathrm{I}} {\\\\mathrm{I}} {\\\\mathrm{I}} {\\\\mathrm{I}} {\\\\mathrm{I}}}} \\\\end{array}\\n$$\\n\\n$$\\n( d ) \\\\; \\\\mathrm{F r o m \\\\; E q s.} \\\\; ( 1. 3 1 ) \\\\; \\\\mathrm{a n d} \\\\; ( 1. 3 5 )\\n$$\\n\\n$$\\n1 \\\\; {\\\\mathsf{h p}}=5 5 0 \\\\; {\\\\mathsf{f t}} \\\\cdot{\\\\mathsf{l b}}_{f} / {\\\\mathsf{s}}=5 5 0 \\\\times3 2. 1 7 4 \\\\; {\\\\mathsf{f t}}^{2} \\\\cdot{\\\\mathsf{l b}} / {\\\\mathsf{s}}^{3}\\n$$\\n\\n$$\\n\\\\mathrm{U s i n g \\\\; E q s. \\\\;} ( 1. 2 4 ) \\\\; \\\\mathrm{a n d \\\\;} ( 1. 2 5 ) \\\\; \\\\mathrm{g i v e s}\\n$$\\n\\n$$\\n\\\\begin{aligned} {1 \\\\; \\\\mathrm{h p}} & {{}=5 5 0 \\\\times3 2. 1 7 4 \\\\times0. 4 5 3 5 9 2 3 7 \\\\times0. 3 0 4 8^{2}} \\\\\\\\ {} & {{}=7 4 5. 7 0 \\\\; \\\\mathrm{J / s}} \\\\end{aligned}\\n$$\\n\\nSubstituting from Eq. (1.8) and dividing by 1,000,\\n\\n$$\\n1 \\\\; \\\\mathrm{h p}=0. 7 4 5 7 0 \\\\; \\\\mathrm{k W}\\n$$\\n\\nAlthough conversion factors may be calculated as needed, it is more efficient to use tables of the common factors. $\\\\mathtt{A}$ table for the factors used in this book is given in Appendix $1$ \\n\\n## Units and Equations\\n\\nAlthough Es. (1.1) to (1.4) are sufficient for the description of unit systems, they are but a small fraction of the equations needed in this book. Many such equations contain terms that represent properties of substances, and these are introduced as needed. All new quantities are measured in combinations of units already defined, and all are expressible as functions of the five base units for mass, length, time, temperature, and the mole.\\n\\n## Precision of calculations\\n\\nIn the above discussion, the values of experimental constants are given with the maximum number of significant digits consistent with present estimates of the precision with which they are known, and all digits in the values of defined constants are retained. In practice, such extreme precision is seldom necessary, and defined and experimental constants can be truncated to the number of digits appropriate to the problem at hand, although the advent of the digital computers make it possible to retain maximum precision at small cost. The engineer should use judgment in setting a suitable level of precision for the particular problem to be solved.\\n\\n## General equations\\n\\nExcept for the appearance of the proportionality factors $g_{c}$ and $J,$ the equations for all three unit systems are alike. In this text, equations are written for SI units, with a reminder to use $g_{c}$ and $\\\\boldsymbol{J}$ when working examples in cgs or fps units.\\n'),\n",
              " Document(metadata={'page': 12}, page_content='CHAPTER 1: Definitions and Principles\\n\\n## Dimensionless equations and consistent units\\n\\nEquations derived directly from the basic laws of the physical sciences consist of terms that either have the same units or can be written in the same units by using the definitions of derived quantities to express complex units in terms of the five base ones. Equations meeting this requirement are called dimensionally homogeneous equations. When such an equation is divided by any one of its terms, all units in each term cancel and only numerical magnitudes remain. These equations are called dimensionless equations.\\n\\nA dimensionally homogeneous equation can be used as it stands with any set of units provided that the same units for the five base units are used throughout. Units meeting this requirement are called consistent units. No conversion factors are needed when consistent units are used.\\n\\nFor example, consider the usual equation for the vertical distance $Z$ traversed by a freely falling body during time $t$ when the initial velocity is $u_{0}$ :\\n\\n$$\\nZ=u_{0} t+{\\\\scriptstyle{\\\\frac{1} {2}}} g t^{2} \\\\qquad\\\\qquad\\\\qquad\\\\qquad\\\\qquad\\\\qquad( 1. 3 9 )\\n$$\\n\\nExamination of Eq. (1.39) shows that the units in each term reduce to that for length. Dividing the equation by $Z$ gives\\n\\n$$\\n1={\\\\frac{u_{0} t} {Z}}+{\\\\frac{g t^{2}} {2 Z}} \\\\qquad\\\\qquad\\\\qquad\\\\qquad\\\\qquad\\\\qquad( 1. 4 0 )\\n$$\\n\\nA check of each term in Eg. (1.40) shows that the units in each term cancel and each term is dimensionless. A combination of variables for which all dimensions cancel in this manner is called a dimensionless group. The numerical value of a dimensionless group for given values of the quantities contained in it is independent of the units used, provided they are consistent. Both terms on the right-hand side of Eq. (1.40) are dimensionless groups.\\n\\n## Dimensional equations\\n\\nEquations derived by empirical methods, in which experimental results are correlated by empirical equations without regard to dimensional consistency, usually are not dimensionally homogeneous and contain terms in several different units. Equations of this type are dimensional equations, or dimensionally nonhomogeneous equations. In these equations there is no advantage in using consistent units, and two or more length units, for example, inches and feet, or two or more time units, for example, seconds and minutes, may appear in the same equation. For example, a formula for the rate of heat loss from a horizontal pipe to the atmosphere by conduction and convection is\\n\\n$$\\n{\\\\frac{q} {A}}=0. 5 0 {\\\\frac{\\\\Delta T^{1. 2 5}} {( D_{o}^{\\\\prime} )^{0. 2 5}}} \\\\eqno( 1. 4 1 )\\n$$\\n\\nwhere q = rate of heat loss, Btu/h\\n\\n$$\\nA=\\\\mathrm{a r e a ~ o f ~ p i p e ~ s u r f a c e, ~ f t r}\\n$$\\n'),\n",
              " Document(metadata={'page': 13}, page_content='\\n$$\\n6 \\\\, \\\\quad\\\\mathsf{s \\\\, E C T l o N \\\\, I \\\\! :} \\\\ \\\\mathrm{I n t r o d u c t i o n}\\n$$\\n\\nAT excs of emperatur fpip wal over that of ambient\\n\\n(surrounding atmosphere), F\\n\\n$$\\nD_{o}^{\\\\prime}=\\\\mathrm{o u t s i d e ~ d i a m e t e r ~ o f ~ \\\\bar{p i p e}, i n.}\\n$$\\n\\n老排 $\\\\mathrm{o f} ~ q / A$ 店 and the equation is dimensional. Quantities substituted in Eq. (1.41) must be ex- $T$ × 1.8.252 pressed in the units as given, or the equation will give the wrong answer. If other units are to be used, the coefficient must be changed. To express A\\nCelsius, for example, the numerical coefficient must be changed to 0.5\\n1.042 sinc tere are 1.8 Fahrenheit degrees in Celsius degree of temperature\\n\\nln this book all equations are dimensionally homogeneous unless otherwise noted.\\n\\n## DIMENSIONAL ANALYSIS\\n\\nMany important engineering problems cannot be solved completely by theoretical or mathematical methods. Problems of this type are especiaily common in fluid-flow, heat-flow, and diffusion operations. One method of attacking a problem for which no mathematical equation can be derived is that of empirical experimentation. For example, the pressure loss from friction in a long, round, straight, smooth pipe depends on all these variables: the length and diameter of the pipe, the flow rate of the liquid, and the density and viscosity of the liquid. If any one of these variables is changed, the pressure drop also changes. The empirical method of obtaining an equation relating these factors to pressure drop requires that the effect of each separate variable be determined in turn by systematically varying that variable while keeping all others constant. The procedure is laborious, and it is difficult to organize or correlate the results so obtained into a useful relationship for calculations\\n\\nlThere exists a method intermediate between formal mathematical development and a completely empirical study. It is based on the fact that if a theoretical equation does exist among the variables affecting a physical process, that equation must be dimensionally homogeneous. Because of this requirement it is possible to group many factors into a smaller number of dimensionless groups of variables. The groups themselves rather than the separate factors appear in the final equation.\\n\\ninis method 1s called dimensional analysis, which is an algebraic treatment of the symbols for units considered independently of magnitude. It drastically simplifies the task of fitting experimental data to design equations; it is also useful in checking the consistency of the units in equations, in converting units, and in the scaleup of data obtained in model test units to predict the performance of full-scale equipment.\\n\\nIn making a dimensional analysis, the variables thought to be important are chosen and their dimensions tabulated. If the physical laws that would be involved in a mathematical solution are known, the choice of variables is relatively easy. The fundamental differential equations of fiuid flow, for example, combined with the laws of heat conduction and diffusion, suffice to establish the dimensions and'),\n",
              " Document(metadata={'page': 14}, page_content='$$\\n\\\\fbox{\\\\displaystyle\\\\partial_{\\\\phi} \\\\chi_{\\\\pm} \\\\chi_{\\\\pm} \\\\chi_{\\\\pm} \\\\chi_{\\\\pm} \\\\chi_{\\\\pm} \\\\chi_{\\\\pm} \\\\chi_{\\\\pm} \\\\chi_{\\\\pm} \\\\chi_{\\\\pm} \\\\chi_{\\\\pm} \\\\chi_{\\\\pm} \\\\chi_{\\\\pm} \\\\chi_{\\\\pm} \\\\chi_{\\\\pm} \\\\chi_{\\\\pm} \\\\chi_{\\\\pm} \\\\chi_{\\\\pm} \\\\chi_{\\\\pm} \\\\chi_{\\\\pm} \\\\chi_{\\\\pm} \\\\chi_{\\\\pm} \\\\chi_{\\\\pm} \\\\chi_{\\\\pm} \\\\chi_{\\\\pm} \\\\chi_{\\\\pm} \\\\chi_{\\\\pm} \\\\chi_{\\\\pm} \\\\chi_{\\\\pm} \\\\chi_{\\\\pm} \\\\chi_{\\\\pm} \\\\chi_{\\\\pm} \\\\chi_{\\\\pm} \\\\chi_{\\\\pm} \\\\chi_{\\\\pm} \\\\chi_{\\\\pm} \\\\chi_{\\\\pm} \\\\chi_{\\\\pm} \\\\chi_{\\\\pm} \\\\chi_{\\\\pm} \\\\chi_{\\\\pm} \\\\chi_{\\\\pm} \\\\chi_{\\\\pm} \\\\chi_{\\\\pm} \\\\chi_{\\\\pm} \\\\chi_{\\\\pm} \\\\chi_{\\\\pm} \\\\chi_{\\\\pm} \\\\chi_{\\\\pm} \\\\chi_{\\\\pm} \\\\chi_{\\\\pm} \\\\chi_{\\\\pm} \\\\chi_{\\\\pm}.}\\n$$\\n\\nCHAPTER I: Definitions and Principles\\n\\ndimensionless groups appropriate to a large number of chemical engineering problems. In other situations the choice of variables may be speculative, and testing of the resulting relationships may be needed to establish whether some variables were left out or whether some of those chosen are not needed.\\n\\nAssuming that the variables are related by a power series, in which the dimension of each term must be the same as that of the primary quantity, an exponential relationship is written in which the exponents relating to any given quantity (for example, length) must be the same on both sides of the equation. The relationship among the exponents is then found algebraically, as shown in Example 1.2.\\n\\nEXAMPLE 1.2. A steady stream of liquid in turbulent fiow is heated by passing it through a long, straight, heated pipe. The temperature of the pipe is assumed to be greater by a constant amount than the average temperature of the liquid. It is desired to find a relationship that can be used to predict the rate of heat transfer from the wall of the liquid.\\n\\nSolution. The mechanism of this process is discussed in Chap. 12. From the characteristics of the process it may be expected that the rate of heat transfer $q / A$ depends on the quantities listed with their dimensional formulas in Table 1.3. If a theoretical equation for this problem exists, it can be written in the general form\\n\\n$$\\n\\\\frac{q} {A}=\\\\Psi( D, \\\\bar{V}, \\\\rho, \\\\mu, c_{p}, k, \\\\Delta T ) \\\\qquad\\\\qquad\\\\qquad\\\\qquad( 1. 4 2 )\\n$$\\n\\nIf Eo. (1.42) is a valid relationship, all terms in the function V must have the same dimensions as those of the left-hand side of the equation, $q / A$ . Let the phrase the $d i \\\\cdot$ mensions $o f$ be shown by the use of square brackets. Then any term in the function must conform to the dimensional formula\\n\\n$$\\n\\\\left| \\\\frac{q} {4} \\\\right|=[ D ]^{a} [ \\\\bar{V} ]^{b} [ \\\\rho]^{c} [ \\\\mu]^{d} [ c_{p} ]^{e} [ k ]^{f} [ \\\\Delta T ]^{g} \\\\qquad\\\\qquad\\\\qquad( 1. 4 3 )\\n$$\\n\\nLet an overbar above a symbol denote that it refers to a dimension. Thus $L$ refers to the dimension of length. Substituting the dimensions from Table 1.3 gives\\n\\n$$\\n\\\\bar{H} \\\\bar{L}^{-2} \\\\bar{t}=\\\\bar{L}^{a} \\\\bar{L}^{b} \\\\bar{t}^{-b} \\\\bar{M}^{c} \\\\bar{L}^{-3 c} \\\\bar{M}^{d} \\\\bar{L}^{-d} \\\\bar{H}^{e} \\\\bar{M}^{-e} \\\\bar{T}^{-e} \\\\bar{H}^{f} \\\\bar{L}^{-f} \\\\bar{t}^{-f} \\\\bar{T}^{-f} \\\\bar{T}^{g} ~ ~ ~ ~ ( 1. 4 4 )\\n$$\\n\\nTABLE 1.3\\n\\nQuantities and dimensional formulas for Example 1.2\\n\\n| Quantity | Symbol | Dimensions |\\n| --- | --- | --- |\\n| Heat flow per unit area | q/A | Ai-27-1 |\\n| Diameter of pipe (inside) | D | L |\\n| Average velocity of liquid | V | Lr-l |\\n| Density of liquid | p | ML-3  |\\n| Viscosity of liquid | u | ML-l-1 |\\n| Temperature difference between wall and fluid | AT | T |'),\n",
              " Document(metadata={'page': 15}, page_content='SECTION 1: Introduction\\n\\nSince Eaq. (1.43) is assumed to be dimensionally homogeneous, the exponents of the individual primary units on the left-hand side of the equation must equal those on the right-hand side. This gives the following set of equations:\\n\\n$$\\n\\\\begin{array} {l c r} {{\\\\mathrm{E x p o n e a t s ~ o f ~} H ; \\\\qquad\\\\qquad}} & {{{} ( 1 4 \\\\delta\\\\delta)}} \\\\\\\\ {{\\\\mathrm{E x p o n e a t s ~ o f ~} \\\\tilde{L} ; \\\\qquad}} & {{{}}} & {{-2=a+b-3 \\\\epsilon-d-f \\\\qquad\\\\qquad}} & {{{}}} \\\\\\\\ {{\\\\mathrm{E x p o n e a t s ~ o f ~} \\\\tilde{L} ; \\\\qquad}} & {{{}}} & {{-1=-b-d-f \\\\qquad\\\\qquad}} & {{{}}} \\\\\\\\ {{\\\\mathrm{E x p o n e a t s ~ o f ~} \\\\tilde{L} ; \\\\qquad}} & {{{}}} & {{( 1 4 \\\\delta\\\\epsilon)}} \\\\\\\\ {{\\\\mathrm{E x p o n e a t s ~ o f ~} \\\\tilde{L} ; \\\\qquad}} & {{{}}} & {{0=c+d-e \\\\qquad}} & {{{}}} \\\\\\\\ {{\\\\mathrm{E x p o n e n t s ~ o f ~} \\\\tilde{L} ; \\\\qquad}} & {{{}}} & {{0=-e-f+g}} & {{{}}} & {{( 1 4 \\\\delta\\\\epsilon)}} \\\\end{array}\\n$$\\n\\nHere there are seven arials butolyfive quations. ive o fh utnowns may be found in terms of the remaining two. The two letters to be retained must be chosen arbitrarily. The final result is equally valid for all choices, but for this problem it is $b$ Snrceanecacn deéo $\\\\bar{V}$ and the specific heat $c_{p}.$ The letters\\n $e$ will be retained and the remaining five eliminated, as follows. From Eq. (1.45a):\\n\\n$$\\nf=1-e \\\\tag* {( 1. 4 6 a )}\\n$$\\n\\n$$\\n\\\\mathrm{F r o m \\\\; E q s. \\\\;} ( 1. 4 5 e ) \\\\; \\\\mathrm{a n d} \\\\; ( 1. 4 6 a )\\n$$\\n\\n$$\\ng=e+f=e+1-e=1\\n$$\\n(1.46b)\\nFrom Eas. (1.45c) and (1.46a)\\n$$\\nd=1-b-f=1-b-1+e=e-b\\n$$\\n(1.46c)\\n\\n$$\\nq=e+f=e+1-e=1 \\\\qquad\\\\qquad\\\\qquad\\\\qquad( 1. 4 6 b )\\n$$\\n\\n$$\\nd=1-b-f=1-b-1+e=e-b \\\\qquad\\\\qquad( 1. 4 6 c )\\n$$\\n\\n$$\\n\\\\mathrm{F r o m \\\\; E q s.} \\\\; ( 1. 4 5 d ) \\\\; \\\\mathrm{a n d} \\\\; ( 1. 4 6 c )\\n$$\\n\\n$$\\nc=e-d=e-e+b=b \\\\qquad\\\\qquad\\\\qquad\\\\qquad( 1. 4 6 d )\\n$$\\n\\nFrom Eas. (1.456b), (1.46a), (1.46c), and (1.46d)\\n\\na=-2-b+3 c+d+\\\\, f\\n\\n$$\\n\\\\begin{array} {c} {{\\\\scriptstyle{\\\\cal D}=-2-b+3 b+e-b+1-e}} \\\\\\\\ {{\\\\scriptstyle{\\\\cal D}=-2-b+3 b+e-b+1-e}} \\\\\\\\ {{\\\\scriptstyle{\\\\cal D}=-1}} \\\\end{array}\\n$$\\n\\n$$\\n\\\\tag* {( 1. 4 6 e )}\\n$$\\n\\n创电区电线创线 n onono n dc $a, \\\\, c, \\\\, d,$ and f,\\n\\n$$\\n\\\\left[ \\\\frac{q} {A} \\\\right]=[ D ]^{b-1} [ \\\\bar{V} ]^{b} [ \\\\rho]^{b} [ \\\\mu]^{e-b} [ c_{p} ]^{e} [ k ]^{1-e} [ \\\\Delta T ] \\\\qquad\\\\qquad\\\\qquad( 1. 4 7 )\\n$$\\n\\nCollecting all factors having integral exponents in one grop, all factors having exponents $b$ into another group, and those having exponents $e$ into a third gives\\n\\n$$\\n\\\\cdot\\\\Biggl[ {\\\\frac{q \\\\, D} {A k \\\\, \\\\Delta T}} \\\\Biggr]=\\\\Biggl[ {\\\\frac{D \\\\bar{V} \\\\rho} {\\\\mu}} \\\\Biggr]^{b} \\\\Biggl[ {\\\\frac{c_{p} \\\\mu} {k}} \\\\Biggr]^{e} \\\\qquad\\\\qquad\\\\qquad\\\\qquad( 1. 4 8 )\\n$$\\n\\nThe dimensions of each of the three bracketed groups in Eq. (1.48) are zero, and all groups are dimensionless. Any function whatever of these three groups will be dimensionally homogeneous, and the equation will be a dimensionless one. Let such a function be\\n\\n$$\\n{\\\\frac{q \\\\, D} {A k \\\\, \\\\Delta T}}=\\\\Phi\\\\left( {\\\\frac{D {\\\\bar{V}} \\\\rho} {\\\\mu}}, {\\\\frac{c_{p} \\\\mu} {k}} \\\\right) \\\\qquad\\\\qquad\\\\qquad\\\\qquad( 1. 4 9 )\\n$$'),\n",
              " Document(metadata={'page': 16}, page_content='CHAPTER 1: Definitions and Principles\\n\\n$$\\n{\\\\frac{q} {A}}={\\\\frac{k \\\\, \\\\Delta T} {D}} \\\\Phi\\\\left( {\\\\frac{D {\\\\bar{V}} \\\\rho} {\\\\mu}}, {\\\\frac{c_{p} \\\\mu} {k}} \\\\right)^{.} \\\\eqno( 1. 5 0 )\\n$$\\n\\nThe relationship given in Eqs. (1.49) and (1.50) is the final result of the dimensional analysis. The form of function d must be found experimentally, by determining the effects of the groups in the brackets on the value of the group on the left-hand side of Eq. (1.49). The correlations that have been found for this are given in Chap. 12.\\n\\nCorrelating the experimental values of the three groups of variables of Eq. (1.49) is clearly simpler than attempting to correlate the effects of each of the individual factors of Eq. (1.42).\\n\\n## Formation of other dimensionless groups\\n\\nIf a pair of letters other than $b$ and $e$ is selected for retention, three dimensionless groups are again obtained, but one or more differ from the groups of Eq. (1.49). For example, if $b$ and $f$ are kept, the result is\\n\\n$$\\n\\\\frac{q} {A \\\\bar{V} \\\\rho c_{p} \\\\Delta T}=\\\\Phi_{1} \\\\left( \\\\frac{D \\\\bar{V} \\\\rho} {\\\\mu}, \\\\frac{c_{p} \\\\mu} {k} \\\\right) \\\\qquad\\\\qquad\\\\qquad\\\\qquad( 1. 5 1 )\\n$$\\n\\nOther combinations may be found. However, it is unnecessary to repeat the algebra to obtain such additional groups. The three groups in Eq. (1.49) may be combined in any desired manner, by multiplying and dividing them, or reciprocals or multiples of them, together. It is necessary only that each original group be used at least once in finding new groups and that the final assembly contain exactly three groups. For example, Eq. (1.51) is obtained from Eq. (1.49) by multiplying both sides by $( \\\\mu/ D \\\\bar{V} \\\\rho) ( k / \\\\mu c_{p} ) ;$ \\n\\n$$\\n{\\\\frac{q D} {A k \\\\, \\\\Delta T}} {\\\\frac{\\\\mu} {D \\\\bar{V} \\\\rho}} {\\\\frac{k} {\\\\mu c_{p}}}=\\\\Phi\\\\left( {\\\\frac{D \\\\bar{V} \\\\rho} {\\\\mu}}, {\\\\frac{c_{p} \\\\mu} {k}} \\\\right) {\\\\frac{\\\\mu} {D \\\\bar{V} \\\\rho}} {\\\\frac{k} {\\\\mu c_{p}}}=\\\\Phi_{1} \\\\left( {\\\\frac{D \\\\bar{V} \\\\rho} {\\\\mu}}, {\\\\frac{c_{p} \\\\mu} {k}} \\\\right)\\n$$\\n\\nand Eg. (1.51) follows. Note that function $\\\\Phi_{1}$ is not equal to function $\\\\Phi$ . In this way any dimensionless equation may be changed into any number of new ones. This is often useful when it is desired to isolate a single factor in one group. Thus, in Eq. $( 1. 4 9 ) \\\\, c_{p}$ appears in only one group, and in Eq. (1.51) $k$ is found in only one. It is sho ap. 12 that Eq. (1.51) is more useful for some purposes than Eq. (1.49).\\n\\nSpeculative dimensional analysis. As pointed out by Churchill, dimensional analysis is best looked upon as a speculative process.- For one thing, the method does not guarantee that a simple exponential relationship such as Eq. (1.48) applies, although subsequent experiments may well show that such a relationship is entirely satisfactory. For another, the choice of variables should often be considered tentative in making a dimensional analysis. If unnecessary variables are included, the analysis usually shows that they are not needed; if important ones are left out, the analysis may still give a valid result but only for certain limiting or asymptotic conditions as, for example, at very low or very high flow rates. Used correctly, dimensional analysis can be a most useful tool in designing an experimental program.\\n'),\n",
              " Document(metadata={'page': 17}, page_content='\\n$$\\nS \\\\, \\\\mathsf{E C T I O N} \\\\ 1 \\\\! : \\\\ \\\\mathrm{I n t r o d u c t i o n}\\n$$\\n\\n## Named dimensionless groups\\n\\n3435区72 iog aeanspa wmo.s i tf th mostmran onsisgfien n\\n\\n## BASIC CONCEPTS\\n\\nUnderiyn the unitoprations of chemical engineering are a sal number of basic oesnuingthe euaton of ste of gas aecial alaces, and Cneng balances. These topics are treated extensively in introductory courses in chemistfy and chemical engineering, and because of ths the are discussed only briefly here. lusrativc roblems, and answes, a included athen ofthischapr franr one who wishes practice in applying these concepts\\n\\n## Equations of State of Gases\\n\\nvolume $V$ A pure as consisting of $n$ mol and hel at emperature $T$ andpressure $p$ il la 5 5S78 gntyneneoftneqcantis ar indendent hiscan expresty he\\n\\n$$\\nf ( p, T, V, n )=0 \\\\qquad\\\\qquad\\\\qquad\\\\qquad\\\\qquad( 1. 5 2 )\\n$$\\n\\nhags egnonoed n sera ane n comonu. Th s aisactoyequ\\n\\n$$\\n{\\\\frac{p V} {n R T}}=1+{\\\\frac{B} {V / n}}+{\\\\frac{C} {( V / n )^{2}}}+{\\\\frac{D} {( V / n )^{3}}}+\\\\cdots\\\\qquad\\\\qquad( 1. 5 3 )\\n$$\\n\\n金富 $D$ ormiues tom tncndadLde gdcg 串 $B, \\\\, C,$ and $D$ he virial equation, is well sbstatitiedby molecular gas beyond $D$  $B, \\\\, C,$ are called the second, third, and fourth virial oef-ErAdmeoa区ne agrend me no do\\nitional coefficients may be added, but numerical values for coefficients\\nae so itle nown ht rer thanthre are seclom used. he virialegda tion also applies to mixtures of gases. Then th virial coeffcients depend on the\\nagmoninfthe mire aral tarctimaing he\\n\\nosersibilty fator n mlardenity\\n\\nFoneneng papoes .3) fien is wiea\\n\\n$$\\nz=\\\\frac{P} {\\\\rho_{M} R T}=1+\\\\rho_{M} B+\\\\rho_{M}^{2} C+\\\\rho_{M}^{3} D \\\\qquad\\\\qquad\\\\qquad( 1. 5 4 )\\n$$'),\n",
              " Document(metadata={'page': 18}, page_content='CHAPTER 1: Definitions and Principles 2\\n\\nwhere $z$ is the compressibility factor and $\\\\rho_{M}$ the molar density, defined by\\n\\n$$\\n\\\\rho_{M}=\\\\frac{n} {V} \\\\hspace{2 c m} ( 1. 5 5 )\\n$$\\n\\n## Ideal gas law\\n\\nReal gases under high pressure require the use of all three virials for accuracy in calculating z from $\\\\rho_{M}$ and $T$ As the density is reduced by lowering the pressure, the numerical values of the virial terms fade out, although the values of the coefficients remain unchanged. As the effect of $D$ becomes negligible, the series is truncated by dropping its term, then the term in $C,$ and so on, until at low pressures (about l or $~ 2$ atm for ordinary gases), all three virials can be neglected. The result is the simple gas law\\n\\n$$\\nz={\\\\frac{p V} {n R T}}={\\\\frac{p} {\\\\rho_{M} R T}}=1 \\\\qquad\\\\qquad\\\\qquad\\\\qquad( 1. 5 6 )\\n$$\\n\\nThis equation clearly is consistent with Eq. (1.11), which contains the definition of the absolute temperature. The limiting process indicated in Eq. (1.11) rigorously eliminates the virial coefficients to provide a precise definition; Eq. (1.56) covers a useful range of densities for practical calculations and is called the ideal gas law.\\n\\n## Partial pressures\\n\\nA useful quantity for dealing with the individual components in a gas mixture is partial pressure. The partial pressure of a component in a mixture, for example, component $A$ , is defined by the equation\\n\\n$$\\np_{A} \\\\equiv P y_{A} \\\\qquad\\\\qquad\\\\qquad\\\\qquad\\\\qquad\\\\qquad( 1. 5 7 )\\n$$\\n\\nP2E盟区CcR0m $A$ in mixture $y_{A}$ = mole fraction of component $A$ in mixture P = total pressure on mixture\\n\\nfalthearia resuresfor gien itue re aded, theresut i\\n\\n$$\\np_{A}+p_{B}+p_{C}+\\\\cdots=P ( y_{A}+y_{B}+y_{C}+\\\\cdots)\\n$$\\n\\nSince the sum of the mole fractions is unity,\\n\\n$$\\np_{A}+p_{B}+p_{C}+\\\\cdots=P \\\\qquad\\\\qquad\\\\qquad\\\\qquad( 1. 5 8 )\\n$$\\n\\nAll partial pressures in a given mixture add to the total pressure. This applies to mixtures of both ideal and nonideal gases.\\n\\n## Material balances\\n\\nThe law of conservation of matter states that matter cannot be created or destroyed. This leads to the concept of mass, and the law may be stated in the form that the mass of the materials taking part in any process is constant. It is known now that the law is too restricted for matter moving at velocities near that of light or for substances undergoing nuclear reactions. Under these circumstances energy and'),\n",
              " Document(metadata={'page': 19}, page_content=\"\\n$$\\n{\\\\mathfrak{s \\\\, E C T l o n \\\\, \\\\, l \\\\! :}} \\\\ \\\\ {\\\\mathrm{I n t r o d u c t i o n}}\\n$$\\n\\nmass are interconvertible, and the sum of the two is constant, rather than only 1. In most engineering, however, this transformation is too small to be detected, and in this book it is assumed that mass and energy are independent.\\n\\nConservation of mass requires that the materials entering any process either ac cumulate or leave the process. There can be neither loss nor gain. Most of the processes considered in this book involve neither accumulation nor depletion, and the law of conservation of matter takes the simple form that input equals output. The law is often applied in the form of material balances. The process is debited with everything that enters it and is credited with everything that leaves it. The sum of the credits must equal the sum of the debits. Material balances must hold over the entire process or equipment and over any part of it. They must apply to all the material that enters and leaves the process and to any single material that passes through the process unchanged.\\n\\n## Energy balances\\n\\nAn energy balance may be made for a process, or part of a process, that is separated from the surroundings by an imaginary boundary. As in a mass balance, input across the boundary must equal output plus any accumulation; if conditions are steady and unvarying with time, input equals output.\\n\\nAll forms of energy must be included in an energy balance. In most fow processes some forms, however, such as magnetic, surface, and mechanical stress energies, do not change and need not be considered. The most important forms are kinetic energy, potential energy, enthalpy, heat, and work; in electrochemical processes, electric energy must be added to the list.\\n\\nEnergy balance for single-stream process. As an example of a steady-flow process in which a single stream of material is treated, consider the process shown in Fig. $1. 1$ . The equipment is any device through which the material is passing. Assume the material is flowing through the system at a constant mass rate. Consider $Z_{a}$ the flow of $m$ kg of material. The entering stream has a velocity of $u_{a}$ m/s and is m above the horizontal datum above which heights are measured. Its enthalpy (a Seanecrseana $H_{b}$ Heat in the amount of $\\\\varrho$ CESEGE5GEC0918\\n $u_{b}, Z_{b},$  $H_{a}$ J/kg. The corresponding quantities for the leaving $m$ ay boundaries of the equipment to the material flowing through it during the time\\nof fluid enters the equipment. If the equipment includes a turbine or engine, i\\ndo work, usually by means of a turning shaft, on the outside. If the unit includes a pump, work from the outside must be done on the material, again through the agency of a turning shaft. Work effects of this kind are called shaft work. Assume that shaft work equal to $W_{s}$ J is being done on the outside by the equipment. For this process, the following equation, which is derived in standard texts on technical thermodynamics, applies:'\\n\\n$$\\nm \\\\left[ \\\\frac{u_{b}^{2}-u_{a}^{2}} {2}+g ( Z_{b}-Z_{a} )+H_{b}-H_{a} \\\\right]=Q-W_{s} ~ ~ ~ ~ ~ ~ ~ ~ ~ ~ ~ ( 1. 5 9 )\\n$$\"),\n",
              " Document(metadata={'page': 20}, page_content='CHAPTER 1: Definitions and Principles\\n\\nHeat added throuah wall of\\n\\n![](figures/20-0-FIGURE.jpg)\\n\\nFIGURE 1.1\\nDiagram for steady-flow process.\\n\\n$$\\n\\\\mathrm{o r, ~ i n ~ f p s ~ u n i t s,}\\n$$\\n\\n$$\\nm \\\\left[ \\\\frac{u_{b}^{2}-u_{a}^{2}} {2 g_{c} J}+\\\\frac{g ( Z_{b}-Z_{a} )} {g_{c} J}+H_{b}-H_{a} \\\\right]=Q-\\\\frac{W_{s}} {J} ~ ~ ~ ~ ~ ~ ~ ~ ~ ~ ( 1. 6 0 )\\n$$\\n\\nwhere $J, \\\\, g$ , and $g_{c}$ have their usual meanings.\\n\\nTo apply Eg. (1.59) or Eq. (1.60) to a specific situation, a precise choice of the boundaries of the equipment must be made. The inlet and outlet streams must be identified, the inlet and outlet ports located, and rotating shafts noted. All heat-transfer areas between the equipment and its surroundings must be located. The boundaries of the equipment and the cross sections of all shafts and inlet and outlet ports form the control surface. This must be a closed envelope, without gaps. Equation (1.59) applies to the equipment and material inside the control surface. For example, the control surface of the process of Fig. 1.1 is bounded by the walls of the equipment and the cross sections of the shaft and inlet and outlet ports, as shown by the dotted lines. The space enclosed by the control surface is called the control volume.\\n\\nThe heat effect $\\\\varrho$ is, by convention, positive when heat flows from outside the control surface into the equipment and negative when heat flows the other way. The shaft work $W_{s}$ is taken as positive when work is done on the outside of the control surface by : equipment, and negative when work is supplied to the equipment from outside the control surface. Thus work required by a pump located inside the control surface is negative. Both $Q$ and $W_{s}$ are net effects; if there is more than one heat flow or shaft work, the individual values are added algebraically and the net values of $Q$ and $W_{s}$ are used in Eas. (1.59) and (1.60).\\n'),\n",
              " Document(metadata={'page': 21}, page_content=\"\\n$$\\n{\\\\mathfrak{s \\\\, E C T l o n \\\\, \\\\, l \\\\! :}} \\\\ \\\\ {\\\\mathrm{I n t r o d u c t i o n}}\\n$$\\n\\nFinally, note that there is no term in Eqs. (1.59) and (1.60) for friction. Friction is an internal transformation of mechanical energy to heat and occurs inside the control surface. Its effects are included in the other terms in the equation.\\n\\n## SYMBOLS\\n\\nIn general, quantities are given in SI, cgs, and fps units; quantities given only in either the cgs or fps system are limited to that system; quantities used in only one equation are identified by the number of the equation.\\n\\nA Area of heating surface, ft? [Eq. (1.41)]\\n\\nB Second virial coefficient, equation of state, m'/kg mol, cm'/g mol, or\\nft'/lb mol\\n\\nC c6/1112 $\\\\mathrm{m}^{6} / ( \\\\mathrm{k g \\\\ m o l} )^{2}, \\\\, \\\\mathrm{c m}^{6} / ( \\\\mathrm{g \\\\ m o l} )^{2}, \\\\, \\\\mathrm{o n}$ Third virial coefficient, equation of state,\\n\\nIt (1D mo1)\\n\\n $c_{p}$ Specific heat, J/g.°C or Btu/lb . F\\n\\nD Diameter, m or ft; also fourth virial coefficient, equation of state,\\n\\n$$\\n\\\\mathrm{m^{9} / ( k g \\\\ m o l )^{3}, \\\\, c m^{9} / ( g \\\\ m o l )^{3}, \\\\, o r \\\\ f t^{9} / ( l b \\\\ m o l )^{3}}\\n$$\\n\\n $D_{o}^{\\\\prime}$ Outside diameter of pipe, in. (Eq. (1.41)]\\n\\nForce, N, dyn, or br\\n $^f_{G}$ Function of\\nMass velocity, kg/s . m? or lb/h . ft; also gravitational constant,\\nN. m?/kg?, dyn . cm?/g?, or 1lb,-.ft/1b2 standard value,\\nAcceleration of fre fall, m/s, cm/s?, or $\\\\mathrm{f t} / \\\\mathrm{s}^{2} ; \\\\, g_{n},$ \\n9.80665` m/s', 980.665 cm/s', 32.1740 ft/s\\n\\n $g_{c}$ Proportionality factor, $1 / k_{1}$ in Eq. (1.33), 32.1740 ft . 1b/1b,. s2\\n\\nDimension of heat, energy, or work\\n\\nat entrance\\n\\n $\\\\mathrm{W / m^{2} \\\\cdot{^\\\\circ C}}$ or Btu/h .ft .oF\\nEnthalpy, Jkg\\n $H_{a}$ at exit\\n $H_{b}$ \\nHeat transfer coefficient,\\nMechanical equivalent of heat, 4.1868 J/caly, 778.17 f - 1b/Btu\\nThermal conductivity, W/m . °C or Btu/h - ft . F; also proportionality $\\\\bar{L}$ factor $k_{1}$ in Eq. $( 1. 1 ) ; k_{2}$ in Eq. (1.2); $k_{3}$ in Eq. (1.3); $k_{4}$ in Eq. (1.4)\\nDimension of length\\nMolecular weight\\nDimension of mass\\nMass, kg, g, or lb; $m_{a}, m_{b},$ masses of particles [Eq. (1.2)]\\nNumber of moles\\nTotal pressure on mixture $, B,$  $\\\\mathrm{l b}_{f} / \\\\mathrm{f t}^{2} ; p_{A}, p_{B}, p_{C},$ aral pesres f\\nPressure, Pa, dyn/cm, or by/ft\\ncomponents\\n\\n $Q$ Quantity of heat, J, cal, or Btu; $Q_{c},$ heat absorbed by system during cycle $q$ Rate of heat transfer, Btu/h [Eq. (1.41)]\\n\"),\n",
              " Document(metadata={'page': 22}, page_content=\"CHAPTER 1: Definitions and Principles 2\\n\\n $R$ Gas law constant, 8.31447 x 10 J/K . kg mol, 8.31447 x 107\\nergs/K.g mol, or 1.98588 Btu/°R . lb mol\\n $T$ Bineahece wo as pn $m_{a}$ and $m_{b} \\\\left[ \\\\mathrm{E q.} \\\\left( 1. 2 \\\\right) \\\\right]$ \\n $r$ \\n $\\\\mathrm{K}, \\\\,^{\\\\circ} \\\\mathrm{C}, \\\\,^{\\\\circ} \\\\mathrm{R}, \\\\, \\\\mathrm{o r} \\\\,^{\\\\circ} \\\\mathrm{F} ;$ ; thermodynamic absolute temperature $\\\\bar{T}$ [Eq. (1.1l)]\\nDimension of temperature\\n $t$ Time, s; I, dimension of time\\n $V$ Linear velocity, m/s, cm/s, or ft/s; $u_{0},$ initial velocity of falling body $u$ \\nVolume, m?, cm-, or ft'\\n $\\\\bar{V}$ Average fluid velocity, m/s, cm/s, or ft/s\\n $W$ Work, J, ergs, or ft . 1b,; $W_{c},$ work delivered by system during cycle $y$  $A$ , $B$ ,and $C$ ningasmixure $y_{A}, y_{B}, y_{C},$ mole fractions of component:\\n\\nZ Height above datum plane, m, cm, or ft\\n\\nCompressibility factor, dimensionless\\n\\n## Greek Letters\\n\\n $\\\\triangle T$ Temperature difference, F [Eq. (1.41)]\\n\\n $\\\\mu$ Absolute viscosity, kg/m · s or lb/ft . s\\n\\n$$\\n\\\\rho\\\\qquad\\\\quad\\\\mathrm{D e n s i t y, ~ k g / m^3, ~ g / c m^3, ~ o r ~ l b / f t^3,}\\n$$\\n\\n $\\\\rho_{M}$ Molar densiy, kg mol/m', g mol/om', or lb mol/t?\\n\\n$$\\n\\\\Psi\\\\qquad\\\\quad\\\\mathrm{F u n c t i o n ~ o f}\\n$$\\n\\n$$\\n\\\\Phi, \\\\, \\\\Phi_{1} \\\\quad\\\\mathrm{~ F u n c t i o n s ~ o f ~}\\n$$\\n\\n## PROBLEMS\\n\\n1.1. Using defined constants and conversion factors for mass, length, time, and temperature, calculate conversion factors for (a) foot-pounds force to kilowatthours, (b) gallons $( 1 \\\\ \\\\mathrm{g a l}=2 3 1 \\\\ \\\\mathrm{i n.}^{3} )$ to liters (10* cm), (c) Btu per pound mole to joules per kilogram mole.\\nAnswers: See App. 1.\\n\\n1.2 Approximately how may mintesare ther ina microcentury?\\n\\n1.3. The Beattie-Bridgman equation, a famous equation of state for real gases, may be\\nwritten\\n\\n$$\\np=\\\\frac{R T [ 1-c / ( v T^{3} ) ]} {v^{2}} \\\\left[ v+B_{0} \\\\left( 1-\\\\frac{b} {v} \\\\right) \\\\right]-\\\\frac{A_{0}} {v^{2}} \\\\left( 1-\\\\frac{a} {v} \\\\right) \\\\ \\\\ \\\\ \\\\ \\\\ \\\\ \\\\ \\\\ ( 1. 6 1 )\\n$$\\n\\nwhere $a$ , $A_{0}, \\\\ b, \\\\ B_{0},$ and $c$ are experimental constants and $\\\\upsilon$ is the molar volume, 1/g mol. (a) Show that this equation can be put into the form of Eq. (1.54), and derive equations for the virial coefficients $B, \\\\, C,$ and $D$ in terms of the constants in $\\\\mathrm{E q.} \\\\; ( 1. 6 1 ).$ \"),\n",
              " Document(metadata={'page': 23}, page_content='SECTION 1: Introduction\\n\\nBCTrme wm a nala $b \\\\,=\\\\,-0. 0 1 1 0 1$ , $B_{0}=$ \\n $c \\\\, \\\\times\\\\, 1 0^{-4}=6 6. 0 0,$ all in cgs units (atmospheres, liters, gram moles, kelvins, with $R \\\\,=\\\\, 0. 0 8 2 0 6 )$ . Calculate values of the virial coefficients for air in SI units. (c) Calculate $z$ for air at a temperature of 300 $\\\\mathbf{K}$ and a molar volume of 0.200 m/kg mol.\\n\\n1.4. A mixture of 25 percent ammonia gas and 75 percent air (dry basis) is passed upward through a vertical scrubbing tower, to the top of which water is pumped. Scrubbed gas containing 0.5 percent ammonia leaves the top of the tower, and an aqueous solution containing 10 percent ammonia by weight leaves the bottom. Both entering and leaving gas streams are saturated with water vapor. The gas enters the tower at 37.8°C and leaves at 21.1*C. The pressure of both streams and throughout the tower is 1.02 atm gauge. The air-ammonia mixture enters the tower at a rate of 28.32 m/min, measured as dry gas at 15.6°C and 1 atm. What percentage of the ammonia entering the tower is not absorbed by the water? How many cubic meters of water per hour are pumped to the top of the tower?\\nAnswers: 1.5%; 2.71 m/h\\n\\n1.5. Dry gas containing 75 percent air and 25 percent ammonia vapor enters the bottom of a cylindrical packed absorption tower that is $~ 2$ ft in diameter. Nozzles in the top of the tower distribute water over the packing. A solution of ammonia in water is drawn from the bottom of the column, and scrubbed gas leaves the top. The gas enters at 80°F and 760 mm Hg pressure. It leaves at 60F and 730 mm. The leaving gas contains, on the dry basis, 1.0 percent ammonia. (a) If the entering gas flows through the empty bottom of the column at an average velocity (upward) of 1.5 ft/s, how many cubic feet of entering gas are treated per hour? $( b )$ How many pounds of ammonia are absorbed per hour? Answers: (a) 16,965 ft/h; (b) 177 lb\\n\\n1.6. An evaporator is fed continuously with 25 t (metric tons)/h of a solution consisting of 10 percent NaOH, 10 percent NaCl, and 80 percent H,O. During evaporation, water is boiled off, and salt precipitates as crystals, which are settled and removed from the remaining liquor. The concentrated liquor leaving the evaporator contains 50 percent NaOH, 2 percent NaCl, and 48 percent H,O.\\n\\nCalculate (a) the kilograms of water evaporated per hour, (b) the kilograms of salt precipitated per hour, and (c) the kilograms of concentrated liquor produced per hour. Answers: (a) 17,600 kg/h; (b) 2,400 kg/h; (c) 5,000 kg/h\\n\\n1.7. Air is flowing steadily through a horizontal heated tube. The air enters at 40F and at a velocity of 50 ft/s. It leaves the tube at 140°F and 75 ft/s. The average specific heat of air is 0.24 Btu/1b . F. How many Btus per pound of air are transferred through the wall of the tube?\\nAnswer: 24.1 Btu/lb\\n\\n1.8. Check the dimensional consistency of the following empirical equation for heat transfer between a flowing fluid and the surface of a sphere (see Chap. 12):\\n\\n$$\\nh=2. 0 k D_{p}^{-1}+0. 6 D_{p}^{-0. 5} G^{0. 5} \\\\mu^{-0. 1 7} c_{p}^{0. 3 3} k^{0. 6 7}\\n$$\\n\\nwhere h = heat transfer coefficient\\n\\n$$\\nD_{n}=\\\\mathrm{d i a m e t e r ~ o f ~ s p h e r e}\\n$$\\n\\n$$\\nk={\\\\mathrm{t h e r m a l ~ c o n d u c t i v i t y ~ o f ~ f l u i d}}\\n$$\\n'),\n",
              " Document(metadata={'page': 24}, page_content='CHAPTER 1: Definitions and Principle\\n\\n$$\\nG={\\\\mathrm{m a s s ~ v e l o c i t y ~ o f ~ f l u i d}}\\n$$\\n\\n$$\\n\\\\mu={\\\\mathrm{v i s c o s i t y ~ o f ~ f l u i d}}\\n$$\\n\\n$$\\nc_{p}={\\\\mathrm{s p e c i f i c ~ h e a t ~ o f ~ f l u i d}}\\n$$\\n\\n1.9. In the orifice meters discussed in Chap. 8, a flat disk with a central opening of diameter $D_{o}$ is set across a pipe of diameter $D$ , and the pressure drop $\\\\Delta p$ across the opening pipe $\\\\bar{V}$ is measured. It is postulated that $\\\\Delta p$ is a function of the average fluid velocity in the\\n, the density of the fluid $\\\\rho$ the fluid viscosity $\\\\mu$ , and the diameters of the pipe and the opening, $D$ and $D_{o},$ respectively. Thus\\n\\n$$\\n\\\\Delta p=\\\\Phi( \\\\bar{V}, \\\\rho, \\\\mu, D, D_{o} )\\n$$\\n\\nFind an a sionless groups which relate these various factors. Answers: $\\\\frac{{\\\\Delta p}^{*}} {\\\\rho\\\\bar{V}^{2}}=\\\\Phi\\\\left( \\\\frac{D_{o} \\\\bar{V} \\\\rho} {\\\\mu}, \\\\, \\\\frac{D} {D_{o}} \\\\right)$ \\n\\n1.10. A coal-fired power plant with an output of 360 megawatts has an efficiency of 38 percent in converting heat to work. If the coal has a heating value of 30,000 kJ/kg, how many metric tons (1 ton = 1,000 kg) are used per hour?\\n\\n1.11. At what point is the temperature in degrees Fahrenheit equal to the Celsius temperature? Is there any point where the Kelvin temperature is the same as the Rankine temperature?\\n\\n1.12. In many countries in South America, chunks of cassava root containing 65 percent water are dried to $5$ percent water, then ground to make tapioca flour. To make 1,200 kg/h of flour, what would be the feed rate to the dryer, in kg/h? How much water would be removed?\\n\\n1.13. Wet paper pulp containing 66 percent moisture was dried under conditions such that 53 percent of the water originally in the pulp was removed. What was the moisture content of the dried pulp? Per kilogram of wet pulp, how much dried pulp was produced?\\n\\n1.14. In making fish meal the oil is first extracted, leaving a wet fish cake containing 82 wt % water. This cake is partially dried to reduce the moisture content to 40 percent, after which the cake is ground. How many kg/h of wet cake would be needed to produce 800 kg/h of \"\"dry\" cake?\\n\\n1.15. Heat-transfer data are sometimes given as a j factor, where\\n\\n$$\\nj_{H}=\\\\left( {\\\\frac{h} {c_{p} G}} \\\\right) \\\\left( {\\\\frac{c_{p} \\\\mu} {k}} \\\\right)^{2 / 3}=f ( {\\\\mathrm{R e}} )\\n$$\\n\\nShow that such a correlation can be converted to one that gives the Nusselt number $\\\\mathrm{( N u=h D / k )}$  $( D G / \\\\mu)$ and the Prandtl number\\nas a function of the Reynolds number\\n $( c_{p} \\\\mu/ k ).$ \\n\\n1.16. How many molecules of oxygen are there in a pound mole of air at 1 atm and 0°C? How many molecules of $\\\\mathrm{O_{2}}$ are there in a kilogram mole of air at 1 atm and 30°C?\\n\\n1.17. Explain the difference between Eq. (1.59) and the simple equation that is sometimes shown in thermodynamics texts, $\\\\triangle E=Q-W.$ Can the simpler equation be derived from Eq. (1.59)?\\n')]"
            ]
          },
          "metadata": {},
          "execution_count": 4
        }
      ]
    },
    {
      "cell_type": "markdown",
      "source": [
        "# Langchain"
      ],
      "metadata": {
        "id": "v2ko-QGq9a9r"
      }
    },
    {
      "cell_type": "code",
      "source": [
        "from langchain_huggingface import ChatHuggingFace, HuggingFacePipeline, HuggingFaceEmbeddings\n",
        "from langchain_community.embeddings import HuggingFaceInstructEmbeddings, HuggingFaceBgeEmbeddings, HuggingFaceHubEmbeddings, HuggingFaceHubEmbeddings\n",
        "from langchain_huggingface import HuggingFacePipeline"
      ],
      "metadata": {
        "id": "F8EG6trD9vdn",
        "colab": {
          "base_uri": "https://localhost:8080/"
        },
        "outputId": "8e59ed72-4f0f-4142-b438-04547b4e2570"
      },
      "execution_count": 5,
      "outputs": [
        {
          "output_type": "stream",
          "name": "stderr",
          "text": [
            "WARNING:py.warnings:/usr/local/lib/python3.10/dist-packages/pydantic/_internal/_fields.py:132: UserWarning: Field \"model_name\" in HuggingFaceInferenceAPIEmbeddings has conflict with protected namespace \"model_\".\n",
            "\n",
            "You may be able to resolve this warning by setting `model_config['protected_namespaces'] = ()`.\n",
            "  warnings.warn(\n",
            "\n"
          ]
        }
      ]
    },
    {
      "cell_type": "code",
      "source": [
        "import bs4, getpass, os, tiktoken\n",
        "from langchain import hub\n",
        "from langchain_chroma import Chroma\n",
        "from langchain_core.output_parsers import StrOutputParser\n",
        "from langchain_core.runnables import RunnablePassthrough\n",
        "from langchain_text_splitters import RecursiveCharacterTextSplitter\n",
        "from langchain_community.document_loaders import TextLoader\n",
        "from langchain.prompts import ChatPromptTemplate\n",
        "\n",
        "# Load, chunk and index the contents of the blog.\n",
        "#loader = TextLoader(\"/content/output/output.md\")\n",
        "#docs = loader.load()\n",
        "\n",
        "def num_tokens_from_string(string: str, encoding_name: str) -> int:\n",
        "    \"\"\"Returns the number of tokens in a text string.\"\"\"\n",
        "    encoding = tiktoken.get_encoding(encoding_name)\n",
        "    num_tokens = len(encoding.encode(string))\n",
        "    return num_tokens\n",
        "#num_tokens_from_string(question, \"cl100k_base\")\n",
        "def cosine_similarity(vec1, vec2):\n",
        "    dot_product = np.dot(vec1, vec2)\n",
        "    norm_vec1 = np.linalg.norm(vec1)\n",
        "    norm_vec2 = np.linalg.norm(vec2)\n",
        "    return dot_product / (norm_vec1 * norm_vec2)\n",
        "#similarity = cosine_similarity(query_result, document_result)"
      ],
      "metadata": {
        "id": "vr29vbB_-XIW"
      },
      "execution_count": 6,
      "outputs": []
    },
    {
      "cell_type": "code",
      "source": [
        "model_name = \"BAAI/bge-small-en-v1.5\"\n",
        "model_kwargs = {\"device\": \"cuda\"}\n",
        "encode_kwargs = {\"normalize_embeddings\": True}\n",
        "hf = HuggingFaceBgeEmbeddings(\n",
        "    model_name=model_name, model_kwargs=model_kwargs, encode_kwargs=encode_kwargs\n",
        ")\n",
        "question = \"What Ideal gas law?\"\n",
        "#document = pages"
      ],
      "metadata": {
        "id": "kjg1kKPwMf0w",
        "colab": {
          "base_uri": "https://localhost:8080/",
          "height": 369,
          "referenced_widgets": [
            "9047d38d16f1449f97783a0584489a00",
            "53de65f361494204b51cddf98c4ad5f1",
            "cf7b1f47afe840c98b2dc04114954287",
            "6ddde4316ced4a80a8b5272abfab2e30",
            "2249a47194154df99baf24261e306541",
            "3ce4290f05064f3f8959884ccda75985",
            "e844c15155b84793a235d7f0b7c3d918",
            "706caed548d34a04ad21c2159cc180d9",
            "5dabfe2d66f0486aa0260c8b95f0bb76",
            "d1e1cb81f1de499c9d9cabb0457c47b8",
            "99e38f56bce349919f01e077f9196b56",
            "b75373eb3a154e168c17e88ff6bb2ec0",
            "8bc23eba02c84ea2be414e66512d180c",
            "0fcbc4161db14ebc8eb87fb1ae8eb278",
            "77fd1777d0cb47d6a4e87ab0e9a91e34",
            "6c0d9f12dcee4a33a95e74e35b3ed3b5",
            "af32cef997544684b3be6ca74f00c6a9",
            "64a1e0c9e17a45738849be529ab3baed",
            "bf320fd3ecdd412081200a931268f4f8",
            "2d0f0d67320a4a23ba03cfc2e20bc891",
            "4ae0546b84bd4925b49f16d1208ae287",
            "9a03462bf0f74c69974cde116476fe9e",
            "b73da164b4a541bca942e51062993064",
            "86e95f5c9ba74246bc52ff6869e902bc",
            "63f006e7011e4680a68aa5160eacf2f7",
            "b5f3465bf9244ac3861a82e100924bf9",
            "97b7b8d747a449258137ceb4f86f93cc",
            "571e745faaaa4402b244b7cefe80dc60",
            "b0f1413dfd3944abacc177af50c37a8b",
            "5c12bb052cfe411db20a3702641fd828",
            "a52703fb34fb4141b5610c4fbfb9509e",
            "3f97848841524170a3ad2b26940219ef",
            "6b7fc6a540614cafb34aa0856c431520",
            "5ca154273a3043e3b1ab8084ad82a10b",
            "148d26e1c0674bc2b6cc8039bd9f41de",
            "f0ef5a39d9bb4d08a1e603a5bfe2f121",
            "1db3e02cef414c91b57f8d198a2d1157",
            "d409746e165c41f69dfa1fe18dee5e7b",
            "58e44b793f0745219f01d3ca1dfbfc88",
            "be011531edf14fb8a0e71863f2af4b2f",
            "3e53fb790d2d4d878a1e3b7587b3dd99",
            "e3fb0bcacc4b4016a02a07990cbf8b2d",
            "6e7c5c60b87c435ba49453491ad5ffd5",
            "f27ce502accc4c03acbf833130dafc11",
            "75e23e32f103457ea6831c4a68954150",
            "eef250de05f44cb1a06a48887137661d",
            "1b4d3ddbbf6047a78972f67172740a1f",
            "fc444099b6104e7dba0f2d6818d2d624",
            "7804938e8fe34589a9913c81b31ff164",
            "61c417d60e7c4d558c6d2a10cfd99a88",
            "adad7459207a41bb814cfa79580dea75",
            "ca156c749b0d4ce99ca3d9f45abf8246",
            "2913e49eebd4479cbbc4abb1336b1675",
            "78c46cdc59ed4276bb72323e27ec02c3",
            "ed74b460f816454a8dd0a252c3b0f06b",
            "588986f46c674be088d8ea22520fedbd",
            "e445bf012d974931884eae78278aa370",
            "6b96b03d9511401997a977de178cb3c6",
            "8e70b4a6a095488fac74ff42d0dd4934",
            "ef5174bbd25949c6b91454efbb233a62",
            "7e214c23fcb04a36848095c6c6269a37",
            "95fa26c06d0a48bd8b745a3f3fe0ab40",
            "c32e374910934a44bbd5919e1486190d",
            "cf94cf187bdf4e6ab0dee1ca4e52cb17",
            "9c7a396741ac4e40adcee22badfb9472",
            "19b9444afa284d52ad3e392ac2dca94f",
            "3b14d0ef46bb4775aa1286b03ccd5a99",
            "3662c37367c544fdab504bded3a75caf",
            "d865ebea72cf41dea27835d82658b295",
            "001bb0e0ff7747aa99409e6c626548de",
            "0ca471ac88c349978d4f154150eb1b55",
            "c456ef59077d4ea4a947b00c9157489f",
            "7daad600a8d848ad95df611b452d6aaa",
            "c1c79e931e8840f8b0809b6db84e7977",
            "20d5debf751a4d569c4eeda6de854ecc",
            "c4576c2bf53b422db9d9d35fbb885852",
            "d1836d2bb6ba4908b509a44d1f1aa71b",
            "3a0568b5243746e4841843133cfb70c9",
            "28b089b2e37f4ca28059e6fcfb8dc618",
            "4401698357954bd9befb85621e882f2d",
            "cfa79bd68f0b4478b0ba8747cd837d8e",
            "6bb272be27a94eaeb30ddb440fb912d3",
            "be1e146764b64ce2bbb708e89ca6cce2",
            "b3463673c77d4b77bdbf0bd80c6a9d78",
            "a44248cbe19d4a7b964ac86e0cad6fd0",
            "885f601a3aa946509055d88f17e8c6e9",
            "d1e86ad3485d4427b21cc933145ecd10",
            "d51ad883859c411daaeb206ecdf791f9",
            "a6caa368339045199da0f926d8a9e7a2",
            "8a29f3ba22f84126a15784ecfd7992d4",
            "45550fa5944c49b9a2275fdf808668e2",
            "dd25f26d05a24afab8be77e0a2c17a26",
            "c467a20dba9a4896be20c4582c882567",
            "8a9c9508df194f0484600acb153024de",
            "0af275cb498a48f58cd95d590a7edcc2",
            "df0ad714725f4cf981f186e2fb6cdc07",
            "fe53b9b7d0ec489e9a0a23ee492c8502",
            "5f7a28ed02f24d1db75135e20c8e8f84",
            "55a5a298d21e4706984f38247879c940",
            "76736a332d1c4e03a9fcc967b0ff521e",
            "fb64bbdbb0fb422c87b14859c3d5d1df",
            "b98dc02cc8da459d954ebb6b1fa60f70",
            "0253931a347c4dd99d5bff066807912d",
            "0386279800044ba39c9e7d0aa5c610f5",
            "bf7acd0c8f4847d3bf0f85063132d29f",
            "9deb5d3666ef470f86a63ffbb16497b4",
            "c5299f754d7746bb9fa217439c8d637c",
            "86603160054a48f493ea32ec58a19923",
            "7927cd4e0b474409a6111d6eeab68587",
            "4a1348b6364f4709896fafca629552cd",
            "3b686390f04845b8833804d8ed545a00",
            "d0182e4f0349483fa53afdc70be57c99",
            "303ff86f7e1e4c2eb7823b17d4d788ac",
            "65c7091dfd3a4c7a975f28ef85f208d0",
            "ee2257c6c7594fd48333f791f4788594",
            "9745220bd3a94ce1ab782beb649f1f5b",
            "23343de11494465eafa72b54197074f6",
            "51499f8af8bb425ca566b2c1635ef4f5",
            "201e2b5947284fcebb7ef613ba8f7190",
            "e93fc3f9bdcd44258fa7e6a46506f14b",
            "4a4e1e70f0304c739a58bd572f5d9d8e"
          ]
        },
        "outputId": "c221ae87-9e08-4316-f32f-29c92ba1a166"
      },
      "execution_count": 7,
      "outputs": [
        {
          "output_type": "display_data",
          "data": {
            "text/plain": [
              "modules.json:   0%|          | 0.00/349 [00:00<?, ?B/s]"
            ],
            "application/vnd.jupyter.widget-view+json": {
              "version_major": 2,
              "version_minor": 0,
              "model_id": "9047d38d16f1449f97783a0584489a00"
            }
          },
          "metadata": {}
        },
        {
          "output_type": "display_data",
          "data": {
            "text/plain": [
              "config_sentence_transformers.json:   0%|          | 0.00/124 [00:00<?, ?B/s]"
            ],
            "application/vnd.jupyter.widget-view+json": {
              "version_major": 2,
              "version_minor": 0,
              "model_id": "b75373eb3a154e168c17e88ff6bb2ec0"
            }
          },
          "metadata": {}
        },
        {
          "output_type": "display_data",
          "data": {
            "text/plain": [
              "README.md:   0%|          | 0.00/94.8k [00:00<?, ?B/s]"
            ],
            "application/vnd.jupyter.widget-view+json": {
              "version_major": 2,
              "version_minor": 0,
              "model_id": "b73da164b4a541bca942e51062993064"
            }
          },
          "metadata": {}
        },
        {
          "output_type": "display_data",
          "data": {
            "text/plain": [
              "sentence_bert_config.json:   0%|          | 0.00/52.0 [00:00<?, ?B/s]"
            ],
            "application/vnd.jupyter.widget-view+json": {
              "version_major": 2,
              "version_minor": 0,
              "model_id": "5ca154273a3043e3b1ab8084ad82a10b"
            }
          },
          "metadata": {}
        },
        {
          "output_type": "display_data",
          "data": {
            "text/plain": [
              "config.json:   0%|          | 0.00/743 [00:00<?, ?B/s]"
            ],
            "application/vnd.jupyter.widget-view+json": {
              "version_major": 2,
              "version_minor": 0,
              "model_id": "75e23e32f103457ea6831c4a68954150"
            }
          },
          "metadata": {}
        },
        {
          "output_type": "display_data",
          "data": {
            "text/plain": [
              "model.safetensors:   0%|          | 0.00/133M [00:00<?, ?B/s]"
            ],
            "application/vnd.jupyter.widget-view+json": {
              "version_major": 2,
              "version_minor": 0,
              "model_id": "588986f46c674be088d8ea22520fedbd"
            }
          },
          "metadata": {}
        },
        {
          "output_type": "display_data",
          "data": {
            "text/plain": [
              "tokenizer_config.json:   0%|          | 0.00/366 [00:00<?, ?B/s]"
            ],
            "application/vnd.jupyter.widget-view+json": {
              "version_major": 2,
              "version_minor": 0,
              "model_id": "3b14d0ef46bb4775aa1286b03ccd5a99"
            }
          },
          "metadata": {}
        },
        {
          "output_type": "display_data",
          "data": {
            "text/plain": [
              "vocab.txt:   0%|          | 0.00/232k [00:00<?, ?B/s]"
            ],
            "application/vnd.jupyter.widget-view+json": {
              "version_major": 2,
              "version_minor": 0,
              "model_id": "3a0568b5243746e4841843133cfb70c9"
            }
          },
          "metadata": {}
        },
        {
          "output_type": "display_data",
          "data": {
            "text/plain": [
              "tokenizer.json:   0%|          | 0.00/711k [00:00<?, ?B/s]"
            ],
            "application/vnd.jupyter.widget-view+json": {
              "version_major": 2,
              "version_minor": 0,
              "model_id": "a6caa368339045199da0f926d8a9e7a2"
            }
          },
          "metadata": {}
        },
        {
          "output_type": "display_data",
          "data": {
            "text/plain": [
              "special_tokens_map.json:   0%|          | 0.00/125 [00:00<?, ?B/s]"
            ],
            "application/vnd.jupyter.widget-view+json": {
              "version_major": 2,
              "version_minor": 0,
              "model_id": "76736a332d1c4e03a9fcc967b0ff521e"
            }
          },
          "metadata": {}
        },
        {
          "output_type": "display_data",
          "data": {
            "text/plain": [
              "1_Pooling/config.json:   0%|          | 0.00/190 [00:00<?, ?B/s]"
            ],
            "application/vnd.jupyter.widget-view+json": {
              "version_major": 2,
              "version_minor": 0,
              "model_id": "3b686390f04845b8833804d8ed545a00"
            }
          },
          "metadata": {}
        }
      ]
    },
    {
      "cell_type": "code",
      "source": [
        "document = pages"
      ],
      "metadata": {
        "id": "xaUUs_g37z1d"
      },
      "execution_count": 8,
      "outputs": []
    },
    {
      "cell_type": "code",
      "source": [
        "from google.colab import drive\n",
        "drive.mount('/content/drive')"
      ],
      "metadata": {
        "colab": {
          "base_uri": "https://localhost:8080/"
        },
        "id": "4HoQII1LFatq",
        "outputId": "66454c89-f65c-44e6-d651-823e7e7fb53b"
      },
      "execution_count": 9,
      "outputs": [
        {
          "output_type": "stream",
          "name": "stdout",
          "text": [
            "Mounted at /content/drive\n"
          ]
        }
      ]
    },
    {
      "cell_type": "code",
      "source": [
        "text_splitter = RecursiveCharacterTextSplitter(chunk_size=1000, chunk_overlap=200)\n",
        "splits = text_splitter.split_documents(document)\n",
        "vectorstore = Chroma.from_documents(documents=splits, embedding=hf, persist_directory=\"/content/drive/MyDrive/UWA/Sem 4/Capstone/Project/vector1\")"
      ],
      "metadata": {
        "id": "e6rBelWPsXOL"
      },
      "execution_count": 10,
      "outputs": []
    }
  ]
}